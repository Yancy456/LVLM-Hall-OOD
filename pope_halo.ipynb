{
 "cells": [
  {
   "cell_type": "code",
   "execution_count": 1,
   "metadata": {},
   "outputs": [],
   "source": [
    "import os\n",
    "import torch\n",
    "import numpy as np\n",
    "from glob import glob\n",
    "from tqdm.auto import tqdm\n",
    "from sklearn.linear_model import LogisticRegression\n",
    "import pandas as pd\n",
    "from utils.store_data import ReadData\n",
    "import numpy as np\n",
    "from llm.prompt_loader import PromptLoader\n",
    "import torch\n",
    "from utils.arguments import Arguments\n",
    "from tqdm import tqdm\n",
    "from llm.ml_tools import svd_embed_score\n",
    "from sklearn.decomposition import PCA\n",
    "from metric_utils import get_measures, print_measures\n",
    "from linear_probe import get_linear_acc\n",
    "import os\n",
    "from sklearn.metrics import roc_auc_score,accuracy_score,roc_curve"
   ]
  },
  {
   "cell_type": "code",
   "execution_count": 2,
   "metadata": {},
   "outputs": [
    {
     "data": {
      "text/plain": [
       "{'img_path': '/root/autodl-fs/coco_images/train/COCO_train2014_000000580392.jpg',\n",
       " 'question': 'Is there a person in the image?\\nAnswer the question using a single word or phrase.',\n",
       " 'label': 1,\n",
       " 'question_id': 5429,\n",
       " 'category': 'popular',\n",
       " 'most_likely': {'embedding': array([[[-1.8997192e-03,  1.8188477e-02, -4.3640137e-03, ...,\n",
       "            9.0942383e-03, -9.1171265e-04,  1.2084961e-02]],\n",
       "  \n",
       "         [[-4.7264099e-03,  3.2684326e-02, -1.2527466e-02, ...,\n",
       "            1.9760132e-02, -2.6321411e-03,  1.7044067e-02]],\n",
       "  \n",
       "         [[-1.6998291e-02,  6.8298340e-02, -3.8452148e-02, ...,\n",
       "            5.6579590e-02,  1.0887146e-02,  3.4545898e-02]],\n",
       "  \n",
       "         ...,\n",
       "  \n",
       "         [[-1.3359375e+00,  1.0048828e+00, -6.2011719e-01, ...,\n",
       "            4.6752930e-01,  1.1005859e+00, -8.0664062e-01]],\n",
       "  \n",
       "         [[-9.2675781e-01,  1.1953125e+00, -8.7158203e-02, ...,\n",
       "            4.9487305e-01,  1.2353516e+00, -1.5087891e+00]],\n",
       "  \n",
       "         [[-6.4111328e-01, -2.6318359e-01, -2.4490356e-02, ...,\n",
       "            4.0954590e-02,  2.8002930e-01, -1.8378906e+00]]], dtype=float32),\n",
       "  'response': 'no'}}"
      ]
     },
     "execution_count": 2,
     "metadata": {},
     "output_type": "execute_result"
    }
   ],
   "source": [
    "data_reader=ReadData('/home/linear_probing/output/pope')\n",
    "data=data_reader.read_all()\n",
    "data[0]"
   ]
  },
  {
   "cell_type": "code",
   "execution_count": 3,
   "metadata": {},
   "outputs": [],
   "source": [
    "df=pd.DataFrame(data)"
   ]
  },
  {
   "cell_type": "code",
   "execution_count": 4,
   "metadata": {},
   "outputs": [
    {
     "data": {
      "text/html": [
       "<div>\n",
       "<style scoped>\n",
       "    .dataframe tbody tr th:only-of-type {\n",
       "        vertical-align: middle;\n",
       "    }\n",
       "\n",
       "    .dataframe tbody tr th {\n",
       "        vertical-align: top;\n",
       "    }\n",
       "\n",
       "    .dataframe thead th {\n",
       "        text-align: right;\n",
       "    }\n",
       "</style>\n",
       "<table border=\"1\" class=\"dataframe\">\n",
       "  <thead>\n",
       "    <tr style=\"text-align: right;\">\n",
       "      <th></th>\n",
       "      <th>img_path</th>\n",
       "      <th>question</th>\n",
       "      <th>label</th>\n",
       "      <th>question_id</th>\n",
       "      <th>category</th>\n",
       "      <th>most_likely</th>\n",
       "    </tr>\n",
       "  </thead>\n",
       "  <tbody>\n",
       "    <tr>\n",
       "      <th>0</th>\n",
       "      <td>/root/autodl-fs/coco_images/train/COCO_train20...</td>\n",
       "      <td>Is there a person in the image?\\nAnswer the qu...</td>\n",
       "      <td>1</td>\n",
       "      <td>5429</td>\n",
       "      <td>popular</td>\n",
       "      <td>{'embedding': [[[-0.00189972  0.01818848 -0.00...</td>\n",
       "    </tr>\n",
       "    <tr>\n",
       "      <th>1</th>\n",
       "      <td>/root/autodl-fs/coco_images/train/COCO_train20...</td>\n",
       "      <td>Is there a snowboard in the image?\\nAnswer the...</td>\n",
       "      <td>1</td>\n",
       "      <td>1619</td>\n",
       "      <td>adversarial</td>\n",
       "      <td>{'embedding': [[[-0.00189972  0.01818848 -0.00...</td>\n",
       "    </tr>\n",
       "    <tr>\n",
       "      <th>2</th>\n",
       "      <td>/root/autodl-fs/coco_images/train/COCO_train20...</td>\n",
       "      <td>Is there a car in the image?\\nAnswer the quest...</td>\n",
       "      <td>0</td>\n",
       "      <td>846</td>\n",
       "      <td>popular</td>\n",
       "      <td>{'embedding': [[[-0.00189972  0.01818848 -0.00...</td>\n",
       "    </tr>\n",
       "    <tr>\n",
       "      <th>3</th>\n",
       "      <td>/root/autodl-fs/coco_images/train/COCO_train20...</td>\n",
       "      <td>Is there a skateboard in the image?\\nAnswer th...</td>\n",
       "      <td>0</td>\n",
       "      <td>1906</td>\n",
       "      <td>random</td>\n",
       "      <td>{'embedding': [[[-0.00189972  0.01818848 -0.00...</td>\n",
       "    </tr>\n",
       "    <tr>\n",
       "      <th>4</th>\n",
       "      <td>/root/autodl-fs/coco_images/train/COCO_train20...</td>\n",
       "      <td>Is there a microwave in the image?\\nAnswer the...</td>\n",
       "      <td>0</td>\n",
       "      <td>4598</td>\n",
       "      <td>random</td>\n",
       "      <td>{'embedding': [[[-0.00189972  0.01818848 -0.00...</td>\n",
       "    </tr>\n",
       "  </tbody>\n",
       "</table>\n",
       "</div>"
      ],
      "text/plain": [
       "                                            img_path  \\\n",
       "0  /root/autodl-fs/coco_images/train/COCO_train20...   \n",
       "1  /root/autodl-fs/coco_images/train/COCO_train20...   \n",
       "2  /root/autodl-fs/coco_images/train/COCO_train20...   \n",
       "3  /root/autodl-fs/coco_images/train/COCO_train20...   \n",
       "4  /root/autodl-fs/coco_images/train/COCO_train20...   \n",
       "\n",
       "                                            question  label  question_id  \\\n",
       "0  Is there a person in the image?\\nAnswer the qu...      1         5429   \n",
       "1  Is there a snowboard in the image?\\nAnswer the...      1         1619   \n",
       "2  Is there a car in the image?\\nAnswer the quest...      0          846   \n",
       "3  Is there a skateboard in the image?\\nAnswer th...      0         1906   \n",
       "4  Is there a microwave in the image?\\nAnswer the...      0         4598   \n",
       "\n",
       "      category                                        most_likely  \n",
       "0      popular  {'embedding': [[[-0.00189972  0.01818848 -0.00...  \n",
       "1  adversarial  {'embedding': [[[-0.00189972  0.01818848 -0.00...  \n",
       "2      popular  {'embedding': [[[-0.00189972  0.01818848 -0.00...  \n",
       "3       random  {'embedding': [[[-0.00189972  0.01818848 -0.00...  \n",
       "4       random  {'embedding': [[[-0.00189972  0.01818848 -0.00...  "
      ]
     },
     "execution_count": 4,
     "metadata": {},
     "output_type": "execute_result"
    }
   ],
   "source": [
    "df.head()"
   ]
  },
  {
   "cell_type": "code",
   "execution_count": 5,
   "metadata": {},
   "outputs": [],
   "source": [
    "gt_label=df['label'].to_numpy()"
   ]
  },
  {
   "cell_type": "code",
   "execution_count": 6,
   "metadata": {},
   "outputs": [
    {
     "name": "stdout",
     "output_type": "stream",
     "text": [
      "trainset length:600\n",
      "validset length:300\n",
      "testset length:100\n",
      "trainset postive: 311 negative: 289\n",
      "testset postive: 45 negative: 55\n"
     ]
    }
   ],
   "source": [
    "length=len(data)\n",
    "wild_ratio=0.9\n",
    "\n",
    "all_indices = np.random.permutation(length)\n",
    "train_val_idxs = all_indices[:int(\n",
    "    wild_ratio * length)]  # trainset and validation test index\n",
    "\n",
    "test_idxs=all_indices[int(\n",
    "    wild_ratio * length):]  #test index\n",
    "\n",
    "validset_len = 300\n",
    "# exclude validation samples.\n",
    "train_idxs = train_val_idxs[:len(\n",
    "    train_val_idxs) - validset_len]  # trainset index\n",
    "val_idxs = train_val_idxs[len(\n",
    "    train_val_idxs) - validset_len:]  # validation index\n",
    "gt_label_test = []\n",
    "gt_label_wild = []\n",
    "gt_label_val = []\n",
    "\n",
    "for i in range(length):\n",
    "    if i not in train_val_idxs:\n",
    "        gt_label_test.extend(gt_label[i: i+1])\n",
    "    elif i in train_idxs:\n",
    "        gt_label_wild.extend(gt_label[i: i+1])\n",
    "    else:\n",
    "        gt_label_val.extend(gt_label[i: i+1])\n",
    "\n",
    "'''get testset, wildset and valset. The valset is used for determining the hype-parameters'''\n",
    "gt_label_test = np.asarray(gt_label_test)\n",
    "gt_label_wild = np.asarray(gt_label_wild)\n",
    "gt_label_val = np.asarray(gt_label_val)\n",
    "\n",
    "print(f'trainset length:{len(gt_label_wild)}')\n",
    "print(f'validset length:{len(gt_label_val)}')\n",
    "print(f'testset length:{len(gt_label_test)}')\n",
    "print(f'trainset postive: {sum(gt_label_wild==1)} negative: {sum(gt_label_wild==0)}')\n",
    "print(\n",
    "    f'testset postive: {sum(gt_label_test==1)} negative: {sum(gt_label_test==0)}')"
   ]
  },
  {
   "cell_type": "code",
   "execution_count": 7,
   "metadata": {},
   "outputs": [
    {
     "data": {
      "text/plain": [
       "(1000, 33, 4096)"
      ]
     },
     "execution_count": 7,
     "metadata": {},
     "output_type": "execute_result"
    }
   ],
   "source": [
    "embed_generated = df['most_likely'].apply(lambda x: np.squeeze(x['embedding'])).to_list()\n",
    "embed_generated =np.stack(embed_generated)\n",
    "embed_generated.shape"
   ]
  },
  {
   "cell_type": "code",
   "execution_count": 8,
   "metadata": {},
   "outputs": [],
   "source": [
    "feat_indices_wild = []\n",
    "feat_indices_eval = []\n",
    "\n",
    "for i in range(length):\n",
    "    if i in train_idxs:\n",
    "        feat_indices_wild.extend(np.arange(i, i+1).tolist())\n",
    "    elif i in val_idxs:\n",
    "        feat_indices_eval.extend(np.arange(i, i + 1).tolist())\n",
    "embed_generated_wild = embed_generated[feat_indices_wild][:, 1:, :]\n",
    "embed_generated_eval = embed_generated[feat_indices_eval][:, 1:, :]"
   ]
  },
  {
   "cell_type": "code",
   "execution_count": null,
   "metadata": {},
   "outputs": [
    {
     "name": "stderr",
     "output_type": "stream",
     "text": [
      "  0%|          | 0/10 [00:00<?, ?it/s]"
     ]
    },
    {
     "name": "stderr",
     "output_type": "stream",
     "text": [
      " 10%|█         | 1/10 [00:00<00:06,  1.39it/s]"
     ]
    },
    {
     "name": "stdout",
     "output_type": "stream",
     "text": [
      "k:  1 AUROC:83.38818715531043 layer:  3 mean:  0 svd:  0\n"
     ]
    },
    {
     "name": "stderr",
     "output_type": "stream",
     "text": [
      " 20%|██        | 2/10 [00:01<00:05,  1.38it/s]"
     ]
    },
    {
     "name": "stdout",
     "output_type": "stream",
     "text": [
      "k:  2 AUROC:84.51343177370575 layer:  30 mean:  0 svd:  0\n"
     ]
    },
    {
     "name": "stderr",
     "output_type": "stream",
     "text": [
      " 30%|███       | 3/10 [00:02<00:04,  1.43it/s]"
     ]
    },
    {
     "name": "stdout",
     "output_type": "stream",
     "text": [
      "k:  3 AUROC:82.61430350471447 layer:  27 mean:  0 svd:  0\n"
     ]
    },
    {
     "name": "stderr",
     "output_type": "stream",
     "text": [
      " 40%|████      | 4/10 [00:02<00:04,  1.37it/s]"
     ]
    },
    {
     "name": "stdout",
     "output_type": "stream",
     "text": [
      "k:  4 AUROC:82.97900729407579 layer:  27 mean:  0 svd:  0\n"
     ]
    },
    {
     "name": "stderr",
     "output_type": "stream",
     "text": [
      " 50%|█████     | 5/10 [00:03<00:03,  1.37it/s]"
     ]
    },
    {
     "name": "stdout",
     "output_type": "stream",
     "text": [
      "k:  5 AUROC:83.36150151218644 layer:  28 mean:  0 svd:  0\n"
     ]
    },
    {
     "name": "stderr",
     "output_type": "stream",
     "text": [
      " 60%|██████    | 6/10 [00:04<00:02,  1.38it/s]"
     ]
    },
    {
     "name": "stdout",
     "output_type": "stream",
     "text": [
      "k:  6 AUROC:83.28144458281444 layer:  28 mean:  0 svd:  0\n"
     ]
    },
    {
     "name": "stderr",
     "output_type": "stream",
     "text": [
      " 70%|███████   | 7/10 [00:05<00:02,  1.37it/s]"
     ]
    },
    {
     "name": "stdout",
     "output_type": "stream",
     "text": [
      "k:  7 AUROC:83.27254936843977 layer:  28 mean:  0 svd:  0\n"
     ]
    },
    {
     "name": "stderr",
     "output_type": "stream",
     "text": [
      " 80%|████████  | 8/10 [00:05<00:01,  1.32it/s]"
     ]
    },
    {
     "name": "stdout",
     "output_type": "stream",
     "text": [
      "k:  8 AUROC:83.39708236968511 layer:  28 mean:  0 svd:  0\n"
     ]
    },
    {
     "name": "stderr",
     "output_type": "stream",
     "text": [
      " 90%|█████████ | 9/10 [00:06<00:00,  1.27it/s]"
     ]
    },
    {
     "name": "stdout",
     "output_type": "stream",
     "text": [
      "k:  9 AUROC:83.12133072407045 layer:  28 mean:  0 svd:  0\n"
     ]
    },
    {
     "name": "stderr",
     "output_type": "stream",
     "text": [
      "100%|██████████| 10/10 [00:07<00:00,  1.31it/s]"
     ]
    },
    {
     "name": "stdout",
     "output_type": "stream",
     "text": [
      "k:  10 AUROC:83.33481586906244 layer:  28 mean:  0 svd:  0\n",
      "\t\t\t\tdirect-projection\n",
      "  FPR95 AUROC AUPR\n",
      "& 41.82 & 92.32 & 90.99\n"
     ]
    },
    {
     "name": "stderr",
     "output_type": "stream",
     "text": [
      "\n"
     ]
    }
   ],
   "source": [
    "# k_span is the max k value\n",
    "# graid search for best hyper-parameters on validation set, and store them into returned_results\n",
    "weighted_svd=True\n",
    "returned_results = svd_embed_score(embed_generated_eval, gt_label_val,\n",
    "                                   begin_k=1, k_span=11, mean=0, svd=0, weight=weighted_svd)\n",
    "\n",
    "pca_model = PCA(n_components=returned_results['k'], whiten=False).fit(\n",
    "    embed_generated_wild[:, returned_results['best_layer'], :])\n",
    "projection = pca_model.components_.T\n",
    "if weighted_svd:\n",
    "    projection = pca_model.singular_values_ * projection\n",
    "scores = np.mean(np.matmul(\n",
    "    embed_generated_wild[:, returned_results['best_layer'], :], projection), -1, keepdims=True)\n",
    "assert scores.shape[1] == 1\n",
    "best_scores = np.sqrt(np.sum(np.square(scores), axis=1)\n",
    "                      ) * returned_results['best_sign']\n",
    "\n",
    "'''get score for direct projection'''\n",
    "# direct projection\n",
    "\n",
    "feat_indices_test = []\n",
    "for i in range(length):\n",
    "    if i not in train_val_idxs:\n",
    "        feat_indices_test.extend(np.arange(1 * i, 1 * i + 1).tolist())\n",
    "\n",
    "embed_generated_test = embed_generated[feat_indices_test][:, 1:, :]\n",
    "\n",
    "test_scores = np.mean(np.matmul(embed_generated_test[:, returned_results['best_layer'], :],\n",
    "                                projection), -1, keepdims=True)\n",
    "\n",
    "assert test_scores.shape[1] == 1\n",
    "test_scores = np.sqrt(np.sum(np.square(test_scores), axis=1))\n",
    "\n",
    "measures = get_measures(returned_results['best_sign'] * test_scores[gt_label_test == 1],\n",
    "                        returned_results['best_sign'] * test_scores[gt_label_test == 0], plot=False)\n",
    "print_measures(measures[0], measures[1], measures[2], 'direct-projection')"
   ]
  },
  {
   "cell_type": "code",
   "execution_count": 10,
   "metadata": {},
   "outputs": [
    {
     "name": "stdout",
     "output_type": "stream",
     "text": [
      "best_score distributes in range: 4473.31689453125-1.3375941514968872\n"
     ]
    }
   ],
   "source": [
    "print(f'best_score distributes in range: {best_scores.max()}-{best_scores.min()}')"
   ]
  },
  {
   "cell_type": "code",
   "execution_count": 11,
   "metadata": {},
   "outputs": [],
   "source": [
    "feat_indices_test = []\n",
    "for i in range(length):\n",
    "    if i not in train_val_idxs:\n",
    "        feat_indices_test.extend(np.arange(1 * i, 1 * i + 1).tolist())\n",
    "\n",
    "embed_generated_test = embed_generated[feat_indices_test][:, 1:, :]\n"
   ]
  },
  {
   "cell_type": "code",
   "execution_count": 12,
   "metadata": {},
   "outputs": [
    {
     "name": "stderr",
     "output_type": "stream",
     "text": [
      "  0%|          | 0/38 [00:00<?, ?it/s]"
     ]
    },
    {
     "name": "stdout",
     "output_type": "stream",
     "text": [
      "postive: 584 negative: 16\n",
      "postive: 584 negative: 16\n",
      "postive: 584 negative: 16\n",
      "postive: 584 negative: 16\n",
      "postive: 584 negative: 16\n",
      "postive: 584 negative: 16\n",
      "postive: 584 negative: 16\n",
      "postive: 584 negative: 16\n",
      "postive: 584 negative: 16\n",
      "postive: 584 negative: 16\n",
      "postive: 584 negative: 16\n",
      "postive: 584 negative: 16\n",
      "postive: 584 negative: 16\n",
      "postive: 584 negative: 16\n",
      "postive: 584 negative: 16\n",
      "postive: 584 negative: 16\n",
      "postive: 584 negative: 16\n",
      "postive: 584 negative: 16\n",
      "postive: 584 negative: 16\n",
      "postive: 584 negative: 16\n",
      "postive: 584 negative: 16\n",
      "postive: 584 negative: 16\n",
      "postive: 584 negative: 16\n",
      "postive: 584 negative: 16\n",
      "postive: 584 negative: 16\n",
      "postive: 584 negative: 16\n",
      "postive: 584 negative: 16\n",
      "postive: 584 negative: 16\n",
      "postive: 584 negative: 16\n",
      "postive: 584 negative: 16\n",
      "postive: 584 negative: 16\n",
      "postive: 584 negative: 16\n"
     ]
    },
    {
     "name": "stderr",
     "output_type": "stream",
     "text": [
      "  3%|▎         | 1/38 [00:23<14:41, 23.83s/it]"
     ]
    },
    {
     "name": "stdout",
     "output_type": "stream",
     "text": [
      "thres:  45.962856 best result:  [np.float64(93.61616161616162)] best_layer:  26 best_accuracy 0.89 linear best_threshold 0.9655429\n",
      "postive: 569 negative: 31\n",
      "postive: 569 negative: 31\n",
      "postive: 569 negative: 31\n",
      "postive: 569 negative: 31\n",
      "postive: 569 negative: 31\n",
      "postive: 569 negative: 31\n",
      "postive: 569 negative: 31\n",
      "postive: 569 negative: 31\n",
      "postive: 569 negative: 31\n",
      "postive: 569 negative: 31\n",
      "postive: 569 negative: 31\n",
      "postive: 569 negative: 31\n",
      "postive: 569 negative: 31\n",
      "postive: 569 negative: 31\n",
      "postive: 569 negative: 31\n",
      "postive: 569 negative: 31\n",
      "postive: 569 negative: 31\n",
      "postive: 569 negative: 31\n",
      "postive: 569 negative: 31\n",
      "postive: 569 negative: 31\n",
      "postive: 569 negative: 31\n",
      "postive: 569 negative: 31\n",
      "postive: 569 negative: 31\n",
      "postive: 569 negative: 31\n",
      "postive: 569 negative: 31\n",
      "postive: 569 negative: 31\n",
      "postive: 569 negative: 31\n",
      "postive: 569 negative: 31\n",
      "postive: 569 negative: 31\n",
      "postive: 569 negative: 31\n",
      "postive: 569 negative: 31\n",
      "postive: 569 negative: 31\n"
     ]
    },
    {
     "name": "stderr",
     "output_type": "stream",
     "text": [
      "  5%|▌         | 2/38 [00:44<13:20, 22.24s/it]"
     ]
    },
    {
     "name": "stdout",
     "output_type": "stream",
     "text": [
      "thres:  77.705986 best result:  [np.float64(92.84848484848484)] best_layer:  28 best_accuracy 0.88 linear best_threshold 0.99932504\n",
      "postive: 553 negative: 47\n",
      "postive: 553 negative: 47\n",
      "postive: 553 negative: 47\n",
      "postive: 553 negative: 47\n",
      "postive: 553 negative: 47\n",
      "postive: 553 negative: 47\n",
      "postive: 553 negative: 47\n",
      "postive: 553 negative: 47\n",
      "postive: 553 negative: 47\n",
      "postive: 553 negative: 47\n",
      "postive: 553 negative: 47\n",
      "postive: 553 negative: 47\n",
      "postive: 553 negative: 47\n",
      "postive: 553 negative: 47\n",
      "postive: 553 negative: 47\n",
      "postive: 553 negative: 47\n",
      "postive: 553 negative: 47\n",
      "postive: 553 negative: 47\n",
      "postive: 553 negative: 47\n",
      "postive: 553 negative: 47\n",
      "postive: 553 negative: 47\n",
      "postive: 553 negative: 47\n",
      "postive: 553 negative: 47\n",
      "postive: 553 negative: 47\n",
      "postive: 553 negative: 47\n",
      "postive: 553 negative: 47\n",
      "postive: 553 negative: 47\n",
      "postive: 553 negative: 47\n",
      "postive: 553 negative: 47\n",
      "postive: 553 negative: 47\n",
      "postive: 553 negative: 47\n",
      "postive: 553 negative: 47\n"
     ]
    },
    {
     "name": "stderr",
     "output_type": "stream",
     "text": [
      "  8%|▊         | 3/38 [01:07<12:55, 22.16s/it]"
     ]
    },
    {
     "name": "stdout",
     "output_type": "stream",
     "text": [
      "thres:  136.24277 best result:  [np.float64(92.96969696969697)] best_layer:  26 best_accuracy 0.88 linear best_threshold 0.98265636\n",
      "postive: 538 negative: 62\n",
      "postive: 538 negative: 62\n",
      "postive: 538 negative: 62\n",
      "postive: 538 negative: 62\n",
      "postive: 538 negative: 62\n",
      "postive: 538 negative: 62\n",
      "postive: 538 negative: 62\n",
      "postive: 538 negative: 62\n",
      "postive: 538 negative: 62\n",
      "postive: 538 negative: 62\n",
      "postive: 538 negative: 62\n",
      "postive: 538 negative: 62\n",
      "postive: 538 negative: 62\n",
      "postive: 538 negative: 62\n",
      "postive: 538 negative: 62\n",
      "postive: 538 negative: 62\n",
      "postive: 538 negative: 62\n",
      "postive: 538 negative: 62\n",
      "postive: 538 negative: 62\n",
      "postive: 538 negative: 62\n",
      "postive: 538 negative: 62\n",
      "postive: 538 negative: 62\n",
      "postive: 538 negative: 62\n",
      "postive: 538 negative: 62\n",
      "postive: 538 negative: 62\n",
      "postive: 538 negative: 62\n",
      "postive: 538 negative: 62\n",
      "postive: 538 negative: 62\n",
      "postive: 538 negative: 62\n",
      "postive: 538 negative: 62\n",
      "postive: 538 negative: 62\n",
      "postive: 538 negative: 62\n"
     ]
    },
    {
     "name": "stderr",
     "output_type": "stream",
     "text": [
      " 11%|█         | 4/38 [01:28<12:26, 21.94s/it]"
     ]
    },
    {
     "name": "stdout",
     "output_type": "stream",
     "text": [
      "thres:  175.84647 best result:  [np.float64(93.41414141414141)] best_layer:  26 best_accuracy 0.89 linear best_threshold 0.8749286\n",
      "postive: 523 negative: 77\n",
      "postive: 523 negative: 77\n",
      "postive: 523 negative: 77\n",
      "postive: 523 negative: 77\n",
      "postive: 523 negative: 77\n",
      "postive: 523 negative: 77\n",
      "postive: 523 negative: 77\n",
      "postive: 523 negative: 77\n",
      "postive: 523 negative: 77\n",
      "postive: 523 negative: 77\n",
      "postive: 523 negative: 77\n",
      "postive: 523 negative: 77\n",
      "postive: 523 negative: 77\n",
      "postive: 523 negative: 77\n",
      "postive: 523 negative: 77\n",
      "postive: 523 negative: 77\n",
      "postive: 523 negative: 77\n",
      "postive: 523 negative: 77\n",
      "postive: 523 negative: 77\n",
      "postive: 523 negative: 77\n",
      "postive: 523 negative: 77\n",
      "postive: 523 negative: 77\n",
      "postive: 523 negative: 77\n",
      "postive: 523 negative: 77\n",
      "postive: 523 negative: 77\n",
      "postive: 523 negative: 77\n",
      "postive: 523 negative: 77\n",
      "postive: 523 negative: 77\n",
      "postive: 523 negative: 77\n",
      "postive: 523 negative: 77\n",
      "postive: 523 negative: 77\n",
      "postive: 523 negative: 77\n"
     ]
    },
    {
     "name": "stderr",
     "output_type": "stream",
     "text": [
      " 13%|█▎        | 5/38 [01:50<12:06, 22.02s/it]"
     ]
    },
    {
     "name": "stdout",
     "output_type": "stream",
     "text": [
      "thres:  229.64499 best result:  [np.float64(92.72727272727273)] best_layer:  27 best_accuracy 0.89 linear best_threshold 0.83717364\n",
      "postive: 507 negative: 93\n",
      "postive: 507 negative: 93\n",
      "postive: 507 negative: 93\n",
      "postive: 507 negative: 93\n",
      "postive: 507 negative: 93\n",
      "postive: 507 negative: 93\n",
      "postive: 507 negative: 93\n",
      "postive: 507 negative: 93\n",
      "postive: 507 negative: 93\n",
      "postive: 507 negative: 93\n",
      "postive: 507 negative: 93\n",
      "postive: 507 negative: 93\n",
      "postive: 507 negative: 93\n",
      "postive: 507 negative: 93\n",
      "postive: 507 negative: 93\n",
      "postive: 507 negative: 93\n",
      "postive: 507 negative: 93\n",
      "postive: 507 negative: 93\n",
      "postive: 507 negative: 93\n",
      "postive: 507 negative: 93\n",
      "postive: 507 negative: 93\n",
      "postive: 507 negative: 93\n",
      "postive: 507 negative: 93\n",
      "postive: 507 negative: 93\n",
      "postive: 507 negative: 93\n",
      "postive: 507 negative: 93\n",
      "postive: 507 negative: 93\n",
      "postive: 507 negative: 93\n",
      "postive: 507 negative: 93\n",
      "postive: 507 negative: 93\n",
      "postive: 507 negative: 93\n",
      "postive: 507 negative: 93\n"
     ]
    },
    {
     "name": "stderr",
     "output_type": "stream",
     "text": [
      " 16%|█▌        | 6/38 [02:13<11:49, 22.17s/it]"
     ]
    },
    {
     "name": "stdout",
     "output_type": "stream",
     "text": [
      "thres:  276.81598 best result:  [np.float64(92.92929292929293)] best_layer:  31 best_accuracy 0.89 linear best_threshold 0.97076845\n",
      "postive: 492 negative: 108\n",
      "postive: 492 negative: 108\n",
      "postive: 492 negative: 108\n",
      "postive: 492 negative: 108\n",
      "postive: 492 negative: 108\n",
      "postive: 492 negative: 108\n",
      "postive: 492 negative: 108\n",
      "postive: 492 negative: 108\n",
      "postive: 492 negative: 108\n",
      "postive: 492 negative: 108\n",
      "postive: 492 negative: 108\n",
      "postive: 492 negative: 108\n",
      "postive: 492 negative: 108\n",
      "postive: 492 negative: 108\n",
      "postive: 492 negative: 108\n",
      "postive: 492 negative: 108\n",
      "postive: 492 negative: 108\n",
      "postive: 492 negative: 108\n",
      "postive: 492 negative: 108\n",
      "postive: 492 negative: 108\n",
      "postive: 492 negative: 108\n",
      "postive: 492 negative: 108\n",
      "postive: 492 negative: 108\n",
      "postive: 492 negative: 108\n",
      "postive: 492 negative: 108\n",
      "postive: 492 negative: 108\n",
      "postive: 492 negative: 108\n",
      "postive: 492 negative: 108\n",
      "postive: 492 negative: 108\n",
      "postive: 492 negative: 108\n",
      "postive: 492 negative: 108\n",
      "postive: 492 negative: 108\n"
     ]
    },
    {
     "name": "stderr",
     "output_type": "stream",
     "text": [
      " 18%|█▊        | 7/38 [02:35<11:32, 22.34s/it]"
     ]
    },
    {
     "name": "stdout",
     "output_type": "stream",
     "text": [
      "thres:  309.10742 best result:  [np.float64(92.80808080808082)] best_layer:  31 best_accuracy 0.89 linear best_threshold 0.9919195\n",
      "postive: 476 negative: 124\n",
      "postive: 476 negative: 124\n",
      "postive: 476 negative: 124\n",
      "postive: 476 negative: 124\n",
      "postive: 476 negative: 124\n",
      "postive: 476 negative: 124\n",
      "postive: 476 negative: 124\n",
      "postive: 476 negative: 124\n",
      "postive: 476 negative: 124\n",
      "postive: 476 negative: 124\n",
      "postive: 476 negative: 124\n",
      "postive: 476 negative: 124\n",
      "postive: 476 negative: 124\n",
      "postive: 476 negative: 124\n",
      "postive: 476 negative: 124\n",
      "postive: 476 negative: 124\n",
      "postive: 476 negative: 124\n",
      "postive: 476 negative: 124\n",
      "postive: 476 negative: 124\n",
      "postive: 476 negative: 124\n",
      "postive: 476 negative: 124\n",
      "postive: 476 negative: 124\n",
      "postive: 476 negative: 124\n",
      "postive: 476 negative: 124\n",
      "postive: 476 negative: 124\n",
      "postive: 476 negative: 124\n",
      "postive: 476 negative: 124\n",
      "postive: 476 negative: 124\n",
      "postive: 476 negative: 124\n",
      "postive: 476 negative: 124\n",
      "postive: 476 negative: 124\n",
      "postive: 476 negative: 124\n"
     ]
    },
    {
     "name": "stderr",
     "output_type": "stream",
     "text": [
      " 21%|██        | 8/38 [02:58<11:09, 22.32s/it]"
     ]
    },
    {
     "name": "stdout",
     "output_type": "stream",
     "text": [
      "thres:  339.26218 best result:  [np.float64(92.88888888888889)] best_layer:  28 best_accuracy 0.88 linear best_threshold 0.9008349\n",
      "postive: 461 negative: 139\n",
      "postive: 461 negative: 139\n",
      "postive: 461 negative: 139\n",
      "postive: 461 negative: 139\n",
      "postive: 461 negative: 139\n",
      "postive: 461 negative: 139\n",
      "postive: 461 negative: 139\n",
      "postive: 461 negative: 139\n",
      "postive: 461 negative: 139\n",
      "postive: 461 negative: 139\n",
      "postive: 461 negative: 139\n",
      "postive: 461 negative: 139\n",
      "postive: 461 negative: 139\n",
      "postive: 461 negative: 139\n",
      "postive: 461 negative: 139\n",
      "postive: 461 negative: 139\n",
      "postive: 461 negative: 139\n",
      "postive: 461 negative: 139\n",
      "postive: 461 negative: 139\n",
      "postive: 461 negative: 139\n",
      "postive: 461 negative: 139\n",
      "postive: 461 negative: 139\n",
      "postive: 461 negative: 139\n",
      "postive: 461 negative: 139\n",
      "postive: 461 negative: 139\n",
      "postive: 461 negative: 139\n",
      "postive: 461 negative: 139\n",
      "postive: 461 negative: 139\n",
      "postive: 461 negative: 139\n",
      "postive: 461 negative: 139\n",
      "postive: 461 negative: 139\n",
      "postive: 461 negative: 139\n"
     ]
    },
    {
     "name": "stderr",
     "output_type": "stream",
     "text": [
      " 24%|██▎       | 9/38 [03:19<10:36, 21.93s/it]"
     ]
    },
    {
     "name": "stdout",
     "output_type": "stream",
     "text": [
      "thres:  357.76813 best result:  [np.float64(93.37373737373737)] best_layer:  30 best_accuracy 0.88 linear best_threshold 0.9999368\n",
      "postive: 446 negative: 154\n",
      "postive: 446 negative: 154\n",
      "postive: 446 negative: 154\n",
      "postive: 446 negative: 154\n",
      "postive: 446 negative: 154\n",
      "postive: 446 negative: 154\n",
      "postive: 446 negative: 154\n",
      "postive: 446 negative: 154\n",
      "postive: 446 negative: 154\n",
      "postive: 446 negative: 154\n",
      "postive: 446 negative: 154\n",
      "postive: 446 negative: 154\n",
      "postive: 446 negative: 154\n",
      "postive: 446 negative: 154\n",
      "postive: 446 negative: 154\n",
      "postive: 446 negative: 154\n",
      "postive: 446 negative: 154\n",
      "postive: 446 negative: 154\n",
      "postive: 446 negative: 154\n",
      "postive: 446 negative: 154\n",
      "postive: 446 negative: 154\n",
      "postive: 446 negative: 154\n",
      "postive: 446 negative: 154\n",
      "postive: 446 negative: 154\n",
      "postive: 446 negative: 154\n",
      "postive: 446 negative: 154\n",
      "postive: 446 negative: 154\n",
      "postive: 446 negative: 154\n",
      "postive: 446 negative: 154\n",
      "postive: 446 negative: 154\n",
      "postive: 446 negative: 154\n",
      "postive: 446 negative: 154\n"
     ]
    },
    {
     "name": "stderr",
     "output_type": "stream",
     "text": [
      " 26%|██▋       | 10/38 [03:40<10:10, 21.80s/it]"
     ]
    },
    {
     "name": "stdout",
     "output_type": "stream",
     "text": [
      "thres:  393.45267 best result:  [np.float64(93.6161616161616)] best_layer:  27 best_accuracy 0.89 linear best_threshold 0.66703933\n",
      "postive: 430 negative: 170\n",
      "postive: 430 negative: 170\n",
      "postive: 430 negative: 170\n",
      "postive: 430 negative: 170\n",
      "postive: 430 negative: 170\n",
      "postive: 430 negative: 170\n",
      "postive: 430 negative: 170\n",
      "postive: 430 negative: 170\n",
      "postive: 430 negative: 170\n",
      "postive: 430 negative: 170\n",
      "postive: 430 negative: 170\n",
      "postive: 430 negative: 170\n",
      "postive: 430 negative: 170\n",
      "postive: 430 negative: 170\n",
      "postive: 430 negative: 170\n",
      "postive: 430 negative: 170\n",
      "postive: 430 negative: 170\n",
      "postive: 430 negative: 170\n",
      "postive: 430 negative: 170\n",
      "postive: 430 negative: 170\n",
      "postive: 430 negative: 170\n",
      "postive: 430 negative: 170\n",
      "postive: 430 negative: 170\n",
      "postive: 430 negative: 170\n",
      "postive: 430 negative: 170\n",
      "postive: 430 negative: 170\n",
      "postive: 430 negative: 170\n",
      "postive: 430 negative: 170\n",
      "postive: 430 negative: 170\n",
      "postive: 430 negative: 170\n",
      "postive: 430 negative: 170\n",
      "postive: 430 negative: 170\n"
     ]
    },
    {
     "name": "stderr",
     "output_type": "stream",
     "text": [
      " 29%|██▉       | 11/38 [04:04<10:05, 22.43s/it]"
     ]
    },
    {
     "name": "stdout",
     "output_type": "stream",
     "text": [
      "thres:  416.6047 best result:  [np.float64(93.53535353535354)] best_layer:  30 best_accuracy 0.91 linear best_threshold 0.48220998\n",
      "postive: 415 negative: 185\n",
      "postive: 415 negative: 185\n",
      "postive: 415 negative: 185\n",
      "postive: 415 negative: 185\n",
      "postive: 415 negative: 185\n",
      "postive: 415 negative: 185\n",
      "postive: 415 negative: 185\n",
      "postive: 415 negative: 185\n",
      "postive: 415 negative: 185\n",
      "postive: 415 negative: 185\n",
      "postive: 415 negative: 185\n",
      "postive: 415 negative: 185\n",
      "postive: 415 negative: 185\n",
      "postive: 415 negative: 185\n",
      "postive: 415 negative: 185\n",
      "postive: 415 negative: 185\n",
      "postive: 415 negative: 185\n",
      "postive: 415 negative: 185\n",
      "postive: 415 negative: 185\n",
      "postive: 415 negative: 185\n",
      "postive: 415 negative: 185\n",
      "postive: 415 negative: 185\n",
      "postive: 415 negative: 185\n",
      "postive: 415 negative: 185\n",
      "postive: 415 negative: 185\n",
      "postive: 415 negative: 185\n",
      "postive: 415 negative: 185\n",
      "postive: 415 negative: 185\n",
      "postive: 415 negative: 185\n",
      "postive: 415 negative: 185\n",
      "postive: 415 negative: 185\n",
      "postive: 415 negative: 185\n"
     ]
    },
    {
     "name": "stderr",
     "output_type": "stream",
     "text": [
      " 32%|███▏      | 12/38 [04:26<09:36, 22.17s/it]"
     ]
    },
    {
     "name": "stdout",
     "output_type": "stream",
     "text": [
      "thres:  436.4686 best result:  [np.float64(93.33333333333333)] best_layer:  25 best_accuracy 0.88 linear best_threshold 0.76592237\n",
      "postive: 399 negative: 201\n",
      "postive: 399 negative: 201\n",
      "postive: 399 negative: 201\n",
      "postive: 399 negative: 201\n",
      "postive: 399 negative: 201\n",
      "postive: 399 negative: 201\n",
      "postive: 399 negative: 201\n",
      "postive: 399 negative: 201\n",
      "postive: 399 negative: 201\n",
      "postive: 399 negative: 201\n",
      "postive: 399 negative: 201\n",
      "postive: 399 negative: 201\n",
      "postive: 399 negative: 201\n",
      "postive: 399 negative: 201\n",
      "postive: 399 negative: 201\n",
      "postive: 399 negative: 201\n",
      "postive: 399 negative: 201\n",
      "postive: 399 negative: 201\n",
      "postive: 399 negative: 201\n",
      "postive: 399 negative: 201\n",
      "postive: 399 negative: 201\n",
      "postive: 399 negative: 201\n",
      "postive: 399 negative: 201\n",
      "postive: 399 negative: 201\n",
      "postive: 399 negative: 201\n",
      "postive: 399 negative: 201\n",
      "postive: 399 negative: 201\n",
      "postive: 399 negative: 201\n",
      "postive: 399 negative: 201\n",
      "postive: 399 negative: 201\n",
      "postive: 399 negative: 201\n",
      "postive: 399 negative: 201\n"
     ]
    },
    {
     "name": "stderr",
     "output_type": "stream",
     "text": [
      " 34%|███▍      | 13/38 [04:48<09:12, 22.11s/it]"
     ]
    },
    {
     "name": "stdout",
     "output_type": "stream",
     "text": [
      "thres:  456.4003 best result:  [np.float64(93.23232323232324)] best_layer:  30 best_accuracy 0.89 linear best_threshold 0.80084074\n",
      "postive: 384 negative: 216\n",
      "postive: 384 negative: 216\n",
      "postive: 384 negative: 216\n",
      "postive: 384 negative: 216\n",
      "postive: 384 negative: 216\n",
      "postive: 384 negative: 216\n",
      "postive: 384 negative: 216\n",
      "postive: 384 negative: 216\n",
      "postive: 384 negative: 216\n",
      "postive: 384 negative: 216\n",
      "postive: 384 negative: 216\n",
      "postive: 384 negative: 216\n",
      "postive: 384 negative: 216\n",
      "postive: 384 negative: 216\n",
      "postive: 384 negative: 216\n",
      "postive: 384 negative: 216\n",
      "postive: 384 negative: 216\n",
      "postive: 384 negative: 216\n",
      "postive: 384 negative: 216\n",
      "postive: 384 negative: 216\n",
      "postive: 384 negative: 216\n",
      "postive: 384 negative: 216\n",
      "postive: 384 negative: 216\n",
      "postive: 384 negative: 216\n",
      "postive: 384 negative: 216\n",
      "postive: 384 negative: 216\n",
      "postive: 384 negative: 216\n",
      "postive: 384 negative: 216\n",
      "postive: 384 negative: 216\n",
      "postive: 384 negative: 216\n",
      "postive: 384 negative: 216\n",
      "postive: 384 negative: 216\n"
     ]
    },
    {
     "name": "stderr",
     "output_type": "stream",
     "text": [
      " 37%|███▋      | 14/38 [05:10<08:49, 22.04s/it]"
     ]
    },
    {
     "name": "stdout",
     "output_type": "stream",
     "text": [
      "thres:  489.13168 best result:  [np.float64(94.34343434343435)] best_layer:  28 best_accuracy 0.89 linear best_threshold 0.4835988\n",
      "postive: 369 negative: 231\n",
      "postive: 369 negative: 231\n",
      "postive: 369 negative: 231\n",
      "postive: 369 negative: 231\n",
      "postive: 369 negative: 231\n",
      "postive: 369 negative: 231\n",
      "postive: 369 negative: 231\n",
      "postive: 369 negative: 231\n",
      "postive: 369 negative: 231\n",
      "postive: 369 negative: 231\n",
      "postive: 369 negative: 231\n",
      "postive: 369 negative: 231\n",
      "postive: 369 negative: 231\n",
      "postive: 369 negative: 231\n",
      "postive: 369 negative: 231\n",
      "postive: 369 negative: 231\n",
      "postive: 369 negative: 231\n",
      "postive: 369 negative: 231\n",
      "postive: 369 negative: 231\n",
      "postive: 369 negative: 231\n",
      "postive: 369 negative: 231\n",
      "postive: 369 negative: 231\n",
      "postive: 369 negative: 231\n",
      "postive: 369 negative: 231\n",
      "postive: 369 negative: 231\n",
      "postive: 369 negative: 231\n",
      "postive: 369 negative: 231\n",
      "postive: 369 negative: 231\n",
      "postive: 369 negative: 231\n",
      "postive: 369 negative: 231\n",
      "postive: 369 negative: 231\n",
      "postive: 369 negative: 231\n"
     ]
    },
    {
     "name": "stderr",
     "output_type": "stream",
     "text": [
      " 39%|███▉      | 15/38 [05:33<08:39, 22.60s/it]"
     ]
    },
    {
     "name": "stdout",
     "output_type": "stream",
     "text": [
      "thres:  508.79202 best result:  [np.float64(92.60606060606061)] best_layer:  22 best_accuracy 0.89 linear best_threshold 0.8451798\n",
      "postive: 353 negative: 247\n",
      "postive: 353 negative: 247\n",
      "postive: 353 negative: 247\n",
      "postive: 353 negative: 247\n",
      "postive: 353 negative: 247\n",
      "postive: 353 negative: 247\n",
      "postive: 353 negative: 247\n",
      "postive: 353 negative: 247\n",
      "postive: 353 negative: 247\n",
      "postive: 353 negative: 247\n",
      "postive: 353 negative: 247\n",
      "postive: 353 negative: 247\n",
      "postive: 353 negative: 247\n",
      "postive: 353 negative: 247\n",
      "postive: 353 negative: 247\n",
      "postive: 353 negative: 247\n",
      "postive: 353 negative: 247\n",
      "postive: 353 negative: 247\n",
      "postive: 353 negative: 247\n",
      "postive: 353 negative: 247\n",
      "postive: 353 negative: 247\n",
      "postive: 353 negative: 247\n",
      "postive: 353 negative: 247\n",
      "postive: 353 negative: 247\n",
      "postive: 353 negative: 247\n",
      "postive: 353 negative: 247\n",
      "postive: 353 negative: 247\n",
      "postive: 353 negative: 247\n",
      "postive: 353 negative: 247\n",
      "postive: 353 negative: 247\n",
      "postive: 353 negative: 247\n",
      "postive: 353 negative: 247\n"
     ]
    },
    {
     "name": "stderr",
     "output_type": "stream",
     "text": [
      " 42%|████▏     | 16/38 [05:57<08:25, 22.97s/it]"
     ]
    },
    {
     "name": "stdout",
     "output_type": "stream",
     "text": [
      "thres:  548.69464 best result:  [np.float64(93.01010101010101)] best_layer:  27 best_accuracy 0.9 linear best_threshold 0.28603137\n",
      "postive: 338 negative: 262\n",
      "postive: 338 negative: 262\n",
      "postive: 338 negative: 262\n",
      "postive: 338 negative: 262\n",
      "postive: 338 negative: 262\n",
      "postive: 338 negative: 262\n",
      "postive: 338 negative: 262\n",
      "postive: 338 negative: 262\n",
      "postive: 338 negative: 262\n",
      "postive: 338 negative: 262\n",
      "postive: 338 negative: 262\n",
      "postive: 338 negative: 262\n",
      "postive: 338 negative: 262\n",
      "postive: 338 negative: 262\n",
      "postive: 338 negative: 262\n",
      "postive: 338 negative: 262\n",
      "postive: 338 negative: 262\n",
      "postive: 338 negative: 262\n",
      "postive: 338 negative: 262\n",
      "postive: 338 negative: 262\n",
      "postive: 338 negative: 262\n",
      "postive: 338 negative: 262\n",
      "postive: 338 negative: 262\n",
      "postive: 338 negative: 262\n",
      "postive: 338 negative: 262\n",
      "postive: 338 negative: 262\n",
      "postive: 338 negative: 262\n",
      "postive: 338 negative: 262\n",
      "postive: 338 negative: 262\n",
      "postive: 338 negative: 262\n",
      "postive: 338 negative: 262\n",
      "postive: 338 negative: 262\n"
     ]
    },
    {
     "name": "stderr",
     "output_type": "stream",
     "text": [
      " 45%|████▍     | 17/38 [06:20<07:58, 22.78s/it]"
     ]
    },
    {
     "name": "stdout",
     "output_type": "stream",
     "text": [
      "thres:  597.769 best result:  [np.float64(93.85858585858585)] best_layer:  28 best_accuracy 0.9 linear best_threshold 0.24728376\n",
      "postive: 323 negative: 277\n",
      "postive: 323 negative: 277\n",
      "postive: 323 negative: 277\n",
      "postive: 323 negative: 277\n",
      "postive: 323 negative: 277\n",
      "postive: 323 negative: 277\n",
      "postive: 323 negative: 277\n",
      "postive: 323 negative: 277\n",
      "postive: 323 negative: 277\n",
      "postive: 323 negative: 277\n",
      "postive: 323 negative: 277\n",
      "postive: 323 negative: 277\n",
      "postive: 323 negative: 277\n",
      "postive: 323 negative: 277\n",
      "postive: 323 negative: 277\n",
      "postive: 323 negative: 277\n",
      "postive: 323 negative: 277\n",
      "postive: 323 negative: 277\n",
      "postive: 323 negative: 277\n",
      "postive: 323 negative: 277\n",
      "postive: 323 negative: 277\n",
      "postive: 323 negative: 277\n",
      "postive: 323 negative: 277\n",
      "postive: 323 negative: 277\n",
      "postive: 323 negative: 277\n",
      "postive: 323 negative: 277\n",
      "postive: 323 negative: 277\n",
      "postive: 323 negative: 277\n",
      "postive: 323 negative: 277\n",
      "postive: 323 negative: 277\n",
      "postive: 323 negative: 277\n",
      "postive: 323 negative: 277\n"
     ]
    },
    {
     "name": "stderr",
     "output_type": "stream",
     "text": [
      " 47%|████▋     | 18/38 [06:42<07:32, 22.61s/it]"
     ]
    },
    {
     "name": "stdout",
     "output_type": "stream",
     "text": [
      "thres:  636.02527 best result:  [np.float64(93.57575757575756)] best_layer:  16 best_accuracy 0.89 linear best_threshold 0.642514\n",
      "postive: 307 negative: 293\n",
      "postive: 307 negative: 293\n",
      "postive: 307 negative: 293\n",
      "postive: 307 negative: 293\n",
      "postive: 307 negative: 293\n",
      "postive: 307 negative: 293\n",
      "postive: 307 negative: 293\n",
      "postive: 307 negative: 293\n",
      "postive: 307 negative: 293\n",
      "postive: 307 negative: 293\n",
      "postive: 307 negative: 293\n",
      "postive: 307 negative: 293\n",
      "postive: 307 negative: 293\n",
      "postive: 307 negative: 293\n",
      "postive: 307 negative: 293\n",
      "postive: 307 negative: 293\n",
      "postive: 307 negative: 293\n",
      "postive: 307 negative: 293\n",
      "postive: 307 negative: 293\n",
      "postive: 307 negative: 293\n",
      "postive: 307 negative: 293\n",
      "postive: 307 negative: 293\n",
      "postive: 307 negative: 293\n",
      "postive: 307 negative: 293\n",
      "postive: 307 negative: 293\n",
      "postive: 307 negative: 293\n",
      "postive: 307 negative: 293\n",
      "postive: 307 negative: 293\n",
      "postive: 307 negative: 293\n",
      "postive: 307 negative: 293\n",
      "postive: 307 negative: 293\n",
      "postive: 307 negative: 293\n"
     ]
    },
    {
     "name": "stderr",
     "output_type": "stream",
     "text": [
      " 50%|█████     | 19/38 [07:04<07:06, 22.43s/it]"
     ]
    },
    {
     "name": "stdout",
     "output_type": "stream",
     "text": [
      "thres:  685.0537 best result:  [np.float64(94.22222222222223)] best_layer:  26 best_accuracy 0.91 linear best_threshold 0.305708\n",
      "postive: 292 negative: 308\n",
      "postive: 292 negative: 308\n",
      "postive: 292 negative: 308\n",
      "postive: 292 negative: 308\n",
      "postive: 292 negative: 308\n",
      "postive: 292 negative: 308\n",
      "postive: 292 negative: 308\n",
      "postive: 292 negative: 308\n",
      "postive: 292 negative: 308\n",
      "postive: 292 negative: 308\n",
      "postive: 292 negative: 308\n",
      "postive: 292 negative: 308\n",
      "postive: 292 negative: 308\n",
      "postive: 292 negative: 308\n",
      "postive: 292 negative: 308\n",
      "postive: 292 negative: 308\n",
      "postive: 292 negative: 308\n",
      "postive: 292 negative: 308\n",
      "postive: 292 negative: 308\n",
      "postive: 292 negative: 308\n",
      "postive: 292 negative: 308\n",
      "postive: 292 negative: 308\n",
      "postive: 292 negative: 308\n",
      "postive: 292 negative: 308\n",
      "postive: 292 negative: 308\n",
      "postive: 292 negative: 308\n",
      "postive: 292 negative: 308\n",
      "postive: 292 negative: 308\n",
      "postive: 292 negative: 308\n",
      "postive: 292 negative: 308\n",
      "postive: 292 negative: 308\n",
      "postive: 292 negative: 308\n"
     ]
    },
    {
     "name": "stderr",
     "output_type": "stream",
     "text": [
      " 53%|█████▎    | 20/38 [07:26<06:41, 22.33s/it]"
     ]
    },
    {
     "name": "stdout",
     "output_type": "stream",
     "text": [
      "thres:  736.66113 best result:  [np.float64(93.61616161616162)] best_layer:  25 best_accuracy 0.91 linear best_threshold 0.34216622\n",
      "postive: 276 negative: 324\n",
      "postive: 276 negative: 324\n",
      "postive: 276 negative: 324\n",
      "postive: 276 negative: 324\n",
      "postive: 276 negative: 324\n",
      "postive: 276 negative: 324\n",
      "postive: 276 negative: 324\n",
      "postive: 276 negative: 324\n",
      "postive: 276 negative: 324\n",
      "postive: 276 negative: 324\n",
      "postive: 276 negative: 324\n",
      "postive: 276 negative: 324\n",
      "postive: 276 negative: 324\n",
      "postive: 276 negative: 324\n",
      "postive: 276 negative: 324\n",
      "postive: 276 negative: 324\n",
      "postive: 276 negative: 324\n",
      "postive: 276 negative: 324\n",
      "postive: 276 negative: 324\n",
      "postive: 276 negative: 324\n",
      "postive: 276 negative: 324\n",
      "postive: 276 negative: 324\n",
      "postive: 276 negative: 324\n",
      "postive: 276 negative: 324\n",
      "postive: 276 negative: 324\n",
      "postive: 276 negative: 324\n",
      "postive: 276 negative: 324\n",
      "postive: 276 negative: 324\n",
      "postive: 276 negative: 324\n",
      "postive: 276 negative: 324\n",
      "postive: 276 negative: 324\n",
      "postive: 276 negative: 324\n"
     ]
    },
    {
     "name": "stderr",
     "output_type": "stream",
     "text": [
      " 55%|█████▌    | 21/38 [07:48<06:15, 22.12s/it]"
     ]
    },
    {
     "name": "stdout",
     "output_type": "stream",
     "text": [
      "thres:  848.46826 best result:  [np.float64(93.2929292929293)] best_layer:  20 best_accuracy 0.89 linear best_threshold 0.3309686\n",
      "postive: 261 negative: 339\n",
      "postive: 261 negative: 339\n",
      "postive: 261 negative: 339\n",
      "postive: 261 negative: 339\n",
      "postive: 261 negative: 339\n",
      "postive: 261 negative: 339\n",
      "postive: 261 negative: 339\n",
      "postive: 261 negative: 339\n",
      "postive: 261 negative: 339\n",
      "postive: 261 negative: 339\n",
      "postive: 261 negative: 339\n",
      "postive: 261 negative: 339\n",
      "postive: 261 negative: 339\n",
      "postive: 261 negative: 339\n",
      "postive: 261 negative: 339\n",
      "postive: 261 negative: 339\n",
      "postive: 261 negative: 339\n",
      "postive: 261 negative: 339\n",
      "postive: 261 negative: 339\n",
      "postive: 261 negative: 339\n",
      "postive: 261 negative: 339\n",
      "postive: 261 negative: 339\n",
      "postive: 261 negative: 339\n",
      "postive: 261 negative: 339\n",
      "postive: 261 negative: 339\n",
      "postive: 261 negative: 339\n",
      "postive: 261 negative: 339\n",
      "postive: 261 negative: 339\n",
      "postive: 261 negative: 339\n",
      "postive: 261 negative: 339\n",
      "postive: 261 negative: 339\n",
      "postive: 261 negative: 339\n"
     ]
    },
    {
     "name": "stderr",
     "output_type": "stream",
     "text": [
      " 58%|█████▊    | 22/38 [08:10<05:56, 22.29s/it]"
     ]
    },
    {
     "name": "stdout",
     "output_type": "stream",
     "text": [
      "thres:  1042.3815 best result:  [np.float64(93.73737373737373)] best_layer:  29 best_accuracy 0.89 linear best_threshold 0.24191388\n",
      "postive: 246 negative: 354\n",
      "postive: 246 negative: 354\n",
      "postive: 246 negative: 354\n",
      "postive: 246 negative: 354\n",
      "postive: 246 negative: 354\n",
      "postive: 246 negative: 354\n",
      "postive: 246 negative: 354\n",
      "postive: 246 negative: 354\n",
      "postive: 246 negative: 354\n",
      "postive: 246 negative: 354\n",
      "postive: 246 negative: 354\n",
      "postive: 246 negative: 354\n",
      "postive: 246 negative: 354\n",
      "postive: 246 negative: 354\n",
      "postive: 246 negative: 354\n",
      "postive: 246 negative: 354\n",
      "postive: 246 negative: 354\n",
      "postive: 246 negative: 354\n",
      "postive: 246 negative: 354\n",
      "postive: 246 negative: 354\n",
      "postive: 246 negative: 354\n",
      "postive: 246 negative: 354\n",
      "postive: 246 negative: 354\n",
      "postive: 246 negative: 354\n",
      "postive: 246 negative: 354\n",
      "postive: 246 negative: 354\n",
      "postive: 246 negative: 354\n",
      "postive: 246 negative: 354\n",
      "postive: 246 negative: 354\n",
      "postive: 246 negative: 354\n",
      "postive: 246 negative: 354\n",
      "postive: 246 negative: 354\n"
     ]
    },
    {
     "name": "stderr",
     "output_type": "stream",
     "text": [
      " 61%|██████    | 23/38 [08:33<05:37, 22.48s/it]"
     ]
    },
    {
     "name": "stdout",
     "output_type": "stream",
     "text": [
      "thres:  3118.4202 best result:  [np.float64(93.45454545454545)] best_layer:  19 best_accuracy 0.91 linear best_threshold 1.8039595e-13\n",
      "postive: 230 negative: 370\n",
      "postive: 230 negative: 370\n",
      "postive: 230 negative: 370\n",
      "postive: 230 negative: 370\n",
      "postive: 230 negative: 370\n",
      "postive: 230 negative: 370\n",
      "postive: 230 negative: 370\n",
      "postive: 230 negative: 370\n",
      "postive: 230 negative: 370\n",
      "postive: 230 negative: 370\n",
      "postive: 230 negative: 370\n",
      "postive: 230 negative: 370\n",
      "postive: 230 negative: 370\n",
      "postive: 230 negative: 370\n",
      "postive: 230 negative: 370\n",
      "postive: 230 negative: 370\n",
      "postive: 230 negative: 370\n",
      "postive: 230 negative: 370\n",
      "postive: 230 negative: 370\n",
      "postive: 230 negative: 370\n",
      "postive: 230 negative: 370\n",
      "postive: 230 negative: 370\n",
      "postive: 230 negative: 370\n",
      "postive: 230 negative: 370\n",
      "postive: 230 negative: 370\n",
      "postive: 230 negative: 370\n",
      "postive: 230 negative: 370\n",
      "postive: 230 negative: 370\n",
      "postive: 230 negative: 370\n",
      "postive: 230 negative: 370\n",
      "postive: 230 negative: 370\n",
      "postive: 230 negative: 370\n"
     ]
    },
    {
     "name": "stderr",
     "output_type": "stream",
     "text": [
      " 63%|██████▎   | 24/38 [08:55<05:13, 22.41s/it]"
     ]
    },
    {
     "name": "stdout",
     "output_type": "stream",
     "text": [
      "thres:  3282.7148 best result:  [np.float64(93.73737373737374)] best_layer:  24 best_accuracy 0.89 linear best_threshold 5.4749187e-09\n",
      "postive: 215 negative: 385\n",
      "postive: 215 negative: 385\n",
      "postive: 215 negative: 385\n",
      "postive: 215 negative: 385\n",
      "postive: 215 negative: 385\n",
      "postive: 215 negative: 385\n",
      "postive: 215 negative: 385\n",
      "postive: 215 negative: 385\n",
      "postive: 215 negative: 385\n",
      "postive: 215 negative: 385\n",
      "postive: 215 negative: 385\n",
      "postive: 215 negative: 385\n",
      "postive: 215 negative: 385\n",
      "postive: 215 negative: 385\n",
      "postive: 215 negative: 385\n",
      "postive: 215 negative: 385\n",
      "postive: 215 negative: 385\n",
      "postive: 215 negative: 385\n",
      "postive: 215 negative: 385\n",
      "postive: 215 negative: 385\n",
      "postive: 215 negative: 385\n",
      "postive: 215 negative: 385\n",
      "postive: 215 negative: 385\n",
      "postive: 215 negative: 385\n",
      "postive: 215 negative: 385\n",
      "postive: 215 negative: 385\n",
      "postive: 215 negative: 385\n",
      "postive: 215 negative: 385\n",
      "postive: 215 negative: 385\n",
      "postive: 215 negative: 385\n",
      "postive: 215 negative: 385\n",
      "postive: 215 negative: 385\n"
     ]
    },
    {
     "name": "stderr",
     "output_type": "stream",
     "text": [
      " 66%|██████▌   | 25/38 [09:18<04:50, 22.35s/it]"
     ]
    },
    {
     "name": "stdout",
     "output_type": "stream",
     "text": [
      "thres:  3406.9282 best result:  [np.float64(94.02020202020202)] best_layer:  18 best_accuracy 0.91 linear best_threshold 8.828192e-07\n",
      "postive: 199 negative: 401\n",
      "postive: 199 negative: 401\n",
      "postive: 199 negative: 401\n",
      "postive: 199 negative: 401\n",
      "postive: 199 negative: 401\n",
      "postive: 199 negative: 401\n",
      "postive: 199 negative: 401\n",
      "postive: 199 negative: 401\n",
      "postive: 199 negative: 401\n",
      "postive: 199 negative: 401\n",
      "postive: 199 negative: 401\n",
      "postive: 199 negative: 401\n",
      "postive: 199 negative: 401\n",
      "postive: 199 negative: 401\n",
      "postive: 199 negative: 401\n",
      "postive: 199 negative: 401\n",
      "postive: 199 negative: 401\n",
      "postive: 199 negative: 401\n",
      "postive: 199 negative: 401\n",
      "postive: 199 negative: 401\n",
      "postive: 199 negative: 401\n",
      "postive: 199 negative: 401\n",
      "postive: 199 negative: 401\n",
      "postive: 199 negative: 401\n",
      "postive: 199 negative: 401\n",
      "postive: 199 negative: 401\n",
      "postive: 199 negative: 401\n",
      "postive: 199 negative: 401\n",
      "postive: 199 negative: 401\n",
      "postive: 199 negative: 401\n",
      "postive: 199 negative: 401\n",
      "postive: 199 negative: 401\n"
     ]
    },
    {
     "name": "stderr",
     "output_type": "stream",
     "text": [
      " 68%|██████▊   | 26/38 [09:40<04:29, 22.49s/it]"
     ]
    },
    {
     "name": "stdout",
     "output_type": "stream",
     "text": [
      "thres:  3528.8325 best result:  [np.float64(94.14141414141413)] best_layer:  20 best_accuracy 0.9 linear best_threshold 4.7072797e-07\n",
      "postive: 184 negative: 416\n",
      "postive: 184 negative: 416\n",
      "postive: 184 negative: 416\n",
      "postive: 184 negative: 416\n",
      "postive: 184 negative: 416\n",
      "postive: 184 negative: 416\n",
      "postive: 184 negative: 416\n",
      "postive: 184 negative: 416\n",
      "postive: 184 negative: 416\n",
      "postive: 184 negative: 416\n",
      "postive: 184 negative: 416\n",
      "postive: 184 negative: 416\n",
      "postive: 184 negative: 416\n",
      "postive: 184 negative: 416\n",
      "postive: 184 negative: 416\n",
      "postive: 184 negative: 416\n",
      "postive: 184 negative: 416\n",
      "postive: 184 negative: 416\n",
      "postive: 184 negative: 416\n",
      "postive: 184 negative: 416\n",
      "postive: 184 negative: 416\n",
      "postive: 184 negative: 416\n",
      "postive: 184 negative: 416\n",
      "postive: 184 negative: 416\n",
      "postive: 184 negative: 416\n",
      "postive: 184 negative: 416\n",
      "postive: 184 negative: 416\n",
      "postive: 184 negative: 416\n",
      "postive: 184 negative: 416\n",
      "postive: 184 negative: 416\n",
      "postive: 184 negative: 416\n",
      "postive: 184 negative: 416\n"
     ]
    },
    {
     "name": "stderr",
     "output_type": "stream",
     "text": [
      " 71%|███████   | 27/38 [10:01<04:01, 21.97s/it]"
     ]
    },
    {
     "name": "stdout",
     "output_type": "stream",
     "text": [
      "thres:  3631.4263 best result:  [np.float64(94.22222222222223)] best_layer:  22 best_accuracy 0.9 linear best_threshold 1.4078075e-11\n",
      "postive: 169 negative: 431\n",
      "postive: 169 negative: 431\n",
      "postive: 169 negative: 431\n",
      "postive: 169 negative: 431\n",
      "postive: 169 negative: 431\n",
      "postive: 169 negative: 431\n",
      "postive: 169 negative: 431\n",
      "postive: 169 negative: 431\n",
      "postive: 169 negative: 431\n",
      "postive: 169 negative: 431\n",
      "postive: 169 negative: 431\n",
      "postive: 169 negative: 431\n",
      "postive: 169 negative: 431\n",
      "postive: 169 negative: 431\n",
      "postive: 169 negative: 431\n",
      "postive: 169 negative: 431\n",
      "postive: 169 negative: 431\n",
      "postive: 169 negative: 431\n",
      "postive: 169 negative: 431\n",
      "postive: 169 negative: 431\n",
      "postive: 169 negative: 431\n",
      "postive: 169 negative: 431\n",
      "postive: 169 negative: 431\n",
      "postive: 169 negative: 431\n",
      "postive: 169 negative: 431\n",
      "postive: 169 negative: 431\n",
      "postive: 169 negative: 431\n",
      "postive: 169 negative: 431\n",
      "postive: 169 negative: 431\n",
      "postive: 169 negative: 431\n",
      "postive: 169 negative: 431\n",
      "postive: 169 negative: 431\n"
     ]
    },
    {
     "name": "stderr",
     "output_type": "stream",
     "text": [
      " 74%|███████▎  | 28/38 [10:23<03:37, 21.78s/it]"
     ]
    },
    {
     "name": "stdout",
     "output_type": "stream",
     "text": [
      "thres:  3680.5637 best result:  [np.float64(94.42424242424242)] best_layer:  23 best_accuracy 0.9 linear best_threshold 4.1314165e-09\n",
      "postive: 153 negative: 447\n",
      "postive: 153 negative: 447\n",
      "postive: 153 negative: 447\n",
      "postive: 153 negative: 447\n",
      "postive: 153 negative: 447\n",
      "postive: 153 negative: 447\n",
      "postive: 153 negative: 447\n",
      "postive: 153 negative: 447\n",
      "postive: 153 negative: 447\n",
      "postive: 153 negative: 447\n",
      "postive: 153 negative: 447\n",
      "postive: 153 negative: 447\n",
      "postive: 153 negative: 447\n",
      "postive: 153 negative: 447\n",
      "postive: 153 negative: 447\n",
      "postive: 153 negative: 447\n",
      "postive: 153 negative: 447\n",
      "postive: 153 negative: 447\n",
      "postive: 153 negative: 447\n",
      "postive: 153 negative: 447\n",
      "postive: 153 negative: 447\n",
      "postive: 153 negative: 447\n",
      "postive: 153 negative: 447\n",
      "postive: 153 negative: 447\n",
      "postive: 153 negative: 447\n",
      "postive: 153 negative: 447\n",
      "postive: 153 negative: 447\n",
      "postive: 153 negative: 447\n",
      "postive: 153 negative: 447\n",
      "postive: 153 negative: 447\n",
      "postive: 153 negative: 447\n",
      "postive: 153 negative: 447\n"
     ]
    },
    {
     "name": "stderr",
     "output_type": "stream",
     "text": [
      " 76%|███████▋  | 29/38 [10:44<03:15, 21.77s/it]"
     ]
    },
    {
     "name": "stdout",
     "output_type": "stream",
     "text": [
      "thres:  3724.987 best result:  [np.float64(94.1010101010101)] best_layer:  19 best_accuracy 0.9 linear best_threshold 3.6609496e-10\n",
      "postive: 138 negative: 462\n",
      "postive: 138 negative: 462\n",
      "postive: 138 negative: 462\n",
      "postive: 138 negative: 462\n",
      "postive: 138 negative: 462\n",
      "postive: 138 negative: 462\n",
      "postive: 138 negative: 462\n",
      "postive: 138 negative: 462\n",
      "postive: 138 negative: 462\n",
      "postive: 138 negative: 462\n",
      "postive: 138 negative: 462\n",
      "postive: 138 negative: 462\n",
      "postive: 138 negative: 462\n",
      "postive: 138 negative: 462\n",
      "postive: 138 negative: 462\n",
      "postive: 138 negative: 462\n",
      "postive: 138 negative: 462\n",
      "postive: 138 negative: 462\n",
      "postive: 138 negative: 462\n",
      "postive: 138 negative: 462\n",
      "postive: 138 negative: 462\n",
      "postive: 138 negative: 462\n",
      "postive: 138 negative: 462\n",
      "postive: 138 negative: 462\n",
      "postive: 138 negative: 462\n",
      "postive: 138 negative: 462\n",
      "postive: 138 negative: 462\n",
      "postive: 138 negative: 462\n",
      "postive: 138 negative: 462\n",
      "postive: 138 negative: 462\n",
      "postive: 138 negative: 462\n",
      "postive: 138 negative: 462\n"
     ]
    },
    {
     "name": "stderr",
     "output_type": "stream",
     "text": [
      " 79%|███████▉  | 30/38 [11:07<02:55, 21.94s/it]"
     ]
    },
    {
     "name": "stdout",
     "output_type": "stream",
     "text": [
      "thres:  3800.4846 best result:  [np.float64(94.10101010101009)] best_layer:  19 best_accuracy 0.9 linear best_threshold 6.683576e-10\n",
      "postive: 123 negative: 477\n",
      "postive: 123 negative: 477\n",
      "postive: 123 negative: 477\n",
      "postive: 123 negative: 477\n",
      "postive: 123 negative: 477\n",
      "postive: 123 negative: 477\n",
      "postive: 123 negative: 477\n",
      "postive: 123 negative: 477\n",
      "postive: 123 negative: 477\n",
      "postive: 123 negative: 477\n",
      "postive: 123 negative: 477\n",
      "postive: 123 negative: 477\n",
      "postive: 123 negative: 477\n",
      "postive: 123 negative: 477\n",
      "postive: 123 negative: 477\n",
      "postive: 123 negative: 477\n",
      "postive: 123 negative: 477\n",
      "postive: 123 negative: 477\n",
      "postive: 123 negative: 477\n",
      "postive: 123 negative: 477\n",
      "postive: 123 negative: 477\n",
      "postive: 123 negative: 477\n",
      "postive: 123 negative: 477\n",
      "postive: 123 negative: 477\n",
      "postive: 123 negative: 477\n",
      "postive: 123 negative: 477\n",
      "postive: 123 negative: 477\n",
      "postive: 123 negative: 477\n",
      "postive: 123 negative: 477\n",
      "postive: 123 negative: 477\n",
      "postive: 123 negative: 477\n",
      "postive: 123 negative: 477\n"
     ]
    },
    {
     "name": "stderr",
     "output_type": "stream",
     "text": [
      " 82%|████████▏ | 31/38 [11:28<02:32, 21.72s/it]"
     ]
    },
    {
     "name": "stdout",
     "output_type": "stream",
     "text": [
      "thres:  3880.4045 best result:  [np.float64(94.1010101010101)] best_layer:  20 best_accuracy 0.89 linear best_threshold 1.8207161e-11\n",
      "postive: 107 negative: 493\n",
      "postive: 107 negative: 493\n",
      "postive: 107 negative: 493\n",
      "postive: 107 negative: 493\n",
      "postive: 107 negative: 493\n",
      "postive: 107 negative: 493\n",
      "postive: 107 negative: 493\n",
      "postive: 107 negative: 493\n",
      "postive: 107 negative: 493\n",
      "postive: 107 negative: 493\n",
      "postive: 107 negative: 493\n",
      "postive: 107 negative: 493\n",
      "postive: 107 negative: 493\n",
      "postive: 107 negative: 493\n",
      "postive: 107 negative: 493\n",
      "postive: 107 negative: 493\n",
      "postive: 107 negative: 493\n",
      "postive: 107 negative: 493\n",
      "postive: 107 negative: 493\n",
      "postive: 107 negative: 493\n",
      "postive: 107 negative: 493\n",
      "postive: 107 negative: 493\n",
      "postive: 107 negative: 493\n",
      "postive: 107 negative: 493\n",
      "postive: 107 negative: 493\n",
      "postive: 107 negative: 493\n",
      "postive: 107 negative: 493\n",
      "postive: 107 negative: 493\n",
      "postive: 107 negative: 493\n",
      "postive: 107 negative: 493\n",
      "postive: 107 negative: 493\n",
      "postive: 107 negative: 493\n"
     ]
    },
    {
     "name": "stderr",
     "output_type": "stream",
     "text": [
      " 84%|████████▍ | 32/38 [11:50<02:10, 21.76s/it]"
     ]
    },
    {
     "name": "stdout",
     "output_type": "stream",
     "text": [
      "thres:  3952.5938 best result:  [np.float64(94.46464646464646)] best_layer:  20 best_accuracy 0.89 linear best_threshold 2.5526756e-10\n",
      "postive: 92 negative: 508\n",
      "postive: 92 negative: 508\n",
      "postive: 92 negative: 508\n",
      "postive: 92 negative: 508\n",
      "postive: 92 negative: 508\n",
      "postive: 92 negative: 508\n",
      "postive: 92 negative: 508\n",
      "postive: 92 negative: 508\n",
      "postive: 92 negative: 508\n",
      "postive: 92 negative: 508\n",
      "postive: 92 negative: 508\n",
      "postive: 92 negative: 508\n",
      "postive: 92 negative: 508\n",
      "postive: 92 negative: 508\n",
      "postive: 92 negative: 508\n",
      "postive: 92 negative: 508\n",
      "postive: 92 negative: 508\n",
      "postive: 92 negative: 508\n",
      "postive: 92 negative: 508\n",
      "postive: 92 negative: 508\n",
      "postive: 92 negative: 508\n",
      "postive: 92 negative: 508\n",
      "postive: 92 negative: 508\n",
      "postive: 92 negative: 508\n",
      "postive: 92 negative: 508\n",
      "postive: 92 negative: 508\n",
      "postive: 92 negative: 508\n",
      "postive: 92 negative: 508\n",
      "postive: 92 negative: 508\n",
      "postive: 92 negative: 508\n",
      "postive: 92 negative: 508\n",
      "postive: 92 negative: 508\n"
     ]
    },
    {
     "name": "stderr",
     "output_type": "stream",
     "text": [
      " 87%|████████▋ | 33/38 [12:12<01:48, 21.79s/it]"
     ]
    },
    {
     "name": "stdout",
     "output_type": "stream",
     "text": [
      "thres:  3978.8293 best result:  [np.float64(94.46464646464646)] best_layer:  18 best_accuracy 0.9 linear best_threshold 2.5638804e-09\n",
      "postive: 76 negative: 524\n",
      "postive: 76 negative: 524\n",
      "postive: 76 negative: 524\n",
      "postive: 76 negative: 524\n",
      "postive: 76 negative: 524\n",
      "postive: 76 negative: 524\n",
      "postive: 76 negative: 524\n",
      "postive: 76 negative: 524\n",
      "postive: 76 negative: 524\n",
      "postive: 76 negative: 524\n",
      "postive: 76 negative: 524\n",
      "postive: 76 negative: 524\n"
     ]
    },
    {
     "name": "stderr",
     "output_type": "stream",
     "text": [
      " 87%|████████▋ | 33/38 [12:19<01:52, 22.42s/it]"
     ]
    },
    {
     "name": "stdout",
     "output_type": "stream",
     "text": [
      "postive: 76 negative: 524\n"
     ]
    },
    {
     "name": "stderr",
     "output_type": "stream",
     "text": [
      "\n"
     ]
    },
    {
     "ename": "KeyboardInterrupt",
     "evalue": "",
     "output_type": "error",
     "traceback": [
      "\u001b[0;31m---------------------------------------------------------------------------\u001b[0m",
      "\u001b[0;31mKeyboardInterrupt\u001b[0m                         Traceback (most recent call last)",
      "Cell \u001b[0;32mIn[12], line 25\u001b[0m\n\u001b[1;32m     18\u001b[0m \u001b[38;5;66;03m# gt training, saplma\u001b[39;00m\n\u001b[1;32m     19\u001b[0m \u001b[38;5;66;03m# embed_train = embed_generated_wild[:,layer,:]\u001b[39;00m\n\u001b[1;32m     20\u001b[0m \u001b[38;5;66;03m# label_train = gt_label_wild\u001b[39;00m\n\u001b[1;32m     21\u001b[0m \u001b[38;5;66;03m# gt training, saplma\u001b[39;00m\n\u001b[1;32m     22\u001b[0m \u001b[38;5;28mprint\u001b[39m(\u001b[38;5;124mf\u001b[39m\u001b[38;5;124m'\u001b[39m\u001b[38;5;124mpostive: \u001b[39m\u001b[38;5;132;01m{\u001b[39;00m\u001b[38;5;28msum\u001b[39m(label_train\u001b[38;5;241m==\u001b[39m\u001b[38;5;241m1\u001b[39m)\u001b[38;5;132;01m}\u001b[39;00m\u001b[38;5;124m negative: \u001b[39m\u001b[38;5;132;01m{\u001b[39;00m\u001b[38;5;28msum\u001b[39m(label_train\u001b[38;5;241m==\u001b[39m\u001b[38;5;241m0\u001b[39m)\u001b[38;5;132;01m}\u001b[39;00m\u001b[38;5;124m'\u001b[39m)\n\u001b[1;32m     24\u001b[0m best_acc, final_acc, (\n\u001b[0;32m---> 25\u001b[0m     clf, best_state, best_preds, preds, labels_val), losses_train \u001b[38;5;241m=\u001b[39m \u001b[43mget_linear_acc\u001b[49m\u001b[43m(\u001b[49m\n\u001b[1;32m     26\u001b[0m \u001b[43m    \u001b[49m\u001b[43membed_train\u001b[49m\u001b[43m,\u001b[49m\n\u001b[1;32m     27\u001b[0m \u001b[43m    \u001b[49m\u001b[43mlabel_train\u001b[49m\u001b[43m,\u001b[49m\n\u001b[1;32m     28\u001b[0m \u001b[43m    \u001b[49m\u001b[43membed_train\u001b[49m\u001b[43m,\u001b[49m\n\u001b[1;32m     29\u001b[0m \u001b[43m    \u001b[49m\u001b[43mlabel_train\u001b[49m\u001b[43m,\u001b[49m\n\u001b[1;32m     30\u001b[0m \u001b[43m    \u001b[49m\u001b[38;5;241;43m2\u001b[39;49m\u001b[43m,\u001b[49m\u001b[43m \u001b[49m\u001b[43mepochs\u001b[49m\u001b[38;5;241;43m=\u001b[39;49m\u001b[38;5;241;43m50\u001b[39;49m\u001b[43m,\u001b[49m\n\u001b[1;32m     31\u001b[0m \u001b[43m    \u001b[49m\u001b[43mprint_ret\u001b[49m\u001b[38;5;241;43m=\u001b[39;49m\u001b[38;5;28;43;01mTrue\u001b[39;49;00m\u001b[43m,\u001b[49m\n\u001b[1;32m     32\u001b[0m \u001b[43m    \u001b[49m\u001b[43mbatch_size\u001b[49m\u001b[38;5;241;43m=\u001b[39;49m\u001b[38;5;241;43m512\u001b[39;49m\u001b[43m,\u001b[49m\n\u001b[1;32m     33\u001b[0m \u001b[43m    \u001b[49m\u001b[43mcosine\u001b[49m\u001b[38;5;241;43m=\u001b[39;49m\u001b[38;5;28;43;01mTrue\u001b[39;49;00m\u001b[43m,\u001b[49m\n\u001b[1;32m     34\u001b[0m \u001b[43m    \u001b[49m\u001b[43mnonlinear\u001b[49m\u001b[38;5;241;43m=\u001b[39;49m\u001b[38;5;28;43;01mTrue\u001b[39;49;00m\u001b[43m,\u001b[49m\n\u001b[1;32m     35\u001b[0m \u001b[43m    \u001b[49m\u001b[43mlearning_rate\u001b[49m\u001b[38;5;241;43m=\u001b[39;49m\u001b[38;5;241;43m0.05\u001b[39;49m\u001b[43m,\u001b[49m\n\u001b[1;32m     36\u001b[0m \u001b[43m    \u001b[49m\u001b[43mweight_decay\u001b[49m\u001b[38;5;241;43m=\u001b[39;49m\u001b[38;5;241;43m0.0003\u001b[39;49m\u001b[43m)\u001b[49m\n\u001b[1;32m     38\u001b[0m clf\u001b[38;5;241m.\u001b[39meval()\n\u001b[1;32m     39\u001b[0m output \u001b[38;5;241m=\u001b[39m clf(torch\u001b[38;5;241m.\u001b[39mfrom_numpy(\n\u001b[1;32m     40\u001b[0m     embed_generated_test[:, layer, :])\u001b[38;5;241m.\u001b[39mto(torch\u001b[38;5;241m.\u001b[39mfloat32)\u001b[38;5;241m.\u001b[39mcuda())\n",
      "File \u001b[0;32m/home/linear_probing/linear_probe.py:292\u001b[0m, in \u001b[0;36mget_linear_acc\u001b[0;34m(ftrain, ltrain, ftest, ltest, n_cls, epochs, args, classifier, print_ret, normed, nonlinear, learning_rate, weight_decay, batch_size, cosine, lr_decay_epochs)\u001b[0m\n\u001b[1;32m    289\u001b[0m adjust_learning_rate(opt, optimizer, epoch)\n\u001b[1;32m    291\u001b[0m \u001b[38;5;66;03m# train for one epoch\u001b[39;00m\n\u001b[0;32m--> 292\u001b[0m loss_train, acc \u001b[38;5;241m=\u001b[39m \u001b[43mtrain\u001b[49m\u001b[43m(\u001b[49m\u001b[43mtrain_loader\u001b[49m\u001b[43m,\u001b[49m\u001b[43m \u001b[49m\u001b[43mclassifier\u001b[49m\u001b[43m,\u001b[49m\u001b[43m \u001b[49m\u001b[43mcriterion\u001b[49m\u001b[43m,\u001b[49m\u001b[43m \u001b[49m\u001b[43moptimizer\u001b[49m\u001b[43m,\u001b[49m\u001b[43m \u001b[49m\u001b[43mepoch\u001b[49m\u001b[43m,\u001b[49m\u001b[43m \u001b[49m\u001b[43mprint_freq\u001b[49m\u001b[38;5;241;43m=\u001b[39;49m\u001b[43mopt\u001b[49m\u001b[38;5;241;43m.\u001b[39;49m\u001b[43mprint_freq\u001b[49m\u001b[43m)\u001b[49m\n\u001b[1;32m    294\u001b[0m \u001b[38;5;66;03m# eval for one epoch\u001b[39;00m\n\u001b[1;32m    295\u001b[0m loss, val_acc, preds, labels_out \u001b[38;5;241m=\u001b[39m validate(val_loader, classifier, criterion, print_freq\u001b[38;5;241m=\u001b[39mopt\u001b[38;5;241m.\u001b[39mprint_freq)\n",
      "File \u001b[0;32m/home/linear_probing/linear_probe.py:145\u001b[0m, in \u001b[0;36mtrain\u001b[0;34m(train_loader, classifier, criterion, optimizer, epoch, print_freq)\u001b[0m\n\u001b[1;32m    142\u001b[0m top1 \u001b[38;5;241m=\u001b[39m AverageMeter()\n\u001b[1;32m    144\u001b[0m end \u001b[38;5;241m=\u001b[39m time\u001b[38;5;241m.\u001b[39mtime()\n\u001b[0;32m--> 145\u001b[0m \u001b[38;5;28;01mfor\u001b[39;00m idx, (features, labels) \u001b[38;5;129;01min\u001b[39;00m \u001b[38;5;28menumerate\u001b[39m(train_loader):\n\u001b[1;32m    146\u001b[0m     data_time\u001b[38;5;241m.\u001b[39mupdate(time\u001b[38;5;241m.\u001b[39mtime() \u001b[38;5;241m-\u001b[39m end)\n\u001b[1;32m    148\u001b[0m     features \u001b[38;5;241m=\u001b[39m features\u001b[38;5;241m.\u001b[39mcuda(non_blocking\u001b[38;5;241m=\u001b[39m\u001b[38;5;28;01mTrue\u001b[39;00m)\u001b[38;5;241m.\u001b[39mfloat()\n",
      "File \u001b[0;32m~/miniconda3/envs/dl3.9/lib/python3.9/site-packages/torch/utils/data/dataloader.py:701\u001b[0m, in \u001b[0;36m_BaseDataLoaderIter.__next__\u001b[0;34m(self)\u001b[0m\n\u001b[1;32m    698\u001b[0m \u001b[38;5;28;01mif\u001b[39;00m \u001b[38;5;28mself\u001b[39m\u001b[38;5;241m.\u001b[39m_sampler_iter \u001b[38;5;129;01mis\u001b[39;00m \u001b[38;5;28;01mNone\u001b[39;00m:\n\u001b[1;32m    699\u001b[0m     \u001b[38;5;66;03m# TODO(https://github.com/pytorch/pytorch/issues/76750)\u001b[39;00m\n\u001b[1;32m    700\u001b[0m     \u001b[38;5;28mself\u001b[39m\u001b[38;5;241m.\u001b[39m_reset()  \u001b[38;5;66;03m# type: ignore[call-arg]\u001b[39;00m\n\u001b[0;32m--> 701\u001b[0m data \u001b[38;5;241m=\u001b[39m \u001b[38;5;28;43mself\u001b[39;49m\u001b[38;5;241;43m.\u001b[39;49m\u001b[43m_next_data\u001b[49m\u001b[43m(\u001b[49m\u001b[43m)\u001b[49m\n\u001b[1;32m    702\u001b[0m \u001b[38;5;28mself\u001b[39m\u001b[38;5;241m.\u001b[39m_num_yielded \u001b[38;5;241m+\u001b[39m\u001b[38;5;241m=\u001b[39m \u001b[38;5;241m1\u001b[39m\n\u001b[1;32m    703\u001b[0m \u001b[38;5;28;01mif\u001b[39;00m (\n\u001b[1;32m    704\u001b[0m     \u001b[38;5;28mself\u001b[39m\u001b[38;5;241m.\u001b[39m_dataset_kind \u001b[38;5;241m==\u001b[39m _DatasetKind\u001b[38;5;241m.\u001b[39mIterable\n\u001b[1;32m    705\u001b[0m     \u001b[38;5;129;01mand\u001b[39;00m \u001b[38;5;28mself\u001b[39m\u001b[38;5;241m.\u001b[39m_IterableDataset_len_called \u001b[38;5;129;01mis\u001b[39;00m \u001b[38;5;129;01mnot\u001b[39;00m \u001b[38;5;28;01mNone\u001b[39;00m\n\u001b[1;32m    706\u001b[0m     \u001b[38;5;129;01mand\u001b[39;00m \u001b[38;5;28mself\u001b[39m\u001b[38;5;241m.\u001b[39m_num_yielded \u001b[38;5;241m>\u001b[39m \u001b[38;5;28mself\u001b[39m\u001b[38;5;241m.\u001b[39m_IterableDataset_len_called\n\u001b[1;32m    707\u001b[0m ):\n",
      "File \u001b[0;32m~/miniconda3/envs/dl3.9/lib/python3.9/site-packages/torch/utils/data/dataloader.py:757\u001b[0m, in \u001b[0;36m_SingleProcessDataLoaderIter._next_data\u001b[0;34m(self)\u001b[0m\n\u001b[1;32m    755\u001b[0m \u001b[38;5;28;01mdef\u001b[39;00m \u001b[38;5;21m_next_data\u001b[39m(\u001b[38;5;28mself\u001b[39m):\n\u001b[1;32m    756\u001b[0m     index \u001b[38;5;241m=\u001b[39m \u001b[38;5;28mself\u001b[39m\u001b[38;5;241m.\u001b[39m_next_index()  \u001b[38;5;66;03m# may raise StopIteration\u001b[39;00m\n\u001b[0;32m--> 757\u001b[0m     data \u001b[38;5;241m=\u001b[39m \u001b[38;5;28;43mself\u001b[39;49m\u001b[38;5;241;43m.\u001b[39;49m\u001b[43m_dataset_fetcher\u001b[49m\u001b[38;5;241;43m.\u001b[39;49m\u001b[43mfetch\u001b[49m\u001b[43m(\u001b[49m\u001b[43mindex\u001b[49m\u001b[43m)\u001b[49m  \u001b[38;5;66;03m# may raise StopIteration\u001b[39;00m\n\u001b[1;32m    758\u001b[0m     \u001b[38;5;28;01mif\u001b[39;00m \u001b[38;5;28mself\u001b[39m\u001b[38;5;241m.\u001b[39m_pin_memory:\n\u001b[1;32m    759\u001b[0m         data \u001b[38;5;241m=\u001b[39m _utils\u001b[38;5;241m.\u001b[39mpin_memory\u001b[38;5;241m.\u001b[39mpin_memory(data, \u001b[38;5;28mself\u001b[39m\u001b[38;5;241m.\u001b[39m_pin_memory_device)\n",
      "File \u001b[0;32m~/miniconda3/envs/dl3.9/lib/python3.9/site-packages/torch/utils/data/_utils/fetch.py:55\u001b[0m, in \u001b[0;36m_MapDatasetFetcher.fetch\u001b[0;34m(self, possibly_batched_index)\u001b[0m\n\u001b[1;32m     53\u001b[0m \u001b[38;5;28;01melse\u001b[39;00m:\n\u001b[1;32m     54\u001b[0m     data \u001b[38;5;241m=\u001b[39m \u001b[38;5;28mself\u001b[39m\u001b[38;5;241m.\u001b[39mdataset[possibly_batched_index]\n\u001b[0;32m---> 55\u001b[0m \u001b[38;5;28;01mreturn\u001b[39;00m \u001b[38;5;28;43mself\u001b[39;49m\u001b[38;5;241;43m.\u001b[39;49m\u001b[43mcollate_fn\u001b[49m\u001b[43m(\u001b[49m\u001b[43mdata\u001b[49m\u001b[43m)\u001b[49m\n",
      "File \u001b[0;32m~/miniconda3/envs/dl3.9/lib/python3.9/site-packages/torch/utils/data/_utils/collate.py:398\u001b[0m, in \u001b[0;36mdefault_collate\u001b[0;34m(batch)\u001b[0m\n\u001b[1;32m    337\u001b[0m \u001b[38;5;28;01mdef\u001b[39;00m \u001b[38;5;21mdefault_collate\u001b[39m(batch):\n\u001b[1;32m    338\u001b[0m \u001b[38;5;250m    \u001b[39m\u001b[38;5;124mr\u001b[39m\u001b[38;5;124;03m\"\"\"\u001b[39;00m\n\u001b[1;32m    339\u001b[0m \u001b[38;5;124;03m    Take in a batch of data and put the elements within the batch into a tensor with an additional outer dimension - batch size.\u001b[39;00m\n\u001b[1;32m    340\u001b[0m \n\u001b[0;32m   (...)\u001b[0m\n\u001b[1;32m    396\u001b[0m \u001b[38;5;124;03m        >>> default_collate(batch)  # Handle `CustomType` automatically\u001b[39;00m\n\u001b[1;32m    397\u001b[0m \u001b[38;5;124;03m    \"\"\"\u001b[39;00m\n\u001b[0;32m--> 398\u001b[0m     \u001b[38;5;28;01mreturn\u001b[39;00m \u001b[43mcollate\u001b[49m\u001b[43m(\u001b[49m\u001b[43mbatch\u001b[49m\u001b[43m,\u001b[49m\u001b[43m \u001b[49m\u001b[43mcollate_fn_map\u001b[49m\u001b[38;5;241;43m=\u001b[39;49m\u001b[43mdefault_collate_fn_map\u001b[49m\u001b[43m)\u001b[49m\n",
      "File \u001b[0;32m~/miniconda3/envs/dl3.9/lib/python3.9/site-packages/torch/utils/data/_utils/collate.py:211\u001b[0m, in \u001b[0;36mcollate\u001b[0;34m(batch, collate_fn_map)\u001b[0m\n\u001b[1;32m    208\u001b[0m transposed \u001b[38;5;241m=\u001b[39m \u001b[38;5;28mlist\u001b[39m(\u001b[38;5;28mzip\u001b[39m(\u001b[38;5;241m*\u001b[39mbatch))  \u001b[38;5;66;03m# It may be accessed twice, so we use a list.\u001b[39;00m\n\u001b[1;32m    210\u001b[0m \u001b[38;5;28;01mif\u001b[39;00m \u001b[38;5;28misinstance\u001b[39m(elem, \u001b[38;5;28mtuple\u001b[39m):\n\u001b[0;32m--> 211\u001b[0m     \u001b[38;5;28;01mreturn\u001b[39;00m [\n\u001b[1;32m    212\u001b[0m         collate(samples, collate_fn_map\u001b[38;5;241m=\u001b[39mcollate_fn_map)\n\u001b[1;32m    213\u001b[0m         \u001b[38;5;28;01mfor\u001b[39;00m samples \u001b[38;5;129;01min\u001b[39;00m transposed\n\u001b[1;32m    214\u001b[0m     ]  \u001b[38;5;66;03m# Backwards compatibility.\u001b[39;00m\n\u001b[1;32m    215\u001b[0m \u001b[38;5;28;01melse\u001b[39;00m:\n\u001b[1;32m    216\u001b[0m     \u001b[38;5;28;01mtry\u001b[39;00m:\n",
      "File \u001b[0;32m~/miniconda3/envs/dl3.9/lib/python3.9/site-packages/torch/utils/data/_utils/collate.py:212\u001b[0m, in \u001b[0;36m<listcomp>\u001b[0;34m(.0)\u001b[0m\n\u001b[1;32m    208\u001b[0m transposed \u001b[38;5;241m=\u001b[39m \u001b[38;5;28mlist\u001b[39m(\u001b[38;5;28mzip\u001b[39m(\u001b[38;5;241m*\u001b[39mbatch))  \u001b[38;5;66;03m# It may be accessed twice, so we use a list.\u001b[39;00m\n\u001b[1;32m    210\u001b[0m \u001b[38;5;28;01mif\u001b[39;00m \u001b[38;5;28misinstance\u001b[39m(elem, \u001b[38;5;28mtuple\u001b[39m):\n\u001b[1;32m    211\u001b[0m     \u001b[38;5;28;01mreturn\u001b[39;00m [\n\u001b[0;32m--> 212\u001b[0m         \u001b[43mcollate\u001b[49m\u001b[43m(\u001b[49m\u001b[43msamples\u001b[49m\u001b[43m,\u001b[49m\u001b[43m \u001b[49m\u001b[43mcollate_fn_map\u001b[49m\u001b[38;5;241;43m=\u001b[39;49m\u001b[43mcollate_fn_map\u001b[49m\u001b[43m)\u001b[49m\n\u001b[1;32m    213\u001b[0m         \u001b[38;5;28;01mfor\u001b[39;00m samples \u001b[38;5;129;01min\u001b[39;00m transposed\n\u001b[1;32m    214\u001b[0m     ]  \u001b[38;5;66;03m# Backwards compatibility.\u001b[39;00m\n\u001b[1;32m    215\u001b[0m \u001b[38;5;28;01melse\u001b[39;00m:\n\u001b[1;32m    216\u001b[0m     \u001b[38;5;28;01mtry\u001b[39;00m:\n",
      "File \u001b[0;32m~/miniconda3/envs/dl3.9/lib/python3.9/site-packages/torch/utils/data/_utils/collate.py:155\u001b[0m, in \u001b[0;36mcollate\u001b[0;34m(batch, collate_fn_map)\u001b[0m\n\u001b[1;32m    153\u001b[0m \u001b[38;5;28;01mif\u001b[39;00m collate_fn_map \u001b[38;5;129;01mis\u001b[39;00m \u001b[38;5;129;01mnot\u001b[39;00m \u001b[38;5;28;01mNone\u001b[39;00m:\n\u001b[1;32m    154\u001b[0m     \u001b[38;5;28;01mif\u001b[39;00m elem_type \u001b[38;5;129;01min\u001b[39;00m collate_fn_map:\n\u001b[0;32m--> 155\u001b[0m         \u001b[38;5;28;01mreturn\u001b[39;00m \u001b[43mcollate_fn_map\u001b[49m\u001b[43m[\u001b[49m\u001b[43melem_type\u001b[49m\u001b[43m]\u001b[49m\u001b[43m(\u001b[49m\u001b[43mbatch\u001b[49m\u001b[43m,\u001b[49m\u001b[43m \u001b[49m\u001b[43mcollate_fn_map\u001b[49m\u001b[38;5;241;43m=\u001b[39;49m\u001b[43mcollate_fn_map\u001b[49m\u001b[43m)\u001b[49m\n\u001b[1;32m    157\u001b[0m     \u001b[38;5;28;01mfor\u001b[39;00m collate_type \u001b[38;5;129;01min\u001b[39;00m collate_fn_map:\n\u001b[1;32m    158\u001b[0m         \u001b[38;5;28;01mif\u001b[39;00m \u001b[38;5;28misinstance\u001b[39m(elem, collate_type):\n",
      "File \u001b[0;32m~/miniconda3/envs/dl3.9/lib/python3.9/site-packages/torch/utils/data/_utils/collate.py:285\u001b[0m, in \u001b[0;36mcollate_numpy_array_fn\u001b[0;34m(batch, collate_fn_map)\u001b[0m\n\u001b[1;32m    282\u001b[0m \u001b[38;5;28;01mif\u001b[39;00m np_str_obj_array_pattern\u001b[38;5;241m.\u001b[39msearch(elem\u001b[38;5;241m.\u001b[39mdtype\u001b[38;5;241m.\u001b[39mstr) \u001b[38;5;129;01mis\u001b[39;00m \u001b[38;5;129;01mnot\u001b[39;00m \u001b[38;5;28;01mNone\u001b[39;00m:\n\u001b[1;32m    283\u001b[0m     \u001b[38;5;28;01mraise\u001b[39;00m \u001b[38;5;167;01mTypeError\u001b[39;00m(default_collate_err_msg_format\u001b[38;5;241m.\u001b[39mformat(elem\u001b[38;5;241m.\u001b[39mdtype))\n\u001b[0;32m--> 285\u001b[0m \u001b[38;5;28;01mreturn\u001b[39;00m \u001b[43mcollate\u001b[49m\u001b[43m(\u001b[49m\u001b[43m[\u001b[49m\u001b[43mtorch\u001b[49m\u001b[38;5;241;43m.\u001b[39;49m\u001b[43mas_tensor\u001b[49m\u001b[43m(\u001b[49m\u001b[43mb\u001b[49m\u001b[43m)\u001b[49m\u001b[43m \u001b[49m\u001b[38;5;28;43;01mfor\u001b[39;49;00m\u001b[43m \u001b[49m\u001b[43mb\u001b[49m\u001b[43m \u001b[49m\u001b[38;5;129;43;01min\u001b[39;49;00m\u001b[43m \u001b[49m\u001b[43mbatch\u001b[49m\u001b[43m]\u001b[49m\u001b[43m,\u001b[49m\u001b[43m \u001b[49m\u001b[43mcollate_fn_map\u001b[49m\u001b[38;5;241;43m=\u001b[39;49m\u001b[43mcollate_fn_map\u001b[49m\u001b[43m)\u001b[49m\n",
      "File \u001b[0;32m~/miniconda3/envs/dl3.9/lib/python3.9/site-packages/torch/utils/data/_utils/collate.py:155\u001b[0m, in \u001b[0;36mcollate\u001b[0;34m(batch, collate_fn_map)\u001b[0m\n\u001b[1;32m    153\u001b[0m \u001b[38;5;28;01mif\u001b[39;00m collate_fn_map \u001b[38;5;129;01mis\u001b[39;00m \u001b[38;5;129;01mnot\u001b[39;00m \u001b[38;5;28;01mNone\u001b[39;00m:\n\u001b[1;32m    154\u001b[0m     \u001b[38;5;28;01mif\u001b[39;00m elem_type \u001b[38;5;129;01min\u001b[39;00m collate_fn_map:\n\u001b[0;32m--> 155\u001b[0m         \u001b[38;5;28;01mreturn\u001b[39;00m \u001b[43mcollate_fn_map\u001b[49m\u001b[43m[\u001b[49m\u001b[43melem_type\u001b[49m\u001b[43m]\u001b[49m\u001b[43m(\u001b[49m\u001b[43mbatch\u001b[49m\u001b[43m,\u001b[49m\u001b[43m \u001b[49m\u001b[43mcollate_fn_map\u001b[49m\u001b[38;5;241;43m=\u001b[39;49m\u001b[43mcollate_fn_map\u001b[49m\u001b[43m)\u001b[49m\n\u001b[1;32m    157\u001b[0m     \u001b[38;5;28;01mfor\u001b[39;00m collate_type \u001b[38;5;129;01min\u001b[39;00m collate_fn_map:\n\u001b[1;32m    158\u001b[0m         \u001b[38;5;28;01mif\u001b[39;00m \u001b[38;5;28misinstance\u001b[39m(elem, collate_type):\n",
      "File \u001b[0;32m~/miniconda3/envs/dl3.9/lib/python3.9/site-packages/torch/utils/data/_utils/collate.py:272\u001b[0m, in \u001b[0;36mcollate_tensor_fn\u001b[0;34m(batch, collate_fn_map)\u001b[0m\n\u001b[1;32m    270\u001b[0m     storage \u001b[38;5;241m=\u001b[39m elem\u001b[38;5;241m.\u001b[39m_typed_storage()\u001b[38;5;241m.\u001b[39m_new_shared(numel, device\u001b[38;5;241m=\u001b[39melem\u001b[38;5;241m.\u001b[39mdevice)\n\u001b[1;32m    271\u001b[0m     out \u001b[38;5;241m=\u001b[39m elem\u001b[38;5;241m.\u001b[39mnew(storage)\u001b[38;5;241m.\u001b[39mresize_(\u001b[38;5;28mlen\u001b[39m(batch), \u001b[38;5;241m*\u001b[39m\u001b[38;5;28mlist\u001b[39m(elem\u001b[38;5;241m.\u001b[39msize()))\n\u001b[0;32m--> 272\u001b[0m \u001b[38;5;28;01mreturn\u001b[39;00m \u001b[43mtorch\u001b[49m\u001b[38;5;241;43m.\u001b[39;49m\u001b[43mstack\u001b[49m\u001b[43m(\u001b[49m\u001b[43mbatch\u001b[49m\u001b[43m,\u001b[49m\u001b[43m \u001b[49m\u001b[38;5;241;43m0\u001b[39;49m\u001b[43m,\u001b[49m\u001b[43m \u001b[49m\u001b[43mout\u001b[49m\u001b[38;5;241;43m=\u001b[39;49m\u001b[43mout\u001b[49m\u001b[43m)\u001b[49m\n",
      "\u001b[0;31mKeyboardInterrupt\u001b[0m: "
     ]
    }
   ],
   "source": [
    "thresholds = np.linspace(0, 1, num=40)[1:-1]\n",
    "\n",
    "# graid search\n",
    "auroc_over_thres = []\n",
    "for thres_wild in tqdm(thresholds):\n",
    "    best_auroc = 0\n",
    "    best_accuracy=0\n",
    "    for layer in range(len(embed_generated_wild[0])):\n",
    "        thres_wild_score = np.sort(best_scores)[\n",
    "            int(len(best_scores) * thres_wild)]\n",
    "        true_wild = embed_generated_wild[:, layer,:][best_scores > thres_wild_score]\n",
    "        false_wild = embed_generated_wild[:, layer,:][best_scores <= thres_wild_score]\n",
    "\n",
    "        embed_train = np.concatenate([true_wild, false_wild], 0) # true label: 1; false label:0\n",
    "        label_train = np.concatenate([np.ones(len(true_wild)),\n",
    "                                      np.zeros(len(false_wild))], 0)\n",
    "\n",
    "        # gt training, saplma\n",
    "        # embed_train = embed_generated_wild[:,layer,:]\n",
    "        # label_train = gt_label_wild\n",
    "        # gt training, saplma\n",
    "        print(f'postive: {sum(label_train==1)} negative: {sum(label_train==0)}')\n",
    "\n",
    "        best_acc, final_acc, (\n",
    "            clf, best_state, best_preds, preds, labels_val), losses_train = get_linear_acc(\n",
    "            embed_train,\n",
    "            label_train,\n",
    "            embed_train,\n",
    "            label_train,\n",
    "            2, epochs=50,\n",
    "            print_ret=True,\n",
    "            batch_size=512,\n",
    "            cosine=True,\n",
    "            nonlinear=True,\n",
    "            learning_rate=0.05,\n",
    "            weight_decay=0.0003)\n",
    "\n",
    "        clf.eval()\n",
    "        output = clf(torch.from_numpy(\n",
    "            embed_generated_test[:, layer, :]).to(torch.float32).cuda())\n",
    "        pca_wild_score_binary_cls = torch.sigmoid(output)\n",
    "\n",
    "        pca_wild_score_binary_cls = pca_wild_score_binary_cls.cpu().data.numpy()\n",
    "\n",
    "        #pred_labels=(pca_wild_score_binary_cls >= 0.5).astype(int)\n",
    "        \n",
    "        #pred_acc=accuracy_score(gt_label_test,pred_labels)\n",
    "\n",
    "        if np.isnan(pca_wild_score_binary_cls).sum() > 0:\n",
    "            breakpoint()\n",
    "        measures = get_measures(pca_wild_score_binary_cls[gt_label_test == 1],\n",
    "                                pca_wild_score_binary_cls[gt_label_test == 0], plot=False)\n",
    "        \n",
    "        #auroc=roc_auc_score(gt_label_test,pca_wild_score_binary_cls)\n",
    "        #if auroc> best_auroc:\n",
    "        #    best_auroc=auroc\n",
    "        #    best_accuracy=pred_acc\n",
    "        #    best_layer=layer\n",
    "\n",
    "        #if pred_acc> best_accuracy:\n",
    "        #    best_accuracy=pred_acc\n",
    "        \n",
    "        \n",
    "        if measures[0] > best_auroc:\n",
    "            best_auroc = measures[0]\n",
    "            best_result = [100 * measures[0]]\n",
    "\n",
    "            fpr, tpr, thresholds = roc_curve(gt_label_test,pca_wild_score_binary_cls)\n",
    "\n",
    "            # Calculate Youden's J statistic\n",
    "            youdens_j = tpr - fpr\n",
    "            # Find the index of the maximum J statistic \n",
    "            best_index = np.argmax(youdens_j) \n",
    "            best_threshold = thresholds[best_index]\n",
    "\n",
    "            pred_labels=(pca_wild_score_binary_cls >= best_threshold).astype(int)\n",
    "            best_accuracy=accuracy_score(gt_label_test,pred_labels)\n",
    "\n",
    "            best_layer = layer\n",
    "\n",
    "\n",
    "    print('thres: ', np.sort(best_scores)[\n",
    "            int(len(best_scores) * thres_wild)], 'best result: ',\n",
    "          best_result, 'best_layer: ', best_layer,'best_accuracy',best_accuracy,'linear best_threshold',best_threshold)"
   ]
  }
 ],
 "metadata": {
  "kernelspec": {
   "display_name": "dl3.9",
   "language": "python",
   "name": "python3"
  },
  "language_info": {
   "codemirror_mode": {
    "name": "ipython",
    "version": 3
   },
   "file_extension": ".py",
   "mimetype": "text/x-python",
   "name": "python",
   "nbconvert_exporter": "python",
   "pygments_lexer": "ipython3",
   "version": "3.9.20"
  }
 },
 "nbformat": 4,
 "nbformat_minor": 2
}
