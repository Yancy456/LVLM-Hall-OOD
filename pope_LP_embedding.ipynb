{
 "cells": [
  {
   "cell_type": "code",
   "execution_count": 1,
   "metadata": {},
   "outputs": [],
   "source": [
    "import os\n",
    "import torch\n",
    "import numpy as np\n",
    "from glob import glob\n",
    "from tqdm.auto import tqdm\n",
    "from sklearn.linear_model import LogisticRegression\n",
    "import pandas as pd\n",
    "from utils.store_data import ReadData\n",
    "import numpy as np\n",
    "import torch\n",
    "from utils.arguments import Arguments\n",
    "from tqdm import tqdm\n",
    "from sklearn.decomposition import PCA\n",
    "from linear_probe import get_linear_acc\n",
    "import random\n",
    "import os\n",
    "from sklearn.metrics import roc_auc_score,accuracy_score,roc_curve"
   ]
  },
  {
   "cell_type": "code",
   "execution_count": 2,
   "metadata": {},
   "outputs": [],
   "source": [
    "data_reader=ReadData('/root/autodl-tmp/hallscope/pope/popular/train')\n",
    "data=data_reader.read_all()\n",
    "random.shuffle(data)"
   ]
  },
  {
   "cell_type": "code",
   "execution_count": 3,
   "metadata": {},
   "outputs": [],
   "source": [
    "df=pd.DataFrame(data)"
   ]
  },
  {
   "cell_type": "code",
   "execution_count": 4,
   "metadata": {},
   "outputs": [
    {
     "data": {
      "text/html": [
       "<div>\n",
       "<style scoped>\n",
       "    .dataframe tbody tr th:only-of-type {\n",
       "        vertical-align: middle;\n",
       "    }\n",
       "\n",
       "    .dataframe tbody tr th {\n",
       "        vertical-align: top;\n",
       "    }\n",
       "\n",
       "    .dataframe thead th {\n",
       "        text-align: right;\n",
       "    }\n",
       "</style>\n",
       "<table border=\"1\" class=\"dataframe\">\n",
       "  <thead>\n",
       "    <tr style=\"text-align: right;\">\n",
       "      <th></th>\n",
       "      <th>img_path</th>\n",
       "      <th>question</th>\n",
       "      <th>label</th>\n",
       "      <th>question_id</th>\n",
       "      <th>category</th>\n",
       "      <th>most_likely</th>\n",
       "      <th>responses</th>\n",
       "    </tr>\n",
       "  </thead>\n",
       "  <tbody>\n",
       "    <tr>\n",
       "      <th>0</th>\n",
       "      <td>[/root/autodl-fs/coco_images/train/COCO_train2...</td>\n",
       "      <td>[Is there a snowboard in the image?\\nAnswer th...</td>\n",
       "      <td>[tensor(1), tensor(0), tensor(1), tensor(0), t...</td>\n",
       "      <td>[tensor(4553), tensor(4554), tensor(4555), ten...</td>\n",
       "      <td>[popular, popular, popular, popular, popular, ...</td>\n",
       "      <td>{'embedding': [[[ 0.00389099  0.00149536  0.00...</td>\n",
       "      <td>None</td>\n",
       "    </tr>\n",
       "    <tr>\n",
       "      <th>1</th>\n",
       "      <td>[/root/autodl-fs/coco_images/train/COCO_train2...</td>\n",
       "      <td>[Is there an umbrella in the image?\\nAnswer th...</td>\n",
       "      <td>[tensor(1), tensor(0), tensor(1), tensor(0), t...</td>\n",
       "      <td>[tensor(6205), tensor(6206), tensor(6207), ten...</td>\n",
       "      <td>[popular, popular, popular, popular, popular, ...</td>\n",
       "      <td>{'embedding': [[[ 0.00389099  0.00149536  0.00...</td>\n",
       "      <td>None</td>\n",
       "    </tr>\n",
       "    <tr>\n",
       "      <th>2</th>\n",
       "      <td>[/root/autodl-fs/coco_images/train/COCO_train2...</td>\n",
       "      <td>[Is there a person in the image?\\nAnswer the q...</td>\n",
       "      <td>[tensor(1), tensor(0), tensor(1), tensor(0), t...</td>\n",
       "      <td>[tensor(10937), tensor(10938), tensor(10939), ...</td>\n",
       "      <td>[popular, popular, popular, popular, popular, ...</td>\n",
       "      <td>{'embedding': [[[ 0.00389099  0.00149536  0.00...</td>\n",
       "      <td>None</td>\n",
       "    </tr>\n",
       "    <tr>\n",
       "      <th>3</th>\n",
       "      <td>[/root/autodl-fs/coco_images/train/COCO_train2...</td>\n",
       "      <td>[Is there a person in the image?\\nAnswer the q...</td>\n",
       "      <td>[tensor(1), tensor(0), tensor(1), tensor(0), t...</td>\n",
       "      <td>[tensor(12189), tensor(12190), tensor(12191), ...</td>\n",
       "      <td>[popular, popular, popular, popular, popular, ...</td>\n",
       "      <td>{'embedding': [[[ 0.00389099  0.00149536  0.00...</td>\n",
       "      <td>None</td>\n",
       "    </tr>\n",
       "    <tr>\n",
       "      <th>4</th>\n",
       "      <td>[/root/autodl-fs/coco_images/train/COCO_train2...</td>\n",
       "      <td>[Is there a car in the image?\\nAnswer the ques...</td>\n",
       "      <td>[tensor(1), tensor(0), tensor(1), tensor(0), t...</td>\n",
       "      <td>[tensor(9487), tensor(9488), tensor(9489), ten...</td>\n",
       "      <td>[popular, popular, popular, popular, popular, ...</td>\n",
       "      <td>{'embedding': [[[ 0.00389099  0.00149536  0.00...</td>\n",
       "      <td>None</td>\n",
       "    </tr>\n",
       "  </tbody>\n",
       "</table>\n",
       "</div>"
      ],
      "text/plain": [
       "                                            img_path  \\\n",
       "0  [/root/autodl-fs/coco_images/train/COCO_train2...   \n",
       "1  [/root/autodl-fs/coco_images/train/COCO_train2...   \n",
       "2  [/root/autodl-fs/coco_images/train/COCO_train2...   \n",
       "3  [/root/autodl-fs/coco_images/train/COCO_train2...   \n",
       "4  [/root/autodl-fs/coco_images/train/COCO_train2...   \n",
       "\n",
       "                                            question  \\\n",
       "0  [Is there a snowboard in the image?\\nAnswer th...   \n",
       "1  [Is there an umbrella in the image?\\nAnswer th...   \n",
       "2  [Is there a person in the image?\\nAnswer the q...   \n",
       "3  [Is there a person in the image?\\nAnswer the q...   \n",
       "4  [Is there a car in the image?\\nAnswer the ques...   \n",
       "\n",
       "                                               label  \\\n",
       "0  [tensor(1), tensor(0), tensor(1), tensor(0), t...   \n",
       "1  [tensor(1), tensor(0), tensor(1), tensor(0), t...   \n",
       "2  [tensor(1), tensor(0), tensor(1), tensor(0), t...   \n",
       "3  [tensor(1), tensor(0), tensor(1), tensor(0), t...   \n",
       "4  [tensor(1), tensor(0), tensor(1), tensor(0), t...   \n",
       "\n",
       "                                         question_id  \\\n",
       "0  [tensor(4553), tensor(4554), tensor(4555), ten...   \n",
       "1  [tensor(6205), tensor(6206), tensor(6207), ten...   \n",
       "2  [tensor(10937), tensor(10938), tensor(10939), ...   \n",
       "3  [tensor(12189), tensor(12190), tensor(12191), ...   \n",
       "4  [tensor(9487), tensor(9488), tensor(9489), ten...   \n",
       "\n",
       "                                            category  \\\n",
       "0  [popular, popular, popular, popular, popular, ...   \n",
       "1  [popular, popular, popular, popular, popular, ...   \n",
       "2  [popular, popular, popular, popular, popular, ...   \n",
       "3  [popular, popular, popular, popular, popular, ...   \n",
       "4  [popular, popular, popular, popular, popular, ...   \n",
       "\n",
       "                                         most_likely responses  \n",
       "0  {'embedding': [[[ 0.00389099  0.00149536  0.00...      None  \n",
       "1  {'embedding': [[[ 0.00389099  0.00149536  0.00...      None  \n",
       "2  {'embedding': [[[ 0.00389099  0.00149536  0.00...      None  \n",
       "3  {'embedding': [[[ 0.00389099  0.00149536  0.00...      None  \n",
       "4  {'embedding': [[[ 0.00389099  0.00149536  0.00...      None  "
      ]
     },
     "execution_count": 4,
     "metadata": {},
     "output_type": "execute_result"
    }
   ],
   "source": [
    "df.head()"
   ]
  },
  {
   "cell_type": "code",
   "execution_count": 5,
   "metadata": {},
   "outputs": [],
   "source": [
    "embeddings=df['most_likely'].apply(lambda x: x['embedding']).to_list()"
   ]
  },
  {
   "cell_type": "code",
   "execution_count": 6,
   "metadata": {},
   "outputs": [],
   "source": [
    "embeddings=np.concatenate(embeddings,axis=0)"
   ]
  },
  {
   "cell_type": "code",
   "execution_count": 7,
   "metadata": {},
   "outputs": [
    {
     "data": {
      "text/plain": [
       "(13624, 33, 4096)"
      ]
     },
     "execution_count": 7,
     "metadata": {},
     "output_type": "execute_result"
    }
   ],
   "source": [
    "embeddings.shape"
   ]
  },
  {
   "cell_type": "code",
   "execution_count": 8,
   "metadata": {},
   "outputs": [],
   "source": [
    "gt_label=df['label'].to_list()\n",
    "gt_label=np.concatenate(gt_label,axis=0)"
   ]
  },
  {
   "cell_type": "code",
   "execution_count": 9,
   "metadata": {},
   "outputs": [
    {
     "data": {
      "text/plain": [
       "(13624,)"
      ]
     },
     "execution_count": 9,
     "metadata": {},
     "output_type": "execute_result"
    }
   ],
   "source": [
    "gt_label.shape"
   ]
  },
  {
   "cell_type": "code",
   "execution_count": 10,
   "metadata": {},
   "outputs": [],
   "source": [
    "responses=df['most_likely'].apply(lambda x: x['response']).to_list()\n",
    "resps=[]\n",
    "for x in responses:\n",
    "    resps+=x"
   ]
  },
  {
   "cell_type": "code",
   "execution_count": 11,
   "metadata": {},
   "outputs": [],
   "source": [
    "is_correct=[]\n",
    "for i,x in enumerate(resps):\n",
    "    if x.lower()=='no' and gt_label[i]==0:\n",
    "        is_correct.append(1)\n",
    "    elif x.lower()=='yes' and gt_label[i]==1:\n",
    "        is_correct.append(1)\n",
    "    else:\n",
    "        is_correct.append(0)\n",
    "is_correct=np.array(is_correct)"
   ]
  },
  {
   "cell_type": "code",
   "execution_count": 12,
   "metadata": {},
   "outputs": [
    {
     "data": {
      "text/plain": [
       "(13624,)"
      ]
     },
     "execution_count": 12,
     "metadata": {},
     "output_type": "execute_result"
    }
   ],
   "source": [
    "is_correct.shape"
   ]
  },
  {
   "cell_type": "code",
   "execution_count": 13,
   "metadata": {},
   "outputs": [
    {
     "name": "stdout",
     "output_type": "stream",
     "text": [
      "There are 13624 responses. 11850 answer correctly and 1774 answer wrongly\n"
     ]
    }
   ],
   "source": [
    "print(f'There are {len(is_correct)} responses. {sum(is_correct==1)} answer correctly and {sum(is_correct==0)} answer wrongly')"
   ]
  },
  {
   "cell_type": "code",
   "execution_count": null,
   "metadata": {},
   "outputs": [
    {
     "name": "stdout",
     "output_type": "stream",
     "text": [
      "trainset length:10899\n",
      "testset length:2725\n",
      "trainset postive: 9450 negative: 1449\n",
      "testset postive: 2400 negative: 325\n"
     ]
    }
   ],
   "source": [
    "length=len(is_correct)\n",
    "train_rate=0.8\n",
    "\n",
    "all_indices = np.random.permutation(length)\n",
    "train_idxs = all_indices[:int(\n",
    "    train_rate * length)]  # trainset and validation index\n",
    "\n",
    "test_idxs=all_indices[int(\n",
    "    train_rate * length):]  #test index\n",
    "\n",
    "\n",
    "'''get testset, wildset and valset. The valset is used for determining the hype-parameters'''\n",
    "y_train = is_correct[train_idxs]\n",
    "y_test = is_correct[test_idxs]\n",
    "\n",
    "\n",
    "print(f'trainset length:{len(y_train)}')\n",
    "print(f'testset length:{len(y_test)}')\n",
    "print(f'trainset postive: {sum(y_train==1)} negative: {sum(y_train==0)}')\n",
    "print(\n",
    "    f'testset postive: {sum(y_test==1)} negative: {sum(y_test==0)}')"
   ]
  },
  {
   "cell_type": "code",
   "execution_count": 15,
   "metadata": {},
   "outputs": [
    {
     "data": {
      "text/plain": [
       "(13624, 33, 4096)"
      ]
     },
     "execution_count": 15,
     "metadata": {},
     "output_type": "execute_result"
    }
   ],
   "source": [
    "all_embeddings = embeddings\n",
    "all_embeddings.shape"
   ]
  },
  {
   "cell_type": "code",
   "execution_count": 16,
   "metadata": {},
   "outputs": [],
   "source": [
    "embedding_train = all_embeddings[train_idxs]\n",
    "embedding_test = all_embeddings[test_idxs]"
   ]
  },
  {
   "cell_type": "code",
   "execution_count": 17,
   "metadata": {},
   "outputs": [],
   "source": [
    "best_layer=20"
   ]
  },
  {
   "cell_type": "markdown",
   "metadata": {},
   "source": [
    "Train Linear Prob to Get Better Results"
   ]
  },
  {
   "cell_type": "code",
   "execution_count": 18,
   "metadata": {},
   "outputs": [],
   "source": [
    "X_train=embedding_train[:, best_layer,:]\n",
    "y_train=y_train\n",
    "\n",
    "X_test=embedding_test[:, best_layer,:]\n",
    "y_test=y_test"
   ]
  },
  {
   "cell_type": "code",
   "execution_count": 19,
   "metadata": {},
   "outputs": [],
   "source": [
    "best_acc, final_acc, (\n",
    "            clf, best_state, best_preds, preds, labels_val), losses_train = get_linear_acc(\n",
    "            X_train,\n",
    "            y_train,\n",
    "           X_train,\n",
    "            y_train,\n",
    "            2, epochs=50,\n",
    "            print_ret=True,\n",
    "            batch_size=512,\n",
    "            cosine=True,\n",
    "            nonlinear=True,\n",
    "            learning_rate=0.05,\n",
    "            weight_decay=0.0003)"
   ]
  },
  {
   "cell_type": "code",
   "execution_count": 20,
   "metadata": {},
   "outputs": [
    {
     "name": "stdout",
     "output_type": "stream",
     "text": [
      "test set acc: 0.9394495412844037 AUROC:0.9496269230769231\n"
     ]
    }
   ],
   "source": [
    "clf.eval()\n",
    "output = clf(torch.from_numpy(X_test).to(torch.float32).cuda())\n",
    "scores_test = torch.sigmoid(output).cpu().data.numpy()\n",
    "pred_test=scores_test>0.5\n",
    "print(f'test set acc: {accuracy_score(y_test,pred_test)} AUROC:{roc_auc_score(y_test,scores_test)}')"
   ]
  }
 ],
 "metadata": {
  "kernelspec": {
   "display_name": "dl3.9",
   "language": "python",
   "name": "python3"
  },
  "language_info": {
   "codemirror_mode": {
    "name": "ipython",
    "version": 3
   },
   "file_extension": ".py",
   "mimetype": "text/x-python",
   "name": "python",
   "nbconvert_exporter": "python",
   "pygments_lexer": "ipython3",
   "version": "3.9.20"
  }
 },
 "nbformat": 4,
 "nbformat_minor": 2
}
