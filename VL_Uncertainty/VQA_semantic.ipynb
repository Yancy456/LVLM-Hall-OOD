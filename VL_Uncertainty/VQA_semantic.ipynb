{
 "cells": [
  {
   "cell_type": "code",
   "execution_count": 2,
   "metadata": {},
   "outputs": [
    {
     "name": "stdout",
     "output_type": "stream",
     "text": [
      "The autoreload extension is already loaded. To reload it, use:\n",
      "  %reload_ext autoreload\n"
     ]
    }
   ],
   "source": [
    "%load_ext autoreload\n",
    "%autoreload 2\n",
    "\n",
    "from tqdm.auto import tqdm\n",
    "import pandas as pd\n",
    "import numpy as np\n",
    "from sklearn.metrics import roc_auc_score,accuracy_score,roc_curve\n",
    "from answer_judge.vqaEval import VQAEval\n",
    "import json"
   ]
  },
  {
   "cell_type": "code",
   "execution_count": 5,
   "metadata": {},
   "outputs": [],
   "source": [
    "with open('/home/hallscope/VL_Uncertainty/exp/log_2025_01_20_20_47_38_gen.json', 'r') as file: \n",
    "    data = json.load(file)"
   ]
  },
  {
   "cell_type": "code",
   "execution_count": 6,
   "metadata": {},
   "outputs": [],
   "source": [
    "df=pd.DataFrame(data)\n",
    "df = df.drop(columns=['args','begin_time_str','Total samples','end_time_str'])"
   ]
  },
  {
   "cell_type": "code",
   "execution_count": 7,
   "metadata": {},
   "outputs": [
    {
     "data": {
      "text/html": [
       "<div>\n",
       "<style scoped>\n",
       "    .dataframe tbody tr th:only-of-type {\n",
       "        vertical-align: middle;\n",
       "    }\n",
       "\n",
       "    .dataframe tbody tr th {\n",
       "        vertical-align: top;\n",
       "    }\n",
       "\n",
       "    .dataframe thead th {\n",
       "        text-align: right;\n",
       "    }\n",
       "</style>\n",
       "<table border=\"1\" class=\"dataframe\">\n",
       "  <thead>\n",
       "    <tr style=\"text-align: right;\">\n",
       "      <th></th>\n",
       "      <th>0</th>\n",
       "      <th>1</th>\n",
       "      <th>2</th>\n",
       "      <th>3</th>\n",
       "      <th>4</th>\n",
       "      <th>5</th>\n",
       "      <th>6</th>\n",
       "      <th>7</th>\n",
       "      <th>8</th>\n",
       "      <th>9</th>\n",
       "      <th>...</th>\n",
       "      <th>990</th>\n",
       "      <th>991</th>\n",
       "      <th>992</th>\n",
       "      <th>993</th>\n",
       "      <th>994</th>\n",
       "      <th>995</th>\n",
       "      <th>996</th>\n",
       "      <th>997</th>\n",
       "      <th>998</th>\n",
       "      <th>999</th>\n",
       "    </tr>\n",
       "  </thead>\n",
       "  <tbody>\n",
       "    <tr>\n",
       "      <th>question</th>\n",
       "      <td>What is this photo taken looking through?\\nAns...</td>\n",
       "      <td>What position is this man playing?\\nAnswer the...</td>\n",
       "      <td>What color is the players shirt?\\nAnswer the q...</td>\n",
       "      <td>Is this man a professional baseball player?\\nA...</td>\n",
       "      <td>What color is the snow?\\nAnswer the question u...</td>\n",
       "      <td>What is the person doing?\\nAnswer the question...</td>\n",
       "      <td>What color is the persons headwear?\\nAnswer th...</td>\n",
       "      <td>What is in the person's hand?\\nAnswer the ques...</td>\n",
       "      <td>Is the dog waiting?\\nAnswer the question using...</td>\n",
       "      <td>Is the dog looking at a tennis ball or frisbee...</td>\n",
       "      <td>...</td>\n",
       "      <td>What is cast?\\nAnswer the question using a sin...</td>\n",
       "      <td>What is on top of the skis?\\nAnswer the questi...</td>\n",
       "      <td>What is attached to the person's feet?\\nAnswer...</td>\n",
       "      <td>Was this picture taken at night?\\nAnswer the q...</td>\n",
       "      <td>Is the man running?\\nAnswer the question using...</td>\n",
       "      <td>What color is the man's Hat?\\nAnswer the quest...</td>\n",
       "      <td>Is the Frisbee moving left to right?\\nAnswer t...</td>\n",
       "      <td>Was this photo taken at a skatepark?\\nAnswer t...</td>\n",
       "      <td>Is the man trying to catch a Frisbee?\\nAnswer ...</td>\n",
       "      <td>What color is the man's shirt?\\nAnswer the que...</td>\n",
       "    </tr>\n",
       "    <tr>\n",
       "      <th>gt_ans</th>\n",
       "      <td>[{'answer': 'net', 'answer_confidence': 'maybe...</td>\n",
       "      <td>[{'answer': 'pitcher', 'answer_confidence': 'y...</td>\n",
       "      <td>[{'answer': 'orange', 'answer_confidence': 'ye...</td>\n",
       "      <td>[{'answer': 'yes', 'answer_confidence': 'yes',...</td>\n",
       "      <td>[{'answer': 'white', 'answer_confidence': 'yes...</td>\n",
       "      <td>[{'answer': 'skiing', 'answer_confidence': 'ye...</td>\n",
       "      <td>[{'answer': 'red', 'answer_confidence': 'yes',...</td>\n",
       "      <td>[{'answer': 'frisbee', 'answer_confidence': 'y...</td>\n",
       "      <td>[{'answer': 'yes', 'answer_confidence': 'yes',...</td>\n",
       "      <td>[{'answer': 'frisbee', 'answer_confidence': 'y...</td>\n",
       "      <td>...</td>\n",
       "      <td>[{'answer': 'ski imprint', 'answer_confidence'...</td>\n",
       "      <td>[{'answer': 'snow', 'answer_confidence': 'yes'...</td>\n",
       "      <td>[{'answer': 'skis', 'answer_confidence': 'yes'...</td>\n",
       "      <td>[{'answer': 'yes', 'answer_confidence': 'maybe...</td>\n",
       "      <td>[{'answer': 'no', 'answer_confidence': 'yes', ...</td>\n",
       "      <td>[{'answer': 'brown', 'answer_confidence': 'yes...</td>\n",
       "      <td>[{'answer': 'right', 'answer_confidence': 'may...</td>\n",
       "      <td>[{'answer': 'no', 'answer_confidence': 'yes', ...</td>\n",
       "      <td>[{'answer': 'yes', 'answer_confidence': 'yes',...</td>\n",
       "      <td>[{'answer': 'blue', 'answer_confidence': 'yes'...</td>\n",
       "    </tr>\n",
       "    <tr>\n",
       "      <th>flag_sample_valid</th>\n",
       "      <td>True</td>\n",
       "      <td>True</td>\n",
       "      <td>True</td>\n",
       "      <td>True</td>\n",
       "      <td>True</td>\n",
       "      <td>True</td>\n",
       "      <td>True</td>\n",
       "      <td>True</td>\n",
       "      <td>True</td>\n",
       "      <td>True</td>\n",
       "      <td>...</td>\n",
       "      <td>True</td>\n",
       "      <td>True</td>\n",
       "      <td>True</td>\n",
       "      <td>True</td>\n",
       "      <td>True</td>\n",
       "      <td>True</td>\n",
       "      <td>True</td>\n",
       "      <td>True</td>\n",
       "      <td>True</td>\n",
       "      <td>True</td>\n",
       "    </tr>\n",
       "    <tr>\n",
       "      <th>ans</th>\n",
       "      <td>net</td>\n",
       "      <td>pitcher</td>\n",
       "      <td>orange</td>\n",
       "      <td>yes</td>\n",
       "      <td>white</td>\n",
       "      <td>skiing</td>\n",
       "      <td>red</td>\n",
       "      <td>Frisbee</td>\n",
       "      <td>yes</td>\n",
       "      <td>frisbee</td>\n",
       "      <td>...</td>\n",
       "      <td>shadow</td>\n",
       "      <td>snow</td>\n",
       "      <td>skis</td>\n",
       "      <td>yes</td>\n",
       "      <td>no</td>\n",
       "      <td>Black</td>\n",
       "      <td>right</td>\n",
       "      <td>no</td>\n",
       "      <td>yes</td>\n",
       "      <td>blue</td>\n",
       "    </tr>\n",
       "    <tr>\n",
       "      <th>perturbed_question_list</th>\n",
       "      <td>[What is the perspective of this photo?\\nAnswe...</td>\n",
       "      <td>[\"What is the position of this man?\"\\nAnswer t...</td>\n",
       "      <td>[What color does the player's shirt have?\\nAns...</td>\n",
       "      <td>[Is he a professional baseball player?\\nAnswer...</td>\n",
       "      <td>[\"What color is the snow?\"\\nAnswer the questio...</td>\n",
       "      <td>[\"What activity is the individual engaged in?\"...</td>\n",
       "      <td>[\"What color is the person's headgear?\"\\nAnswe...</td>\n",
       "      <td>[\"What object is being held by the individual?...</td>\n",
       "      <td>[Is the dog anticipating something?\\nAnswer th...</td>\n",
       "      <td>[What is the dog looking at - a tennis ball or...</td>\n",
       "      <td>...</td>\n",
       "      <td>[Who is cast?\\nAnswer the question using a sin...</td>\n",
       "      <td>[\"What is placed above the skis?\"\\nAnswer the ...</td>\n",
       "      <td>[\"What do they wear on their feet?\"\\nAnswer th...</td>\n",
       "      <td>[Did this photo capture the scene during night...</td>\n",
       "      <td>[Is the man in motion?\\nAnswer the question us...</td>\n",
       "      <td>[\"What color is the man's hat?\"\\nAnswer the qu...</td>\n",
       "      <td>[Is the Frisbee traveling from right to left?\\...</td>\n",
       "      <td>[Did this photo capture a scene from a skatepa...</td>\n",
       "      <td>[Is the man attempting to catch a Frisbee?\\nAn...</td>\n",
       "      <td>[\"What color is the man wearing on his shirt?\"...</td>\n",
       "    </tr>\n",
       "  </tbody>\n",
       "</table>\n",
       "<p>5 rows × 1000 columns</p>\n",
       "</div>"
      ],
      "text/plain": [
       "                                                                         0  \\\n",
       "question                 What is this photo taken looking through?\\nAns...   \n",
       "gt_ans                   [{'answer': 'net', 'answer_confidence': 'maybe...   \n",
       "flag_sample_valid                                                     True   \n",
       "ans                                                                    net   \n",
       "perturbed_question_list  [What is the perspective of this photo?\\nAnswe...   \n",
       "\n",
       "                                                                         1  \\\n",
       "question                 What position is this man playing?\\nAnswer the...   \n",
       "gt_ans                   [{'answer': 'pitcher', 'answer_confidence': 'y...   \n",
       "flag_sample_valid                                                     True   \n",
       "ans                                                                pitcher   \n",
       "perturbed_question_list  [\"What is the position of this man?\"\\nAnswer t...   \n",
       "\n",
       "                                                                         2  \\\n",
       "question                 What color is the players shirt?\\nAnswer the q...   \n",
       "gt_ans                   [{'answer': 'orange', 'answer_confidence': 'ye...   \n",
       "flag_sample_valid                                                     True   \n",
       "ans                                                                 orange   \n",
       "perturbed_question_list  [What color does the player's shirt have?\\nAns...   \n",
       "\n",
       "                                                                         3  \\\n",
       "question                 Is this man a professional baseball player?\\nA...   \n",
       "gt_ans                   [{'answer': 'yes', 'answer_confidence': 'yes',...   \n",
       "flag_sample_valid                                                     True   \n",
       "ans                                                                    yes   \n",
       "perturbed_question_list  [Is he a professional baseball player?\\nAnswer...   \n",
       "\n",
       "                                                                         4  \\\n",
       "question                 What color is the snow?\\nAnswer the question u...   \n",
       "gt_ans                   [{'answer': 'white', 'answer_confidence': 'yes...   \n",
       "flag_sample_valid                                                     True   \n",
       "ans                                                                  white   \n",
       "perturbed_question_list  [\"What color is the snow?\"\\nAnswer the questio...   \n",
       "\n",
       "                                                                         5  \\\n",
       "question                 What is the person doing?\\nAnswer the question...   \n",
       "gt_ans                   [{'answer': 'skiing', 'answer_confidence': 'ye...   \n",
       "flag_sample_valid                                                     True   \n",
       "ans                                                                 skiing   \n",
       "perturbed_question_list  [\"What activity is the individual engaged in?\"...   \n",
       "\n",
       "                                                                         6  \\\n",
       "question                 What color is the persons headwear?\\nAnswer th...   \n",
       "gt_ans                   [{'answer': 'red', 'answer_confidence': 'yes',...   \n",
       "flag_sample_valid                                                     True   \n",
       "ans                                                                    red   \n",
       "perturbed_question_list  [\"What color is the person's headgear?\"\\nAnswe...   \n",
       "\n",
       "                                                                         7  \\\n",
       "question                 What is in the person's hand?\\nAnswer the ques...   \n",
       "gt_ans                   [{'answer': 'frisbee', 'answer_confidence': 'y...   \n",
       "flag_sample_valid                                                     True   \n",
       "ans                                                                Frisbee   \n",
       "perturbed_question_list  [\"What object is being held by the individual?...   \n",
       "\n",
       "                                                                         8  \\\n",
       "question                 Is the dog waiting?\\nAnswer the question using...   \n",
       "gt_ans                   [{'answer': 'yes', 'answer_confidence': 'yes',...   \n",
       "flag_sample_valid                                                     True   \n",
       "ans                                                                    yes   \n",
       "perturbed_question_list  [Is the dog anticipating something?\\nAnswer th...   \n",
       "\n",
       "                                                                         9  \\\n",
       "question                 Is the dog looking at a tennis ball or frisbee...   \n",
       "gt_ans                   [{'answer': 'frisbee', 'answer_confidence': 'y...   \n",
       "flag_sample_valid                                                     True   \n",
       "ans                                                                frisbee   \n",
       "perturbed_question_list  [What is the dog looking at - a tennis ball or...   \n",
       "\n",
       "                         ...  \\\n",
       "question                 ...   \n",
       "gt_ans                   ...   \n",
       "flag_sample_valid        ...   \n",
       "ans                      ...   \n",
       "perturbed_question_list  ...   \n",
       "\n",
       "                                                                       990  \\\n",
       "question                 What is cast?\\nAnswer the question using a sin...   \n",
       "gt_ans                   [{'answer': 'ski imprint', 'answer_confidence'...   \n",
       "flag_sample_valid                                                     True   \n",
       "ans                                                                 shadow   \n",
       "perturbed_question_list  [Who is cast?\\nAnswer the question using a sin...   \n",
       "\n",
       "                                                                       991  \\\n",
       "question                 What is on top of the skis?\\nAnswer the questi...   \n",
       "gt_ans                   [{'answer': 'snow', 'answer_confidence': 'yes'...   \n",
       "flag_sample_valid                                                     True   \n",
       "ans                                                                   snow   \n",
       "perturbed_question_list  [\"What is placed above the skis?\"\\nAnswer the ...   \n",
       "\n",
       "                                                                       992  \\\n",
       "question                 What is attached to the person's feet?\\nAnswer...   \n",
       "gt_ans                   [{'answer': 'skis', 'answer_confidence': 'yes'...   \n",
       "flag_sample_valid                                                     True   \n",
       "ans                                                                   skis   \n",
       "perturbed_question_list  [\"What do they wear on their feet?\"\\nAnswer th...   \n",
       "\n",
       "                                                                       993  \\\n",
       "question                 Was this picture taken at night?\\nAnswer the q...   \n",
       "gt_ans                   [{'answer': 'yes', 'answer_confidence': 'maybe...   \n",
       "flag_sample_valid                                                     True   \n",
       "ans                                                                    yes   \n",
       "perturbed_question_list  [Did this photo capture the scene during night...   \n",
       "\n",
       "                                                                       994  \\\n",
       "question                 Is the man running?\\nAnswer the question using...   \n",
       "gt_ans                   [{'answer': 'no', 'answer_confidence': 'yes', ...   \n",
       "flag_sample_valid                                                     True   \n",
       "ans                                                                     no   \n",
       "perturbed_question_list  [Is the man in motion?\\nAnswer the question us...   \n",
       "\n",
       "                                                                       995  \\\n",
       "question                 What color is the man's Hat?\\nAnswer the quest...   \n",
       "gt_ans                   [{'answer': 'brown', 'answer_confidence': 'yes...   \n",
       "flag_sample_valid                                                     True   \n",
       "ans                                                                  Black   \n",
       "perturbed_question_list  [\"What color is the man's hat?\"\\nAnswer the qu...   \n",
       "\n",
       "                                                                       996  \\\n",
       "question                 Is the Frisbee moving left to right?\\nAnswer t...   \n",
       "gt_ans                   [{'answer': 'right', 'answer_confidence': 'may...   \n",
       "flag_sample_valid                                                     True   \n",
       "ans                                                                  right   \n",
       "perturbed_question_list  [Is the Frisbee traveling from right to left?\\...   \n",
       "\n",
       "                                                                       997  \\\n",
       "question                 Was this photo taken at a skatepark?\\nAnswer t...   \n",
       "gt_ans                   [{'answer': 'no', 'answer_confidence': 'yes', ...   \n",
       "flag_sample_valid                                                     True   \n",
       "ans                                                                     no   \n",
       "perturbed_question_list  [Did this photo capture a scene from a skatepa...   \n",
       "\n",
       "                                                                       998  \\\n",
       "question                 Is the man trying to catch a Frisbee?\\nAnswer ...   \n",
       "gt_ans                   [{'answer': 'yes', 'answer_confidence': 'yes',...   \n",
       "flag_sample_valid                                                     True   \n",
       "ans                                                                    yes   \n",
       "perturbed_question_list  [Is the man attempting to catch a Frisbee?\\nAn...   \n",
       "\n",
       "                                                                       999  \n",
       "question                 What color is the man's shirt?\\nAnswer the que...  \n",
       "gt_ans                   [{'answer': 'blue', 'answer_confidence': 'yes'...  \n",
       "flag_sample_valid                                                     True  \n",
       "ans                                                                   blue  \n",
       "perturbed_question_list  [\"What color is the man wearing on his shirt?\"...  \n",
       "\n",
       "[5 rows x 1000 columns]"
      ]
     },
     "execution_count": 7,
     "metadata": {},
     "output_type": "execute_result"
    }
   ],
   "source": [
    "df.head()"
   ]
  },
  {
   "cell_type": "code",
   "execution_count": 8,
   "metadata": {},
   "outputs": [
    {
     "data": {
      "text/plain": [
       "(6, 1000)"
      ]
     },
     "execution_count": 8,
     "metadata": {},
     "output_type": "execute_result"
    }
   ],
   "source": [
    "df.shape"
   ]
  },
  {
   "cell_type": "code",
   "execution_count": 9,
   "metadata": {},
   "outputs": [],
   "source": [
    "i=1"
   ]
  },
  {
   "cell_type": "code",
   "execution_count": 10,
   "metadata": {},
   "outputs": [
    {
     "data": {
      "text/plain": [
       "question                   What position is this man playing?\\nAnswer the...\n",
       "gt_ans                     [{'answer': 'pitcher', 'answer_confidence': 'y...\n",
       "flag_sample_valid                                                       True\n",
       "ans                                                                  pitcher\n",
       "perturbed_question_list    [\"What is the position of this man?\"\\nAnswer t...\n",
       "ans_sampling_list              [pitcher, pitcher, pitcher, pitcher, pitcher]\n",
       "Name: 1, dtype: object"
      ]
     },
     "execution_count": 10,
     "metadata": {},
     "output_type": "execute_result"
    }
   ],
   "source": [
    "df[str(i)]"
   ]
  },
  {
   "cell_type": "code",
   "execution_count": 11,
   "metadata": {},
   "outputs": [
    {
     "data": {
      "text/plain": [
       "[{'answer': 'pitcher', 'answer_confidence': 'yes', 'answer_id': 1},\n",
       " {'answer': 'catcher', 'answer_confidence': 'no', 'answer_id': 2},\n",
       " {'answer': 'pitcher', 'answer_confidence': 'yes', 'answer_id': 3},\n",
       " {'answer': 'pitcher', 'answer_confidence': 'yes', 'answer_id': 4},\n",
       " {'answer': 'pitcher', 'answer_confidence': 'yes', 'answer_id': 5},\n",
       " {'answer': 'pitcher', 'answer_confidence': 'yes', 'answer_id': 6},\n",
       " {'answer': 'pitcher', 'answer_confidence': 'yes', 'answer_id': 7},\n",
       " {'answer': 'pitcher', 'answer_confidence': 'yes', 'answer_id': 8},\n",
       " {'answer': 'pitcher', 'answer_confidence': 'yes', 'answer_id': 9},\n",
       " {'answer': 'pitcher', 'answer_confidence': 'yes', 'answer_id': 10}]"
      ]
     },
     "execution_count": 11,
     "metadata": {},
     "output_type": "execute_result"
    }
   ],
   "source": [
    "df[str(i)]['gt_ans']"
   ]
  },
  {
   "cell_type": "code",
   "execution_count": 12,
   "metadata": {},
   "outputs": [
    {
     "data": {
      "text/plain": [
       "'pitcher'"
      ]
     },
     "execution_count": 12,
     "metadata": {},
     "output_type": "execute_result"
    }
   ],
   "source": [
    "df[str(i)]['ans']"
   ]
  },
  {
   "cell_type": "code",
   "execution_count": 13,
   "metadata": {},
   "outputs": [
    {
     "data": {
      "text/plain": [
       "0      [{'answer': 'net', 'answer_confidence': 'maybe...\n",
       "1      [{'answer': 'pitcher', 'answer_confidence': 'y...\n",
       "2      [{'answer': 'orange', 'answer_confidence': 'ye...\n",
       "3      [{'answer': 'yes', 'answer_confidence': 'yes',...\n",
       "4      [{'answer': 'white', 'answer_confidence': 'yes...\n",
       "                             ...                        \n",
       "995    [{'answer': 'brown', 'answer_confidence': 'yes...\n",
       "996    [{'answer': 'right', 'answer_confidence': 'may...\n",
       "997    [{'answer': 'no', 'answer_confidence': 'yes', ...\n",
       "998    [{'answer': 'yes', 'answer_confidence': 'yes',...\n",
       "999    [{'answer': 'blue', 'answer_confidence': 'yes'...\n",
       "Name: gt_ans, Length: 1000, dtype: object"
      ]
     },
     "execution_count": 13,
     "metadata": {},
     "output_type": "execute_result"
    }
   ],
   "source": [
    "df.loc['gt_ans']"
   ]
  },
  {
   "cell_type": "code",
   "execution_count": 14,
   "metadata": {},
   "outputs": [],
   "source": [
    "def get_ans(x):\n",
    "    return [y['answer'] for y in x]\n",
    "\n",
    "gt_label=df.loc['gt_ans'].apply(get_ans).to_list()\n",
    "#gt_label"
   ]
  },
  {
   "cell_type": "code",
   "execution_count": 15,
   "metadata": {},
   "outputs": [],
   "source": [
    "rsps=df.loc['ans'].to_list()\n",
    "#rsps"
   ]
  },
  {
   "cell_type": "code",
   "execution_count": 16,
   "metadata": {},
   "outputs": [
    {
     "name": "stdout",
     "output_type": "stream",
     "text": [
      "computing accuracy\n"
     ]
    },
    {
     "name": "stderr",
     "output_type": "stream",
     "text": [
      "  0%|          | 0/1000 [00:00<?, ?it/s]"
     ]
    },
    {
     "name": "stderr",
     "output_type": "stream",
     "text": [
      "100%|██████████| 1000/1000 [00:00<00:00, 3761.17it/s]"
     ]
    },
    {
     "name": "stdout",
     "output_type": "stream",
     "text": [
      "Done computing accuracy\n",
      "{0: 100, 1: 100, 2: 100, 3: 100, 4: 100, 5: 100, 6: 100, 7: 100, 8: 100, 9: 100, 10: 100, 11: 100, 12: 66.67, 13: 100, 14: 100, 15: 100, 16: 100, 17: 100, 18: 33.33, 19: 100, 20: 100, 21: 100, 22: 100, 23: 100, 24: 100, 25: 100, 26: 100, 27: 100, 28: 100, 29: 100, 30: 100, 31: 100, 32: 100, 33: 100, 34: 100, 35: 0.0, 36: 100, 37: 100, 38: 100, 39: 100, 40: 100, 41: 100, 42: 100, 43: 100, 44: 100, 45: 100, 46: 0.0, 47: 100, 48: 100, 49: 100, 50: 66.67, 51: 100, 52: 100, 53: 100, 54: 100, 55: 100, 56: 66.67, 57: 66.67, 58: 100, 59: 100, 60: 66.67, 61: 100, 62: 100, 63: 33.33, 64: 100, 65: 100, 66: 100, 67: 0.0, 68: 100, 69: 100, 70: 33.33, 71: 100, 72: 100, 73: 100, 74: 0.0, 75: 100, 76: 100, 77: 100, 78: 100, 79: 0.0, 80: 0.0, 81: 100, 82: 100, 83: 33.33, 84: 100, 85: 100, 86: 100, 87: 100, 88: 100, 89: 100, 90: 100, 91: 100, 92: 100, 93: 100, 94: 100, 95: 100, 96: 100, 97: 33.33, 98: 100, 99: 100, 100: 100, 101: 100, 102: 100, 103: 0.0, 104: 100, 105: 100, 106: 100, 107: 100, 108: 100, 109: 100, 110: 100, 111: 100, 112: 100, 113: 100, 114: 100, 115: 100, 116: 100, 117: 100, 118: 100, 119: 100, 120: 0.0, 121: 100, 122: 100, 123: 33.33, 124: 100, 125: 100, 126: 100, 127: 100, 128: 100, 129: 100, 130: 100, 131: 100, 132: 0.0, 133: 100, 134: 100, 135: 100, 136: 100, 137: 100, 138: 66.67, 139: 66.67, 140: 0.0, 141: 100, 142: 100, 143: 100, 144: 100, 145: 100, 146: 100, 147: 100, 148: 100, 149: 100, 150: 100, 151: 100, 152: 100, 153: 100, 154: 100, 155: 100, 156: 100, 157: 100, 158: 100, 159: 0.0, 160: 33.33, 161: 100, 162: 100, 163: 100, 164: 100, 165: 100, 166: 100, 167: 0.0, 168: 0.0, 169: 0.0, 170: 100, 171: 33.33, 172: 100, 173: 100, 174: 100, 175: 100, 176: 100, 177: 100, 178: 33.33, 179: 33.33, 180: 100, 181: 100, 182: 100, 183: 100, 184: 100, 185: 100, 186: 100, 187: 100, 188: 66.67, 189: 100, 190: 100, 191: 100, 192: 100, 193: 100, 194: 100, 195: 100, 196: 0.0, 197: 100, 198: 100, 199: 100, 200: 100, 201: 100, 202: 66.67, 203: 100, 204: 66.67, 205: 100, 206: 100, 207: 100, 208: 100, 209: 100, 210: 100, 211: 100, 212: 100, 213: 100, 214: 100, 215: 100, 216: 100, 217: 100, 218: 100, 219: 100, 220: 100, 221: 0.0, 222: 100, 223: 100, 224: 100, 225: 100, 226: 100, 227: 100, 228: 100, 229: 100, 230: 100, 231: 100, 232: 100, 233: 100, 234: 100, 235: 100, 236: 0.0, 237: 100, 238: 100, 239: 100, 240: 100, 241: 100, 242: 100, 243: 100, 244: 100, 245: 66.67, 246: 100, 247: 100, 248: 0.0, 249: 0.0, 250: 66.67, 251: 100, 252: 100, 253: 100, 254: 100, 255: 0.0, 256: 100, 257: 100, 258: 100, 259: 100, 260: 100, 261: 0.0, 262: 100, 263: 100, 264: 0.0, 265: 100, 266: 33.33, 267: 33.33, 268: 33.33, 269: 33.33, 270: 0.0, 271: 100, 272: 100, 273: 100, 274: 0.0, 275: 100, 276: 33.33, 277: 100, 278: 100, 279: 0.0, 280: 100, 281: 100, 282: 0.0, 283: 100, 284: 66.67, 285: 100, 286: 100, 287: 100, 288: 100, 289: 100, 290: 100, 291: 100, 292: 100, 293: 33.33, 294: 100, 295: 100, 296: 0.0, 297: 100, 298: 66.67, 299: 100, 300: 100, 301: 100, 302: 100, 303: 66.67, 304: 100, 305: 100, 306: 100, 307: 100, 308: 66.67, 309: 100, 310: 100, 311: 100, 312: 0.0, 313: 100, 314: 33.33, 315: 100, 316: 0.0, 317: 100, 318: 100, 319: 100, 320: 100, 321: 100, 322: 100, 323: 100, 324: 33.33, 325: 100, 326: 66.67, 327: 100, 328: 0.0, 329: 100, 330: 100, 331: 33.33, 332: 100, 333: 100, 334: 100, 335: 100, 336: 100, 337: 33.33, 338: 100, 339: 100, 340: 100, 341: 0.0, 342: 100, 343: 33.33, 344: 100, 345: 100, 346: 66.67, 347: 100, 348: 100, 349: 100, 350: 100, 351: 100, 352: 100, 353: 100, 354: 100, 355: 100, 356: 100, 357: 33.33, 358: 100, 359: 100, 360: 100, 361: 33.33, 362: 100, 363: 100, 364: 100, 365: 0.0, 366: 100, 367: 100, 368: 100, 369: 100, 370: 100, 371: 33.33, 372: 100, 373: 100, 374: 100, 375: 0.0, 376: 100, 377: 100, 378: 100, 379: 100, 380: 100, 381: 100, 382: 100, 383: 100, 384: 100, 385: 0.0, 386: 100, 387: 100, 388: 100, 389: 100, 390: 100, 391: 66.67, 392: 100, 393: 100, 394: 100, 395: 100, 396: 100, 397: 100, 398: 100, 399: 100, 400: 100, 401: 66.67, 402: 100, 403: 100, 404: 100, 405: 0.0, 406: 100, 407: 100, 408: 100, 409: 0.0, 410: 0.0, 411: 100, 412: 100, 413: 100, 414: 100, 415: 100, 416: 100, 417: 100, 418: 100, 419: 100, 420: 100, 421: 0.0, 422: 100, 423: 100, 424: 33.33, 425: 100, 426: 100, 427: 0.0, 428: 100, 429: 100, 430: 100, 431: 100, 432: 66.67, 433: 100, 434: 100, 435: 100, 436: 100, 437: 100, 438: 100, 439: 100, 440: 66.67, 441: 100, 442: 100, 443: 100, 444: 66.67, 445: 100, 446: 100, 447: 100, 448: 100, 449: 100, 450: 100, 451: 100, 452: 100, 453: 100, 454: 100, 455: 100, 456: 100, 457: 100, 458: 100, 459: 100, 460: 100, 461: 100, 462: 100, 463: 0.0, 464: 100, 465: 100, 466: 100, 467: 100, 468: 0.0, 469: 100, 470: 100, 471: 0.0, 472: 100, 473: 100, 474: 0.0, 475: 100, 476: 66.67, 477: 100, 478: 100, 479: 100, 480: 100, 481: 100, 482: 100, 483: 100, 484: 33.33, 485: 100, 486: 100, 487: 100, 488: 100, 489: 100, 490: 100, 491: 100, 492: 0.0, 493: 100, 494: 100, 495: 0.0, 496: 33.33, 497: 100, 498: 100, 499: 100, 500: 100, 501: 100, 502: 100, 503: 100, 504: 100, 505: 100, 506: 100, 507: 100, 508: 100, 509: 100, 510: 100, 511: 100, 512: 100, 513: 100, 514: 100, 515: 100, 516: 100, 517: 100, 518: 100, 519: 0.0, 520: 100, 521: 100, 522: 100, 523: 100, 524: 100, 525: 100, 526: 66.67, 527: 100, 528: 100, 529: 100, 530: 100, 531: 100, 532: 100, 533: 100, 534: 100, 535: 100, 536: 100, 537: 100, 538: 100, 539: 100, 540: 100, 541: 100, 542: 0.0, 543: 100, 544: 100, 545: 100, 546: 0.0, 547: 100, 548: 100, 549: 100, 550: 100, 551: 100, 552: 100, 553: 100, 554: 100, 555: 100, 556: 100, 557: 100, 558: 100, 559: 33.33, 560: 100, 561: 100, 562: 66.67, 563: 100, 564: 100, 565: 100, 566: 100, 567: 100, 568: 100, 569: 100, 570: 100, 571: 100, 572: 100, 573: 0.0, 574: 100, 575: 100, 576: 100, 577: 0.0, 578: 100, 579: 100, 580: 100, 581: 66.67, 582: 100, 583: 100, 584: 100, 585: 100, 586: 100, 587: 100, 588: 0.0, 589: 100, 590: 100, 591: 100, 592: 33.33, 593: 100, 594: 100, 595: 100, 596: 100, 597: 0.0, 598: 66.67, 599: 100, 600: 100, 601: 100, 602: 100, 603: 100, 604: 0.0, 605: 100, 606: 100, 607: 100, 608: 100, 609: 100, 610: 100, 611: 33.33, 612: 100, 613: 100, 614: 100, 615: 0.0, 616: 66.67, 617: 0.0, 618: 100, 619: 100, 620: 100, 621: 100, 622: 100, 623: 100, 624: 100, 625: 0.0, 626: 66.67, 627: 100, 628: 0.0, 629: 66.67, 630: 100, 631: 100, 632: 33.33, 633: 100, 634: 100, 635: 100, 636: 100, 637: 100, 638: 100, 639: 100, 640: 100, 641: 100, 642: 100, 643: 100, 644: 100, 645: 100, 646: 100, 647: 100, 648: 100, 649: 100, 650: 0.0, 651: 0.0, 652: 100, 653: 100, 654: 100, 655: 100, 656: 100, 657: 100, 658: 0.0, 659: 100, 660: 100, 661: 100, 662: 100, 663: 100, 664: 100, 665: 100, 666: 100, 667: 100, 668: 0.0, 669: 100, 670: 0.0, 671: 100, 672: 100, 673: 66.67, 674: 100, 675: 100, 676: 100, 677: 100, 678: 100, 679: 100, 680: 100, 681: 100, 682: 100, 683: 100, 684: 100, 685: 100, 686: 100, 687: 0.0, 688: 100, 689: 100, 690: 100, 691: 100, 692: 100, 693: 100, 694: 100, 695: 100, 696: 66.67, 697: 100, 698: 100, 699: 100, 700: 100, 701: 100, 702: 100, 703: 0.0, 704: 100, 705: 100, 706: 100, 707: 100, 708: 100, 709: 100, 710: 0.0, 711: 0.0, 712: 100, 713: 100, 714: 66.67, 715: 100, 716: 0.0, 717: 100, 718: 100, 719: 100, 720: 0.0, 721: 100, 722: 100, 723: 100, 724: 0.0, 725: 100, 726: 100, 727: 0.0, 728: 100, 729: 100, 730: 100, 731: 100, 732: 100, 733: 100, 734: 100, 735: 100, 736: 100, 737: 100, 738: 66.67, 739: 100, 740: 100, 741: 100, 742: 100, 743: 33.33, 744: 66.67, 745: 100, 746: 100, 747: 100, 748: 100, 749: 0.0, 750: 100, 751: 100, 752: 33.33, 753: 100, 754: 0.0, 755: 100, 756: 100, 757: 100, 758: 100, 759: 0.0, 760: 100, 761: 100, 762: 100, 763: 100, 764: 33.33, 765: 0.0, 766: 100, 767: 100, 768: 100, 769: 100, 770: 100, 771: 100, 772: 100, 773: 100, 774: 100, 775: 100, 776: 100, 777: 100, 778: 0.0, 779: 100, 780: 100, 781: 100, 782: 0.0, 783: 100, 784: 100, 785: 100, 786: 100, 787: 100, 788: 100, 789: 100, 790: 100, 791: 100, 792: 100, 793: 33.33, 794: 100, 795: 100, 796: 0.0, 797: 100, 798: 100, 799: 100, 800: 100, 801: 100, 802: 100, 803: 100, 804: 100, 805: 100, 806: 66.67, 807: 100, 808: 100, 809: 100, 810: 0.0, 811: 100, 812: 100, 813: 100, 814: 100, 815: 0.0, 816: 100, 817: 100, 818: 100, 819: 100, 820: 100, 821: 100, 822: 100, 823: 100, 824: 33.33, 825: 100, 826: 100, 827: 100, 828: 33.33, 829: 100, 830: 0.0, 831: 100, 832: 100, 833: 100, 834: 100, 835: 100, 836: 100, 837: 100, 838: 100, 839: 100, 840: 100, 841: 100, 842: 100, 843: 100, 844: 100, 845: 100, 846: 100, 847: 100, 848: 100, 849: 100, 850: 100, 851: 100, 852: 100, 853: 100, 854: 100, 855: 33.33, 856: 100, 857: 100, 858: 0.0, 859: 100, 860: 0.0, 861: 100, 862: 100, 863: 100, 864: 100, 865: 100, 866: 100, 867: 100, 868: 100, 869: 100, 870: 100, 871: 100, 872: 100, 873: 100, 874: 100, 875: 100, 876: 33.33, 877: 100, 878: 100, 879: 100, 880: 100, 881: 100, 882: 66.67, 883: 100, 884: 100, 885: 33.33, 886: 100, 887: 66.67, 888: 100, 889: 0.0, 890: 100, 891: 100, 892: 100, 893: 100, 894: 0.0, 895: 0.0, 896: 100, 897: 100, 898: 100, 899: 100, 900: 100, 901: 66.67, 902: 100, 903: 100, 904: 100, 905: 100, 906: 100, 907: 100, 908: 0.0, 909: 100, 910: 100, 911: 100, 912: 100, 913: 100, 914: 100, 915: 100, 916: 100, 917: 0.0, 918: 100, 919: 0.0, 920: 100, 921: 100, 922: 100, 923: 100, 924: 100, 925: 100, 926: 100, 927: 100, 928: 100, 929: 100, 930: 100, 931: 100, 932: 100, 933: 100, 934: 100, 935: 100, 936: 100, 937: 100, 938: 100, 939: 100, 940: 100, 941: 100, 942: 33.33, 943: 100, 944: 100, 945: 66.67, 946: 100, 947: 100, 948: 100, 949: 100, 950: 66.67, 951: 0.0, 952: 100, 953: 100, 954: 100, 955: 100, 956: 100, 957: 33.33, 958: 100, 959: 100, 960: 66.67, 961: 100, 962: 100, 963: 100, 964: 0.0, 965: 100, 966: 100, 967: 0.0, 968: 100, 969: 100, 970: 100, 971: 100, 972: 100, 973: 100, 974: 100, 975: 100, 976: 100, 977: 100, 978: 100, 979: 0.0, 980: 100, 981: 100, 982: 100, 983: 100, 984: 100, 985: 100, 986: 100, 987: 100, 988: 100, 989: 100, 990: 100, 991: 100, 992: 100, 993: 100, 994: 100, 995: 33.33, 996: 100, 997: 100, 998: 100, 999: 100}\n",
      "86.5\n"
     ]
    },
    {
     "name": "stderr",
     "output_type": "stream",
     "text": [
      "\n"
     ]
    }
   ],
   "source": [
    "judge=VQAEval(gt_label,rsps)\n",
    "judge.evaluate()\n",
    "print(judge.evalQA)\n",
    "print(judge.accuracy['overall'])"
   ]
  },
  {
   "cell_type": "code",
   "execution_count": 17,
   "metadata": {},
   "outputs": [],
   "source": [
    "gt_scores=[judge.evalQA[i] for i in range(len(judge.evalQA))]"
   ]
  },
  {
   "cell_type": "code",
   "execution_count": 18,
   "metadata": {},
   "outputs": [],
   "source": [
    "is_correct=[]\n",
    "threshold=30\n",
    "for i,x in enumerate(gt_scores):\n",
    "    if x >=threshold:\n",
    "        is_correct.append(1)\n",
    "    else:\n",
    "        is_correct.append(0)\n",
    "is_correct=np.array(is_correct)"
   ]
  },
  {
   "cell_type": "code",
   "execution_count": 19,
   "metadata": {},
   "outputs": [
    {
     "name": "stdout",
     "output_type": "stream",
     "text": [
      "There are 1000 responses. 908 answer correctly and 92 answer wrongly\n"
     ]
    }
   ],
   "source": [
    "print(f'There are {len(is_correct)} responses. {sum(is_correct==1)} answer correctly and {sum(is_correct==0)} answer wrongly')"
   ]
  },
  {
   "cell_type": "code",
   "execution_count": null,
   "metadata": {},
   "outputs": [],
   "source": [
    "%load_ext autoreload\n",
    "%autoreload 2\n",
    "from VL_Uncertainty import uncertainty_estimation,hallucination_detection,obtain_lvlm,obtain_llm\n",
    "\n",
    "class Args: \n",
    "    def __init__(self): \n",
    "        self.uncertainty_thres=1.0\n",
    "        self.benchmark = 'open_end'\n",
    "        self.llm='Qwen2.5-3B'\n",
    "        self.image_shape=None\n",
    "        self.sampling_time=5\n",
    "        \n",
    "args=Args()\n",
    "\n",
    "llm=obtain_llm(args)\n",
    "uncertainty=[]\n",
    "detection_flag=[]\n",
    "detect_preds=[]\n",
    "\n",
    "num_samples=200\n",
    "for i in tqdm(range(int(data['Total samples']))):\n",
    "    idx=str(i)\n",
    "    data[idx]['flag_ans_correct']=True if is_correct[i]==1 else False\n",
    "    uncertainty_estimation(args,idx,llm,data)\n",
    "    uncertainty.append(data[idx]['uncertainty'])\n",
    "    hallucination_detection(args,idx,data)\n",
    "    detection_flag.append(data[idx]['flag_detection_correct'])\n",
    "    detect_preds.append(data[idx]['flag_predict_hallucination'])\n",
    "    if i >num_samples:\n",
    "        break"
   ]
  },
  {
   "cell_type": "code",
   "execution_count": null,
   "metadata": {},
   "outputs": [],
   "source": [
    "filename='exp/VQA_checked.json'\n",
    "with open(filename, 'w') as file: \n",
    "    json.dump(data, file)"
   ]
  },
  {
   "cell_type": "code",
   "execution_count": null,
   "metadata": {},
   "outputs": [],
   "source": [
    "import numpy as np"
   ]
  },
  {
   "cell_type": "code",
   "execution_count": null,
   "metadata": {},
   "outputs": [],
   "source": [
    "detection_flag=np.array(detection_flag)"
   ]
  },
  {
   "cell_type": "code",
   "execution_count": null,
   "metadata": {},
   "outputs": [],
   "source": [
    "print(f'acc: {accuracy_score(is_correct[:num_samples],uncertainty)} f1:{f1_score(y_test,uncertainty)} auroc:{roc_auc_score(is_correct[:num_samples],uncertainty)}')"
   ]
  }
 ],
 "metadata": {
  "kernelspec": {
   "display_name": "VL-Uncertainty",
   "language": "python",
   "name": "python3"
  },
  "language_info": {
   "codemirror_mode": {
    "name": "ipython",
    "version": 3
   },
   "file_extension": ".py",
   "mimetype": "text/x-python",
   "name": "python",
   "nbconvert_exporter": "python",
   "pygments_lexer": "ipython3",
   "version": "3.11.11"
  }
 },
 "nbformat": 4,
 "nbformat_minor": 2
}
