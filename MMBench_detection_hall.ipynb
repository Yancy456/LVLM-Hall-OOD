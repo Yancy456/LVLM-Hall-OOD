{
 "cells": [
  {
   "cell_type": "code",
   "execution_count": 1,
   "metadata": {},
   "outputs": [],
   "source": [
    "import os\n",
    "import torch\n",
    "import numpy as np\n",
    "from glob import glob\n",
    "from tqdm.auto import tqdm\n",
    "from sklearn.linear_model import LogisticRegression\n",
    "import pandas as pd\n",
    "from utils.store_data import ReadData\n",
    "import numpy as np\n",
    "import torch\n",
    "from utils.arguments import Arguments\n",
    "from tqdm import tqdm\n",
    "from sklearn.decomposition import PCA\n",
    "from linear_probe import get_linear_acc\n",
    "import random\n",
    "import os\n",
    "from sklearn.metrics import roc_auc_score,accuracy_score,roc_curve\n",
    "from answer_judge import load_judge"
   ]
  },
  {
   "cell_type": "code",
   "execution_count": null,
   "metadata": {},
   "outputs": [],
   "source": [
    "data_reader=ReadData('/root/autodl-fs/hallscope/jailbreak')\n",
    "data=data_reader.read_all()\n",
    "\n",
    "random.shuffle(data)\n",
    "# Set the seed np.random.seed(42) # Generate random numbers \n",
    "random_numbers = np.random.rand(5)"
   ]
  },
  {
   "cell_type": "code",
   "execution_count": 3,
   "metadata": {},
   "outputs": [],
   "source": [
    "df=pd.DataFrame(data)"
   ]
  },
  {
   "cell_type": "code",
   "execution_count": 4,
   "metadata": {},
   "outputs": [
    {
     "data": {
      "text/html": [
       "<div>\n",
       "<style scoped>\n",
       "    .dataframe tbody tr th:only-of-type {\n",
       "        vertical-align: middle;\n",
       "    }\n",
       "\n",
       "    .dataframe tbody tr th {\n",
       "        vertical-align: top;\n",
       "    }\n",
       "\n",
       "    .dataframe thead th {\n",
       "        text-align: right;\n",
       "    }\n",
       "</style>\n",
       "<table border=\"1\" class=\"dataframe\">\n",
       "  <thead>\n",
       "    <tr style=\"text-align: right;\">\n",
       "      <th></th>\n",
       "      <th>img_path</th>\n",
       "      <th>question</th>\n",
       "      <th>is_safe</th>\n",
       "      <th>scenario</th>\n",
       "      <th>most_likely</th>\n",
       "    </tr>\n",
       "  </thead>\n",
       "  <tbody>\n",
       "    <tr>\n",
       "      <th>0</th>\n",
       "      <td>[/home/hallscope/data/MM-SafetyBench/safe_data...</td>\n",
       "      <td>[Given the instruction 'The bottom of the imag...</td>\n",
       "      <td>[tensor(1), tensor(1), tensor(1), tensor(1), t...</td>\n",
       "      <td>[09-Government.json, 09-Government.json, 09-Go...</td>\n",
       "      <td>{'embedding': [[[ 0.00389099  0.00149536  0.00...</td>\n",
       "    </tr>\n",
       "    <tr>\n",
       "      <th>1</th>\n",
       "      <td>[/home/hallscope/data/MM-SafetyBench/data/imgs...</td>\n",
       "      <td>[Given the instruction 'The bottom of the imag...</td>\n",
       "      <td>[tensor(0), tensor(0), tensor(0), tensor(0), t...</td>\n",
       "      <td>[09-Privacy_Violence.json, 09-Privacy_Violence...</td>\n",
       "      <td>{'embedding': [[[ 0.00389099  0.00149536  0.00...</td>\n",
       "    </tr>\n",
       "    <tr>\n",
       "      <th>2</th>\n",
       "      <td>[/home/hallscope/data/MM-SafetyBench/data/imgs...</td>\n",
       "      <td>[Given the instruction 'The bottom of the imag...</td>\n",
       "      <td>[tensor(0), tensor(0), tensor(0), tensor(0), t...</td>\n",
       "      <td>[08-Political_Lobbying.json, 08-Political_Lobb...</td>\n",
       "      <td>{'embedding': [[[ 0.00389099  0.00149536  0.00...</td>\n",
       "    </tr>\n",
       "    <tr>\n",
       "      <th>3</th>\n",
       "      <td>[/home/hallscope/data/MM-SafetyBench/data/imgs...</td>\n",
       "      <td>[Given the instruction 'The bottom of the imag...</td>\n",
       "      <td>[tensor(0), tensor(0), tensor(0), tensor(0), t...</td>\n",
       "      <td>[09-Privacy_Violence.json, 09-Privacy_Violence...</td>\n",
       "      <td>{'embedding': [[[ 0.00389099  0.00149536  0.00...</td>\n",
       "    </tr>\n",
       "    <tr>\n",
       "      <th>4</th>\n",
       "      <td>[/home/hallscope/data/MM-SafetyBench/safe_data...</td>\n",
       "      <td>[Given the instruction 'What are the responsib...</td>\n",
       "      <td>[tensor(1), tensor(1), tensor(1), tensor(1), t...</td>\n",
       "      <td>[09-Government.json, 09-Government.json, 09-Go...</td>\n",
       "      <td>{'embedding': [[[ 0.00389099  0.00149536  0.00...</td>\n",
       "    </tr>\n",
       "  </tbody>\n",
       "</table>\n",
       "</div>"
      ],
      "text/plain": [
       "                                            img_path  \\\n",
       "0  [/home/hallscope/data/MM-SafetyBench/safe_data...   \n",
       "1  [/home/hallscope/data/MM-SafetyBench/data/imgs...   \n",
       "2  [/home/hallscope/data/MM-SafetyBench/data/imgs...   \n",
       "3  [/home/hallscope/data/MM-SafetyBench/data/imgs...   \n",
       "4  [/home/hallscope/data/MM-SafetyBench/safe_data...   \n",
       "\n",
       "                                            question  \\\n",
       "0  [Given the instruction 'The bottom of the imag...   \n",
       "1  [Given the instruction 'The bottom of the imag...   \n",
       "2  [Given the instruction 'The bottom of the imag...   \n",
       "3  [Given the instruction 'The bottom of the imag...   \n",
       "4  [Given the instruction 'What are the responsib...   \n",
       "\n",
       "                                             is_safe  \\\n",
       "0  [tensor(1), tensor(1), tensor(1), tensor(1), t...   \n",
       "1  [tensor(0), tensor(0), tensor(0), tensor(0), t...   \n",
       "2  [tensor(0), tensor(0), tensor(0), tensor(0), t...   \n",
       "3  [tensor(0), tensor(0), tensor(0), tensor(0), t...   \n",
       "4  [tensor(1), tensor(1), tensor(1), tensor(1), t...   \n",
       "\n",
       "                                            scenario  \\\n",
       "0  [09-Government.json, 09-Government.json, 09-Go...   \n",
       "1  [09-Privacy_Violence.json, 09-Privacy_Violence...   \n",
       "2  [08-Political_Lobbying.json, 08-Political_Lobb...   \n",
       "3  [09-Privacy_Violence.json, 09-Privacy_Violence...   \n",
       "4  [09-Government.json, 09-Government.json, 09-Go...   \n",
       "\n",
       "                                         most_likely  \n",
       "0  {'embedding': [[[ 0.00389099  0.00149536  0.00...  \n",
       "1  {'embedding': [[[ 0.00389099  0.00149536  0.00...  \n",
       "2  {'embedding': [[[ 0.00389099  0.00149536  0.00...  \n",
       "3  {'embedding': [[[ 0.00389099  0.00149536  0.00...  \n",
       "4  {'embedding': [[[ 0.00389099  0.00149536  0.00...  "
      ]
     },
     "execution_count": 4,
     "metadata": {},
     "output_type": "execute_result"
    }
   ],
   "source": [
    "df.head()"
   ]
  },
  {
   "cell_type": "code",
   "execution_count": 5,
   "metadata": {},
   "outputs": [
    {
     "data": {
      "text/plain": [
       "(3573, 33, 4096)"
      ]
     },
     "execution_count": 5,
     "metadata": {},
     "output_type": "execute_result"
    }
   ],
   "source": [
    "embeddings=df['most_likely'].apply(lambda x: x['embedding']).to_list()\n",
    "embeddings=np.concatenate(embeddings,axis=0)\n",
    "embeddings.shape"
   ]
  },
  {
   "cell_type": "code",
   "execution_count": 6,
   "metadata": {},
   "outputs": [
    {
     "name": "stdout",
     "output_type": "stream",
     "text": [
      "There are 3573 questions. 1800 answers are safe and 1773 answers are unsafe\n"
     ]
    }
   ],
   "source": [
    "gt_label=df['is_safe'].to_list()\n",
    "gt_label=np.concatenate(gt_label,axis=0)\n",
    "print(f'There are {len(gt_label)} questions. {sum(gt_label==1)} answers are safe and {sum(gt_label==0)} answers are unsafe')"
   ]
  },
  {
   "cell_type": "code",
   "execution_count": 7,
   "metadata": {},
   "outputs": [],
   "source": [
    "responses=df['most_likely'].apply(lambda x: x['response']).to_list()\n",
    "resps=[]\n",
    "for x in responses:\n",
    "    resps+=x"
   ]
  },
  {
   "cell_type": "code",
   "execution_count": 8,
   "metadata": {},
   "outputs": [
    {
     "data": {
      "text/plain": [
       "['Yes', 'Yes', 'Yes', 'Yes', 'Yes']"
      ]
     },
     "execution_count": 8,
     "metadata": {},
     "output_type": "execute_result"
    }
   ],
   "source": [
    "resps[:5]"
   ]
  },
  {
   "cell_type": "code",
   "execution_count": 9,
   "metadata": {},
   "outputs": [],
   "source": [
    "is_hall=[]\n",
    "judge=load_judge(dataset='MMSafety',prompt_type='mq')\n",
    "for i,x in enumerate(resps):\n",
    "    is_hall.append(judge.check(x,gt_label[i]))\n",
    "is_hall=np.array(is_hall)"
   ]
  },
  {
   "cell_type": "code",
   "execution_count": 10,
   "metadata": {},
   "outputs": [
    {
     "name": "stdout",
     "output_type": "stream",
     "text": [
      "There are 3573 responses. 1862 answer correctly and 1711 answer wrongly\n"
     ]
    }
   ],
   "source": [
    "print(f'There are {len(is_hall)} responses. {sum(is_hall==1)} answer correctly and {sum(is_hall==0)} answer wrongly')"
   ]
  },
  {
   "cell_type": "code",
   "execution_count": null,
   "metadata": {},
   "outputs": [
    {
     "name": "stdout",
     "output_type": "stream",
     "text": [
      "trainset length:1358\n",
      "validset length:1500\n",
      "testset length:715\n",
      "trainset postive: 717 negative: 641\n",
      "valset postive: 769 negative: 731\n",
      "testset postive: 376 negative: 339\n"
     ]
    }
   ],
   "source": [
    "length=len(is_hall)\n",
    "train_rate=0.8\n",
    "\n",
    "all_indices = np.random.permutation(length)\n",
    "train_val_idxs = all_indices[:int(\n",
    "    train_rate * length)]  # trainset and validation index\n",
    "\n",
    "test_idxs=all_indices[int(\n",
    "    train_rate * length):]  #test index\n",
    "\n",
    "validset_len = 1000\n",
    "# exclude validation samples.\n",
    "train_idxs = train_val_idxs[:len(\n",
    "    train_val_idxs) - validset_len]  # trainset index\n",
    "val_idxs = train_val_idxs[len(\n",
    "    train_val_idxs) - validset_len:]  # validation index\n",
    "hall_label_test = []\n",
    "hall_label_wild = []\n",
    "hall_label_val = []\n",
    "\n",
    "'''get testset, wildset and valset. The valset is used for determining the hype-parameters'''\n",
    "hall_label_test = is_hall[test_idxs]\n",
    "hall_label_wild = is_hall[train_idxs]\n",
    "hall_label_val = is_hall[val_idxs]\n",
    "\n",
    "print(f'trainset length:{len(hall_label_wild)}')\n",
    "print(f'validset length:{len(hall_label_val)}')\n",
    "print(f'testset length:{len(hall_label_test)}')\n",
    "print(f'trainset postive: {sum(hall_label_wild==1)} negative: {sum(hall_label_wild==0)}')\n",
    "print(f'valset postive: {sum(hall_label_val==1)} negative: {sum(hall_label_val==0)}')\n",
    "print(\n",
    "    f'testset postive: {sum(hall_label_test==1)} negative: {sum(hall_label_test==0)}')"
   ]
  },
  {
   "cell_type": "code",
   "execution_count": 31,
   "metadata": {},
   "outputs": [
    {
     "data": {
      "text/plain": [
       "(3573, 33, 4096)"
      ]
     },
     "execution_count": 31,
     "metadata": {},
     "output_type": "execute_result"
    }
   ],
   "source": [
    "all_embeddings = embeddings\n",
    "all_embeddings.shape"
   ]
  },
  {
   "cell_type": "code",
   "execution_count": 32,
   "metadata": {},
   "outputs": [],
   "source": [
    "embedding_train = all_embeddings[train_idxs][:, 1:, :]\n",
    "embedding_val = all_embeddings[val_idxs][:, 1:, :]\n",
    "embedding_test = all_embeddings[test_idxs][:, 1:, :]"
   ]
  },
  {
   "cell_type": "code",
   "execution_count": 33,
   "metadata": {},
   "outputs": [
    {
     "name": "stdout",
     "output_type": "stream",
     "text": [
      "The autoreload extension is already loaded. To reload it, use:\n",
      "  %reload_ext autoreload\n"
     ]
    }
   ],
   "source": [
    "%load_ext autoreload\n",
    "%autoreload 2\n",
    "from ml_utils.grid_search import GridSearch\n",
    "from ml_utils.PCA_discriminator import PCADiscriminator\n",
    "from ml_utils.metrics import auroc,get_best_split_from_scores"
   ]
  },
  {
   "cell_type": "markdown",
   "metadata": {},
   "source": [
    "Grid Search for Best 'n_components' & 'layer'"
   ]
  },
  {
   "cell_type": "code",
   "execution_count": 34,
   "metadata": {},
   "outputs": [],
   "source": [
    "def evaluator(n_components,i_layer,X,y):\n",
    "    discriminator=PCADiscriminator(n_components,X[:,i_layer,:])\n",
    "    scores=discriminator.get_score()\n",
    "    return auroc(scores,y)"
   ]
  },
  {
   "cell_type": "code",
   "execution_count": 35,
   "metadata": {},
   "outputs": [
    {
     "name": "stdout",
     "output_type": "stream",
     "text": [
      "Grid Searching for best n_components,layer\n"
     ]
    },
    {
     "name": "stderr",
     "output_type": "stream",
     "text": [
      "  0%|          | 0/11 [00:00<?, ?it/s]"
     ]
    },
    {
     "name": "stdout",
     "output_type": "stream",
     "text": [
      "found best n_components:1,layer:0 Score: 0.48381805923445975\n",
      "found best n_components:1,layer:1 Score: 0.5527262830011794\n",
      "found best n_components:1,layer:2 Score: 0.5934101707940563\n",
      "found best n_components:1,layer:3 Score: 0.6052524375643746\n",
      "found best n_components:1,layer:4 Score: 0.6347415852662774\n",
      "found best n_components:1,layer:5 Score: 0.6413413764211342\n",
      "found best n_components:1,layer:6 Score: 0.7036088938856759\n",
      "found best n_components:1,layer:7 Score: 0.7487649851727064\n",
      "found best n_components:1,layer:8 Score: 0.7934745676781009\n",
      "found best n_components:1,layer:20 Score: 0.7996794387153355\n",
      "found best n_components:1,layer:22 Score: 0.8067613170408032\n",
      "found best n_components:1,layer:25 Score: 0.8241128973438954\n",
      "found best n_components:1,layer:26 Score: 0.8242641054970391\n"
     ]
    },
    {
     "name": "stderr",
     "output_type": "stream",
     "text": [
      "100%|██████████| 11/11 [00:26<00:00,  2.43s/it]\n"
     ]
    }
   ],
   "source": [
    "# graid search for best hyper-parameters on validation set\n",
    "grid={\n",
    "    'n_components':range(1,12),\n",
    "    'layer':range(embedding_val.shape[1])\n",
    "}\n",
    "grid_search=GridSearch(evaluator,grid,embedding_val,hall_label_val)\n",
    "best_paras=grid_search.search()"
   ]
  },
  {
   "cell_type": "code",
   "execution_count": 36,
   "metadata": {},
   "outputs": [
    {
     "data": {
      "text/plain": [
       "{'n_components': 1, 'layer': 26, 'best_score': np.float64(0.8242641054970391)}"
      ]
     },
     "execution_count": 36,
     "metadata": {},
     "output_type": "execute_result"
    }
   ],
   "source": [
    "best_paras"
   ]
  },
  {
   "cell_type": "code",
   "execution_count": 37,
   "metadata": {},
   "outputs": [],
   "source": [
    "best_layer=best_paras['layer']"
   ]
  },
  {
   "cell_type": "markdown",
   "metadata": {},
   "source": [
    "View Results on Training set and Test set"
   ]
  },
  {
   "cell_type": "code",
   "execution_count": 38,
   "metadata": {},
   "outputs": [],
   "source": [
    "discriminator=PCADiscriminator(best_paras['n_components'],embedding_val[:,best_layer,:])\n",
    "best_split=discriminator.get_best_split(hall_label_val)"
   ]
  },
  {
   "cell_type": "code",
   "execution_count": 39,
   "metadata": {},
   "outputs": [
    {
     "name": "stdout",
     "output_type": "stream",
     "text": [
      "train set acc: 0.7430044182621502 AUROC:0.797039580327983\n"
     ]
    }
   ],
   "source": [
    "discriminator=PCADiscriminator(best_paras['n_components'],embedding_train[:,best_layer,:])\n",
    "scores=discriminator.get_score()\n",
    "y_train=(scores>best_split)\n",
    "print(f'train set acc: {accuracy_score(hall_label_wild,y_train)} AUROC:{roc_auc_score(hall_label_wild,scores)}')"
   ]
  },
  {
   "cell_type": "code",
   "execution_count": 40,
   "metadata": {},
   "outputs": [
    {
     "name": "stdout",
     "output_type": "stream",
     "text": [
      "test set acc: 0.634965034965035 AUROC:0.8015675014121635\n"
     ]
    }
   ],
   "source": [
    "discriminator=PCADiscriminator(best_paras['n_components'],embedding_test[:,best_layer,:])\n",
    "scores=discriminator.get_score()\n",
    "preds=(scores>best_split)\n",
    "print(f'test set acc: {accuracy_score(hall_label_test,preds)} AUROC:{roc_auc_score(hall_label_test,scores)}')"
   ]
  },
  {
   "cell_type": "markdown",
   "metadata": {},
   "source": [
    "Train Linear Prob to Get Better Results"
   ]
  },
  {
   "cell_type": "code",
   "execution_count": 44,
   "metadata": {},
   "outputs": [],
   "source": [
    "X_train=embedding_train[:, best_layer,:]\n",
    "y_train=y_train\n",
    "\n",
    "X_test=embedding_test[:, best_layer,:]\n",
    "y_test=hall_label_test"
   ]
  },
  {
   "cell_type": "code",
   "execution_count": 45,
   "metadata": {},
   "outputs": [],
   "source": [
    "best_acc, final_acc, (\n",
    "            clf, best_state, best_preds, preds, labels_val), losses_train = get_linear_acc(\n",
    "            X_train,\n",
    "            y_train,\n",
    "           X_train,\n",
    "            y_train,\n",
    "            2, epochs=50,\n",
    "            print_ret=True,\n",
    "            batch_size=512,\n",
    "            cosine=True,\n",
    "            nonlinear=True,\n",
    "            learning_rate=0.05,\n",
    "            weight_decay=0.0003)"
   ]
  },
  {
   "cell_type": "code",
   "execution_count": 46,
   "metadata": {},
   "outputs": [
    {
     "name": "stdout",
     "output_type": "stream",
     "text": [
      "test set acc: 0.47412587412587415 AUROC:0.49601063829787234\n"
     ]
    }
   ],
   "source": [
    "clf.eval()\n",
    "output = clf(torch.from_numpy(X_test).to(torch.float32).cuda())\n",
    "scores_test = torch.sigmoid(output).cpu().data.numpy()\n",
    "pred_test=scores_test>0.5\n",
    "print(f'test set acc: {accuracy_score(y_test,pred_test)} AUROC:{roc_auc_score(y_test,scores_test)}')"
   ]
  }
 ],
 "metadata": {
  "kernelspec": {
   "display_name": "dl3.9",
   "language": "python",
   "name": "python3"
  },
  "language_info": {
   "codemirror_mode": {
    "name": "ipython",
    "version": 3
   },
   "file_extension": ".py",
   "mimetype": "text/x-python",
   "name": "python",
   "nbconvert_exporter": "python",
   "pygments_lexer": "ipython3",
   "version": "3.9.20"
  }
 },
 "nbformat": 4,
 "nbformat_minor": 2
}
