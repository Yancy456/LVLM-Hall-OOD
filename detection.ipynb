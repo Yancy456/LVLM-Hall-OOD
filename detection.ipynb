{
 "cells": [
  {
   "cell_type": "code",
   "execution_count": 1,
   "metadata": {},
   "outputs": [],
   "source": [
    "import os\n",
    "import torch\n",
    "import numpy as np\n",
    "from glob import glob\n",
    "from tqdm.auto import tqdm\n",
    "from sklearn.linear_model import LogisticRegression\n",
    "import pandas as pd\n",
    "from utils.store_data import ReadData\n",
    "import numpy as np\n",
    "from llm.prompt_loader import PromptLoader\n",
    "import torch\n",
    "from utils.arguments import Arguments\n",
    "from tqdm import tqdm\n",
    "from llm.ml_tools import svd_embed_score\n",
    "from sklearn.decomposition import PCA\n",
    "from metric_utils import get_measures, print_measures\n",
    "from linear_probe import get_linear_acc\n",
    "import os\n",
    "from sklearn.metrics import roc_auc_score,accuracy_score,roc_curve"
   ]
  },
  {
   "cell_type": "code",
   "execution_count": 2,
   "metadata": {},
   "outputs": [
    {
     "data": {
      "text/plain": [
       "{'img_path': '/root/autodl-fs/coco_images/train/COCO_train2014_000000580392.jpg',\n",
       " 'question': 'Is there a person in the image?\\nAnswer the question using a single word or phrase.',\n",
       " 'label': 1,\n",
       " 'question_id': 5429,\n",
       " 'category': 'popular',\n",
       " 'most_likely': {'embedding': array([[[-1.8997192e-03,  1.8188477e-02, -4.3640137e-03, ...,\n",
       "            9.0942383e-03, -9.1171265e-04,  1.2084961e-02]],\n",
       "  \n",
       "         [[-4.7264099e-03,  3.2684326e-02, -1.2527466e-02, ...,\n",
       "            1.9760132e-02, -2.6321411e-03,  1.7044067e-02]],\n",
       "  \n",
       "         [[-1.6998291e-02,  6.8298340e-02, -3.8452148e-02, ...,\n",
       "            5.6579590e-02,  1.0887146e-02,  3.4545898e-02]],\n",
       "  \n",
       "         ...,\n",
       "  \n",
       "         [[-1.3359375e+00,  1.0048828e+00, -6.2011719e-01, ...,\n",
       "            4.6752930e-01,  1.1005859e+00, -8.0664062e-01]],\n",
       "  \n",
       "         [[-9.2675781e-01,  1.1953125e+00, -8.7158203e-02, ...,\n",
       "            4.9487305e-01,  1.2353516e+00, -1.5087891e+00]],\n",
       "  \n",
       "         [[-6.4111328e-01, -2.6318359e-01, -2.4490356e-02, ...,\n",
       "            4.0954590e-02,  2.8002930e-01, -1.8378906e+00]]], dtype=float32),\n",
       "  'response': 'no'}}"
      ]
     },
     "execution_count": 2,
     "metadata": {},
     "output_type": "execute_result"
    }
   ],
   "source": [
    "data_reader=ReadData('/home/linear_probing/output/pope')\n",
    "data=data_reader.read_all()\n",
    "data[0]"
   ]
  },
  {
   "cell_type": "code",
   "execution_count": 3,
   "metadata": {},
   "outputs": [],
   "source": [
    "df=pd.DataFrame(data)"
   ]
  },
  {
   "cell_type": "code",
   "execution_count": 4,
   "metadata": {},
   "outputs": [
    {
     "data": {
      "text/html": [
       "<div>\n",
       "<style scoped>\n",
       "    .dataframe tbody tr th:only-of-type {\n",
       "        vertical-align: middle;\n",
       "    }\n",
       "\n",
       "    .dataframe tbody tr th {\n",
       "        vertical-align: top;\n",
       "    }\n",
       "\n",
       "    .dataframe thead th {\n",
       "        text-align: right;\n",
       "    }\n",
       "</style>\n",
       "<table border=\"1\" class=\"dataframe\">\n",
       "  <thead>\n",
       "    <tr style=\"text-align: right;\">\n",
       "      <th></th>\n",
       "      <th>img_path</th>\n",
       "      <th>question</th>\n",
       "      <th>label</th>\n",
       "      <th>question_id</th>\n",
       "      <th>category</th>\n",
       "      <th>most_likely</th>\n",
       "    </tr>\n",
       "  </thead>\n",
       "  <tbody>\n",
       "    <tr>\n",
       "      <th>0</th>\n",
       "      <td>/root/autodl-fs/coco_images/train/COCO_train20...</td>\n",
       "      <td>Is there a person in the image?\\nAnswer the qu...</td>\n",
       "      <td>1</td>\n",
       "      <td>5429</td>\n",
       "      <td>popular</td>\n",
       "      <td>{'embedding': [[[-0.00189972  0.01818848 -0.00...</td>\n",
       "    </tr>\n",
       "    <tr>\n",
       "      <th>1</th>\n",
       "      <td>/root/autodl-fs/coco_images/train/COCO_train20...</td>\n",
       "      <td>Is there a snowboard in the image?\\nAnswer the...</td>\n",
       "      <td>1</td>\n",
       "      <td>1619</td>\n",
       "      <td>adversarial</td>\n",
       "      <td>{'embedding': [[[-0.00189972  0.01818848 -0.00...</td>\n",
       "    </tr>\n",
       "    <tr>\n",
       "      <th>2</th>\n",
       "      <td>/root/autodl-fs/coco_images/train/COCO_train20...</td>\n",
       "      <td>Is there a car in the image?\\nAnswer the quest...</td>\n",
       "      <td>0</td>\n",
       "      <td>846</td>\n",
       "      <td>popular</td>\n",
       "      <td>{'embedding': [[[-0.00189972  0.01818848 -0.00...</td>\n",
       "    </tr>\n",
       "    <tr>\n",
       "      <th>3</th>\n",
       "      <td>/root/autodl-fs/coco_images/train/COCO_train20...</td>\n",
       "      <td>Is there a skateboard in the image?\\nAnswer th...</td>\n",
       "      <td>0</td>\n",
       "      <td>1906</td>\n",
       "      <td>random</td>\n",
       "      <td>{'embedding': [[[-0.00189972  0.01818848 -0.00...</td>\n",
       "    </tr>\n",
       "    <tr>\n",
       "      <th>4</th>\n",
       "      <td>/root/autodl-fs/coco_images/train/COCO_train20...</td>\n",
       "      <td>Is there a microwave in the image?\\nAnswer the...</td>\n",
       "      <td>0</td>\n",
       "      <td>4598</td>\n",
       "      <td>random</td>\n",
       "      <td>{'embedding': [[[-0.00189972  0.01818848 -0.00...</td>\n",
       "    </tr>\n",
       "  </tbody>\n",
       "</table>\n",
       "</div>"
      ],
      "text/plain": [
       "                                            img_path  \\\n",
       "0  /root/autodl-fs/coco_images/train/COCO_train20...   \n",
       "1  /root/autodl-fs/coco_images/train/COCO_train20...   \n",
       "2  /root/autodl-fs/coco_images/train/COCO_train20...   \n",
       "3  /root/autodl-fs/coco_images/train/COCO_train20...   \n",
       "4  /root/autodl-fs/coco_images/train/COCO_train20...   \n",
       "\n",
       "                                            question  label  question_id  \\\n",
       "0  Is there a person in the image?\\nAnswer the qu...      1         5429   \n",
       "1  Is there a snowboard in the image?\\nAnswer the...      1         1619   \n",
       "2  Is there a car in the image?\\nAnswer the quest...      0          846   \n",
       "3  Is there a skateboard in the image?\\nAnswer th...      0         1906   \n",
       "4  Is there a microwave in the image?\\nAnswer the...      0         4598   \n",
       "\n",
       "      category                                        most_likely  \n",
       "0      popular  {'embedding': [[[-0.00189972  0.01818848 -0.00...  \n",
       "1  adversarial  {'embedding': [[[-0.00189972  0.01818848 -0.00...  \n",
       "2      popular  {'embedding': [[[-0.00189972  0.01818848 -0.00...  \n",
       "3       random  {'embedding': [[[-0.00189972  0.01818848 -0.00...  \n",
       "4       random  {'embedding': [[[-0.00189972  0.01818848 -0.00...  "
      ]
     },
     "execution_count": 4,
     "metadata": {},
     "output_type": "execute_result"
    }
   ],
   "source": [
    "df.head()"
   ]
  },
  {
   "cell_type": "code",
   "execution_count": 5,
   "metadata": {},
   "outputs": [],
   "source": [
    "gt_label=df['label'].to_numpy()"
   ]
  },
  {
   "cell_type": "code",
   "execution_count": 6,
   "metadata": {},
   "outputs": [
    {
     "name": "stdout",
     "output_type": "stream",
     "text": [
      "trainset length:600\n",
      "validset length:300\n",
      "testset length:100\n",
      "trainset postive: 299 negative: 301\n",
      "testset postive: 56 negative: 44\n"
     ]
    }
   ],
   "source": [
    "length=len(data)\n",
    "wild_ratio=0.9\n",
    "\n",
    "all_indices = np.random.permutation(length)\n",
    "train_val_idxs = all_indices[:int(\n",
    "    wild_ratio * length)]  # trainset and validation test index\n",
    "\n",
    "test_idxs=all_indices[int(\n",
    "    wild_ratio * length):]  #test index\n",
    "\n",
    "validset_len = 300\n",
    "# exclude validation samples.\n",
    "train_idxs = train_val_idxs[:len(\n",
    "    train_val_idxs) - validset_len]  # trainset index\n",
    "val_idxs = train_val_idxs[len(\n",
    "    train_val_idxs) - validset_len:]  # validation index\n",
    "gt_label_test = []\n",
    "gt_label_wild = []\n",
    "gt_label_val = []\n",
    "\n",
    "for i in range(length):\n",
    "    if i not in train_val_idxs:\n",
    "        gt_label_test.extend(gt_label[i: i+1])\n",
    "    elif i in train_idxs:\n",
    "        gt_label_wild.extend(gt_label[i: i+1])\n",
    "    else:\n",
    "        gt_label_val.extend(gt_label[i: i+1])\n",
    "\n",
    "'''get testset, wildset and valset. The valset is used for determining the hype-parameters'''\n",
    "gt_label_test = np.asarray(gt_label_test)\n",
    "gt_label_wild = np.asarray(gt_label_wild)\n",
    "gt_label_val = np.asarray(gt_label_val)\n",
    "\n",
    "print(f'trainset length:{len(gt_label_wild)}')\n",
    "print(f'validset length:{len(gt_label_val)}')\n",
    "print(f'testset length:{len(gt_label_test)}')\n",
    "print(f'trainset postive: {sum(gt_label_wild==1)} negative: {sum(gt_label_wild==0)}')\n",
    "print(\n",
    "    f'testset postive: {sum(gt_label_test==1)} negative: {sum(gt_label_test==0)}')"
   ]
  },
  {
   "cell_type": "code",
   "execution_count": 7,
   "metadata": {},
   "outputs": [
    {
     "data": {
      "text/plain": [
       "(1000, 33, 4096)"
      ]
     },
     "execution_count": 7,
     "metadata": {},
     "output_type": "execute_result"
    }
   ],
   "source": [
    "embed_generated = df['most_likely'].apply(lambda x: np.squeeze(x['embedding'])).to_list()\n",
    "embed_generated =np.stack(embed_generated)\n",
    "embed_generated.shape"
   ]
  },
  {
   "cell_type": "code",
   "execution_count": 8,
   "metadata": {},
   "outputs": [],
   "source": [
    "feat_indices_wild = []\n",
    "feat_indices_eval = []\n",
    "\n",
    "for i in range(length):\n",
    "    if i in train_idxs:\n",
    "        feat_indices_wild.extend(np.arange(i, i+1).tolist())\n",
    "    elif i in val_idxs:\n",
    "        feat_indices_eval.extend(np.arange(i, i + 1).tolist())\n",
    "embed_generated_wild = embed_generated[feat_indices_wild][:, 1:, :]\n",
    "embed_generated_eval = embed_generated[feat_indices_eval][:, 1:, :]"
   ]
  },
  {
   "cell_type": "code",
   "execution_count": 26,
   "metadata": {},
   "outputs": [
    {
     "name": "stderr",
     "output_type": "stream",
     "text": [
      "  0%|          | 0/10 [00:00<?, ?it/s]"
     ]
    },
    {
     "name": "stderr",
     "output_type": "stream",
     "text": [
      " 10%|█         | 1/10 [00:00<00:06,  1.29it/s]"
     ]
    },
    {
     "name": "stdout",
     "output_type": "stream",
     "text": [
      "k:  1 AUROC:82.972191323693 layer:  6 mean:  0 svd:  0\n"
     ]
    },
    {
     "name": "stderr",
     "output_type": "stream",
     "text": [
      " 20%|██        | 2/10 [00:01<00:05,  1.40it/s]"
     ]
    },
    {
     "name": "stdout",
     "output_type": "stream",
     "text": [
      "k:  2 AUROC:83.7463848720801 layer:  30 mean:  0 svd:  0\n"
     ]
    },
    {
     "name": "stderr",
     "output_type": "stream",
     "text": [
      " 30%|███       | 3/10 [00:02<00:04,  1.47it/s]"
     ]
    },
    {
     "name": "stdout",
     "output_type": "stream",
     "text": [
      "k:  3 AUROC:81.03225806451611 layer:  27 mean:  0 svd:  0\n"
     ]
    },
    {
     "name": "stderr",
     "output_type": "stream",
     "text": [
      " 40%|████      | 4/10 [00:02<00:04,  1.45it/s]"
     ]
    },
    {
     "name": "stdout",
     "output_type": "stream",
     "text": [
      "k:  4 AUROC:80.88542825361512 layer:  9 mean:  0 svd:  0\n"
     ]
    },
    {
     "name": "stderr",
     "output_type": "stream",
     "text": [
      " 50%|█████     | 5/10 [00:03<00:03,  1.42it/s]"
     ]
    },
    {
     "name": "stdout",
     "output_type": "stream",
     "text": [
      "k:  5 AUROC:80.98776418242491 layer:  27 mean:  0 svd:  0\n"
     ]
    },
    {
     "name": "stderr",
     "output_type": "stream",
     "text": [
      " 60%|██████    | 6/10 [00:04<00:02,  1.42it/s]"
     ]
    },
    {
     "name": "stdout",
     "output_type": "stream",
     "text": [
      "k:  6 AUROC:81.4060066740823 layer:  27 mean:  0 svd:  0\n"
     ]
    },
    {
     "name": "stderr",
     "output_type": "stream",
     "text": [
      " 70%|███████   | 7/10 [00:04<00:02,  1.40it/s]"
     ]
    },
    {
     "name": "stdout",
     "output_type": "stream",
     "text": [
      "k:  7 AUROC:81.45939933259179 layer:  27 mean:  0 svd:  0\n"
     ]
    },
    {
     "name": "stderr",
     "output_type": "stream",
     "text": [
      " 80%|████████  | 8/10 [00:05<00:01,  1.36it/s]"
     ]
    },
    {
     "name": "stdout",
     "output_type": "stream",
     "text": [
      "k:  8 AUROC:81.15684093437153 layer:  27 mean:  0 svd:  0\n"
     ]
    },
    {
     "name": "stderr",
     "output_type": "stream",
     "text": [
      " 90%|█████████ | 9/10 [00:06<00:00,  1.29it/s]"
     ]
    },
    {
     "name": "stdout",
     "output_type": "stream",
     "text": [
      "k:  9 AUROC:81.39265850945495 layer:  27 mean:  0 svd:  0\n"
     ]
    },
    {
     "name": "stderr",
     "output_type": "stream",
     "text": [
      "100%|██████████| 10/10 [00:07<00:00,  1.33it/s]"
     ]
    },
    {
     "name": "stdout",
     "output_type": "stream",
     "text": [
      "k:  10 AUROC:81.64627363737486 layer:  27 mean:  0 svd:  0\n",
      "best layers:27\n",
      "\t\t\t\tdirect-projection\n",
      "  FPR95 AUROC AUPR\n",
      "& 68.18 & 87.42 & 89.75\n"
     ]
    },
    {
     "name": "stderr",
     "output_type": "stream",
     "text": [
      "\n"
     ]
    }
   ],
   "source": [
    "# k_span is the max k value\n",
    "# graid search for best hyper-parameters on validation set, and store them into returned_results\n",
    "weighted_svd=True\n",
    "returned_results = svd_embed_score(embed_generated_eval, gt_label_val,\n",
    "                                   begin_k=1, k_span=11, mean=0, svd=0, weight=weighted_svd)\n",
    "\n",
    "pca_model = PCA(n_components=returned_results['k'], whiten=False).fit(\n",
    "    embed_generated_wild[:, returned_results['best_layer'], :])\n",
    "projection = pca_model.components_.T\n",
    "if weighted_svd:\n",
    "    projection = pca_model.singular_values_ * projection\n",
    "scores = np.mean(np.matmul(\n",
    "    embed_generated_wild[:, returned_results['best_layer'], :], projection), -1, keepdims=True)\n",
    "assert scores.shape[1] == 1\n",
    "best_scores = np.sqrt(np.sum(np.square(scores), axis=1)\n",
    "                      ) * returned_results['best_sign']\n",
    "\n",
    "'''get score for direct projection'''\n",
    "# direct projection\n",
    "print(f\"best layers:{returned_results['best_layer']}\")\n",
    "feat_indices_test = []\n",
    "for i in range(length):\n",
    "    if i not in train_val_idxs:\n",
    "        feat_indices_test.extend(np.arange(1 * i, 1 * i + 1).tolist())\n",
    "\n",
    "embed_generated_test = embed_generated[feat_indices_test][:, 1:, :]\n",
    "\n",
    "\n",
    "test_scores = np.mean(np.matmul(embed_generated_test[:, returned_results['best_layer'], :],\n",
    "                                projection), -1, keepdims=True)\n",
    "\n",
    "assert test_scores.shape[1] == 1\n",
    "test_scores = np.sqrt(np.sum(np.square(test_scores), axis=1))\n",
    "\n",
    "measures = get_measures(returned_results['best_sign'] * test_scores[gt_label_test == 1],\n",
    "                        returned_results['best_sign'] * test_scores[gt_label_test == 0], plot=False)\n",
    "print_measures(measures[0], measures[1], measures[2], 'direct-projection')"
   ]
  },
  {
   "cell_type": "code",
   "execution_count": 10,
   "metadata": {},
   "outputs": [
    {
     "name": "stdout",
     "output_type": "stream",
     "text": [
      "best_score distributes in range: 5290.40576171875-0.3675293028354645\n"
     ]
    }
   ],
   "source": [
    "print(f'best_score distributes in range: {best_scores.max()}-{best_scores.min()}')"
   ]
  },
  {
   "cell_type": "code",
   "execution_count": 11,
   "metadata": {},
   "outputs": [],
   "source": [
    "feat_indices_test = []\n",
    "for i in range(length):\n",
    "    if i not in train_val_idxs:\n",
    "        feat_indices_test.extend(np.arange(1 * i, 1 * i + 1).tolist())\n",
    "\n",
    "embed_generated_test = embed_generated[feat_indices_test][:, 1:, :]\n"
   ]
  },
  {
   "cell_type": "code",
   "execution_count": 28,
   "metadata": {},
   "outputs": [
    {
     "name": "stderr",
     "output_type": "stream",
     "text": [
      "  0%|          | 0/38 [00:00<?, ?it/s]"
     ]
    },
    {
     "name": "stderr",
     "output_type": "stream",
     "text": [
      "  3%|▎         | 1/38 [00:00<00:32,  1.14it/s]"
     ]
    },
    {
     "name": "stdout",
     "output_type": "stream",
     "text": [
      "thres:  32.165844 best result:  [np.float64(84.98376623376623)] best_layer:  13 best_accuracy 0.81 linear best_threshold 3.6094322e-22\n"
     ]
    },
    {
     "name": "stderr",
     "output_type": "stream",
     "text": [
      "  5%|▌         | 2/38 [00:01<00:32,  1.11it/s]"
     ]
    },
    {
     "name": "stdout",
     "output_type": "stream",
     "text": [
      "thres:  66.876465 best result:  [np.float64(86.32305194805195)] best_layer:  13 best_accuracy 0.81 linear best_threshold 9.457922e-23\n"
     ]
    },
    {
     "name": "stderr",
     "output_type": "stream",
     "text": [
      "  8%|▊         | 3/38 [00:02<00:31,  1.13it/s]"
     ]
    },
    {
     "name": "stdout",
     "output_type": "stream",
     "text": [
      "thres:  83.930824 best result:  [np.float64(86.68831168831169)] best_layer:  13 best_accuracy 0.81 linear best_threshold 8.188677e-23\n"
     ]
    },
    {
     "name": "stderr",
     "output_type": "stream",
     "text": [
      " 11%|█         | 4/38 [00:03<00:30,  1.11it/s]"
     ]
    },
    {
     "name": "stdout",
     "output_type": "stream",
     "text": [
      "thres:  125.57555 best result:  [np.float64(81.4935064935065)] best_layer:  13 best_accuracy 0.78 linear best_threshold 6.502907e-23\n"
     ]
    },
    {
     "name": "stderr",
     "output_type": "stream",
     "text": [
      " 13%|█▎        | 5/38 [00:04<00:29,  1.13it/s]"
     ]
    },
    {
     "name": "stdout",
     "output_type": "stream",
     "text": [
      "thres:  172.44807 best result:  [np.float64(82.58928571428571)] best_layer:  13 best_accuracy 0.78 linear best_threshold 1.3205922e-22\n"
     ]
    },
    {
     "name": "stderr",
     "output_type": "stream",
     "text": [
      " 16%|█▌        | 6/38 [00:05<00:28,  1.12it/s]"
     ]
    },
    {
     "name": "stdout",
     "output_type": "stream",
     "text": [
      "thres:  188.12971 best result:  [np.float64(87.5405844155844)] best_layer:  13 best_accuracy 0.85 linear best_threshold 2.008645e-22\n"
     ]
    },
    {
     "name": "stderr",
     "output_type": "stream",
     "text": [
      " 18%|█▊        | 7/38 [00:06<00:27,  1.13it/s]"
     ]
    },
    {
     "name": "stdout",
     "output_type": "stream",
     "text": [
      "thres:  211.75664 best result:  [np.float64(81.65584415584416)] best_layer:  13 best_accuracy 0.79 linear best_threshold 4.1904638e-23\n"
     ]
    },
    {
     "name": "stderr",
     "output_type": "stream",
     "text": [
      "\n"
     ]
    },
    {
     "ename": "KeyboardInterrupt",
     "evalue": "",
     "output_type": "error",
     "traceback": [
      "\u001b[0;31m---------------------------------------------------------------------------\u001b[0m",
      "\u001b[0;31mKeyboardInterrupt\u001b[0m                         Traceback (most recent call last)",
      "Cell \u001b[0;32mIn[28], line 16\u001b[0m\n\u001b[1;32m     12\u001b[0m embed_train \u001b[38;5;241m=\u001b[39m np\u001b[38;5;241m.\u001b[39mconcatenate([true_wild], \u001b[38;5;241m0\u001b[39m) \u001b[38;5;66;03m# true label: 1; false label:0\u001b[39;00m\n\u001b[1;32m     13\u001b[0m label_train \u001b[38;5;241m=\u001b[39m np\u001b[38;5;241m.\u001b[39mconcatenate([np\u001b[38;5;241m.\u001b[39mones(\u001b[38;5;28mlen\u001b[39m(true_wild))], \u001b[38;5;241m0\u001b[39m)\n\u001b[1;32m     15\u001b[0m best_acc, final_acc, (\n\u001b[0;32m---> 16\u001b[0m     clf, best_state, best_preds, preds, labels_val), losses_train \u001b[38;5;241m=\u001b[39m \u001b[43mget_linear_acc\u001b[49m\u001b[43m(\u001b[49m\n\u001b[1;32m     17\u001b[0m \u001b[43m    \u001b[49m\u001b[43membed_train\u001b[49m\u001b[43m,\u001b[49m\n\u001b[1;32m     18\u001b[0m \u001b[43m    \u001b[49m\u001b[43mlabel_train\u001b[49m\u001b[43m,\u001b[49m\n\u001b[1;32m     19\u001b[0m \u001b[43m    \u001b[49m\u001b[43membed_train\u001b[49m\u001b[43m,\u001b[49m\n\u001b[1;32m     20\u001b[0m \u001b[43m    \u001b[49m\u001b[43mlabel_train\u001b[49m\u001b[43m,\u001b[49m\n\u001b[1;32m     21\u001b[0m \u001b[43m    \u001b[49m\u001b[38;5;241;43m2\u001b[39;49m\u001b[43m,\u001b[49m\u001b[43m \u001b[49m\u001b[43mepochs\u001b[49m\u001b[38;5;241;43m=\u001b[39;49m\u001b[38;5;241;43m50\u001b[39;49m\u001b[43m,\u001b[49m\n\u001b[1;32m     22\u001b[0m \u001b[43m    \u001b[49m\u001b[43mprint_ret\u001b[49m\u001b[38;5;241;43m=\u001b[39;49m\u001b[38;5;28;43;01mTrue\u001b[39;49;00m\u001b[43m,\u001b[49m\n\u001b[1;32m     23\u001b[0m \u001b[43m    \u001b[49m\u001b[43mbatch_size\u001b[49m\u001b[38;5;241;43m=\u001b[39;49m\u001b[38;5;241;43m512\u001b[39;49m\u001b[43m,\u001b[49m\n\u001b[1;32m     24\u001b[0m \u001b[43m    \u001b[49m\u001b[43mcosine\u001b[49m\u001b[38;5;241;43m=\u001b[39;49m\u001b[38;5;28;43;01mTrue\u001b[39;49;00m\u001b[43m,\u001b[49m\n\u001b[1;32m     25\u001b[0m \u001b[43m    \u001b[49m\u001b[43mnonlinear\u001b[49m\u001b[38;5;241;43m=\u001b[39;49m\u001b[38;5;28;43;01mTrue\u001b[39;49;00m\u001b[43m,\u001b[49m\n\u001b[1;32m     26\u001b[0m \u001b[43m    \u001b[49m\u001b[43mlearning_rate\u001b[49m\u001b[38;5;241;43m=\u001b[39;49m\u001b[38;5;241;43m0.05\u001b[39;49m\u001b[43m,\u001b[49m\n\u001b[1;32m     27\u001b[0m \u001b[43m    \u001b[49m\u001b[43mweight_decay\u001b[49m\u001b[38;5;241;43m=\u001b[39;49m\u001b[38;5;241;43m0.0003\u001b[39;49m\u001b[43m)\u001b[49m\n\u001b[1;32m     29\u001b[0m clf\u001b[38;5;241m.\u001b[39meval()\n\u001b[1;32m     30\u001b[0m output \u001b[38;5;241m=\u001b[39m clf(torch\u001b[38;5;241m.\u001b[39mfrom_numpy(\n\u001b[1;32m     31\u001b[0m     embed_generated_test[:, layer, :])\u001b[38;5;241m.\u001b[39mto(torch\u001b[38;5;241m.\u001b[39mfloat32)\u001b[38;5;241m.\u001b[39mcuda())\n",
      "File \u001b[0;32m/home/linear_probing/linear_probe.py:295\u001b[0m, in \u001b[0;36mget_linear_acc\u001b[0;34m(ftrain, ltrain, ftest, ltest, n_cls, epochs, args, classifier, print_ret, normed, nonlinear, learning_rate, weight_decay, batch_size, cosine, lr_decay_epochs)\u001b[0m\n\u001b[1;32m    292\u001b[0m loss_train, acc \u001b[38;5;241m=\u001b[39m train(train_loader, classifier, criterion, optimizer, epoch, print_freq\u001b[38;5;241m=\u001b[39mopt\u001b[38;5;241m.\u001b[39mprint_freq)\n\u001b[1;32m    294\u001b[0m \u001b[38;5;66;03m# eval for one epoch\u001b[39;00m\n\u001b[0;32m--> 295\u001b[0m loss, val_acc, preds, labels_out \u001b[38;5;241m=\u001b[39m \u001b[43mvalidate\u001b[49m\u001b[43m(\u001b[49m\u001b[43mval_loader\u001b[49m\u001b[43m,\u001b[49m\u001b[43m \u001b[49m\u001b[43mclassifier\u001b[49m\u001b[43m,\u001b[49m\u001b[43m \u001b[49m\u001b[43mcriterion\u001b[49m\u001b[43m,\u001b[49m\u001b[43m \u001b[49m\u001b[43mprint_freq\u001b[49m\u001b[38;5;241;43m=\u001b[39;49m\u001b[43mopt\u001b[49m\u001b[38;5;241;43m.\u001b[39;49m\u001b[43mprint_freq\u001b[49m\u001b[43m)\u001b[49m\n\u001b[1;32m    296\u001b[0m \u001b[38;5;28;01mif\u001b[39;00m val_acc \u001b[38;5;241m>\u001b[39m best_acc:\n\u001b[1;32m    297\u001b[0m     best_acc \u001b[38;5;241m=\u001b[39m val_acc\n",
      "File \u001b[0;32m/home/linear_probing/linear_probe.py:203\u001b[0m, in \u001b[0;36mvalidate\u001b[0;34m(val_loader, classifier, criterion, print_freq)\u001b[0m\n\u001b[1;32m    201\u001b[0m end \u001b[38;5;241m=\u001b[39m time\u001b[38;5;241m.\u001b[39mtime()\n\u001b[1;32m    202\u001b[0m \u001b[38;5;28;01mfor\u001b[39;00m idx, (features, labels) \u001b[38;5;129;01min\u001b[39;00m \u001b[38;5;28menumerate\u001b[39m(val_loader):\n\u001b[0;32m--> 203\u001b[0m     features \u001b[38;5;241m=\u001b[39m \u001b[43mfeatures\u001b[49m\u001b[38;5;241;43m.\u001b[39;49m\u001b[43mfloat\u001b[49m\u001b[43m(\u001b[49m\u001b[43m)\u001b[49m\u001b[38;5;241;43m.\u001b[39;49m\u001b[43mcuda\u001b[49m\u001b[43m(\u001b[49m\u001b[43m)\u001b[49m\n\u001b[1;32m    204\u001b[0m     labels_out \u001b[38;5;241m=\u001b[39m np\u001b[38;5;241m.\u001b[39mappend(labels_out, labels)\n\u001b[1;32m    205\u001b[0m     labels \u001b[38;5;241m=\u001b[39m labels\u001b[38;5;241m.\u001b[39mlong()\u001b[38;5;241m.\u001b[39mcuda()\n",
      "\u001b[0;31mKeyboardInterrupt\u001b[0m: "
     ]
    }
   ],
   "source": [
    "thresholds = np.linspace(0, 1, num=40)[1:-1]\n",
    "\n",
    "# graid search\n",
    "auroc_over_thres = []\n",
    "for thres_wild in tqdm(thresholds):\n",
    "    best_auroc = 0\n",
    "    best_accuracy=0\n",
    "    layer=13\n",
    "    \n",
    "    true_wild = embed_generated_wild[:, layer,:]\n",
    "    \n",
    "    embed_train = np.concatenate([true_wild], 0) # true label: 1; false label:0\n",
    "    label_train = np.concatenate([np.ones(len(true_wild))], 0)\n",
    "\n",
    "    best_acc, final_acc, (\n",
    "        clf, best_state, best_preds, preds, labels_val), losses_train = get_linear_acc(\n",
    "        embed_train,\n",
    "        label_train,\n",
    "        embed_train,\n",
    "        label_train,\n",
    "        2, epochs=50,\n",
    "        print_ret=True,\n",
    "        batch_size=512,\n",
    "        cosine=True,\n",
    "        nonlinear=True,\n",
    "        learning_rate=0.05,\n",
    "        weight_decay=0.0003)\n",
    "\n",
    "    clf.eval()\n",
    "    output = clf(torch.from_numpy(\n",
    "        embed_generated_test[:, layer, :]).to(torch.float32).cuda())\n",
    "    pca_wild_score_binary_cls = torch.sigmoid(output)\n",
    "\n",
    "    pca_wild_score_binary_cls = pca_wild_score_binary_cls.cpu().data.numpy()\n",
    "\n",
    "    #pred_labels=(pca_wild_score_binary_cls >= 0.5).astype(int)\n",
    "    \n",
    "    #pred_acc=accuracy_score(gt_label_test,pred_labels)\n",
    "\n",
    "    if np.isnan(pca_wild_score_binary_cls).sum() > 0:\n",
    "        breakpoint()\n",
    "    measures = get_measures(pca_wild_score_binary_cls[gt_label_test == 1],\n",
    "                            pca_wild_score_binary_cls[gt_label_test == 0], plot=False)\n",
    "    \n",
    "    #auroc=roc_auc_score(gt_label_test,pca_wild_score_binary_cls)\n",
    "    #if auroc> best_auroc:\n",
    "    #    best_auroc=auroc\n",
    "    #    best_accuracy=pred_acc\n",
    "    #    best_layer=layer\n",
    "\n",
    "    #if pred_acc> best_accuracy:\n",
    "    #    best_accuracy=pred_acc\n",
    "    \n",
    "    if measures[0] > best_auroc:\n",
    "        best_auroc = measures[0]\n",
    "        best_result = [100 * measures[0]]\n",
    "\n",
    "        fpr, tpr, thresholds = roc_curve(gt_label_test,pca_wild_score_binary_cls)\n",
    "\n",
    "        # Calculate Youden's J statistic\n",
    "        youdens_j = tpr - fpr\n",
    "        # Find the index of the maximum J statistic \n",
    "        best_index = np.argmax(youdens_j) \n",
    "        best_threshold = thresholds[best_index]\n",
    "\n",
    "        pred_labels=(pca_wild_score_binary_cls >= best_threshold).astype(int)\n",
    "        best_accuracy=accuracy_score(gt_label_test,pred_labels)\n",
    "\n",
    "        best_layer = layer\n",
    "\n",
    "\n",
    "    print('thres: ', np.sort(best_scores)[\n",
    "            int(len(best_scores) * thres_wild)], 'best result: ',\n",
    "          best_result, 'best_layer: ', best_layer,'best_accuracy',best_accuracy,'linear best_threshold',best_threshold)"
   ]
  }
 ],
 "metadata": {
  "kernelspec": {
   "display_name": "dl3.9",
   "language": "python",
   "name": "python3"
  },
  "language_info": {
   "codemirror_mode": {
    "name": "ipython",
    "version": 3
   },
   "file_extension": ".py",
   "mimetype": "text/x-python",
   "name": "python",
   "nbconvert_exporter": "python",
   "pygments_lexer": "ipython3",
   "version": "3.9.20"
  }
 },
 "nbformat": 4,
 "nbformat_minor": 2
}
