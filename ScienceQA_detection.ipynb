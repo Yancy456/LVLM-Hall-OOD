{
 "cells": [
  {
   "cell_type": "code",
   "execution_count": 7,
   "metadata": {},
   "outputs": [],
   "source": [
    "import os\n",
    "import torch\n",
    "import numpy as np\n",
    "from glob import glob\n",
    "from tqdm.auto import tqdm\n",
    "from sklearn.linear_model import LogisticRegression\n",
    "import pandas as pd\n",
    "from utils.store_data import ReadData\n",
    "import numpy as np\n",
    "import torch\n",
    "from utils.arguments import Arguments\n",
    "from tqdm import tqdm\n",
    "from sklearn.decomposition import PCA\n",
    "from linear_probe import get_linear_acc\n",
    "import random\n",
    "import os\n",
    "from sklearn.metrics import roc_auc_score,accuracy_score,roc_curve,f1_score\n",
    "from answer_judge import load_judge"
   ]
  },
  {
   "cell_type": "code",
   "execution_count": 8,
   "metadata": {},
   "outputs": [],
   "source": [
    "data_reader=ReadData('/root/autodl-fs/hallscope/ScienceQA/train')\n",
    "data=data_reader.read_all()\n",
    "\n",
    "random.shuffle(data)\n",
    "\n",
    "# Set the seed np.random.seed(42) # Generate random numbers \n",
    "random_numbers = np.random.rand(5)"
   ]
  },
  {
   "cell_type": "code",
   "execution_count": 9,
   "metadata": {},
   "outputs": [],
   "source": [
    "df=pd.DataFrame(data)"
   ]
  },
  {
   "cell_type": "code",
   "execution_count": 10,
   "metadata": {},
   "outputs": [
    {
     "data": {
      "text/html": [
       "<div>\n",
       "<style scoped>\n",
       "    .dataframe tbody tr th:only-of-type {\n",
       "        vertical-align: middle;\n",
       "    }\n",
       "\n",
       "    .dataframe tbody tr th {\n",
       "        vertical-align: top;\n",
       "    }\n",
       "\n",
       "    .dataframe thead th {\n",
       "        text-align: right;\n",
       "    }\n",
       "</style>\n",
       "<table border=\"1\" class=\"dataframe\">\n",
       "  <thead>\n",
       "    <tr style=\"text-align: right;\">\n",
       "      <th></th>\n",
       "      <th>question</th>\n",
       "      <th>answer</th>\n",
       "      <th>most_likely</th>\n",
       "    </tr>\n",
       "  </thead>\n",
       "  <tbody>\n",
       "    <tr>\n",
       "      <th>0</th>\n",
       "      <td>[Question:Complete the sentence.\\nSewing an ap...</td>\n",
       "      <td>[tensor(1), tensor(0), tensor(0), tensor(2)]</td>\n",
       "      <td>{'embedding': [[[ 7.2813034e-04  6.3419342e-04...</td>\n",
       "    </tr>\n",
       "    <tr>\n",
       "      <th>1</th>\n",
       "      <td>[Question:What do these two changes have in co...</td>\n",
       "      <td>[tensor(0), tensor(0)]</td>\n",
       "      <td>{'embedding': [[[ 0.00308228  0.01495361 -0.01...</td>\n",
       "    </tr>\n",
       "    <tr>\n",
       "      <th>2</th>\n",
       "      <td>[Question:Which of these states is farthest no...</td>\n",
       "      <td>[tensor(0), tensor(1), tensor(0), tensor(1)]</td>\n",
       "      <td>{'embedding': [[[ 7.2813034e-04  6.3419342e-04...</td>\n",
       "    </tr>\n",
       "  </tbody>\n",
       "</table>\n",
       "</div>"
      ],
      "text/plain": [
       "                                            question  \\\n",
       "0  [Question:Complete the sentence.\\nSewing an ap...   \n",
       "1  [Question:What do these two changes have in co...   \n",
       "2  [Question:Which of these states is farthest no...   \n",
       "\n",
       "                                         answer  \\\n",
       "0  [tensor(1), tensor(0), tensor(0), tensor(2)]   \n",
       "1                        [tensor(0), tensor(0)]   \n",
       "2  [tensor(0), tensor(1), tensor(0), tensor(1)]   \n",
       "\n",
       "                                         most_likely  \n",
       "0  {'embedding': [[[ 7.2813034e-04  6.3419342e-04...  \n",
       "1  {'embedding': [[[ 0.00308228  0.01495361 -0.01...  \n",
       "2  {'embedding': [[[ 7.2813034e-04  6.3419342e-04...  "
      ]
     },
     "execution_count": 10,
     "metadata": {},
     "output_type": "execute_result"
    }
   ],
   "source": [
    "df.head()"
   ]
  },
  {
   "cell_type": "code",
   "execution_count": 13,
   "metadata": {},
   "outputs": [
    {
     "data": {
      "text/plain": [
       "['Question:What do these two changes have in common?\\ntearing a piece of paper\\nbreaking a piece of glass\\nAnswer the Question with following choices.\\nChoices: A.Both are only physical changes. B.Both are chemical changes. C.Both are caused by cooling. D.Both are caused by heating.\\n',\n",
       " 'Question:Which of these organisms contains matter that was once part of the phytoplankton?\\nAnswer the Question with following choices.\\nChoices: A.black rockfish B.sea otter\\n']"
      ]
     },
     "execution_count": 13,
     "metadata": {},
     "output_type": "execute_result"
    }
   ],
   "source": [
    "df.iloc[1]['question']"
   ]
  },
  {
   "cell_type": "code",
   "execution_count": 14,
   "metadata": {},
   "outputs": [
    {
     "data": {
      "text/plain": [
       "['A.Both are only physical changes.', 'A. black rockfish']"
      ]
     },
     "execution_count": 14,
     "metadata": {},
     "output_type": "execute_result"
    }
   ],
   "source": [
    "df.iloc[1]['most_likely']['response']"
   ]
  },
  {
   "cell_type": "code",
   "execution_count": 5,
   "metadata": {},
   "outputs": [
    {
     "data": {
      "text/plain": [
       "(3573, 33, 4096)"
      ]
     },
     "execution_count": 5,
     "metadata": {},
     "output_type": "execute_result"
    }
   ],
   "source": [
    "embeddings=df['most_likely'].apply(lambda x: x['embedding']).to_list()\n",
    "embeddings=np.concatenate(embeddings,axis=0)\n",
    "embeddings.shape"
   ]
  },
  {
   "cell_type": "code",
   "execution_count": 6,
   "metadata": {},
   "outputs": [
    {
     "name": "stdout",
     "output_type": "stream",
     "text": [
      "There are 3573 questions. 1800 answers are safe and 1773 answers are unsafe\n"
     ]
    }
   ],
   "source": [
    "gt_label=df['is_safe'].to_list()\n",
    "gt_label=np.concatenate(gt_label,axis=0)\n",
    "print(f'There are {len(gt_label)} questions. {sum(gt_label==1)} answers are safe and {sum(gt_label==0)} answers are unsafe')"
   ]
  },
  {
   "cell_type": "code",
   "execution_count": 7,
   "metadata": {},
   "outputs": [],
   "source": [
    "responses=df['most_likely'].apply(lambda x: x['response']).to_list()\n",
    "resps=[]\n",
    "for x in responses:\n",
    "    resps+=x"
   ]
  },
  {
   "cell_type": "code",
   "execution_count": 8,
   "metadata": {},
   "outputs": [
    {
     "data": {
      "text/plain": [
       "['Yes', 'Yes', 'Yes', 'Yes', 'Yes']"
      ]
     },
     "execution_count": 8,
     "metadata": {},
     "output_type": "execute_result"
    }
   ],
   "source": [
    "resps[:5]"
   ]
  },
  {
   "cell_type": "code",
   "execution_count": 9,
   "metadata": {},
   "outputs": [],
   "source": [
    "is_hall=[]\n",
    "judge=load_judge(dataset='MMSafety',prompt_type='mq')\n",
    "for i,x in enumerate(resps):\n",
    "    is_hall.append(judge.check(x,gt_label[i]))\n",
    "is_hall=np.array(is_hall)"
   ]
  },
  {
   "cell_type": "code",
   "execution_count": 10,
   "metadata": {},
   "outputs": [
    {
     "name": "stdout",
     "output_type": "stream",
     "text": [
      "There are 3573 responses. 1862 answer correctly and 1711 answer wrongly\n"
     ]
    }
   ],
   "source": [
    "print(f'There are {len(is_hall)} responses. {sum(is_hall==1)} answer correctly and {sum(is_hall==0)} answer wrongly')"
   ]
  },
  {
   "cell_type": "code",
   "execution_count": 11,
   "metadata": {},
   "outputs": [
    {
     "name": "stdout",
     "output_type": "stream",
     "text": [
      "trainset length:1858\n",
      "validset length:1000\n",
      "testset length:715\n",
      "trainset postive: 967 negative: 891\n",
      "valset postive: 531 negative: 469\n",
      "testset postive: 364 negative: 351\n"
     ]
    }
   ],
   "source": [
    "length=len(is_hall)\n",
    "train_rate=0.8\n",
    "\n",
    "all_indices = np.random.permutation(length)\n",
    "train_val_idxs = all_indices[:int(\n",
    "    train_rate * length)]  # trainset and validation index\n",
    "\n",
    "test_idxs=all_indices[int(\n",
    "    train_rate * length):]  #test index\n",
    "\n",
    "validset_len = 1000\n",
    "# exclude validation samples.\n",
    "train_idxs = train_val_idxs[:len(\n",
    "    train_val_idxs) - validset_len]  # trainset index\n",
    "val_idxs = train_val_idxs[len(\n",
    "    train_val_idxs) - validset_len:]  # validation index\n",
    "hall_label_test = []\n",
    "hall_label_wild = []\n",
    "hall_label_val = []\n",
    "\n",
    "'''get testset, wildset and valset. The valset is used for determining the hype-parameters'''\n",
    "hall_label_test = is_hall[test_idxs]\n",
    "hall_label_wild = is_hall[train_idxs]\n",
    "hall_label_val = is_hall[val_idxs]\n",
    "\n",
    "print(f'trainset length:{len(hall_label_wild)}')\n",
    "print(f'validset length:{len(hall_label_val)}')\n",
    "print(f'testset length:{len(hall_label_test)}')\n",
    "print(f'trainset postive: {sum(hall_label_wild==1)} negative: {sum(hall_label_wild==0)}')\n",
    "print(f'valset postive: {sum(hall_label_val==1)} negative: {sum(hall_label_val==0)}')\n",
    "print(\n",
    "    f'testset postive: {sum(hall_label_test==1)} negative: {sum(hall_label_test==0)}')"
   ]
  },
  {
   "cell_type": "code",
   "execution_count": 12,
   "metadata": {},
   "outputs": [
    {
     "data": {
      "text/plain": [
       "(3573, 33, 4096)"
      ]
     },
     "execution_count": 12,
     "metadata": {},
     "output_type": "execute_result"
    }
   ],
   "source": [
    "all_embeddings = embeddings\n",
    "all_embeddings.shape"
   ]
  },
  {
   "cell_type": "code",
   "execution_count": 13,
   "metadata": {},
   "outputs": [],
   "source": [
    "embedding_train = all_embeddings[train_idxs][:, 1:, :]\n",
    "embedding_val = all_embeddings[val_idxs][:, 1:, :]\n",
    "embedding_test = all_embeddings[test_idxs][:, 1:, :]"
   ]
  },
  {
   "cell_type": "code",
   "execution_count": 14,
   "metadata": {},
   "outputs": [],
   "source": [
    "%load_ext autoreload\n",
    "%autoreload 2\n",
    "from ml_utils.grid_search import GridSearch\n",
    "from ml_utils.PCA_discriminator import PCADiscriminator\n",
    "from ml_utils.metrics import auroc,get_best_split_from_scores"
   ]
  },
  {
   "cell_type": "markdown",
   "metadata": {},
   "source": [
    "Grid Search for Best 'n_components' & 'layer'"
   ]
  },
  {
   "cell_type": "code",
   "execution_count": 15,
   "metadata": {},
   "outputs": [],
   "source": [
    "def evaluator(n_components,i_layer,X,y):\n",
    "    discriminator=PCADiscriminator(n_components,X[:,i_layer,:])\n",
    "    scores=discriminator.get_score()\n",
    "    return auroc(scores,y)"
   ]
  },
  {
   "cell_type": "code",
   "execution_count": 16,
   "metadata": {},
   "outputs": [
    {
     "name": "stdout",
     "output_type": "stream",
     "text": [
      "Grid Searching for best n_components,layer\n"
     ]
    },
    {
     "name": "stderr",
     "output_type": "stream",
     "text": [
      "  0%|          | 0/11 [00:00<?, ?it/s]"
     ]
    },
    {
     "name": "stdout",
     "output_type": "stream",
     "text": [
      "found best n_components:12,layer:0 Score: 0.48150691257192646\n",
      "found best n_components:12,layer:1 Score: 0.5814510980207919\n",
      "found best n_components:12,layer:2 Score: 0.5910520039030032\n",
      "found best n_components:12,layer:3 Score: 0.602287191965917\n",
      "found best n_components:12,layer:4 Score: 0.6688068936993804\n",
      "found best n_components:12,layer:5 Score: 0.7216781307345436\n",
      "found best n_components:12,layer:7 Score: 0.7618927155987616\n",
      "found best n_components:12,layer:12 Score: 0.7822590036098764\n",
      "found best n_components:12,layer:26 Score: 0.7849493452832688\n"
     ]
    },
    {
     "name": "stderr",
     "output_type": "stream",
     "text": [
      "  9%|▉         | 1/11 [00:02<00:22,  2.29s/it]"
     ]
    },
    {
     "name": "stdout",
     "output_type": "stream",
     "text": [
      "found best n_components:12,layer:29 Score: 0.7900288709800473\n"
     ]
    },
    {
     "name": "stderr",
     "output_type": "stream",
     "text": [
      " 27%|██▋       | 3/11 [00:06<00:18,  2.25s/it]"
     ]
    },
    {
     "name": "stdout",
     "output_type": "stream",
     "text": [
      "found best n_components:10,layer:29 Score: 0.7951766590774938\n"
     ]
    },
    {
     "name": "stderr",
     "output_type": "stream",
     "text": [
      " 55%|█████▍    | 6/11 [00:12<00:10,  2.06s/it]"
     ]
    },
    {
     "name": "stdout",
     "output_type": "stream",
     "text": [
      "found best n_components:7,layer:29 Score: 0.8028421251289959\n",
      "found best n_components:6,layer:27 Score: 0.8031031284256682\n",
      "found best n_components:6,layer:29 Score: 0.813470982456563\n"
     ]
    },
    {
     "name": "stderr",
     "output_type": "stream",
     "text": [
      " 73%|███████▎  | 8/11 [00:16<00:06,  2.08s/it]"
     ]
    },
    {
     "name": "stdout",
     "output_type": "stream",
     "text": [
      "found best n_components:5,layer:30 Score: 0.8139729118732408\n"
     ]
    },
    {
     "name": "stderr",
     "output_type": "stream",
     "text": [
      " 82%|████████▏ | 9/11 [00:18<00:04,  2.05s/it]"
     ]
    },
    {
     "name": "stdout",
     "output_type": "stream",
     "text": [
      "found best n_components:4,layer:29 Score: 0.8281995992595538\n"
     ]
    },
    {
     "name": "stderr",
     "output_type": "stream",
     "text": [
      "100%|██████████| 11/11 [00:22<00:00,  2.06s/it]\n"
     ]
    }
   ],
   "source": [
    "# graid search for best hyper-parameters on validation set\n",
    "grid={\n",
    "    'n_components':range(12,1,-1),\n",
    "    'layer':range(embedding_val.shape[1])\n",
    "}\n",
    "grid_search=GridSearch(evaluator,grid,embedding_val,hall_label_val)\n",
    "best_paras=grid_search.search()"
   ]
  },
  {
   "cell_type": "code",
   "execution_count": null,
   "metadata": {},
   "outputs": [
    {
     "data": {
      "text/plain": [
       "{'n_components': 4, 'layer': 29, 'best_score': np.float64(0.8281995992595538)}"
      ]
     },
     "execution_count": 17,
     "metadata": {},
     "output_type": "execute_result"
    }
   ],
   "source": [
    "best_paras"
   ]
  },
  {
   "cell_type": "code",
   "execution_count": 18,
   "metadata": {},
   "outputs": [],
   "source": [
    "best_layer=best_paras['layer']"
   ]
  },
  {
   "cell_type": "markdown",
   "metadata": {},
   "source": [
    "View Results on Training set and Test set"
   ]
  },
  {
   "cell_type": "code",
   "execution_count": 19,
   "metadata": {},
   "outputs": [],
   "source": [
    "discriminator=PCADiscriminator(best_paras['n_components'],embedding_val[:,best_layer,:])\n",
    "best_split=discriminator.get_best_split(hall_label_val)"
   ]
  },
  {
   "cell_type": "code",
   "execution_count": 20,
   "metadata": {},
   "outputs": [
    {
     "name": "stdout",
     "output_type": "stream",
     "text": [
      "train set acc: 0.5161463939720129 AUROC:0.7872439203014867\n"
     ]
    }
   ],
   "source": [
    "discriminator=PCADiscriminator(best_paras['n_components'],embedding_train[:,best_layer,:])\n",
    "scores=discriminator.get_score()\n",
    "y_train=(scores>best_split)\n",
    "print(f'train set acc: {accuracy_score(hall_label_wild,y_train)} AUROC:{roc_auc_score(hall_label_wild,scores)}')"
   ]
  },
  {
   "cell_type": "code",
   "execution_count": 21,
   "metadata": {},
   "outputs": [
    {
     "name": "stdout",
     "output_type": "stream",
     "text": [
      "test set acc: 0.6503496503496503 AUROC:0.8025343602266679\n"
     ]
    }
   ],
   "source": [
    "discriminator=PCADiscriminator(best_paras['n_components'],embedding_test[:,best_layer,:])\n",
    "scores=discriminator.get_score()\n",
    "preds=(scores>best_split)\n",
    "print(f'test set acc: {accuracy_score(hall_label_test,preds)} AUROC:{roc_auc_score(hall_label_test,scores)}')"
   ]
  },
  {
   "cell_type": "markdown",
   "metadata": {},
   "source": [
    "Train Linear Prob to Get Better Results"
   ]
  },
  {
   "cell_type": "code",
   "execution_count": 25,
   "metadata": {},
   "outputs": [],
   "source": [
    "X_train=embedding_train[:, best_layer,:]\n",
    "y_train=y_train\n",
    "\n",
    "X_test=embedding_test[:, best_layer,:]\n",
    "y_test=hall_label_test"
   ]
  },
  {
   "cell_type": "code",
   "execution_count": 26,
   "metadata": {},
   "outputs": [],
   "source": [
    "best_acc, final_acc, (\n",
    "            clf, best_state, best_preds, preds, labels_val), losses_train = get_linear_acc(\n",
    "            X_train,\n",
    "            y_train,\n",
    "           X_train,\n",
    "            y_train,\n",
    "            2, epochs=50,\n",
    "            print_ret=True,\n",
    "            batch_size=512,\n",
    "            cosine=True,\n",
    "            nonlinear=True,\n",
    "            learning_rate=0.05,\n",
    "            weight_decay=0.0003)"
   ]
  },
  {
   "cell_type": "code",
   "execution_count": 28,
   "metadata": {},
   "outputs": [
    {
     "name": "stdout",
     "output_type": "stream",
     "text": [
      "test set acc: 0.509090909090909 AUROC:0.7749639961178423 f1:0.6746987951807228\n"
     ]
    }
   ],
   "source": [
    "clf.eval()\n",
    "output = clf(torch.from_numpy(X_test).to(torch.float32).cuda())\n",
    "scores_test = torch.sigmoid(output).cpu().data.numpy()\n",
    "pred_test=scores_test>0.5\n",
    "print(f'test set acc: {accuracy_score(y_test,pred_test)} AUROC:{roc_auc_score(y_test,scores_test)} f1:{f1_score(y_test,pred_test)}')"
   ]
  }
 ],
 "metadata": {
  "kernelspec": {
   "display_name": "dl3.9",
   "language": "python",
   "name": "python3"
  },
  "language_info": {
   "codemirror_mode": {
    "name": "ipython",
    "version": 3
   },
   "file_extension": ".py",
   "mimetype": "text/x-python",
   "name": "python",
   "nbconvert_exporter": "python",
   "pygments_lexer": "ipython3",
   "version": "3.9.20"
  }
 },
 "nbformat": 4,
 "nbformat_minor": 2
}
