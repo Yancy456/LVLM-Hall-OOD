{
 "cells": [
  {
   "cell_type": "code",
   "execution_count": 22,
   "metadata": {},
   "outputs": [
    {
     "name": "stdout",
     "output_type": "stream",
     "text": [
      "The autoreload extension is already loaded. To reload it, use:\n",
      "  %reload_ext autoreload\n"
     ]
    }
   ],
   "source": [
    "%load_ext autoreload\n",
    "%autoreload 2\n",
    "import os\n",
    "import torch\n",
    "import numpy as np\n",
    "from glob import glob\n",
    "from tqdm.auto import tqdm\n",
    "from sklearn.linear_model import LogisticRegression\n",
    "import pandas as pd\n",
    "from utils.store_data import ReadData\n",
    "import numpy as np\n",
    "import torch\n",
    "from utils.arguments import Arguments\n",
    "from tqdm import tqdm\n",
    "from sklearn.decomposition import PCA\n",
    "from linear_probe import get_linear_acc\n",
    "import random\n",
    "import os\n",
    "from sklearn.metrics import roc_auc_score,accuracy_score,roc_curve,f1_score\n",
    "from ml_utils.metrics import aur_pr\n",
    "from answer_judge import load_judge"
   ]
  },
  {
   "cell_type": "code",
   "execution_count": 2,
   "metadata": {},
   "outputs": [],
   "source": [
    "data_train=ReadData('/root/autodl-fs/hallscope/ScienceQA/train').read_all()\n",
    "data_val=ReadData('/root/autodl-fs/hallscope/ScienceQA/val').read_all()\n",
    "data_test=ReadData('/root/autodl-fs/hallscope/ScienceQA/test').read_all()"
   ]
  },
  {
   "cell_type": "code",
   "execution_count": 3,
   "metadata": {},
   "outputs": [],
   "source": [
    "df_train=pd.DataFrame(data_train)\n",
    "df_val=pd.DataFrame(data_val)\n",
    "df_test=pd.DataFrame(data_test)"
   ]
  },
  {
   "cell_type": "code",
   "execution_count": 4,
   "metadata": {},
   "outputs": [
    {
     "data": {
      "text/html": [
       "<div>\n",
       "<style scoped>\n",
       "    .dataframe tbody tr th:only-of-type {\n",
       "        vertical-align: middle;\n",
       "    }\n",
       "\n",
       "    .dataframe tbody tr th {\n",
       "        vertical-align: top;\n",
       "    }\n",
       "\n",
       "    .dataframe thead th {\n",
       "        text-align: right;\n",
       "    }\n",
       "</style>\n",
       "<table border=\"1\" class=\"dataframe\">\n",
       "  <thead>\n",
       "    <tr style=\"text-align: right;\">\n",
       "      <th></th>\n",
       "      <th>question</th>\n",
       "      <th>answer</th>\n",
       "      <th>most_likely</th>\n",
       "    </tr>\n",
       "  </thead>\n",
       "  <tbody>\n",
       "    <tr>\n",
       "      <th>0</th>\n",
       "      <td>[Question:Which of these states is farthest no...</td>\n",
       "      <td>[tensor(0), tensor(1), tensor(0), tensor(1), t...</td>\n",
       "      <td>{'embedding': [[[ 7.2813034e-04  6.3419342e-04...</td>\n",
       "    </tr>\n",
       "    <tr>\n",
       "      <th>1</th>\n",
       "      <td>[Question:What do these two changes have in co...</td>\n",
       "      <td>[tensor(0), tensor(0), tensor(0), tensor(2), t...</td>\n",
       "      <td>{'embedding': [[[ 7.2813034e-04  6.3419342e-04...</td>\n",
       "    </tr>\n",
       "    <tr>\n",
       "      <th>2</th>\n",
       "      <td>[Question:Which property matches this object?\\...</td>\n",
       "      <td>[tensor(0), tensor(0), tensor(1), tensor(0), t...</td>\n",
       "      <td>{'embedding': [[[ 7.2813034e-04  6.3419342e-04...</td>\n",
       "    </tr>\n",
       "    <tr>\n",
       "      <th>3</th>\n",
       "      <td>[Question:What information supports the conclu...</td>\n",
       "      <td>[tensor(1), tensor(1), tensor(1), tensor(1), t...</td>\n",
       "      <td>{'embedding': [[[ 7.2813034e-04  6.3419342e-04...</td>\n",
       "    </tr>\n",
       "    <tr>\n",
       "      <th>4</th>\n",
       "      <td>[Question:What is the expected ratio of offspr...</td>\n",
       "      <td>[tensor(1), tensor(0), tensor(1), tensor(0), t...</td>\n",
       "      <td>{'embedding': [[[ 7.2813034e-04  6.3419342e-04...</td>\n",
       "    </tr>\n",
       "  </tbody>\n",
       "</table>\n",
       "</div>"
      ],
      "text/plain": [
       "                                            question  \\\n",
       "0  [Question:Which of these states is farthest no...   \n",
       "1  [Question:What do these two changes have in co...   \n",
       "2  [Question:Which property matches this object?\\...   \n",
       "3  [Question:What information supports the conclu...   \n",
       "4  [Question:What is the expected ratio of offspr...   \n",
       "\n",
       "                                              answer  \\\n",
       "0  [tensor(0), tensor(1), tensor(0), tensor(1), t...   \n",
       "1  [tensor(0), tensor(0), tensor(0), tensor(2), t...   \n",
       "2  [tensor(0), tensor(0), tensor(1), tensor(0), t...   \n",
       "3  [tensor(1), tensor(1), tensor(1), tensor(1), t...   \n",
       "4  [tensor(1), tensor(0), tensor(1), tensor(0), t...   \n",
       "\n",
       "                                         most_likely  \n",
       "0  {'embedding': [[[ 7.2813034e-04  6.3419342e-04...  \n",
       "1  {'embedding': [[[ 7.2813034e-04  6.3419342e-04...  \n",
       "2  {'embedding': [[[ 7.2813034e-04  6.3419342e-04...  \n",
       "3  {'embedding': [[[ 7.2813034e-04  6.3419342e-04...  \n",
       "4  {'embedding': [[[ 7.2813034e-04  6.3419342e-04...  "
      ]
     },
     "execution_count": 4,
     "metadata": {},
     "output_type": "execute_result"
    }
   ],
   "source": [
    "df_train.head()"
   ]
  },
  {
   "cell_type": "code",
   "execution_count": 27,
   "metadata": {},
   "outputs": [
    {
     "data": {
      "text/plain": [
       "['A',\n",
       " 'B. Do ping pong balls travel farther when launched from a 30° angle compared to a 45° angle?',\n",
       " \"A. Does Kathleen's snowboard slide down a hill in less time when it has a layer of wax or when it does not have a layer of wax?\",\n",
       " 'C. past tense',\n",
       " 'B',\n",
       " 'B',\n",
       " 'C.4/4',\n",
       " 'A.neither; the samples have the same temperature']"
      ]
     },
     "execution_count": 27,
     "metadata": {},
     "output_type": "execute_result"
    }
   ],
   "source": [
    "i=0\n",
    "df_train.iloc[i]['most_likely']['response']"
   ]
  },
  {
   "cell_type": "code",
   "execution_count": 28,
   "metadata": {},
   "outputs": [
    {
     "data": {
      "text/plain": [
       "['Question:Which of these states is farthest north?\\nAnswer the Question with following choices.\\nChoices: A.West Virginia B.Louisiana C.Arizona D.Oklahoma\\n',\n",
       " \"Question:Identify the question that Tom and Justin's experiment can best answer.\\nAnswer the Question with following choices.\\nChoices: A.Do ping pong balls stop rolling along the ground sooner after being launched from a 30° angle or a 45° angle? B.Do ping pong balls travel farther when launched from a 30° angle compared to a 45° angle?\\n\",\n",
       " \"Question:Identify the question that Kathleen and Bryant's experiment can best answer.\\nAnswer the Question with following choices.\\nChoices: A.Does Kathleen's snowboard slide down a hill in less time when it has a layer of wax or when it does not have a layer of wax? B.Does Kathleen's snowboard slide down a hill in less time when it has a thin layer of wax or a thick layer of wax?\\n\",\n",
       " 'Question:Which tense does the sentence use?\\nMona will print her name with care.\\nAnswer the Question with following choices.\\nChoices: A.present tense B.future tense C.past tense\\n',\n",
       " 'Question:Complete the sentence.\\nSewing an apron is a ().\\nAnswer the Question with following choices.\\nChoices: A.chemical change B.physical change\\n',\n",
       " \"Question:Which of the following contains a vague pronoun reference?\\nAnswer the Question with following choices.\\nChoices: A.Steven's brother Jim wondered whether he ran fast enough to qualify for the Boston Marathon. B.Steven's brother Jim wondered whether Steven ran fast enough to qualify for the Boston Marathon.\\n\",\n",
       " 'Question:What is the probability that a goat produced by this cross will be homozygous dominant for the myotonia congenita gene?\\nAnswer the Question with following choices.\\nChoices: A.1/4 B.0/4 C.4/4 D.2/4 E.3/4\\n',\n",
       " 'Question:Compare the average kinetic energies of the particles in each sample. Which sample has the higher temperature?\\nAnswer the Question with following choices.\\nChoices: A.neither; the samples have the same temperature B.sample A C.sample B\\n']"
      ]
     },
     "execution_count": 28,
     "metadata": {},
     "output_type": "execute_result"
    }
   ],
   "source": [
    "df_train.iloc[i]['question']"
   ]
  },
  {
   "cell_type": "code",
   "execution_count": 29,
   "metadata": {},
   "outputs": [
    {
     "data": {
      "text/plain": [
       "(5000, 33, 4096)"
      ]
     },
     "execution_count": 29,
     "metadata": {},
     "output_type": "execute_result"
    }
   ],
   "source": [
    "embedding_train=df_train['most_likely'].apply(lambda x: x['embedding']).to_list()\n",
    "embedding_train=np.concatenate(embedding_train,axis=0)\n",
    "embedding_train.shape"
   ]
  },
  {
   "cell_type": "code",
   "execution_count": 11,
   "metadata": {},
   "outputs": [
    {
     "data": {
      "text/plain": [
       "(4241, 33, 4096)"
      ]
     },
     "execution_count": 11,
     "metadata": {},
     "output_type": "execute_result"
    }
   ],
   "source": [
    "embedding_val=df_val['most_likely'].apply(lambda x: x['embedding']).to_list()\n",
    "embedding_val=np.concatenate(embedding_val,axis=0)\n",
    "embedding_val.shape"
   ]
  },
  {
   "cell_type": "code",
   "execution_count": 12,
   "metadata": {},
   "outputs": [
    {
     "data": {
      "text/plain": [
       "(4241, 33, 4096)"
      ]
     },
     "execution_count": 12,
     "metadata": {},
     "output_type": "execute_result"
    }
   ],
   "source": [
    "embedding_test=df_test['most_likely'].apply(lambda x: x['embedding']).to_list()\n",
    "embedding_test=np.concatenate(embedding_test,axis=0)\n",
    "embedding_test.shape"
   ]
  },
  {
   "cell_type": "code",
   "execution_count": 14,
   "metadata": {},
   "outputs": [
    {
     "data": {
      "text/plain": [
       "(13482,)"
      ]
     },
     "execution_count": 14,
     "metadata": {},
     "output_type": "execute_result"
    }
   ],
   "source": [
    "gt_label=df_train['answer'].to_list()+df_val['answer'].to_list()+df_test['answer'].to_list()\n",
    "gt_label=np.concatenate(gt_label,axis=0)\n",
    "gt_label.shape"
   ]
  },
  {
   "cell_type": "code",
   "execution_count": 30,
   "metadata": {},
   "outputs": [
    {
     "data": {
      "text/plain": [
       "np.int64(0)"
      ]
     },
     "execution_count": 30,
     "metadata": {},
     "output_type": "execute_result"
    }
   ],
   "source": [
    "gt_label[0]"
   ]
  },
  {
   "cell_type": "code",
   "execution_count": 23,
   "metadata": {},
   "outputs": [],
   "source": [
    "judge=load_judge('ScienceQA')"
   ]
  },
  {
   "cell_type": "code",
   "execution_count": null,
   "metadata": {},
   "outputs": [
    {
     "name": "stdout",
     "output_type": "stream",
     "text": [
      "There are 13482 responses. 7196 answer correctly and 6286 answer wrongly\n"
     ]
    }
   ],
   "source": [
    "responses=df_train['most_likely'].apply(lambda x: x['response']).to_list()+df_val['most_likely'].apply(lambda x: x['response']).to_list()+df_test['most_likely'].apply(lambda x: x['response']).to_list()\n",
    "\n",
    "resps=[]\n",
    "for x in responses:\n",
    "    resps+=x\n",
    "    \n",
    "is_hall=[]\n",
    "for i,x in enumerate(resps):\n",
    "    is_hall.append(judge.check(x,gt_label[i]))\n",
    "\n",
    "is_hall=np.array(is_hall)\n",
    "print(f'There are {len(is_hall)} responses. {sum(is_hall==1)} answer correctly and {sum(is_hall==0)} answer wrongly')"
   ]
  },
  {
   "cell_type": "code",
   "execution_count": 9,
   "metadata": {},
   "outputs": [
    {
     "name": "stdout",
     "output_type": "stream",
     "text": [
      "trainset length:16000\n",
      "validset length:4000\n",
      "testset length:3000\n",
      "trainset postive: 14127 negative: 1873\n",
      "testset postive: 2625 negative: 375\n"
     ]
    }
   ],
   "source": [
    "len_train = len(embedding_train)\n",
    "train_rate = 0.8\n",
    "\n",
    "embedding_train_val = embedding_train\n",
    "embedding_train = embedding_train_val[:int(len_train*train_rate)]\n",
    "embedding_val = embedding_train_val[int(len_train*train_rate):]\n",
    "\n",
    "embedding_test = embedding_test\n",
    "\n",
    "y_train = is_hall[:int(len_train*train_rate)]\n",
    "y_val = is_hall[int(len_train*train_rate):len_train]\n",
    "y_test = is_hall[len_train:]\n",
    "\n",
    "\n",
    "'''get testset, wildset and valset. The valset is used for determining the hype-parameters'''\n",
    "print(f'trainset length:{len(y_train)}')\n",
    "print(f'validset length:{len(y_val)}')\n",
    "print(f'testset length:{len(y_test)}')\n",
    "print(\n",
    "    f'trainset postive: {sum(y_train==1)} negative: {sum(y_train==0)}')\n",
    "print(\n",
    "    f'testset postive: {sum(y_test==1)} negative: {sum(y_test==0)}')"
   ]
  },
  {
   "cell_type": "code",
   "execution_count": 10,
   "metadata": {},
   "outputs": [],
   "source": [
    "%load_ext autoreload \n",
    "%autoreload 2\n",
    "from ml_utils.grid_search import GridSearch\n",
    "from ml_utils.PCA_discriminator import PCADiscriminator\n",
    "from ml_utils.metrics import auroc,get_best_split_from_scores"
   ]
  },
  {
   "cell_type": "markdown",
   "metadata": {},
   "source": [
    "Grid Search for Best 'n_components' & 'layer'"
   ]
  },
  {
   "cell_type": "code",
   "execution_count": 11,
   "metadata": {},
   "outputs": [],
   "source": [
    "def evaluator(n_components,i_layer,X,y):\n",
    "    discriminator=PCADiscriminator(n_components,X[:,i_layer,:])\n",
    "    scores=discriminator.get_score()\n",
    "    return auroc(scores,y)"
   ]
  },
  {
   "cell_type": "code",
   "execution_count": 12,
   "metadata": {},
   "outputs": [
    {
     "name": "stdout",
     "output_type": "stream",
     "text": [
      "Grid Searching for best n_components,layer\n"
     ]
    },
    {
     "name": "stderr",
     "output_type": "stream",
     "text": [
      "  0%|          | 0/11 [00:00<?, ?it/s]"
     ]
    },
    {
     "name": "stdout",
     "output_type": "stream",
     "text": [
      "found best n_components:1,layer:0 Score: 0.5\n"
     ]
    },
    {
     "name": "stderr",
     "output_type": "stream",
     "text": [
      "/root/miniconda3/envs/dl3.9/lib/python3.9/site-packages/sklearn/decomposition/_pca.py:794: RuntimeWarning: invalid value encountered in divide\n",
      "  self.explained_variance_ratio_ = self.explained_variance_ / total_var\n"
     ]
    },
    {
     "name": "stdout",
     "output_type": "stream",
     "text": [
      "found best n_components:1,layer:1 Score: 0.5032314315716201\n",
      "found best n_components:1,layer:2 Score: 0.5080089104502126\n",
      "found best n_components:1,layer:4 Score: 0.5090723182527264\n",
      "found best n_components:1,layer:5 Score: 0.5117200169101703\n",
      "found best n_components:1,layer:6 Score: 0.5160756309147798\n",
      "found best n_components:1,layer:7 Score: 0.5518520253367953\n",
      "found best n_components:1,layer:9 Score: 0.5604049428451658\n",
      "found best n_components:1,layer:10 Score: 0.6901098627442028\n",
      "found best n_components:1,layer:11 Score: 0.7616756958991651\n",
      "found best n_components:1,layer:15 Score: 0.8744894189886034\n",
      "found best n_components:1,layer:16 Score: 0.8903086106089381\n"
     ]
    },
    {
     "name": "stderr",
     "output_type": "stream",
     "text": [
      "  9%|▉         | 1/11 [00:05<00:55,  5.53s/it]/root/miniconda3/envs/dl3.9/lib/python3.9/site-packages/sklearn/decomposition/_pca.py:794: RuntimeWarning: invalid value encountered in divide\n",
      "  self.explained_variance_ratio_ = self.explained_variance_ / total_var\n",
      " 18%|█▊        | 2/11 [00:11<00:50,  5.58s/it]/root/miniconda3/envs/dl3.9/lib/python3.9/site-packages/sklearn/decomposition/_pca.py:794: RuntimeWarning: invalid value encountered in divide\n",
      "  self.explained_variance_ratio_ = self.explained_variance_ / total_var\n",
      " 27%|██▋       | 3/11 [00:16<00:45,  5.68s/it]/root/miniconda3/envs/dl3.9/lib/python3.9/site-packages/sklearn/decomposition/_pca.py:794: RuntimeWarning: invalid value encountered in divide\n",
      "  self.explained_variance_ratio_ = self.explained_variance_ / total_var\n",
      " 36%|███▋      | 4/11 [00:22<00:40,  5.73s/it]/root/miniconda3/envs/dl3.9/lib/python3.9/site-packages/sklearn/decomposition/_pca.py:794: RuntimeWarning: invalid value encountered in divide\n",
      "  self.explained_variance_ratio_ = self.explained_variance_ / total_var\n",
      " 45%|████▌     | 5/11 [00:28<00:34,  5.83s/it]/root/miniconda3/envs/dl3.9/lib/python3.9/site-packages/sklearn/decomposition/_pca.py:794: RuntimeWarning: invalid value encountered in divide\n",
      "  self.explained_variance_ratio_ = self.explained_variance_ / total_var\n",
      " 55%|█████▍    | 6/11 [00:35<00:29,  5.98s/it]/root/miniconda3/envs/dl3.9/lib/python3.9/site-packages/sklearn/decomposition/_pca.py:794: RuntimeWarning: invalid value encountered in divide\n",
      "  self.explained_variance_ratio_ = self.explained_variance_ / total_var\n",
      " 64%|██████▎   | 7/11 [00:40<00:23,  5.96s/it]/root/miniconda3/envs/dl3.9/lib/python3.9/site-packages/sklearn/decomposition/_pca.py:794: RuntimeWarning: invalid value encountered in divide\n",
      "  self.explained_variance_ratio_ = self.explained_variance_ / total_var\n",
      " 73%|███████▎  | 8/11 [00:46<00:17,  5.97s/it]/root/miniconda3/envs/dl3.9/lib/python3.9/site-packages/sklearn/decomposition/_pca.py:794: RuntimeWarning: invalid value encountered in divide\n",
      "  self.explained_variance_ratio_ = self.explained_variance_ / total_var\n",
      " 82%|████████▏ | 9/11 [00:53<00:12,  6.01s/it]/root/miniconda3/envs/dl3.9/lib/python3.9/site-packages/sklearn/decomposition/_pca.py:794: RuntimeWarning: invalid value encountered in divide\n",
      "  self.explained_variance_ratio_ = self.explained_variance_ / total_var\n",
      " 91%|█████████ | 10/11 [00:59<00:06,  6.04s/it]/root/miniconda3/envs/dl3.9/lib/python3.9/site-packages/sklearn/decomposition/_pca.py:794: RuntimeWarning: invalid value encountered in divide\n",
      "  self.explained_variance_ratio_ = self.explained_variance_ / total_var\n",
      "100%|██████████| 11/11 [01:05<00:00,  5.95s/it]\n"
     ]
    }
   ],
   "source": [
    "# graid search for best hyper-parameters on validation set\n",
    "grid={\n",
    "    'n_components':range(1,12),\n",
    "    'layer':range(embedding_val.shape[1])\n",
    "}\n",
    "grid_search=GridSearch(evaluator,grid,embedding_val,y_val)\n",
    "best_paras=grid_search.search()"
   ]
  },
  {
   "cell_type": "code",
   "execution_count": 13,
   "metadata": {},
   "outputs": [
    {
     "data": {
      "text/plain": [
       "{'n_components': 1, 'layer': 16, 'best_score': np.float64(0.8903086106089381)}"
      ]
     },
     "execution_count": 13,
     "metadata": {},
     "output_type": "execute_result"
    }
   ],
   "source": [
    "best_paras"
   ]
  },
  {
   "cell_type": "code",
   "execution_count": 14,
   "metadata": {},
   "outputs": [],
   "source": [
    "best_layer=best_paras['layer']"
   ]
  },
  {
   "cell_type": "markdown",
   "metadata": {},
   "source": [
    "View Results on Training set and Test set"
   ]
  },
  {
   "cell_type": "code",
   "execution_count": 15,
   "metadata": {},
   "outputs": [],
   "source": [
    "discriminator=PCADiscriminator(best_paras['n_components'],embedding_val[:,best_layer,:])\n",
    "best_split=discriminator.get_best_split(y_val)"
   ]
  },
  {
   "cell_type": "code",
   "execution_count": 16,
   "metadata": {},
   "outputs": [
    {
     "name": "stdout",
     "output_type": "stream",
     "text": [
      "train set acc: 0.8965 AUROC:0.8868287566481333 AUC-PR:0.9806494010207816\n"
     ]
    }
   ],
   "source": [
    "discriminator=PCADiscriminator(best_paras['n_components'],embedding_train[:,best_layer,:])\n",
    "scores=discriminator.get_score()\n",
    "preds=(scores>best_split)\n",
    "print(f'train set acc: {accuracy_score(y_train,preds)} AUROC:{roc_auc_score(y_train,scores)} AUC-PR:{aur_pr(scores,y_train)}')"
   ]
  },
  {
   "cell_type": "code",
   "execution_count": 17,
   "metadata": {},
   "outputs": [
    {
     "name": "stdout",
     "output_type": "stream",
     "text": [
      "test set acc: 0.783 AUROC:0.8898356825396826 AUC-PR:0.9793644739734253\n"
     ]
    }
   ],
   "source": [
    "discriminator=PCADiscriminator(best_paras['n_components'],embedding_test[:,best_layer,:])\n",
    "scores=discriminator.get_score()\n",
    "preds=(scores>best_split)\n",
    "print(f'test set acc: {accuracy_score(y_test,preds)} AUROC:{roc_auc_score(y_test,scores)} AUC-PR:{aur_pr(scores,y_test)}')"
   ]
  },
  {
   "cell_type": "markdown",
   "metadata": {},
   "source": [
    "Train Linear Prob to Get Better Results"
   ]
  },
  {
   "cell_type": "code",
   "execution_count": 18,
   "metadata": {},
   "outputs": [],
   "source": [
    "X_train=embedding_train[:, best_layer,:]\n",
    "y_train=y_train\n",
    "\n",
    "X_test=embedding_test[:, best_layer,:]\n",
    "y_test=y_test"
   ]
  },
  {
   "cell_type": "code",
   "execution_count": 19,
   "metadata": {},
   "outputs": [],
   "source": [
    "best_acc, final_acc, (\n",
    "            clf, best_state, best_preds, preds, labels_val), losses_train = get_linear_acc(\n",
    "            X_train,\n",
    "            y_train,\n",
    "           X_train,\n",
    "            y_train,\n",
    "            2, epochs=50,\n",
    "            print_ret=True,\n",
    "            batch_size=512,\n",
    "            cosine=True,\n",
    "            nonlinear=True,\n",
    "            learning_rate=0.05,\n",
    "            weight_decay=0.0003)"
   ]
  },
  {
   "cell_type": "code",
   "execution_count": 20,
   "metadata": {},
   "outputs": [
    {
     "name": "stdout",
     "output_type": "stream",
     "text": [
      "test set acc: 0.925 AUROC:0.9499296507936509 AUC-PR:0.9920313052733323 f1:0.9575711861210635\n"
     ]
    }
   ],
   "source": [
    "clf.eval()\n",
    "output = clf(torch.from_numpy(X_test).to(torch.float32).cuda())\n",
    "scores = torch.sigmoid(output).cpu().data.numpy()\n",
    "preds=scores>0.5\n",
    "print(f'test set acc: {accuracy_score(y_test,preds)} AUROC:{roc_auc_score(y_test,scores)} AUC-PR:{aur_pr(scores,y_test)} f1:{f1_score(y_test,preds)}')"
   ]
  }
 ],
 "metadata": {
  "kernelspec": {
   "display_name": "dl3.9",
   "language": "python",
   "name": "python3"
  },
  "language_info": {
   "codemirror_mode": {
    "name": "ipython",
    "version": 3
   },
   "file_extension": ".py",
   "mimetype": "text/x-python",
   "name": "python",
   "nbconvert_exporter": "python",
   "pygments_lexer": "ipython3",
   "version": "3.9.20"
  }
 },
 "nbformat": 4,
 "nbformat_minor": 2
}
