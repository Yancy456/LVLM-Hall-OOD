{
 "cells": [
  {
   "cell_type": "code",
   "execution_count": null,
   "id": "26ff8afd",
   "metadata": {},
   "outputs": [],
   "source": [
    "import os\n",
    "import json\n",
    "from glob import glob\n",
    "\n",
    "import torch\n",
    "import numpy as np\n",
    "from tqdm.auto import tqdm\n",
    "from torch.utils.data import TensorDataset, DataLoader, Dataset\n",
    "\n",
    "from utils.func import read_jsonl\n",
    "from utils.metric import evaluate\n",
    "from sklearn.discriminant_analysis import LinearDiscriminantAnalysis"
   ]
  },
  {
   "cell_type": "code",
   "execution_count": null,
   "id": "27465961",
   "metadata": {},
   "outputs": [],
   "source": [
    "num_classes = 1000\n",
    "model_name = \"LLaVA-7B\"\n",
    "batch_size = 128"
   ]
  },
  {
   "cell_type": "markdown",
   "id": "0785e563",
   "metadata": {},
   "source": [
    "### Convert Train set"
   ]
  },
  {
   "cell_type": "code",
   "execution_count": null,
   "id": "7a84c01e",
   "metadata": {},
   "outputs": [],
   "source": [
    "files = sorted(glob(f\"./output/{model_name}/ImageNet_Train/*.jsonl\"))\n",
    "x, y = [], []\n",
    "if not os.path.exists(f\"./output/{model_name}/ImageNet_Train/class/\"):\n",
    "    os.mkdir(f\"./output/{model_name}/ImageNet_Train/class/\")\n",
    "\n",
    "for file in files:\n",
    "    with open(file) as f:\n",
    "        for line in tqdm(f):\n",
    "            data = json.loads(line)\n",
    "            if len(y) > 0 and data['label'] != y[-1]:\n",
    "                x = torch.Tensor(x)\n",
    "                y = torch.Tensor(y).long()\n",
    "                torch.save((x, y), f\"./output/{model_name}/ImageNet_Train/class/train_{y[-1]}.pth\")\n",
    "                x, y = [], []\n",
    "            x.append(data['logits'])\n",
    "            y.append(data['label'])\n",
    "x = torch.Tensor(x)\n",
    "y = torch.Tensor(y).long()\n",
    "torch.save((x, y), f\"./output/{model_name}/ImageNet_Train/class/train_{y[-1]}.pth\")"
   ]
  },
  {
   "cell_type": "code",
   "execution_count": null,
   "id": "16f9326b",
   "metadata": {},
   "outputs": [],
   "source": [
    "class INTrainDataset(Dataset):\n",
    "    def __init__(self, model_name, num_classes=1000):\n",
    "        self.x, self.y = [], []\n",
    "        for i in range(num_classes):\n",
    "            x, y = torch.load(f\"./output/{model_name}/ImageNet_Train/class/train_{i}.pth\")\n",
    "            self.x.append(x)\n",
    "            self.y.append(y)\n",
    "#             print(x.shape)\n",
    "        self.x = torch.cat(self.x, dim=0)\n",
    "        self.y = torch.cat(self.y, dim=0)\n",
    "        \n",
    "    def __len__(self):\n",
    "        return len(self.y)\n",
    "\n",
    "    def __getitem__(self, idx):\n",
    "\n",
    "        return self.x[idx], self.y[idx]\n",
    "train_dataset = INTrainDataset(model_name, num_classes)"
   ]
  },
  {
   "cell_type": "markdown",
   "id": "b1ab7aad",
   "metadata": {},
   "source": [
    "### Val set"
   ]
  },
  {
   "cell_type": "code",
   "execution_count": null,
   "id": "4a6f0ba2",
   "metadata": {},
   "outputs": [],
   "source": [
    "# Val Set\n",
    "data = read_jsonl(f\"./output/{model_name}/ImageNet_val.jsonl\")\n",
    "x_val = torch.Tensor([ins['logits'] for ins in tqdm(data) if ins['label'] < num_classes])\n",
    "y_val = torch.Tensor([ins['label'] for ins in tqdm(data) if ins['label'] < num_classes])\n",
    "\n",
    "x_val.shape, y_val.shape"
   ]
  },
  {
   "cell_type": "code",
   "execution_count": null,
   "id": "efa4a063",
   "metadata": {},
   "outputs": [],
   "source": [
    "train_loader = DataLoader(train_dataset, batch_size=batch_size, shuffle=True)\n",
    "\n",
    "val_dataset = TensorDataset(x_val, y_val)\n",
    "val_loader = DataLoader(val_dataset, batch_size=batch_size, shuffle=False)"
   ]
  },
  {
   "cell_type": "markdown",
   "id": "74569057",
   "metadata": {},
   "source": [
    "### Linear Classifier"
   ]
  },
  {
   "cell_type": "code",
   "execution_count": null,
   "id": "15e835b4",
   "metadata": {},
   "outputs": [],
   "source": [
    "clf = LinearDiscriminantAnalysis()\n",
    "clf.fit(train_dataset.x, train_dataset.y)"
   ]
  },
  {
   "cell_type": "code",
   "execution_count": null,
   "id": "85617a72",
   "metadata": {},
   "outputs": [],
   "source": [
    "y_pred = clf.predict(x_val.squeeze())\n",
    "acc = (y_pred == y_val.numpy()).sum() / len(y_val)\n",
    "print(f\"{acc*100:.2f}\")"
   ]
  },
  {
   "cell_type": "code",
   "execution_count": null,
   "id": "48dc3de3",
   "metadata": {},
   "outputs": [],
   "source": []
  }
 ],
 "metadata": {
  "kernelspec": {
   "display_name": "Python 3 (ipykernel)",
   "language": "python",
   "name": "python3"
  },
  "language_info": {
   "codemirror_mode": {
    "name": "ipython",
    "version": 3
   },
   "file_extension": ".py",
   "mimetype": "text/x-python",
   "name": "python",
   "nbconvert_exporter": "python",
   "pygments_lexer": "ipython3",
   "version": "3.11.5"
  }
 },
 "nbformat": 4,
 "nbformat_minor": 5
}
