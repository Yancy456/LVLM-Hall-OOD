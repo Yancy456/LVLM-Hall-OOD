{
 "cells": [
  {
   "cell_type": "code",
   "execution_count": 1,
   "metadata": {},
   "outputs": [],
   "source": [
    "%load_ext autoreload\n",
    "%autoreload 2\n",
    "\n",
    "import os\n",
    "import torch\n",
    "import numpy as np\n",
    "from glob import glob\n",
    "from tqdm.auto import tqdm\n",
    "from sklearn.linear_model import LogisticRegression\n",
    "import pandas as pd\n",
    "from utils.store_data import ReadData\n",
    "import numpy as np\n",
    "import torch\n",
    "from utils.arguments import Arguments\n",
    "from tqdm import tqdm\n",
    "from sklearn.decomposition import PCA\n",
    "from linear_probe import get_linear_acc\n",
    "import random\n",
    "import os\n",
    "from sklearn.metrics import roc_auc_score,accuracy_score,roc_curve\n",
    "from answer_judge.vqaEval import VQAEval"
   ]
  },
  {
   "cell_type": "code",
   "execution_count": 2,
   "metadata": {},
   "outputs": [],
   "source": [
    "data_reader=ReadData('/root/autodl-tmp/hallscope/VizWiz/train')\n",
    "data=data_reader.read_all()\n",
    "random.shuffle(data)"
   ]
  },
  {
   "cell_type": "code",
   "execution_count": 3,
   "metadata": {},
   "outputs": [],
   "source": [
    "df=pd.DataFrame(data)"
   ]
  },
  {
   "cell_type": "code",
   "execution_count": 4,
   "metadata": {},
   "outputs": [
    {
     "data": {
      "text/html": [
       "<div>\n",
       "<style scoped>\n",
       "    .dataframe tbody tr th:only-of-type {\n",
       "        vertical-align: middle;\n",
       "    }\n",
       "\n",
       "    .dataframe tbody tr th {\n",
       "        vertical-align: top;\n",
       "    }\n",
       "\n",
       "    .dataframe thead th {\n",
       "        text-align: right;\n",
       "    }\n",
       "</style>\n",
       "<table border=\"1\" class=\"dataframe\">\n",
       "  <thead>\n",
       "    <tr style=\"text-align: right;\">\n",
       "      <th></th>\n",
       "      <th>img_path</th>\n",
       "      <th>question</th>\n",
       "      <th>answer_type</th>\n",
       "      <th>answers</th>\n",
       "      <th>most_likely</th>\n",
       "    </tr>\n",
       "  </thead>\n",
       "  <tbody>\n",
       "    <tr>\n",
       "      <th>0</th>\n",
       "      <td>[/root/autodl-fs/vizwiz/train/train/VizWiz_tra...</td>\n",
       "      <td>[Given the question 'What is on this page?', i...</td>\n",
       "      <td>[other, other, unanswerable, unanswerable, num...</td>\n",
       "      <td>[{'answer_confidence': ['maybe', 'yes', 'yes',...</td>\n",
       "      <td>{'embedding': [[[-0.00073624  0.0111084  -0.01...</td>\n",
       "    </tr>\n",
       "    <tr>\n",
       "      <th>1</th>\n",
       "      <td>[/root/autodl-fs/vizwiz/train/train/VizWiz_tra...</td>\n",
       "      <td>[Given the question 'What is this, please?', i...</td>\n",
       "      <td>[other, other, other, other, unanswerable, una...</td>\n",
       "      <td>[{'answer_confidence': ['maybe', 'yes', 'yes',...</td>\n",
       "      <td>{'embedding': [[[-0.00231934  0.02856445  0.00...</td>\n",
       "    </tr>\n",
       "    <tr>\n",
       "      <th>2</th>\n",
       "      <td>[/root/autodl-fs/vizwiz/train/train/VizWiz_tra...</td>\n",
       "      <td>[Given the question 'Is this unsweetened or sw...</td>\n",
       "      <td>[unanswerable, other, other, other, other, oth...</td>\n",
       "      <td>[{'answer_confidence': ['maybe', 'yes', 'yes',...</td>\n",
       "      <td>{'embedding': [[[-0.00073624  0.0111084  -0.01...</td>\n",
       "    </tr>\n",
       "    <tr>\n",
       "      <th>3</th>\n",
       "      <td>[/root/autodl-fs/vizwiz/train/train/VizWiz_tra...</td>\n",
       "      <td>[Given the question 'What does the   say?', is...</td>\n",
       "      <td>[other, unanswerable, other, other, other, oth...</td>\n",
       "      <td>[{'answer_confidence': ['yes', 'no', 'yes', 'y...</td>\n",
       "      <td>{'embedding': [[[-0.00073624  0.0111084  -0.01...</td>\n",
       "    </tr>\n",
       "    <tr>\n",
       "      <th>4</th>\n",
       "      <td>[/root/autodl-fs/vizwiz/train/train/VizWiz_tra...</td>\n",
       "      <td>[Given the question 'what spice is this?', is ...</td>\n",
       "      <td>[other, other, unanswerable, unanswerable, oth...</td>\n",
       "      <td>[{'answer_confidence': ['yes', 'yes', 'no', 'y...</td>\n",
       "      <td>{'embedding': [[[-0.00073624  0.0111084  -0.01...</td>\n",
       "    </tr>\n",
       "  </tbody>\n",
       "</table>\n",
       "</div>"
      ],
      "text/plain": [
       "                                            img_path  \\\n",
       "0  [/root/autodl-fs/vizwiz/train/train/VizWiz_tra...   \n",
       "1  [/root/autodl-fs/vizwiz/train/train/VizWiz_tra...   \n",
       "2  [/root/autodl-fs/vizwiz/train/train/VizWiz_tra...   \n",
       "3  [/root/autodl-fs/vizwiz/train/train/VizWiz_tra...   \n",
       "4  [/root/autodl-fs/vizwiz/train/train/VizWiz_tra...   \n",
       "\n",
       "                                            question  \\\n",
       "0  [Given the question 'What is on this page?', i...   \n",
       "1  [Given the question 'What is this, please?', i...   \n",
       "2  [Given the question 'Is this unsweetened or sw...   \n",
       "3  [Given the question 'What does the   say?', is...   \n",
       "4  [Given the question 'what spice is this?', is ...   \n",
       "\n",
       "                                         answer_type  \\\n",
       "0  [other, other, unanswerable, unanswerable, num...   \n",
       "1  [other, other, other, other, unanswerable, una...   \n",
       "2  [unanswerable, other, other, other, other, oth...   \n",
       "3  [other, unanswerable, other, other, other, oth...   \n",
       "4  [other, other, unanswerable, unanswerable, oth...   \n",
       "\n",
       "                                             answers  \\\n",
       "0  [{'answer_confidence': ['maybe', 'yes', 'yes',...   \n",
       "1  [{'answer_confidence': ['maybe', 'yes', 'yes',...   \n",
       "2  [{'answer_confidence': ['maybe', 'yes', 'yes',...   \n",
       "3  [{'answer_confidence': ['yes', 'no', 'yes', 'y...   \n",
       "4  [{'answer_confidence': ['yes', 'yes', 'no', 'y...   \n",
       "\n",
       "                                         most_likely  \n",
       "0  {'embedding': [[[-0.00073624  0.0111084  -0.01...  \n",
       "1  {'embedding': [[[-0.00231934  0.02856445  0.00...  \n",
       "2  {'embedding': [[[-0.00073624  0.0111084  -0.01...  \n",
       "3  {'embedding': [[[-0.00073624  0.0111084  -0.01...  \n",
       "4  {'embedding': [[[-0.00073624  0.0111084  -0.01...  "
      ]
     },
     "execution_count": 4,
     "metadata": {},
     "output_type": "execute_result"
    }
   ],
   "source": [
    "df.head()"
   ]
  },
  {
   "cell_type": "code",
   "execution_count": 5,
   "metadata": {},
   "outputs": [
    {
     "data": {
      "text/plain": [
       "(1250, 5)"
      ]
     },
     "execution_count": 5,
     "metadata": {},
     "output_type": "execute_result"
    }
   ],
   "source": [
    "df.shape"
   ]
  },
  {
   "cell_type": "code",
   "execution_count": 6,
   "metadata": {},
   "outputs": [],
   "source": [
    "i=1"
   ]
  },
  {
   "cell_type": "code",
   "execution_count": 7,
   "metadata": {},
   "outputs": [
    {
     "data": {
      "text/plain": [
       "['/root/autodl-fs/vizwiz/train/train/VizWiz_train_00001984.jpg',\n",
       " '/root/autodl-fs/vizwiz/train/train/VizWiz_train_00001985.jpg',\n",
       " '/root/autodl-fs/vizwiz/train/train/VizWiz_train_00001986.jpg',\n",
       " '/root/autodl-fs/vizwiz/train/train/VizWiz_train_00001987.jpg',\n",
       " '/root/autodl-fs/vizwiz/train/train/VizWiz_train_00001988.jpg',\n",
       " '/root/autodl-fs/vizwiz/train/train/VizWiz_train_00001989.jpg',\n",
       " '/root/autodl-fs/vizwiz/train/train/VizWiz_train_00001990.jpg',\n",
       " '/root/autodl-fs/vizwiz/train/train/VizWiz_train_00001991.jpg']"
      ]
     },
     "execution_count": 7,
     "metadata": {},
     "output_type": "execute_result"
    }
   ],
   "source": [
    "df.iloc[i]['img_path']"
   ]
  },
  {
   "cell_type": "code",
   "execution_count": 8,
   "metadata": {},
   "outputs": [
    {
     "data": {
      "text/plain": [
       "['Answerable',\n",
       " 'Unanswerable',\n",
       " 'Unanswerable',\n",
       " 'Answerable',\n",
       " 'Unanswerable',\n",
       " 'Unanswerable',\n",
       " 'Unanswerable',\n",
       " 'Unanswerable']"
      ]
     },
     "execution_count": 8,
     "metadata": {},
     "output_type": "execute_result"
    }
   ],
   "source": [
    "df.iloc[i]['most_likely']['response']"
   ]
  },
  {
   "cell_type": "code",
   "execution_count": 9,
   "metadata": {},
   "outputs": [
    {
     "data": {
      "text/plain": [
       "[\"Given the question 'What is this, please?', is the question answerable or unanswerable based on the image?\\nPlease reply with 'Unanswerable' or 'Answerable'.\",\n",
       " \"Given the question 'What are the directions for someone who is ten years old?', is the question answerable or unanswerable based on the image?\\nPlease reply with 'Unanswerable' or 'Answerable'.\",\n",
       " \"Given the question 'What color is this?', is the question answerable or unanswerable based on the image?\\nPlease reply with 'Unanswerable' or 'Answerable'.\",\n",
       " \"Given the question 'What is this item.', is the question answerable or unanswerable based on the image?\\nPlease reply with 'Unanswerable' or 'Answerable'.\",\n",
       " \"Given the question 'What is this, please?', is the question answerable or unanswerable based on the image?\\nPlease reply with 'Unanswerable' or 'Answerable'.\",\n",
       " \"Given the question 'what is the title of this book?', is the question answerable or unanswerable based on the image?\\nPlease reply with 'Unanswerable' or 'Answerable'.\",\n",
       " \"Given the question 'is this stone ipa or is this stone smoked porter?', is the question answerable or unanswerable based on the image?\\nPlease reply with 'Unanswerable' or 'Answerable'.\",\n",
       " \"Given the question 'Does this text say?', is the question answerable or unanswerable based on the image?\\nPlease reply with 'Unanswerable' or 'Answerable'.\"]"
      ]
     },
     "execution_count": 9,
     "metadata": {},
     "output_type": "execute_result"
    }
   ],
   "source": [
    "df.iloc[i]['question']"
   ]
  },
  {
   "cell_type": "code",
   "execution_count": 10,
   "metadata": {},
   "outputs": [
    {
     "data": {
      "text/plain": [
       "['other',\n",
       " 'other',\n",
       " 'other',\n",
       " 'other',\n",
       " 'unanswerable',\n",
       " 'unanswerable',\n",
       " 'other',\n",
       " 'unanswerable']"
      ]
     },
     "execution_count": 10,
     "metadata": {},
     "output_type": "execute_result"
    }
   ],
   "source": [
    "df.iloc[i]['answer_type']"
   ]
  },
  {
   "cell_type": "code",
   "execution_count": 12,
   "metadata": {},
   "outputs": [],
   "source": [
    "embeddings=df['most_likely'].apply(lambda x: x['embedding']).to_list()"
   ]
  },
  {
   "cell_type": "code",
   "execution_count": 13,
   "metadata": {},
   "outputs": [],
   "source": [
    "embeddings=np.concatenate(embeddings,axis=0)"
   ]
  },
  {
   "cell_type": "code",
   "execution_count": 14,
   "metadata": {},
   "outputs": [
    {
     "data": {
      "text/plain": [
       "(10000, 33, 4096)"
      ]
     },
     "execution_count": 14,
     "metadata": {},
     "output_type": "execute_result"
    }
   ],
   "source": [
    "embeddings.shape"
   ]
  },
  {
   "cell_type": "code",
   "execution_count": 15,
   "metadata": {},
   "outputs": [
    {
     "data": {
      "text/plain": [
       "10000"
      ]
     },
     "execution_count": 15,
     "metadata": {},
     "output_type": "execute_result"
    }
   ],
   "source": [
    "gt_label=df['answer_type'].to_list()\n",
    "gt_label=np.concatenate(gt_label,axis=0).tolist()\n",
    "len(gt_label)"
   ]
  },
  {
   "cell_type": "code",
   "execution_count": 16,
   "metadata": {},
   "outputs": [],
   "source": [
    "responses=df['most_likely'].apply(lambda x: x['response']).to_list()\n",
    "rsps=[]\n",
    "for x in responses:\n",
    "    rsps+=x"
   ]
  },
  {
   "cell_type": "code",
   "execution_count": 17,
   "metadata": {},
   "outputs": [
    {
     "data": {
      "text/plain": [
       "10000"
      ]
     },
     "execution_count": 17,
     "metadata": {},
     "output_type": "execute_result"
    }
   ],
   "source": [
    "len(rsps)"
   ]
  },
  {
   "cell_type": "code",
   "execution_count": 18,
   "metadata": {},
   "outputs": [],
   "source": [
    "is_correct=[]\n",
    "for i,x in enumerate(gt_label):\n",
    "    if gt_label[i]=='unanswerable' and rsps[i].lower()=='unanswerable':\n",
    "        is_correct.append(1)\n",
    "    elif gt_label[i]!='unanswerable' and rsps[i].lower()!='unanswerable':\n",
    "        is_correct.append(1)\n",
    "    else:\n",
    "        is_correct.append(0)\n",
    "is_correct=np.array(is_correct)"
   ]
  },
  {
   "cell_type": "code",
   "execution_count": 19,
   "metadata": {},
   "outputs": [
    {
     "data": {
      "text/plain": [
       "array([0, 0, 1, ..., 0, 1, 1])"
      ]
     },
     "execution_count": 19,
     "metadata": {},
     "output_type": "execute_result"
    }
   ],
   "source": [
    "is_correct"
   ]
  },
  {
   "cell_type": "code",
   "execution_count": null,
   "metadata": {},
   "outputs": [
    {
     "name": "stdout",
     "output_type": "stream",
     "text": [
      "There are 10000 responses. 4043 answer correctly and 5957 answer wrongly\n"
     ]
    }
   ],
   "source": [
    "print(f'There are {len(is_correct)} responses. {sum(is_correct==1)} answer correctly and {sum(is_correct==0)} answer wrongly')"
   ]
  },
  {
   "cell_type": "code",
   "execution_count": null,
   "metadata": {},
   "outputs": [
    {
     "name": "stdout",
     "output_type": "stream",
     "text": [
      "trainset length:4000\n",
      "validset length:4000\n",
      "testset length:2000\n",
      "trainset postive: 1588 negative: 2412\n",
      "valset postive: 1638 negative: 2362\n",
      "testset postive: 817 negative: 1183\n"
     ]
    }
   ],
   "source": [
    "length=len(is_correct)\n",
    "train_rate=0.8\n",
    "\n",
    "all_indices = np.random.permutation(length)\n",
    "train_val_idxs = all_indices[:int(\n",
    "    train_rate * length)]  # trainset and validation index\n",
    "\n",
    "test_idxs=all_indices[int(\n",
    "    train_rate * length):]  #test index\n",
    "\n",
    "validset_len = 4000\n",
    "# exclude validation samples.\n",
    "train_idxs = train_val_idxs[:len(\n",
    "    train_val_idxs) - validset_len]  # trainset index\n",
    "val_idxs = train_val_idxs[len(\n",
    "    train_val_idxs) - validset_len:]  # validation index\n",
    "\n",
    "'''get testset, wildset and valset. The valset is used for determining the hype-parameters'''\n",
    "hall_label_test = is_correct[test_idxs]\n",
    "hall_label_wild = is_correct[train_idxs]\n",
    "hall_label_val = is_correct[val_idxs]\n",
    "\n",
    "print(f'trainset length:{len(hall_label_wild)}')\n",
    "print(f'validset length:{len(hall_label_val)}')\n",
    "print(f'testset length:{len(hall_label_test)}')\n",
    "print(f'trainset postive: {sum(hall_label_wild==1)} negative: {sum(hall_label_wild==0)}')\n",
    "print(f'valset postive: {sum(hall_label_val==1)} negative: {sum(hall_label_val==0)}')\n",
    "print(\n",
    "    f'testset postive: {sum(hall_label_test==1)} negative: {sum(hall_label_test==0)}')"
   ]
  },
  {
   "cell_type": "code",
   "execution_count": 37,
   "metadata": {},
   "outputs": [
    {
     "data": {
      "text/plain": [
       "(10000, 33, 4096)"
      ]
     },
     "execution_count": 37,
     "metadata": {},
     "output_type": "execute_result"
    }
   ],
   "source": [
    "all_embeddings = embeddings\n",
    "all_embeddings.shape"
   ]
  },
  {
   "cell_type": "code",
   "execution_count": 38,
   "metadata": {},
   "outputs": [],
   "source": [
    "embedding_train = all_embeddings[train_idxs]\n",
    "embedding_val = all_embeddings[val_idxs]\n",
    "embedding_test = all_embeddings[test_idxs]"
   ]
  },
  {
   "cell_type": "code",
   "execution_count": 39,
   "metadata": {},
   "outputs": [
    {
     "name": "stdout",
     "output_type": "stream",
     "text": [
      "The autoreload extension is already loaded. To reload it, use:\n",
      "  %reload_ext autoreload\n"
     ]
    }
   ],
   "source": [
    "%load_ext autoreload\n",
    "%autoreload 2\n",
    "from ml_utils.grid_search import GridSearch\n",
    "from ml_utils.PCA_discriminator import PCADiscriminator\n",
    "from ml_utils.metrics import auroc,get_best_split_from_scores"
   ]
  },
  {
   "cell_type": "markdown",
   "metadata": {},
   "source": [
    "Grid Search for Best 'n_components' & 'layer'"
   ]
  },
  {
   "cell_type": "code",
   "execution_count": 50,
   "metadata": {},
   "outputs": [],
   "source": [
    "def evaluator(n_components,i_layer,X,y):\n",
    "    discriminator=PCADiscriminator(n_components,X[:,i_layer,:])\n",
    "    scores=discriminator.get_score()\n",
    "    split=discriminator.get_best_split(y)\n",
    "    y_test=(scores>split)\n",
    "    return accuracy_score(y,y_test)\n",
    "    #return auroc(scores,y)"
   ]
  },
  {
   "cell_type": "code",
   "execution_count": 51,
   "metadata": {},
   "outputs": [
    {
     "name": "stdout",
     "output_type": "stream",
     "text": [
      "Grid Searching for best n_components,layer\n"
     ]
    },
    {
     "name": "stderr",
     "output_type": "stream",
     "text": [
      "  0%|          | 0/11 [00:00<?, ?it/s]"
     ]
    },
    {
     "name": "stdout",
     "output_type": "stream",
     "text": [
      "found best n_components:1,layer:0 Score: 0.5905\n",
      "found best n_components:1,layer:2 Score: 0.60275\n",
      "found best n_components:1,layer:12 Score: 0.733\n",
      "found best n_components:1,layer:19 Score: 0.7405\n"
     ]
    },
    {
     "name": "stderr",
     "output_type": "stream",
     "text": [
      "  9%|▉         | 1/11 [00:07<01:17,  7.79s/it]"
     ]
    },
    {
     "name": "stdout",
     "output_type": "stream",
     "text": [
      "found best n_components:2,layer:19 Score: 0.75225\n"
     ]
    },
    {
     "name": "stderr",
     "output_type": "stream",
     "text": [
      "100%|██████████| 11/11 [01:22<00:00,  7.54s/it]\n"
     ]
    }
   ],
   "source": [
    "# graid search for best hyper-parameters on validation set\n",
    "grid={\n",
    "    'n_components':range(1,12),\n",
    "    'layer':range(embedding_val.shape[1])\n",
    "}\n",
    "grid_search=GridSearch(evaluator,grid,embedding_val,hall_label_val)\n",
    "best_paras=grid_search.search()"
   ]
  },
  {
   "cell_type": "code",
   "execution_count": 52,
   "metadata": {},
   "outputs": [
    {
     "data": {
      "text/plain": [
       "{'n_components': 2, 'layer': 19, 'best_score': 0.75225}"
      ]
     },
     "execution_count": 52,
     "metadata": {},
     "output_type": "execute_result"
    }
   ],
   "source": [
    "best_paras"
   ]
  },
  {
   "cell_type": "code",
   "execution_count": 53,
   "metadata": {},
   "outputs": [],
   "source": [
    "best_layer=best_paras['layer']"
   ]
  },
  {
   "cell_type": "markdown",
   "metadata": {},
   "source": [
    "View Results on Training set and Test set"
   ]
  },
  {
   "cell_type": "code",
   "execution_count": 54,
   "metadata": {},
   "outputs": [],
   "source": [
    "discriminator=PCADiscriminator(best_paras['n_components'],embedding_val[:,best_layer,:])\n",
    "best_split=discriminator.get_best_split(hall_label_val)"
   ]
  },
  {
   "cell_type": "code",
   "execution_count": 55,
   "metadata": {},
   "outputs": [
    {
     "name": "stdout",
     "output_type": "stream",
     "text": [
      "train set acc: 0.74825 AUROC:0.7846005593359817\n"
     ]
    }
   ],
   "source": [
    "discriminator=PCADiscriminator(best_paras['n_components'],embedding_train[:,best_layer,:])\n",
    "scores=discriminator.get_score()\n",
    "y_train=(scores>best_split)\n",
    "print(f'train set acc: {accuracy_score(hall_label_wild,y_train)} AUROC:{roc_auc_score(hall_label_wild,scores)}')"
   ]
  },
  {
   "cell_type": "code",
   "execution_count": 56,
   "metadata": {},
   "outputs": [
    {
     "name": "stdout",
     "output_type": "stream",
     "text": [
      "test set acc: 0.5915 AUROC:0.7585242175205456\n"
     ]
    }
   ],
   "source": [
    "discriminator=PCADiscriminator(best_paras['n_components'],embedding_test[:,best_layer,:])\n",
    "scores=discriminator.get_score()\n",
    "preds=(scores>best_split)\n",
    "print(f'test set acc: {accuracy_score(hall_label_test,preds)} AUROC:{roc_auc_score(hall_label_test,scores)}')"
   ]
  },
  {
   "cell_type": "markdown",
   "metadata": {},
   "source": [
    "Train Linear Prob to Get Better Results"
   ]
  },
  {
   "cell_type": "code",
   "execution_count": 57,
   "metadata": {},
   "outputs": [],
   "source": [
    "X_train=embedding_train[:, best_layer,:]\n",
    "y_train=y_train\n",
    "\n",
    "X_test=embedding_test[:, best_layer,:]\n",
    "y_test=hall_label_test"
   ]
  },
  {
   "cell_type": "code",
   "execution_count": 58,
   "metadata": {},
   "outputs": [],
   "source": [
    "best_acc, final_acc, (\n",
    "            clf, best_state, best_preds, preds, labels_val), losses_train = get_linear_acc(\n",
    "            X_train,\n",
    "            y_train,\n",
    "           X_train,\n",
    "            y_train,\n",
    "            2, epochs=50,\n",
    "            print_ret=True,\n",
    "            batch_size=512,\n",
    "            cosine=True,\n",
    "            nonlinear=True,\n",
    "            learning_rate=0.05,\n",
    "            weight_decay=0.0003)"
   ]
  },
  {
   "cell_type": "code",
   "execution_count": 59,
   "metadata": {},
   "outputs": [
    {
     "name": "stdout",
     "output_type": "stream",
     "text": [
      "test set acc: 0.7325 AUROC:0.7700967707558424\n"
     ]
    }
   ],
   "source": [
    "clf.eval()\n",
    "output = clf(torch.from_numpy(X_test).to(torch.float32).cuda())\n",
    "scores_test = torch.sigmoid(output).cpu().data.numpy()\n",
    "pred_test=scores_test>0.5\n",
    "print(f'test set acc: {accuracy_score(y_test,pred_test)} AUROC:{roc_auc_score(y_test,scores_test)}')"
   ]
  }
 ],
 "metadata": {
  "kernelspec": {
   "display_name": "dl3.9",
   "language": "python",
   "name": "python3"
  },
  "language_info": {
   "codemirror_mode": {
    "name": "ipython",
    "version": 3
   },
   "file_extension": ".py",
   "mimetype": "text/x-python",
   "name": "python",
   "nbconvert_exporter": "python",
   "pygments_lexer": "ipython3",
   "version": "3.9.20"
  }
 },
 "nbformat": 4,
 "nbformat_minor": 2
}
