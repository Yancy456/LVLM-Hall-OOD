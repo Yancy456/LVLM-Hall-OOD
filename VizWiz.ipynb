{
 "cells": [
  {
   "cell_type": "code",
   "execution_count": 1,
   "metadata": {},
   "outputs": [],
   "source": [
    "%load_ext autoreload\n",
    "%autoreload 2\n",
    "\n",
    "import os\n",
    "import torch\n",
    "import numpy as np\n",
    "from glob import glob\n",
    "from tqdm.auto import tqdm\n",
    "from sklearn.linear_model import LogisticRegression\n",
    "import pandas as pd\n",
    "from utils.store_data import ReadData\n",
    "import numpy as np\n",
    "import torch\n",
    "from utils.arguments import Arguments\n",
    "from tqdm import tqdm\n",
    "from sklearn.decomposition import PCA\n",
    "from linear_probe import get_linear_acc\n",
    "import random\n",
    "import os\n",
    "from sklearn.metrics import roc_auc_score,accuracy_score,roc_curve\n",
    "from answer_judge.vqaEval import VQAEval"
   ]
  },
  {
   "cell_type": "code",
   "execution_count": 2,
   "metadata": {},
   "outputs": [],
   "source": [
    "data_reader=ReadData('/root/autodl-tmp/hallscope/VizWiz/train')\n",
    "data=data_reader.read_all()\n",
    "random.shuffle(data)"
   ]
  },
  {
   "cell_type": "code",
   "execution_count": 3,
   "metadata": {},
   "outputs": [],
   "source": [
    "df=pd.DataFrame(data)"
   ]
  },
  {
   "cell_type": "code",
   "execution_count": 4,
   "metadata": {},
   "outputs": [
    {
     "data": {
      "text/html": [
       "<div>\n",
       "<style scoped>\n",
       "    .dataframe tbody tr th:only-of-type {\n",
       "        vertical-align: middle;\n",
       "    }\n",
       "\n",
       "    .dataframe tbody tr th {\n",
       "        vertical-align: top;\n",
       "    }\n",
       "\n",
       "    .dataframe thead th {\n",
       "        text-align: right;\n",
       "    }\n",
       "</style>\n",
       "<table border=\"1\" class=\"dataframe\">\n",
       "  <thead>\n",
       "    <tr style=\"text-align: right;\">\n",
       "      <th></th>\n",
       "      <th>img_path</th>\n",
       "      <th>question</th>\n",
       "      <th>answer_type</th>\n",
       "      <th>answers</th>\n",
       "      <th>most_likely</th>\n",
       "      <th>responses</th>\n",
       "    </tr>\n",
       "  </thead>\n",
       "  <tbody>\n",
       "    <tr>\n",
       "      <th>0</th>\n",
       "      <td>[/root/autodl-fs/vizwiz/train/train/VizWiz_tra...</td>\n",
       "      <td>[Given the question 'What does this say?', is ...</td>\n",
       "      <td>[other]</td>\n",
       "      <td>[{'answer': ['christian open mic announcement'...</td>\n",
       "      <td>{'embedding': [[[ 0.00106049  0.00132751 -0.00...</td>\n",
       "      <td>None</td>\n",
       "    </tr>\n",
       "    <tr>\n",
       "      <th>1</th>\n",
       "      <td>[/root/autodl-fs/vizwiz/train/train/VizWiz_tra...</td>\n",
       "      <td>[Given the question 'What is that?', is the qu...</td>\n",
       "      <td>[other]</td>\n",
       "      <td>[{'answer_confidence': ['no'], 'answer': ['una...</td>\n",
       "      <td>{'embedding': [[[ 0.00106049  0.00132751 -0.00...</td>\n",
       "      <td>None</td>\n",
       "    </tr>\n",
       "    <tr>\n",
       "      <th>2</th>\n",
       "      <td>[/root/autodl-fs/vizwiz/train/train/VizWiz_tra...</td>\n",
       "      <td>[Given the question 'What is the manufacture a...</td>\n",
       "      <td>[unanswerable]</td>\n",
       "      <td>[{'answer_confidence': ['maybe'], 'answer': ['...</td>\n",
       "      <td>{'embedding': [[[ 0.00106049  0.00132751 -0.00...</td>\n",
       "      <td>None</td>\n",
       "    </tr>\n",
       "    <tr>\n",
       "      <th>3</th>\n",
       "      <td>[/root/autodl-fs/vizwiz/train/train/VizWiz_tra...</td>\n",
       "      <td>[Given the question 'I took a picture of a dif...</td>\n",
       "      <td>[other]</td>\n",
       "      <td>[{'answer_confidence': ['yes'], 'answer': ['bl...</td>\n",
       "      <td>{'embedding': [[[ 0.00106049  0.00132751 -0.00...</td>\n",
       "      <td>None</td>\n",
       "    </tr>\n",
       "    <tr>\n",
       "      <th>4</th>\n",
       "      <td>[/root/autodl-fs/vizwiz/train/train/VizWiz_tra...</td>\n",
       "      <td>[Given the question 'Is this on air, fan or de...</td>\n",
       "      <td>[other]</td>\n",
       "      <td>[{'answer_confidence': ['yes'], 'answer': ['ai...</td>\n",
       "      <td>{'embedding': [[[ 0.00106049  0.00132751 -0.00...</td>\n",
       "      <td>None</td>\n",
       "    </tr>\n",
       "  </tbody>\n",
       "</table>\n",
       "</div>"
      ],
      "text/plain": [
       "                                            img_path  \\\n",
       "0  [/root/autodl-fs/vizwiz/train/train/VizWiz_tra...   \n",
       "1  [/root/autodl-fs/vizwiz/train/train/VizWiz_tra...   \n",
       "2  [/root/autodl-fs/vizwiz/train/train/VizWiz_tra...   \n",
       "3  [/root/autodl-fs/vizwiz/train/train/VizWiz_tra...   \n",
       "4  [/root/autodl-fs/vizwiz/train/train/VizWiz_tra...   \n",
       "\n",
       "                                            question     answer_type  \\\n",
       "0  [Given the question 'What does this say?', is ...         [other]   \n",
       "1  [Given the question 'What is that?', is the qu...         [other]   \n",
       "2  [Given the question 'What is the manufacture a...  [unanswerable]   \n",
       "3  [Given the question 'I took a picture of a dif...         [other]   \n",
       "4  [Given the question 'Is this on air, fan or de...         [other]   \n",
       "\n",
       "                                             answers  \\\n",
       "0  [{'answer': ['christian open mic announcement'...   \n",
       "1  [{'answer_confidence': ['no'], 'answer': ['una...   \n",
       "2  [{'answer_confidence': ['maybe'], 'answer': ['...   \n",
       "3  [{'answer_confidence': ['yes'], 'answer': ['bl...   \n",
       "4  [{'answer_confidence': ['yes'], 'answer': ['ai...   \n",
       "\n",
       "                                         most_likely responses  \n",
       "0  {'embedding': [[[ 0.00106049  0.00132751 -0.00...      None  \n",
       "1  {'embedding': [[[ 0.00106049  0.00132751 -0.00...      None  \n",
       "2  {'embedding': [[[ 0.00106049  0.00132751 -0.00...      None  \n",
       "3  {'embedding': [[[ 0.00106049  0.00132751 -0.00...      None  \n",
       "4  {'embedding': [[[ 0.00106049  0.00132751 -0.00...      None  "
      ]
     },
     "execution_count": 4,
     "metadata": {},
     "output_type": "execute_result"
    }
   ],
   "source": [
    "df.head()"
   ]
  },
  {
   "cell_type": "code",
   "execution_count": 5,
   "metadata": {},
   "outputs": [
    {
     "data": {
      "text/plain": [
       "(5000, 6)"
      ]
     },
     "execution_count": 5,
     "metadata": {},
     "output_type": "execute_result"
    }
   ],
   "source": [
    "df.shape"
   ]
  },
  {
   "cell_type": "code",
   "execution_count": 6,
   "metadata": {},
   "outputs": [],
   "source": [
    "i=1"
   ]
  },
  {
   "cell_type": "code",
   "execution_count": 7,
   "metadata": {},
   "outputs": [
    {
     "data": {
      "text/plain": [
       "['/root/autodl-fs/vizwiz/train/train/VizWiz_train_00001615.jpg']"
      ]
     },
     "execution_count": 7,
     "metadata": {},
     "output_type": "execute_result"
    }
   ],
   "source": [
    "df.iloc[i]['img_path']"
   ]
  },
  {
   "cell_type": "code",
   "execution_count": 8,
   "metadata": {},
   "outputs": [
    {
     "data": {
      "text/plain": [
       "['Unanswerable']"
      ]
     },
     "execution_count": 8,
     "metadata": {},
     "output_type": "execute_result"
    }
   ],
   "source": [
    "df.iloc[i]['most_likely']['response']"
   ]
  },
  {
   "cell_type": "code",
   "execution_count": 9,
   "metadata": {},
   "outputs": [
    {
     "data": {
      "text/plain": [
       "[\"Given the question 'What is that?', is the question answerable or unanswerable based on the image?\\nPlease reply with 'Unanswerable' or 'Answerable'.\"]"
      ]
     },
     "execution_count": 9,
     "metadata": {},
     "output_type": "execute_result"
    }
   ],
   "source": [
    "df.iloc[i]['question']"
   ]
  },
  {
   "cell_type": "code",
   "execution_count": 10,
   "metadata": {},
   "outputs": [
    {
     "data": {
      "text/plain": [
       "['other']"
      ]
     },
     "execution_count": 10,
     "metadata": {},
     "output_type": "execute_result"
    }
   ],
   "source": [
    "df.iloc[i]['answer_type']"
   ]
  },
  {
   "cell_type": "code",
   "execution_count": 11,
   "metadata": {},
   "outputs": [],
   "source": [
    "embeddings=df['most_likely'].apply(lambda x: x['embedding']).to_list()"
   ]
  },
  {
   "cell_type": "code",
   "execution_count": 12,
   "metadata": {},
   "outputs": [],
   "source": [
    "embeddings=np.concatenate(embeddings,axis=0)"
   ]
  },
  {
   "cell_type": "code",
   "execution_count": 13,
   "metadata": {},
   "outputs": [
    {
     "data": {
      "text/plain": [
       "(5000, 33, 4096)"
      ]
     },
     "execution_count": 13,
     "metadata": {},
     "output_type": "execute_result"
    }
   ],
   "source": [
    "embeddings.shape"
   ]
  },
  {
   "cell_type": "code",
   "execution_count": 14,
   "metadata": {},
   "outputs": [
    {
     "data": {
      "text/plain": [
       "5000"
      ]
     },
     "execution_count": 14,
     "metadata": {},
     "output_type": "execute_result"
    }
   ],
   "source": [
    "gt_label=df['answer_type'].to_list()\n",
    "gt_label=np.concatenate(gt_label,axis=0).tolist()\n",
    "len(gt_label)"
   ]
  },
  {
   "cell_type": "code",
   "execution_count": 15,
   "metadata": {},
   "outputs": [],
   "source": [
    "responses=df['most_likely'].apply(lambda x: x['response']).to_list()\n",
    "rsps=[]\n",
    "for x in responses:\n",
    "    rsps+=x"
   ]
  },
  {
   "cell_type": "code",
   "execution_count": 16,
   "metadata": {},
   "outputs": [
    {
     "data": {
      "text/plain": [
       "5000"
      ]
     },
     "execution_count": 16,
     "metadata": {},
     "output_type": "execute_result"
    }
   ],
   "source": [
    "len(rsps)"
   ]
  },
  {
   "cell_type": "code",
   "execution_count": 17,
   "metadata": {},
   "outputs": [],
   "source": [
    "is_correct=[]\n",
    "for i,x in enumerate(gt_label):\n",
    "    if gt_label[i]=='unanswerable' and rsps[i].lower()=='unanswerable':\n",
    "        is_correct.append(1)\n",
    "    elif gt_label[i]!='unanswerable' and rsps[i].lower()!='unanswerable':\n",
    "        is_correct.append(1)\n",
    "    else:\n",
    "        is_correct.append(0)\n",
    "is_correct=np.array(is_correct)"
   ]
  },
  {
   "cell_type": "code",
   "execution_count": 18,
   "metadata": {},
   "outputs": [
    {
     "data": {
      "text/plain": [
       "array([0, 0, 1, ..., 0, 0, 0])"
      ]
     },
     "execution_count": 18,
     "metadata": {},
     "output_type": "execute_result"
    }
   ],
   "source": [
    "is_correct"
   ]
  },
  {
   "cell_type": "code",
   "execution_count": 19,
   "metadata": {},
   "outputs": [
    {
     "name": "stdout",
     "output_type": "stream",
     "text": [
      "There are 5000 responses. 1354 answer correctly and 3646 answer wrongly\n"
     ]
    }
   ],
   "source": [
    "print(f'There are {len(is_correct)} responses. {sum(is_correct==1)} answer correctly and {sum(is_correct==0)} answer wrongly')"
   ]
  },
  {
   "cell_type": "code",
   "execution_count": 20,
   "metadata": {},
   "outputs": [
    {
     "name": "stdout",
     "output_type": "stream",
     "text": [
      "trainset length:2000\n",
      "validset length:2000\n",
      "testset length:1000\n",
      "trainset postive: 562 negative: 1438\n",
      "valset postive: 524 negative: 1476\n",
      "testset postive: 268 negative: 732\n"
     ]
    }
   ],
   "source": [
    "length=len(is_correct)\n",
    "train_rate=0.8\n",
    "\n",
    "all_indices = np.random.permutation(length)\n",
    "train_val_idxs = all_indices[:int(\n",
    "    train_rate * length)]  # trainset and validation index\n",
    "\n",
    "test_idxs=all_indices[int(\n",
    "    train_rate * length):]  #test index\n",
    "\n",
    "validset_len = 1000\n",
    "# exclude validation samples.\n",
    "train_idxs = train_val_idxs[:len(\n",
    "    train_val_idxs) - validset_len]  # trainset index\n",
    "val_idxs = train_val_idxs[len(\n",
    "    train_val_idxs) - validset_len:]  # validation index\n",
    "\n",
    "'''get testset, wildset and valset. The valset is used for determining the hype-parameters'''\n",
    "hall_label_test = is_correct[test_idxs]\n",
    "hall_label_wild = is_correct[train_idxs]\n",
    "hall_label_val = is_correct[val_idxs]\n",
    "\n",
    "print(f'trainset length:{len(hall_label_wild)}')\n",
    "print(f'validset length:{len(hall_label_val)}')\n",
    "print(f'testset length:{len(hall_label_test)}')\n",
    "print(f'trainset postive: {sum(hall_label_wild==1)} negative: {sum(hall_label_wild==0)}')\n",
    "print(f'valset postive: {sum(hall_label_val==1)} negative: {sum(hall_label_val==0)}')\n",
    "print(\n",
    "    f'testset postive: {sum(hall_label_test==1)} negative: {sum(hall_label_test==0)}')"
   ]
  },
  {
   "cell_type": "code",
   "execution_count": 21,
   "metadata": {},
   "outputs": [
    {
     "data": {
      "text/plain": [
       "(5000, 33, 4096)"
      ]
     },
     "execution_count": 21,
     "metadata": {},
     "output_type": "execute_result"
    }
   ],
   "source": [
    "all_embeddings = embeddings\n",
    "all_embeddings.shape"
   ]
  },
  {
   "cell_type": "code",
   "execution_count": 22,
   "metadata": {},
   "outputs": [],
   "source": [
    "embedding_train = all_embeddings[train_idxs]\n",
    "embedding_val = all_embeddings[val_idxs]\n",
    "embedding_test = all_embeddings[test_idxs]"
   ]
  },
  {
   "cell_type": "code",
   "execution_count": 23,
   "metadata": {},
   "outputs": [
    {
     "name": "stdout",
     "output_type": "stream",
     "text": [
      "The autoreload extension is already loaded. To reload it, use:\n",
      "  %reload_ext autoreload\n"
     ]
    }
   ],
   "source": [
    "%load_ext autoreload\n",
    "%autoreload 2\n",
    "from ml_utils.grid_search import GridSearch\n",
    "from ml_utils.PCA_discriminator import PCALinear,PCAKernel,KernelPCA\n",
    "from sklearn.metrics import roc_auc_score,accuracy_score,roc_curve,f1_score,balanced_accuracy_score\n",
    "from ml_utils.metrics import auc_pr"
   ]
  },
  {
   "cell_type": "markdown",
   "metadata": {},
   "source": [
    "Grid Search for Best 'n_components' & 'layer'"
   ]
  },
  {
   "cell_type": "code",
   "execution_count": 24,
   "metadata": {},
   "outputs": [],
   "source": [
    "M=3584\n",
    "def evaluator(n_components,i_layer,X,y):\n",
    "    discriminator=KernelPCA(embedding_train[:,i_layer,:],n_components,M,method='CoP',gamma=1)\n",
    "    scores=discriminator.get_score(X[:,i_layer,:])\n",
    "    \n",
    "    return roc_auc_score(y,scores)"
   ]
  },
  {
   "cell_type": "code",
   "execution_count": 25,
   "metadata": {},
   "outputs": [
    {
     "name": "stdout",
     "output_type": "stream",
     "text": [
      "Grid Searching for best n_components,layer\n"
     ]
    },
    {
     "data": {
      "application/vnd.jupyter.widget-view+json": {
       "model_id": "c10d19f9298a4a06959d2b6ec0010ac8",
       "version_major": 2,
       "version_minor": 0
      },
      "text/plain": [
       "  0%|          | 0/10 [00:00<?, ?it/s]"
      ]
     },
     "metadata": {},
     "output_type": "display_data"
    },
    {
     "data": {
      "application/vnd.jupyter.widget-view+json": {
       "model_id": "f9b65af2ffa64b41a385b1c937cfb437",
       "version_major": 2,
       "version_minor": 0
      },
      "text/plain": [
       "  0%|          | 0/33 [00:00<?, ?it/s]"
      ]
     },
     "metadata": {},
     "output_type": "display_data"
    },
    {
     "name": "stdout",
     "output_type": "stream",
     "text": [
      "found best n_components:1,layer:0 Score: 0.5006826785825109\n"
     ]
    },
    {
     "name": "stdout",
     "output_type": "stream",
     "text": [
      "found best n_components:1,layer:1 Score: 0.6134300202734851\n"
     ]
    },
    {
     "data": {
      "application/vnd.jupyter.widget-view+json": {
       "model_id": "397ff262ea6d4c5b9ce0a84e73ee327e",
       "version_major": 2,
       "version_minor": 0
      },
      "text/plain": [
       "  0%|          | 0/33 [00:00<?, ?it/s]"
      ]
     },
     "metadata": {},
     "output_type": "display_data"
    },
    {
     "name": "stdout",
     "output_type": "stream",
     "text": [
      "found best n_components:2,layer:1 Score: 0.6137603694739238\n",
      "found best n_components:2,layer:3 Score: 0.6165234076004882\n",
      "found best n_components:2,layer:14 Score: 0.6279440513870788\n"
     ]
    },
    {
     "data": {
      "application/vnd.jupyter.widget-view+json": {
       "model_id": "8c2e59a6d7764c92a68b7745f9aaf129",
       "version_major": 2,
       "version_minor": 0
      },
      "text/plain": [
       "  0%|          | 0/33 [00:00<?, ?it/s]"
      ]
     },
     "metadata": {},
     "output_type": "display_data"
    },
    {
     "name": "stdout",
     "output_type": "stream",
     "text": [
      "found best n_components:3,layer:14 Score: 0.6404624113035025\n",
      "found best n_components:3,layer:20 Score: 0.6547728024990174\n",
      "found best n_components:3,layer:23 Score: 0.6880986367115579\n"
     ]
    },
    {
     "data": {
      "application/vnd.jupyter.widget-view+json": {
       "model_id": "852c2041250841d78cd86db3bcd5eb5d",
       "version_major": 2,
       "version_minor": 0
      },
      "text/plain": [
       "  0%|          | 0/33 [00:00<?, ?it/s]"
      ]
     },
     "metadata": {},
     "output_type": "display_data"
    },
    {
     "data": {
      "application/vnd.jupyter.widget-view+json": {
       "model_id": "fe5930f3d7044bd49c4c8eb53e768dca",
       "version_major": 2,
       "version_minor": 0
      },
      "text/plain": [
       "  0%|          | 0/33 [00:00<?, ?it/s]"
      ]
     },
     "metadata": {},
     "output_type": "display_data"
    },
    {
     "name": "stdout",
     "output_type": "stream",
     "text": [
      "found best n_components:5,layer:14 Score: 0.7181533027162333\n"
     ]
    },
    {
     "data": {
      "application/vnd.jupyter.widget-view+json": {
       "model_id": "205107eb94b04117a7be663407046a72",
       "version_major": 2,
       "version_minor": 0
      },
      "text/plain": [
       "  0%|          | 0/33 [00:00<?, ?it/s]"
      ]
     },
     "metadata": {},
     "output_type": "display_data"
    },
    {
     "name": "stdout",
     "output_type": "stream",
     "text": [
      "found best n_components:6,layer:14 Score: 0.7332465762634726\n",
      "found best n_components:6,layer:19 Score: 0.736351600157223\n"
     ]
    },
    {
     "data": {
      "application/vnd.jupyter.widget-view+json": {
       "model_id": "bed9ef2f9eb5486db70d683df0afe2f9",
       "version_major": 2,
       "version_minor": 0
      },
      "text/plain": [
       "  0%|          | 0/33 [00:00<?, ?it/s]"
      ]
     },
     "metadata": {},
     "output_type": "display_data"
    },
    {
     "data": {
      "application/vnd.jupyter.widget-view+json": {
       "model_id": "b2dc5e6eede7445996e153b60c6b5256",
       "version_major": 2,
       "version_minor": 0
      },
      "text/plain": [
       "  0%|          | 0/33 [00:00<?, ?it/s]"
      ]
     },
     "metadata": {},
     "output_type": "display_data"
    },
    {
     "name": "stdout",
     "output_type": "stream",
     "text": [
      "found best n_components:8,layer:19 Score: 0.7386879641697179\n"
     ]
    },
    {
     "data": {
      "application/vnd.jupyter.widget-view+json": {
       "model_id": "baa3f2edf62e4643b2b71aaee351e291",
       "version_major": 2,
       "version_minor": 0
      },
      "text/plain": [
       "  0%|          | 0/33 [00:00<?, ?it/s]"
      ]
     },
     "metadata": {},
     "output_type": "display_data"
    },
    {
     "data": {
      "application/vnd.jupyter.widget-view+json": {
       "model_id": "de00d6d88fcd4f8f86cb5a0709915fec",
       "version_major": 2,
       "version_minor": 0
      },
      "text/plain": [
       "  0%|          | 0/33 [00:00<?, ?it/s]"
      ]
     },
     "metadata": {},
     "output_type": "display_data"
    }
   ],
   "source": [
    "# graid search for best hyper-parameters on validation set\n",
    "grid={\n",
    "    'n_components':range(1,11),\n",
    "    'layer':range(0,embedding_val.shape[1])\n",
    "}\n",
    "grid_search=GridSearch(evaluator,grid,embedding_val,hall_label_val)\n",
    "best_paras,all_results=grid_search.search(return_results=True)"
   ]
  },
  {
   "cell_type": "code",
   "execution_count": 26,
   "metadata": {},
   "outputs": [],
   "source": [
    "np.save('./VizWiz_layers.npy',all_results,allow_pickle=True)"
   ]
  },
  {
   "cell_type": "code",
   "execution_count": 27,
   "metadata": {},
   "outputs": [
    {
     "data": {
      "text/plain": [
       "{'n_components': 8, 'layer': 19, 'best_score': np.float64(0.7386879641697179)}"
      ]
     },
     "execution_count": 27,
     "metadata": {},
     "output_type": "execute_result"
    }
   ],
   "source": [
    "best_paras"
   ]
  },
  {
   "cell_type": "code",
   "execution_count": 28,
   "metadata": {},
   "outputs": [],
   "source": [
    "best_layer=best_paras['layer']"
   ]
  },
  {
   "cell_type": "markdown",
   "metadata": {},
   "source": [
    "View Results on Training set and Test set"
   ]
  },
  {
   "cell_type": "code",
   "execution_count": 29,
   "metadata": {},
   "outputs": [],
   "source": [
    "discriminator=PCALinear(embedding_train[:,best_layer,:],best_paras['n_components'])\n",
    "scores=discriminator.get_score(embedding_val[:,best_layer,:])\n",
    "best_split=discriminator.get_best_split(scores,hall_label_val)"
   ]
  },
  {
   "cell_type": "code",
   "execution_count": 30,
   "metadata": {},
   "outputs": [
    {
     "name": "stdout",
     "output_type": "stream",
     "text": [
      "train set acc: 0.7215 AUROC:0.7830406505674646\n"
     ]
    }
   ],
   "source": [
    "scores=discriminator.get_score(embedding_train[:,best_layer,:])\n",
    "y_train=(scores>best_split)\n",
    "print(f'train set acc: {accuracy_score(hall_label_wild,y_train)} AUROC:{roc_auc_score(hall_label_wild,scores)}')"
   ]
  },
  {
   "cell_type": "code",
   "execution_count": 31,
   "metadata": {},
   "outputs": [
    {
     "name": "stdout",
     "output_type": "stream",
     "text": [
      "test set acc: 0.694 AUROC:0.7751152026751489\n"
     ]
    }
   ],
   "source": [
    "scores=discriminator.get_score(embedding_test[:,best_layer,:])\n",
    "preds=(scores>best_split)\n",
    "print(f'test set acc: {accuracy_score(hall_label_test,preds)} AUROC:{roc_auc_score(hall_label_test,scores)}')"
   ]
  },
  {
   "cell_type": "markdown",
   "metadata": {},
   "source": [
    "Train Linear Prob to Get Better Results"
   ]
  },
  {
   "cell_type": "code",
   "execution_count": 32,
   "metadata": {},
   "outputs": [],
   "source": [
    "X_train=embedding_train[:, best_layer,:]\n",
    "y_train=y_train\n",
    "\n",
    "X_test=embedding_test[:, best_layer,:]\n",
    "y_test=hall_label_test"
   ]
  },
  {
   "cell_type": "code",
   "execution_count": 33,
   "metadata": {},
   "outputs": [],
   "source": [
    "best_acc, final_acc, (\n",
    "            clf, best_state, best_preds, preds, labels_val), losses_train = get_linear_acc(\n",
    "            X_train,\n",
    "            y_train,\n",
    "           X_train,\n",
    "            y_train,\n",
    "            2, epochs=50,\n",
    "            print_ret=True,\n",
    "            batch_size=512,\n",
    "            cosine=True,\n",
    "            nonlinear=True,\n",
    "            learning_rate=0.05,\n",
    "            weight_decay=0.0003)"
   ]
  },
  {
   "cell_type": "code",
   "execution_count": 34,
   "metadata": {},
   "outputs": [
    {
     "name": "stdout",
     "output_type": "stream",
     "text": [
      "test set acc: 0.689 f1:0.522273425499232 auroc:0.7707466764537966  b-acc:0.6716723758257891 auc-pr:0.5534454527606871\n"
     ]
    }
   ],
   "source": [
    "clf.eval()\n",
    "output = clf(torch.from_numpy(X_test).to(torch.float32).cuda())\n",
    "scores_test = torch.sigmoid(output).cpu().data.numpy()\n",
    "pred_test=scores_test>0.5\n",
    "print(f'test set acc: {accuracy_score(y_test,pred_test)} f1:{f1_score(y_test,pred_test)} auroc:{roc_auc_score(y_test,scores_test)}  b-acc:{balanced_accuracy_score(y_test,pred_test)} auc-pr:{auc_pr(y_test,scores_test)}')"
   ]
  }
 ],
 "metadata": {
  "kernelspec": {
   "display_name": "dl3.9",
   "language": "python",
   "name": "python3"
  },
  "language_info": {
   "codemirror_mode": {
    "name": "ipython",
    "version": 3
   },
   "file_extension": ".py",
   "mimetype": "text/x-python",
   "name": "python",
   "nbconvert_exporter": "python",
   "pygments_lexer": "ipython3",
   "version": "3.9.20"
  }
 },
 "nbformat": 4,
 "nbformat_minor": 2
}
