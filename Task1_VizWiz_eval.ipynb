{
 "cells": [
  {
   "cell_type": "code",
   "execution_count": null,
   "id": "c238a175",
   "metadata": {},
   "outputs": [],
   "source": [
    "import os\n",
    "import json\n",
    "\n",
    "import numpy as np\n",
    "from glob import glob\n",
    "from tqdm.auto import tqdm\n",
    "from sklearn.linear_model import LogisticRegression\n",
    "\n",
    "from utils.func import read_data, softmax\n",
    "from utils.metric import evaluate"
   ]
  },
  {
   "cell_type": "code",
   "execution_count": null,
   "id": "87f1ea04",
   "metadata": {},
   "outputs": [],
   "source": [
    "model_name = \"LLaVA-7B\"\n",
    "prompt = \"oe\""
   ]
  },
  {
   "cell_type": "code",
   "execution_count": null,
   "id": "e2bff69d",
   "metadata": {},
   "outputs": [],
   "source": [
    "_, x_train, y_train = read_data(model_name, \"VizWiz\", split=\"train\", prompt=prompt, token_idx=0)\n",
    "val_data, x_val, y_val = read_data(model_name, \"VizWiz\", split=\"val\", prompt=prompt, token_idx=0, return_data=True)\n",
    "\n",
    "print(x_train.shape, y_train.shape, x_val.shape, y_val.shape)"
   ]
  },
  {
   "cell_type": "code",
   "execution_count": null,
   "id": "e0456255",
   "metadata": {},
   "outputs": [],
   "source": [
    "if prompt == \"oe\":\n",
    "    label_list = [ins['label'] for ins in val_data]\n",
    "    val_labeled = json.load(open(f'./output/{model_name}/VizWiz_val_oe_labeled.json'))\n",
    "    llava_pred = [0 if ins[\"is_answer\"] == 'no' else 1 for ins in val_labeled]\n",
    "    evaluate(label_list, llava_pred, show=True)"
   ]
  },
  {
   "cell_type": "markdown",
   "id": "8bedbe6a",
   "metadata": {},
   "source": [
    "### Direrctly check the responses"
   ]
  },
  {
   "cell_type": "code",
   "execution_count": null,
   "id": "8c44622a",
   "metadata": {},
   "outputs": [],
   "source": [
    "label_list = [ins['label'] for ins in val_data]\n",
    "pred_list = [0 if \"unanswerable\" in ins['response'].lower() else 1 for ins in val_data]\n",
    "evaluate(label_list, pred_list, show=True)"
   ]
  },
  {
   "cell_type": "markdown",
   "id": "bfe8a7f3",
   "metadata": {},
   "source": [
    "### Use the probability of a spcific token"
   ]
  },
  {
   "cell_type": "code",
   "execution_count": null,
   "id": "38af5923",
   "metadata": {},
   "outputs": [],
   "source": [
    "label_list = [ins['label'] for ins in val_data]\n",
    "pred_list = 1 - softmax(x_val)[:, 853]\n",
    "evaluate(label_list, pred_list, show=True)"
   ]
  },
  {
   "cell_type": "markdown",
   "id": "3bead30a",
   "metadata": {},
   "source": [
    "### Linear probing"
   ]
  },
  {
   "cell_type": "code",
   "execution_count": null,
   "id": "1152de9f",
   "metadata": {
    "scrolled": false
   },
   "outputs": [],
   "source": [
    "model = LogisticRegression()\n",
    "model.fit(x_train, y_train)\n",
    "\n",
    "y_pred = model.predict_proba(x_val)[:, 1]\n",
    "_, _, _, auroc = evaluate(y_val, y_pred, show=True)"
   ]
  }
 ],
 "metadata": {
  "kernelspec": {
   "display_name": "Python 3 (ipykernel)",
   "language": "python",
   "name": "python3"
  },
  "language_info": {
   "codemirror_mode": {
    "name": "ipython",
    "version": 3
   },
   "file_extension": ".py",
   "mimetype": "text/x-python",
   "name": "python",
   "nbconvert_exporter": "python",
   "pygments_lexer": "ipython3",
   "version": "3.11.5"
  }
 },
 "nbformat": 4,
 "nbformat_minor": 5
}
