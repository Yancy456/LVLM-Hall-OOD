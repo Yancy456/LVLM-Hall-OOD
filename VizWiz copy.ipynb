{
 "cells": [
  {
   "cell_type": "code",
   "execution_count": 1,
   "metadata": {},
   "outputs": [],
   "source": [
    "%load_ext autoreload\n",
    "%autoreload 2\n",
    "\n",
    "import os\n",
    "import torch\n",
    "import numpy as np\n",
    "from glob import glob\n",
    "from tqdm.auto import tqdm\n",
    "from sklearn.linear_model import LogisticRegression\n",
    "import pandas as pd\n",
    "from utils.store_data import ReadData\n",
    "import numpy as np\n",
    "import torch\n",
    "from utils.arguments import Arguments\n",
    "from tqdm import tqdm\n",
    "from sklearn.decomposition import PCA\n",
    "from linear_probe import get_linear_acc\n",
    "import random\n",
    "import os\n",
    "from sklearn.metrics import roc_auc_score,accuracy_score,roc_curve\n",
    "from answer_judge.vqaEval import VQAEval"
   ]
  },
  {
   "cell_type": "code",
   "execution_count": 2,
   "metadata": {},
   "outputs": [],
   "source": [
    "data_reader=ReadData('/root/autodl-fs/hallscope/VizWiz/train')\n",
    "data=data_reader.read_all()\n",
    "random.shuffle(data)"
   ]
  },
  {
   "cell_type": "code",
   "execution_count": 3,
   "metadata": {},
   "outputs": [],
   "source": [
    "df=pd.DataFrame(data)"
   ]
  },
  {
   "cell_type": "code",
   "execution_count": 4,
   "metadata": {},
   "outputs": [
    {
     "data": {
      "text/html": [
       "<div>\n",
       "<style scoped>\n",
       "    .dataframe tbody tr th:only-of-type {\n",
       "        vertical-align: middle;\n",
       "    }\n",
       "\n",
       "    .dataframe tbody tr th {\n",
       "        vertical-align: top;\n",
       "    }\n",
       "\n",
       "    .dataframe thead th {\n",
       "        text-align: right;\n",
       "    }\n",
       "</style>\n",
       "<table border=\"1\" class=\"dataframe\">\n",
       "  <thead>\n",
       "    <tr style=\"text-align: right;\">\n",
       "      <th></th>\n",
       "      <th>img_path</th>\n",
       "      <th>question</th>\n",
       "      <th>answer_type</th>\n",
       "      <th>answers</th>\n",
       "      <th>most_likely</th>\n",
       "    </tr>\n",
       "  </thead>\n",
       "  <tbody>\n",
       "    <tr>\n",
       "      <th>0</th>\n",
       "      <td>[/root/autodl-fs/vizwiz/train/train/VizWiz_tra...</td>\n",
       "      <td>[Given the question 'What is the expiration da...</td>\n",
       "      <td>[unanswerable]</td>\n",
       "      <td>[{'answer_confidence': ['maybe'], 'answer': ['...</td>\n",
       "      <td>{'embedding': [[[-0.00073624  0.0111084  -0.01...</td>\n",
       "    </tr>\n",
       "    <tr>\n",
       "      <th>1</th>\n",
       "      <td>[/root/autodl-fs/vizwiz/train/train/VizWiz_tra...</td>\n",
       "      <td>[Given the question 'For how long do I cook th...</td>\n",
       "      <td>[other]</td>\n",
       "      <td>[{'answer_confidence': ['yes'], 'answer': ['un...</td>\n",
       "      <td>{'embedding': [[[-0.00073624  0.0111084  -0.01...</td>\n",
       "    </tr>\n",
       "    <tr>\n",
       "      <th>2</th>\n",
       "      <td>[/root/autodl-fs/vizwiz/train/train/VizWiz_tra...</td>\n",
       "      <td>[Given the question 'What is it?', is the ques...</td>\n",
       "      <td>[other]</td>\n",
       "      <td>[{'answer': ['unanswerable'], 'answer_confiden...</td>\n",
       "      <td>{'embedding': [[[-0.00073624  0.0111084  -0.01...</td>\n",
       "    </tr>\n",
       "    <tr>\n",
       "      <th>3</th>\n",
       "      <td>[/root/autodl-fs/vizwiz/train/train/VizWiz_tra...</td>\n",
       "      <td>[Given the question 'What is this?', is the qu...</td>\n",
       "      <td>[other]</td>\n",
       "      <td>[{'answer': ['clock'], 'answer_confidence': ['...</td>\n",
       "      <td>{'embedding': [[[-0.00567627 -0.00067902 -0.00...</td>\n",
       "    </tr>\n",
       "    <tr>\n",
       "      <th>4</th>\n",
       "      <td>[/root/autodl-fs/vizwiz/train/train/VizWiz_tra...</td>\n",
       "      <td>[Given the question 'What is this? What is thi...</td>\n",
       "      <td>[other]</td>\n",
       "      <td>[{'answer_confidence': ['yes'], 'answer': ['wa...</td>\n",
       "      <td>{'embedding': [[[-0.00073624  0.0111084  -0.01...</td>\n",
       "    </tr>\n",
       "  </tbody>\n",
       "</table>\n",
       "</div>"
      ],
      "text/plain": [
       "                                            img_path  \\\n",
       "0  [/root/autodl-fs/vizwiz/train/train/VizWiz_tra...   \n",
       "1  [/root/autodl-fs/vizwiz/train/train/VizWiz_tra...   \n",
       "2  [/root/autodl-fs/vizwiz/train/train/VizWiz_tra...   \n",
       "3  [/root/autodl-fs/vizwiz/train/train/VizWiz_tra...   \n",
       "4  [/root/autodl-fs/vizwiz/train/train/VizWiz_tra...   \n",
       "\n",
       "                                            question     answer_type  \\\n",
       "0  [Given the question 'What is the expiration da...  [unanswerable]   \n",
       "1  [Given the question 'For how long do I cook th...         [other]   \n",
       "2  [Given the question 'What is it?', is the ques...         [other]   \n",
       "3  [Given the question 'What is this?', is the qu...         [other]   \n",
       "4  [Given the question 'What is this? What is thi...         [other]   \n",
       "\n",
       "                                             answers  \\\n",
       "0  [{'answer_confidence': ['maybe'], 'answer': ['...   \n",
       "1  [{'answer_confidence': ['yes'], 'answer': ['un...   \n",
       "2  [{'answer': ['unanswerable'], 'answer_confiden...   \n",
       "3  [{'answer': ['clock'], 'answer_confidence': ['...   \n",
       "4  [{'answer_confidence': ['yes'], 'answer': ['wa...   \n",
       "\n",
       "                                         most_likely  \n",
       "0  {'embedding': [[[-0.00073624  0.0111084  -0.01...  \n",
       "1  {'embedding': [[[-0.00073624  0.0111084  -0.01...  \n",
       "2  {'embedding': [[[-0.00073624  0.0111084  -0.01...  \n",
       "3  {'embedding': [[[-0.00567627 -0.00067902 -0.00...  \n",
       "4  {'embedding': [[[-0.00073624  0.0111084  -0.01...  "
      ]
     },
     "execution_count": 4,
     "metadata": {},
     "output_type": "execute_result"
    }
   ],
   "source": [
    "df.head()"
   ]
  },
  {
   "cell_type": "code",
   "execution_count": 5,
   "metadata": {},
   "outputs": [
    {
     "data": {
      "text/plain": [
       "(4110, 5)"
      ]
     },
     "execution_count": 5,
     "metadata": {},
     "output_type": "execute_result"
    }
   ],
   "source": [
    "df.shape"
   ]
  },
  {
   "cell_type": "code",
   "execution_count": 6,
   "metadata": {},
   "outputs": [],
   "source": [
    "i=1"
   ]
  },
  {
   "cell_type": "code",
   "execution_count": 7,
   "metadata": {},
   "outputs": [
    {
     "data": {
      "text/plain": [
       "['/root/autodl-fs/vizwiz/train/train/VizWiz_train_00002315.jpg']"
      ]
     },
     "execution_count": 7,
     "metadata": {},
     "output_type": "execute_result"
    }
   ],
   "source": [
    "df.iloc[i]['img_path']"
   ]
  },
  {
   "cell_type": "code",
   "execution_count": 8,
   "metadata": {},
   "outputs": [
    {
     "data": {
      "text/plain": [
       "['Unanswerable']"
      ]
     },
     "execution_count": 8,
     "metadata": {},
     "output_type": "execute_result"
    }
   ],
   "source": [
    "df.iloc[i]['most_likely']['response']"
   ]
  },
  {
   "cell_type": "code",
   "execution_count": 9,
   "metadata": {},
   "outputs": [
    {
     "data": {
      "text/plain": [
       "[\"Given the question 'For how long do I cook this in the microwave?', is the question answerable or unanswerable based on the image?\\nPlease reply with 'Unanswerable' or 'Answerable'.\"]"
      ]
     },
     "execution_count": 9,
     "metadata": {},
     "output_type": "execute_result"
    }
   ],
   "source": [
    "df.iloc[i]['question']"
   ]
  },
  {
   "cell_type": "code",
   "execution_count": 10,
   "metadata": {},
   "outputs": [
    {
     "data": {
      "text/plain": [
       "['other']"
      ]
     },
     "execution_count": 10,
     "metadata": {},
     "output_type": "execute_result"
    }
   ],
   "source": [
    "df.iloc[i]['answer_type']"
   ]
  },
  {
   "cell_type": "code",
   "execution_count": 11,
   "metadata": {},
   "outputs": [
    {
     "data": {
      "text/plain": [
       "answer_type\n",
       "[other]           2771\n",
       "[unanswerable]    1102\n",
       "[yes/no]           172\n",
       "[number]            65\n",
       "Name: count, dtype: int64"
      ]
     },
     "execution_count": 11,
     "metadata": {},
     "output_type": "execute_result"
    }
   ],
   "source": [
    "df['answer_type'].value_counts()"
   ]
  },
  {
   "cell_type": "code",
   "execution_count": 12,
   "metadata": {},
   "outputs": [],
   "source": [
    "embeddings=df['most_likely'].apply(lambda x: x['embedding']).to_list()"
   ]
  },
  {
   "cell_type": "code",
   "execution_count": 13,
   "metadata": {},
   "outputs": [],
   "source": [
    "embeddings=np.concatenate(embeddings,axis=0)"
   ]
  },
  {
   "cell_type": "code",
   "execution_count": 14,
   "metadata": {},
   "outputs": [
    {
     "data": {
      "text/plain": [
       "(4110, 33, 4096)"
      ]
     },
     "execution_count": 14,
     "metadata": {},
     "output_type": "execute_result"
    }
   ],
   "source": [
    "embeddings.shape"
   ]
  },
  {
   "cell_type": "code",
   "execution_count": 15,
   "metadata": {},
   "outputs": [
    {
     "ename": "KeyboardInterrupt",
     "evalue": "",
     "output_type": "error",
     "traceback": [
      "\u001b[0;31m---------------------------------------------------------------------------\u001b[0m",
      "\u001b[0;31mKeyboardInterrupt\u001b[0m                         Traceback (most recent call last)",
      "Cell \u001b[0;32mIn[15], line 6\u001b[0m\n\u001b[1;32m      3\u001b[0m     transposed\u001b[38;5;241m=\u001b[39mf[\u001b[38;5;124m'\u001b[39m\u001b[38;5;124manswer\u001b[39m\u001b[38;5;124m'\u001b[39m]\u001b[38;5;241m.\u001b[39mapply(pd\u001b[38;5;241m.\u001b[39mSeries)\u001b[38;5;241m.\u001b[39mT\u001b[38;5;241m.\u001b[39mvalues\u001b[38;5;241m.\u001b[39mtolist()\n\u001b[1;32m      4\u001b[0m     \u001b[38;5;28;01mreturn\u001b[39;00m transposed\n\u001b[0;32m----> 6\u001b[0m df[\u001b[38;5;124m'\u001b[39m\u001b[38;5;124manswers\u001b[39m\u001b[38;5;124m'\u001b[39m]\u001b[38;5;241m=\u001b[39m\u001b[43mdf\u001b[49m\u001b[43m[\u001b[49m\u001b[38;5;124;43m'\u001b[39;49m\u001b[38;5;124;43manswers\u001b[39;49m\u001b[38;5;124;43m'\u001b[39;49m\u001b[43m]\u001b[49m\u001b[38;5;241;43m.\u001b[39;49m\u001b[43mapply\u001b[49m\u001b[43m(\u001b[49m\u001b[43mtranspose_lines\u001b[49m\u001b[43m)\u001b[49m\n",
      "File \u001b[0;32m~/miniconda3/envs/dl3.9/lib/python3.9/site-packages/pandas/core/series.py:4917\u001b[0m, in \u001b[0;36mSeries.apply\u001b[0;34m(self, func, convert_dtype, args, by_row, **kwargs)\u001b[0m\n\u001b[1;32m   4789\u001b[0m \u001b[38;5;28;01mdef\u001b[39;00m \u001b[38;5;21mapply\u001b[39m(\n\u001b[1;32m   4790\u001b[0m     \u001b[38;5;28mself\u001b[39m,\n\u001b[1;32m   4791\u001b[0m     func: AggFuncType,\n\u001b[0;32m   (...)\u001b[0m\n\u001b[1;32m   4796\u001b[0m     \u001b[38;5;241m*\u001b[39m\u001b[38;5;241m*\u001b[39mkwargs,\n\u001b[1;32m   4797\u001b[0m ) \u001b[38;5;241m-\u001b[39m\u001b[38;5;241m>\u001b[39m DataFrame \u001b[38;5;241m|\u001b[39m Series:\n\u001b[1;32m   4798\u001b[0m \u001b[38;5;250m    \u001b[39m\u001b[38;5;124;03m\"\"\"\u001b[39;00m\n\u001b[1;32m   4799\u001b[0m \u001b[38;5;124;03m    Invoke function on values of Series.\u001b[39;00m\n\u001b[1;32m   4800\u001b[0m \n\u001b[0;32m   (...)\u001b[0m\n\u001b[1;32m   4915\u001b[0m \u001b[38;5;124;03m    dtype: float64\u001b[39;00m\n\u001b[1;32m   4916\u001b[0m \u001b[38;5;124;03m    \"\"\"\u001b[39;00m\n\u001b[0;32m-> 4917\u001b[0m     \u001b[38;5;28;01mreturn\u001b[39;00m \u001b[43mSeriesApply\u001b[49m\u001b[43m(\u001b[49m\n\u001b[1;32m   4918\u001b[0m \u001b[43m        \u001b[49m\u001b[38;5;28;43mself\u001b[39;49m\u001b[43m,\u001b[49m\n\u001b[1;32m   4919\u001b[0m \u001b[43m        \u001b[49m\u001b[43mfunc\u001b[49m\u001b[43m,\u001b[49m\n\u001b[1;32m   4920\u001b[0m \u001b[43m        \u001b[49m\u001b[43mconvert_dtype\u001b[49m\u001b[38;5;241;43m=\u001b[39;49m\u001b[43mconvert_dtype\u001b[49m\u001b[43m,\u001b[49m\n\u001b[1;32m   4921\u001b[0m \u001b[43m        \u001b[49m\u001b[43mby_row\u001b[49m\u001b[38;5;241;43m=\u001b[39;49m\u001b[43mby_row\u001b[49m\u001b[43m,\u001b[49m\n\u001b[1;32m   4922\u001b[0m \u001b[43m        \u001b[49m\u001b[43margs\u001b[49m\u001b[38;5;241;43m=\u001b[39;49m\u001b[43margs\u001b[49m\u001b[43m,\u001b[49m\n\u001b[1;32m   4923\u001b[0m \u001b[43m        \u001b[49m\u001b[43mkwargs\u001b[49m\u001b[38;5;241;43m=\u001b[39;49m\u001b[43mkwargs\u001b[49m\u001b[43m,\u001b[49m\n\u001b[1;32m   4924\u001b[0m \u001b[43m    \u001b[49m\u001b[43m)\u001b[49m\u001b[38;5;241;43m.\u001b[39;49m\u001b[43mapply\u001b[49m\u001b[43m(\u001b[49m\u001b[43m)\u001b[49m\n",
      "File \u001b[0;32m~/miniconda3/envs/dl3.9/lib/python3.9/site-packages/pandas/core/apply.py:1427\u001b[0m, in \u001b[0;36mSeriesApply.apply\u001b[0;34m(self)\u001b[0m\n\u001b[1;32m   1424\u001b[0m     \u001b[38;5;28;01mreturn\u001b[39;00m \u001b[38;5;28mself\u001b[39m\u001b[38;5;241m.\u001b[39mapply_compat()\n\u001b[1;32m   1426\u001b[0m \u001b[38;5;66;03m# self.func is Callable\u001b[39;00m\n\u001b[0;32m-> 1427\u001b[0m \u001b[38;5;28;01mreturn\u001b[39;00m \u001b[38;5;28;43mself\u001b[39;49m\u001b[38;5;241;43m.\u001b[39;49m\u001b[43mapply_standard\u001b[49m\u001b[43m(\u001b[49m\u001b[43m)\u001b[49m\n",
      "File \u001b[0;32m~/miniconda3/envs/dl3.9/lib/python3.9/site-packages/pandas/core/apply.py:1507\u001b[0m, in \u001b[0;36mSeriesApply.apply_standard\u001b[0;34m(self)\u001b[0m\n\u001b[1;32m   1501\u001b[0m \u001b[38;5;66;03m# row-wise access\u001b[39;00m\n\u001b[1;32m   1502\u001b[0m \u001b[38;5;66;03m# apply doesn't have a `na_action` keyword and for backward compat reasons\u001b[39;00m\n\u001b[1;32m   1503\u001b[0m \u001b[38;5;66;03m# we need to give `na_action=\"ignore\"` for categorical data.\u001b[39;00m\n\u001b[1;32m   1504\u001b[0m \u001b[38;5;66;03m# TODO: remove the `na_action=\"ignore\"` when that default has been changed in\u001b[39;00m\n\u001b[1;32m   1505\u001b[0m \u001b[38;5;66;03m#  Categorical (GH51645).\u001b[39;00m\n\u001b[1;32m   1506\u001b[0m action \u001b[38;5;241m=\u001b[39m \u001b[38;5;124m\"\u001b[39m\u001b[38;5;124mignore\u001b[39m\u001b[38;5;124m\"\u001b[39m \u001b[38;5;28;01mif\u001b[39;00m \u001b[38;5;28misinstance\u001b[39m(obj\u001b[38;5;241m.\u001b[39mdtype, CategoricalDtype) \u001b[38;5;28;01melse\u001b[39;00m \u001b[38;5;28;01mNone\u001b[39;00m\n\u001b[0;32m-> 1507\u001b[0m mapped \u001b[38;5;241m=\u001b[39m \u001b[43mobj\u001b[49m\u001b[38;5;241;43m.\u001b[39;49m\u001b[43m_map_values\u001b[49m\u001b[43m(\u001b[49m\n\u001b[1;32m   1508\u001b[0m \u001b[43m    \u001b[49m\u001b[43mmapper\u001b[49m\u001b[38;5;241;43m=\u001b[39;49m\u001b[43mcurried\u001b[49m\u001b[43m,\u001b[49m\u001b[43m \u001b[49m\u001b[43mna_action\u001b[49m\u001b[38;5;241;43m=\u001b[39;49m\u001b[43maction\u001b[49m\u001b[43m,\u001b[49m\u001b[43m \u001b[49m\u001b[43mconvert\u001b[49m\u001b[38;5;241;43m=\u001b[39;49m\u001b[38;5;28;43mself\u001b[39;49m\u001b[38;5;241;43m.\u001b[39;49m\u001b[43mconvert_dtype\u001b[49m\n\u001b[1;32m   1509\u001b[0m \u001b[43m\u001b[49m\u001b[43m)\u001b[49m\n\u001b[1;32m   1511\u001b[0m \u001b[38;5;28;01mif\u001b[39;00m \u001b[38;5;28mlen\u001b[39m(mapped) \u001b[38;5;129;01mand\u001b[39;00m \u001b[38;5;28misinstance\u001b[39m(mapped[\u001b[38;5;241m0\u001b[39m], ABCSeries):\n\u001b[1;32m   1512\u001b[0m     \u001b[38;5;66;03m# GH#43986 Need to do list(mapped) in order to get treated as nested\u001b[39;00m\n\u001b[1;32m   1513\u001b[0m     \u001b[38;5;66;03m#  See also GH#25959 regarding EA support\u001b[39;00m\n\u001b[1;32m   1514\u001b[0m     \u001b[38;5;28;01mreturn\u001b[39;00m obj\u001b[38;5;241m.\u001b[39m_constructor_expanddim(\u001b[38;5;28mlist\u001b[39m(mapped), index\u001b[38;5;241m=\u001b[39mobj\u001b[38;5;241m.\u001b[39mindex)\n",
      "File \u001b[0;32m~/miniconda3/envs/dl3.9/lib/python3.9/site-packages/pandas/core/base.py:921\u001b[0m, in \u001b[0;36mIndexOpsMixin._map_values\u001b[0;34m(self, mapper, na_action, convert)\u001b[0m\n\u001b[1;32m    918\u001b[0m \u001b[38;5;28;01mif\u001b[39;00m \u001b[38;5;28misinstance\u001b[39m(arr, ExtensionArray):\n\u001b[1;32m    919\u001b[0m     \u001b[38;5;28;01mreturn\u001b[39;00m arr\u001b[38;5;241m.\u001b[39mmap(mapper, na_action\u001b[38;5;241m=\u001b[39mna_action)\n\u001b[0;32m--> 921\u001b[0m \u001b[38;5;28;01mreturn\u001b[39;00m \u001b[43malgorithms\u001b[49m\u001b[38;5;241;43m.\u001b[39;49m\u001b[43mmap_array\u001b[49m\u001b[43m(\u001b[49m\u001b[43marr\u001b[49m\u001b[43m,\u001b[49m\u001b[43m \u001b[49m\u001b[43mmapper\u001b[49m\u001b[43m,\u001b[49m\u001b[43m \u001b[49m\u001b[43mna_action\u001b[49m\u001b[38;5;241;43m=\u001b[39;49m\u001b[43mna_action\u001b[49m\u001b[43m,\u001b[49m\u001b[43m \u001b[49m\u001b[43mconvert\u001b[49m\u001b[38;5;241;43m=\u001b[39;49m\u001b[43mconvert\u001b[49m\u001b[43m)\u001b[49m\n",
      "File \u001b[0;32m~/miniconda3/envs/dl3.9/lib/python3.9/site-packages/pandas/core/algorithms.py:1743\u001b[0m, in \u001b[0;36mmap_array\u001b[0;34m(arr, mapper, na_action, convert)\u001b[0m\n\u001b[1;32m   1741\u001b[0m values \u001b[38;5;241m=\u001b[39m arr\u001b[38;5;241m.\u001b[39mastype(\u001b[38;5;28mobject\u001b[39m, copy\u001b[38;5;241m=\u001b[39m\u001b[38;5;28;01mFalse\u001b[39;00m)\n\u001b[1;32m   1742\u001b[0m \u001b[38;5;28;01mif\u001b[39;00m na_action \u001b[38;5;129;01mis\u001b[39;00m \u001b[38;5;28;01mNone\u001b[39;00m:\n\u001b[0;32m-> 1743\u001b[0m     \u001b[38;5;28;01mreturn\u001b[39;00m \u001b[43mlib\u001b[49m\u001b[38;5;241;43m.\u001b[39;49m\u001b[43mmap_infer\u001b[49m\u001b[43m(\u001b[49m\u001b[43mvalues\u001b[49m\u001b[43m,\u001b[49m\u001b[43m \u001b[49m\u001b[43mmapper\u001b[49m\u001b[43m,\u001b[49m\u001b[43m \u001b[49m\u001b[43mconvert\u001b[49m\u001b[38;5;241;43m=\u001b[39;49m\u001b[43mconvert\u001b[49m\u001b[43m)\u001b[49m\n\u001b[1;32m   1744\u001b[0m \u001b[38;5;28;01melse\u001b[39;00m:\n\u001b[1;32m   1745\u001b[0m     \u001b[38;5;28;01mreturn\u001b[39;00m lib\u001b[38;5;241m.\u001b[39mmap_infer_mask(\n\u001b[1;32m   1746\u001b[0m         values, mapper, mask\u001b[38;5;241m=\u001b[39misna(values)\u001b[38;5;241m.\u001b[39mview(np\u001b[38;5;241m.\u001b[39muint8), convert\u001b[38;5;241m=\u001b[39mconvert\n\u001b[1;32m   1747\u001b[0m     )\n",
      "File \u001b[0;32mlib.pyx:2972\u001b[0m, in \u001b[0;36mpandas._libs.lib.map_infer\u001b[0;34m()\u001b[0m\n",
      "Cell \u001b[0;32mIn[15], line 3\u001b[0m, in \u001b[0;36mtranspose_lines\u001b[0;34m(x)\u001b[0m\n\u001b[1;32m      1\u001b[0m \u001b[38;5;28;01mdef\u001b[39;00m \u001b[38;5;21mtranspose_lines\u001b[39m(x):\n\u001b[1;32m      2\u001b[0m     f\u001b[38;5;241m=\u001b[39mpd\u001b[38;5;241m.\u001b[39mDataFrame(x)\n\u001b[0;32m----> 3\u001b[0m     transposed\u001b[38;5;241m=\u001b[39m\u001b[43mf\u001b[49m\u001b[43m[\u001b[49m\u001b[38;5;124;43m'\u001b[39;49m\u001b[38;5;124;43manswer\u001b[39;49m\u001b[38;5;124;43m'\u001b[39;49m\u001b[43m]\u001b[49m\u001b[38;5;241;43m.\u001b[39;49m\u001b[43mapply\u001b[49m\u001b[43m(\u001b[49m\u001b[43mpd\u001b[49m\u001b[38;5;241;43m.\u001b[39;49m\u001b[43mSeries\u001b[49m\u001b[43m)\u001b[49m\u001b[38;5;241m.\u001b[39mT\u001b[38;5;241m.\u001b[39mvalues\u001b[38;5;241m.\u001b[39mtolist()\n\u001b[1;32m      4\u001b[0m     \u001b[38;5;28;01mreturn\u001b[39;00m transposed\n",
      "File \u001b[0;32m~/miniconda3/envs/dl3.9/lib/python3.9/site-packages/pandas/core/series.py:4917\u001b[0m, in \u001b[0;36mSeries.apply\u001b[0;34m(self, func, convert_dtype, args, by_row, **kwargs)\u001b[0m\n\u001b[1;32m   4789\u001b[0m \u001b[38;5;28;01mdef\u001b[39;00m \u001b[38;5;21mapply\u001b[39m(\n\u001b[1;32m   4790\u001b[0m     \u001b[38;5;28mself\u001b[39m,\n\u001b[1;32m   4791\u001b[0m     func: AggFuncType,\n\u001b[0;32m   (...)\u001b[0m\n\u001b[1;32m   4796\u001b[0m     \u001b[38;5;241m*\u001b[39m\u001b[38;5;241m*\u001b[39mkwargs,\n\u001b[1;32m   4797\u001b[0m ) \u001b[38;5;241m-\u001b[39m\u001b[38;5;241m>\u001b[39m DataFrame \u001b[38;5;241m|\u001b[39m Series:\n\u001b[1;32m   4798\u001b[0m \u001b[38;5;250m    \u001b[39m\u001b[38;5;124;03m\"\"\"\u001b[39;00m\n\u001b[1;32m   4799\u001b[0m \u001b[38;5;124;03m    Invoke function on values of Series.\u001b[39;00m\n\u001b[1;32m   4800\u001b[0m \n\u001b[0;32m   (...)\u001b[0m\n\u001b[1;32m   4915\u001b[0m \u001b[38;5;124;03m    dtype: float64\u001b[39;00m\n\u001b[1;32m   4916\u001b[0m \u001b[38;5;124;03m    \"\"\"\u001b[39;00m\n\u001b[0;32m-> 4917\u001b[0m     \u001b[38;5;28;01mreturn\u001b[39;00m \u001b[43mSeriesApply\u001b[49m\u001b[43m(\u001b[49m\n\u001b[1;32m   4918\u001b[0m \u001b[43m        \u001b[49m\u001b[38;5;28;43mself\u001b[39;49m\u001b[43m,\u001b[49m\n\u001b[1;32m   4919\u001b[0m \u001b[43m        \u001b[49m\u001b[43mfunc\u001b[49m\u001b[43m,\u001b[49m\n\u001b[1;32m   4920\u001b[0m \u001b[43m        \u001b[49m\u001b[43mconvert_dtype\u001b[49m\u001b[38;5;241;43m=\u001b[39;49m\u001b[43mconvert_dtype\u001b[49m\u001b[43m,\u001b[49m\n\u001b[1;32m   4921\u001b[0m \u001b[43m        \u001b[49m\u001b[43mby_row\u001b[49m\u001b[38;5;241;43m=\u001b[39;49m\u001b[43mby_row\u001b[49m\u001b[43m,\u001b[49m\n\u001b[1;32m   4922\u001b[0m \u001b[43m        \u001b[49m\u001b[43margs\u001b[49m\u001b[38;5;241;43m=\u001b[39;49m\u001b[43margs\u001b[49m\u001b[43m,\u001b[49m\n\u001b[1;32m   4923\u001b[0m \u001b[43m        \u001b[49m\u001b[43mkwargs\u001b[49m\u001b[38;5;241;43m=\u001b[39;49m\u001b[43mkwargs\u001b[49m\u001b[43m,\u001b[49m\n\u001b[1;32m   4924\u001b[0m \u001b[43m    \u001b[49m\u001b[43m)\u001b[49m\u001b[38;5;241;43m.\u001b[39;49m\u001b[43mapply\u001b[49m\u001b[43m(\u001b[49m\u001b[43m)\u001b[49m\n",
      "File \u001b[0;32m~/miniconda3/envs/dl3.9/lib/python3.9/site-packages/pandas/core/apply.py:1427\u001b[0m, in \u001b[0;36mSeriesApply.apply\u001b[0;34m(self)\u001b[0m\n\u001b[1;32m   1424\u001b[0m     \u001b[38;5;28;01mreturn\u001b[39;00m \u001b[38;5;28mself\u001b[39m\u001b[38;5;241m.\u001b[39mapply_compat()\n\u001b[1;32m   1426\u001b[0m \u001b[38;5;66;03m# self.func is Callable\u001b[39;00m\n\u001b[0;32m-> 1427\u001b[0m \u001b[38;5;28;01mreturn\u001b[39;00m \u001b[38;5;28;43mself\u001b[39;49m\u001b[38;5;241;43m.\u001b[39;49m\u001b[43mapply_standard\u001b[49m\u001b[43m(\u001b[49m\u001b[43m)\u001b[49m\n",
      "File \u001b[0;32m~/miniconda3/envs/dl3.9/lib/python3.9/site-packages/pandas/core/apply.py:1507\u001b[0m, in \u001b[0;36mSeriesApply.apply_standard\u001b[0;34m(self)\u001b[0m\n\u001b[1;32m   1501\u001b[0m \u001b[38;5;66;03m# row-wise access\u001b[39;00m\n\u001b[1;32m   1502\u001b[0m \u001b[38;5;66;03m# apply doesn't have a `na_action` keyword and for backward compat reasons\u001b[39;00m\n\u001b[1;32m   1503\u001b[0m \u001b[38;5;66;03m# we need to give `na_action=\"ignore\"` for categorical data.\u001b[39;00m\n\u001b[1;32m   1504\u001b[0m \u001b[38;5;66;03m# TODO: remove the `na_action=\"ignore\"` when that default has been changed in\u001b[39;00m\n\u001b[1;32m   1505\u001b[0m \u001b[38;5;66;03m#  Categorical (GH51645).\u001b[39;00m\n\u001b[1;32m   1506\u001b[0m action \u001b[38;5;241m=\u001b[39m \u001b[38;5;124m\"\u001b[39m\u001b[38;5;124mignore\u001b[39m\u001b[38;5;124m\"\u001b[39m \u001b[38;5;28;01mif\u001b[39;00m \u001b[38;5;28misinstance\u001b[39m(obj\u001b[38;5;241m.\u001b[39mdtype, CategoricalDtype) \u001b[38;5;28;01melse\u001b[39;00m \u001b[38;5;28;01mNone\u001b[39;00m\n\u001b[0;32m-> 1507\u001b[0m mapped \u001b[38;5;241m=\u001b[39m \u001b[43mobj\u001b[49m\u001b[38;5;241;43m.\u001b[39;49m\u001b[43m_map_values\u001b[49m\u001b[43m(\u001b[49m\n\u001b[1;32m   1508\u001b[0m \u001b[43m    \u001b[49m\u001b[43mmapper\u001b[49m\u001b[38;5;241;43m=\u001b[39;49m\u001b[43mcurried\u001b[49m\u001b[43m,\u001b[49m\u001b[43m \u001b[49m\u001b[43mna_action\u001b[49m\u001b[38;5;241;43m=\u001b[39;49m\u001b[43maction\u001b[49m\u001b[43m,\u001b[49m\u001b[43m \u001b[49m\u001b[43mconvert\u001b[49m\u001b[38;5;241;43m=\u001b[39;49m\u001b[38;5;28;43mself\u001b[39;49m\u001b[38;5;241;43m.\u001b[39;49m\u001b[43mconvert_dtype\u001b[49m\n\u001b[1;32m   1509\u001b[0m \u001b[43m\u001b[49m\u001b[43m)\u001b[49m\n\u001b[1;32m   1511\u001b[0m \u001b[38;5;28;01mif\u001b[39;00m \u001b[38;5;28mlen\u001b[39m(mapped) \u001b[38;5;129;01mand\u001b[39;00m \u001b[38;5;28misinstance\u001b[39m(mapped[\u001b[38;5;241m0\u001b[39m], ABCSeries):\n\u001b[1;32m   1512\u001b[0m     \u001b[38;5;66;03m# GH#43986 Need to do list(mapped) in order to get treated as nested\u001b[39;00m\n\u001b[1;32m   1513\u001b[0m     \u001b[38;5;66;03m#  See also GH#25959 regarding EA support\u001b[39;00m\n\u001b[1;32m   1514\u001b[0m     \u001b[38;5;28;01mreturn\u001b[39;00m obj\u001b[38;5;241m.\u001b[39m_constructor_expanddim(\u001b[38;5;28mlist\u001b[39m(mapped), index\u001b[38;5;241m=\u001b[39mobj\u001b[38;5;241m.\u001b[39mindex)\n",
      "File \u001b[0;32m~/miniconda3/envs/dl3.9/lib/python3.9/site-packages/pandas/core/base.py:921\u001b[0m, in \u001b[0;36mIndexOpsMixin._map_values\u001b[0;34m(self, mapper, na_action, convert)\u001b[0m\n\u001b[1;32m    918\u001b[0m \u001b[38;5;28;01mif\u001b[39;00m \u001b[38;5;28misinstance\u001b[39m(arr, ExtensionArray):\n\u001b[1;32m    919\u001b[0m     \u001b[38;5;28;01mreturn\u001b[39;00m arr\u001b[38;5;241m.\u001b[39mmap(mapper, na_action\u001b[38;5;241m=\u001b[39mna_action)\n\u001b[0;32m--> 921\u001b[0m \u001b[38;5;28;01mreturn\u001b[39;00m \u001b[43malgorithms\u001b[49m\u001b[38;5;241;43m.\u001b[39;49m\u001b[43mmap_array\u001b[49m\u001b[43m(\u001b[49m\u001b[43marr\u001b[49m\u001b[43m,\u001b[49m\u001b[43m \u001b[49m\u001b[43mmapper\u001b[49m\u001b[43m,\u001b[49m\u001b[43m \u001b[49m\u001b[43mna_action\u001b[49m\u001b[38;5;241;43m=\u001b[39;49m\u001b[43mna_action\u001b[49m\u001b[43m,\u001b[49m\u001b[43m \u001b[49m\u001b[43mconvert\u001b[49m\u001b[38;5;241;43m=\u001b[39;49m\u001b[43mconvert\u001b[49m\u001b[43m)\u001b[49m\n",
      "File \u001b[0;32m~/miniconda3/envs/dl3.9/lib/python3.9/site-packages/pandas/core/algorithms.py:1743\u001b[0m, in \u001b[0;36mmap_array\u001b[0;34m(arr, mapper, na_action, convert)\u001b[0m\n\u001b[1;32m   1741\u001b[0m values \u001b[38;5;241m=\u001b[39m arr\u001b[38;5;241m.\u001b[39mastype(\u001b[38;5;28mobject\u001b[39m, copy\u001b[38;5;241m=\u001b[39m\u001b[38;5;28;01mFalse\u001b[39;00m)\n\u001b[1;32m   1742\u001b[0m \u001b[38;5;28;01mif\u001b[39;00m na_action \u001b[38;5;129;01mis\u001b[39;00m \u001b[38;5;28;01mNone\u001b[39;00m:\n\u001b[0;32m-> 1743\u001b[0m     \u001b[38;5;28;01mreturn\u001b[39;00m \u001b[43mlib\u001b[49m\u001b[38;5;241;43m.\u001b[39;49m\u001b[43mmap_infer\u001b[49m\u001b[43m(\u001b[49m\u001b[43mvalues\u001b[49m\u001b[43m,\u001b[49m\u001b[43m \u001b[49m\u001b[43mmapper\u001b[49m\u001b[43m,\u001b[49m\u001b[43m \u001b[49m\u001b[43mconvert\u001b[49m\u001b[38;5;241;43m=\u001b[39;49m\u001b[43mconvert\u001b[49m\u001b[43m)\u001b[49m\n\u001b[1;32m   1744\u001b[0m \u001b[38;5;28;01melse\u001b[39;00m:\n\u001b[1;32m   1745\u001b[0m     \u001b[38;5;28;01mreturn\u001b[39;00m lib\u001b[38;5;241m.\u001b[39mmap_infer_mask(\n\u001b[1;32m   1746\u001b[0m         values, mapper, mask\u001b[38;5;241m=\u001b[39misna(values)\u001b[38;5;241m.\u001b[39mview(np\u001b[38;5;241m.\u001b[39muint8), convert\u001b[38;5;241m=\u001b[39mconvert\n\u001b[1;32m   1747\u001b[0m     )\n",
      "File \u001b[0;32mlib.pyx:2972\u001b[0m, in \u001b[0;36mpandas._libs.lib.map_infer\u001b[0;34m()\u001b[0m\n",
      "File \u001b[0;32m~/miniconda3/envs/dl3.9/lib/python3.9/site-packages/pandas/core/series.py:584\u001b[0m, in \u001b[0;36mSeries.__init__\u001b[0;34m(self, data, index, dtype, name, copy, fastpath)\u001b[0m\n\u001b[1;32m    582\u001b[0m         data \u001b[38;5;241m=\u001b[39m data\u001b[38;5;241m.\u001b[39mcopy()\n\u001b[1;32m    583\u001b[0m \u001b[38;5;28;01melse\u001b[39;00m:\n\u001b[0;32m--> 584\u001b[0m     data \u001b[38;5;241m=\u001b[39m \u001b[43msanitize_array\u001b[49m\u001b[43m(\u001b[49m\u001b[43mdata\u001b[49m\u001b[43m,\u001b[49m\u001b[43m \u001b[49m\u001b[43mindex\u001b[49m\u001b[43m,\u001b[49m\u001b[43m \u001b[49m\u001b[43mdtype\u001b[49m\u001b[43m,\u001b[49m\u001b[43m \u001b[49m\u001b[43mcopy\u001b[49m\u001b[43m)\u001b[49m\n\u001b[1;32m    586\u001b[0m     manager \u001b[38;5;241m=\u001b[39m _get_option(\u001b[38;5;124m\"\u001b[39m\u001b[38;5;124mmode.data_manager\u001b[39m\u001b[38;5;124m\"\u001b[39m, silent\u001b[38;5;241m=\u001b[39m\u001b[38;5;28;01mTrue\u001b[39;00m)\n\u001b[1;32m    587\u001b[0m     \u001b[38;5;28;01mif\u001b[39;00m manager \u001b[38;5;241m==\u001b[39m \u001b[38;5;124m\"\u001b[39m\u001b[38;5;124mblock\u001b[39m\u001b[38;5;124m\"\u001b[39m:\n",
      "File \u001b[0;32m~/miniconda3/envs/dl3.9/lib/python3.9/site-packages/pandas/core/construction.py:657\u001b[0m, in \u001b[0;36msanitize_array\u001b[0;34m(data, index, dtype, copy, allow_2d)\u001b[0m\n\u001b[1;32m    655\u001b[0m         \u001b[38;5;28;01mif\u001b[39;00m subarr\u001b[38;5;241m.\u001b[39mdtype \u001b[38;5;241m==\u001b[39m \u001b[38;5;28mobject\u001b[39m:\n\u001b[1;32m    656\u001b[0m             subarr \u001b[38;5;241m=\u001b[39m cast(np\u001b[38;5;241m.\u001b[39mndarray, subarr)\n\u001b[0;32m--> 657\u001b[0m             subarr \u001b[38;5;241m=\u001b[39m \u001b[43mmaybe_infer_to_datetimelike\u001b[49m\u001b[43m(\u001b[49m\u001b[43msubarr\u001b[49m\u001b[43m)\u001b[49m\n\u001b[1;32m    659\u001b[0m subarr \u001b[38;5;241m=\u001b[39m _sanitize_ndim(subarr, data, dtype, index, allow_2d\u001b[38;5;241m=\u001b[39mallow_2d)\n\u001b[1;32m    661\u001b[0m \u001b[38;5;28;01mif\u001b[39;00m \u001b[38;5;28misinstance\u001b[39m(subarr, np\u001b[38;5;241m.\u001b[39mndarray):\n\u001b[1;32m    662\u001b[0m     \u001b[38;5;66;03m# at this point we should have dtype be None or subarr.dtype == dtype\u001b[39;00m\n",
      "File \u001b[0;32m~/miniconda3/envs/dl3.9/lib/python3.9/site-packages/pandas/core/dtypes/cast.py:1189\u001b[0m, in \u001b[0;36mmaybe_infer_to_datetimelike\u001b[0;34m(value)\u001b[0m\n\u001b[1;32m   1184\u001b[0m     \u001b[38;5;28;01mreturn\u001b[39;00m value\n\u001b[1;32m   1186\u001b[0m \u001b[38;5;66;03m# error: Incompatible return value type (got \"Union[ExtensionArray,\u001b[39;00m\n\u001b[1;32m   1187\u001b[0m \u001b[38;5;66;03m# ndarray[Any, Any]]\", expected \"Union[ndarray[Any, Any], DatetimeArray,\u001b[39;00m\n\u001b[1;32m   1188\u001b[0m \u001b[38;5;66;03m# TimedeltaArray, PeriodArray, IntervalArray]\")\u001b[39;00m\n\u001b[0;32m-> 1189\u001b[0m \u001b[38;5;28;01mreturn\u001b[39;00m \u001b[43mlib\u001b[49m\u001b[38;5;241;43m.\u001b[39;49m\u001b[43mmaybe_convert_objects\u001b[49m\u001b[43m(\u001b[49m\u001b[43m  \u001b[49m\u001b[38;5;66;43;03m# type: ignore[return-value]\u001b[39;49;00m\n\u001b[1;32m   1190\u001b[0m \u001b[43m    \u001b[49m\u001b[43mvalue\u001b[49m\u001b[43m,\u001b[49m\n\u001b[1;32m   1191\u001b[0m \u001b[43m    \u001b[49m\u001b[38;5;66;43;03m# Here we do not convert numeric dtypes, as if we wanted that,\u001b[39;49;00m\n\u001b[1;32m   1192\u001b[0m \u001b[43m    \u001b[49m\u001b[38;5;66;43;03m#  numpy would have done it for us.\u001b[39;49;00m\n\u001b[1;32m   1193\u001b[0m \u001b[43m    \u001b[49m\u001b[43mconvert_numeric\u001b[49m\u001b[38;5;241;43m=\u001b[39;49m\u001b[38;5;28;43;01mFalse\u001b[39;49;00m\u001b[43m,\u001b[49m\n\u001b[1;32m   1194\u001b[0m \u001b[43m    \u001b[49m\u001b[43mconvert_non_numeric\u001b[49m\u001b[38;5;241;43m=\u001b[39;49m\u001b[38;5;28;43;01mTrue\u001b[39;49;00m\u001b[43m,\u001b[49m\n\u001b[1;32m   1195\u001b[0m \u001b[43m    \u001b[49m\u001b[43mdtype_if_all_nat\u001b[49m\u001b[38;5;241;43m=\u001b[39;49m\u001b[43mnp\u001b[49m\u001b[38;5;241;43m.\u001b[39;49m\u001b[43mdtype\u001b[49m\u001b[43m(\u001b[49m\u001b[38;5;124;43m\"\u001b[39;49m\u001b[38;5;124;43mM8[ns]\u001b[39;49m\u001b[38;5;124;43m\"\u001b[39;49m\u001b[43m)\u001b[49m\u001b[43m,\u001b[49m\n\u001b[1;32m   1196\u001b[0m \u001b[43m\u001b[49m\u001b[43m)\u001b[49m\n",
      "File \u001b[0;32mlib.pyx:2543\u001b[0m, in \u001b[0;36mpandas._libs.lib.maybe_convert_objects\u001b[0;34m()\u001b[0m\n",
      "File \u001b[0;32m~/miniconda3/envs/dl3.9/lib/python3.9/site-packages/numpy/_core/numeric.py:300\u001b[0m, in \u001b[0;36mfull\u001b[0;34m(shape, fill_value, dtype, order, device, like)\u001b[0m\n\u001b[1;32m    294\u001b[0m \u001b[38;5;28;01mdef\u001b[39;00m \u001b[38;5;21m_full_dispatcher\u001b[39m(\n\u001b[1;32m    295\u001b[0m     shape, fill_value, dtype\u001b[38;5;241m=\u001b[39m\u001b[38;5;28;01mNone\u001b[39;00m, order\u001b[38;5;241m=\u001b[39m\u001b[38;5;28;01mNone\u001b[39;00m, \u001b[38;5;241m*\u001b[39m, device\u001b[38;5;241m=\u001b[39m\u001b[38;5;28;01mNone\u001b[39;00m, like\u001b[38;5;241m=\u001b[39m\u001b[38;5;28;01mNone\u001b[39;00m\n\u001b[1;32m    296\u001b[0m ):\n\u001b[1;32m    297\u001b[0m     \u001b[38;5;28;01mreturn\u001b[39;00m(like,)\n\u001b[0;32m--> 300\u001b[0m \u001b[38;5;129m@set_array_function_like_doc\u001b[39m\n\u001b[1;32m    301\u001b[0m \u001b[38;5;129m@set_module\u001b[39m(\u001b[38;5;124m'\u001b[39m\u001b[38;5;124mnumpy\u001b[39m\u001b[38;5;124m'\u001b[39m)\n\u001b[1;32m    302\u001b[0m \u001b[38;5;28;01mdef\u001b[39;00m \u001b[38;5;21mfull\u001b[39m(shape, fill_value, dtype\u001b[38;5;241m=\u001b[39m\u001b[38;5;28;01mNone\u001b[39;00m, order\u001b[38;5;241m=\u001b[39m\u001b[38;5;124m'\u001b[39m\u001b[38;5;124mC\u001b[39m\u001b[38;5;124m'\u001b[39m, \u001b[38;5;241m*\u001b[39m, device\u001b[38;5;241m=\u001b[39m\u001b[38;5;28;01mNone\u001b[39;00m, like\u001b[38;5;241m=\u001b[39m\u001b[38;5;28;01mNone\u001b[39;00m):\n\u001b[1;32m    303\u001b[0m \u001b[38;5;250m    \u001b[39m\u001b[38;5;124;03m\"\"\"\u001b[39;00m\n\u001b[1;32m    304\u001b[0m \u001b[38;5;124;03m    Return a new array of given shape and type, filled with `fill_value`.\u001b[39;00m\n\u001b[1;32m    305\u001b[0m \n\u001b[0;32m   (...)\u001b[0m\n\u001b[1;32m    351\u001b[0m \n\u001b[1;32m    352\u001b[0m \u001b[38;5;124;03m    \"\"\"\u001b[39;00m\n\u001b[1;32m    353\u001b[0m     \u001b[38;5;28;01mif\u001b[39;00m like \u001b[38;5;129;01mis\u001b[39;00m \u001b[38;5;129;01mnot\u001b[39;00m \u001b[38;5;28;01mNone\u001b[39;00m:\n",
      "\u001b[0;31mKeyboardInterrupt\u001b[0m: "
     ]
    }
   ],
   "source": [
    "def transpose_lines(x):\n",
    "    f=pd.DataFrame(x)\n",
    "    transposed=f['answer'].apply(pd.Series).T.values.tolist()\n",
    "    return transposed\n",
    "\n",
    "df['answers']=df['answers'].apply(transpose_lines)"
   ]
  },
  {
   "cell_type": "code",
   "execution_count": 122,
   "metadata": {},
   "outputs": [],
   "source": [
    "gt_label=df['answers'].to_list()\n",
    "gt_label=np.concatenate(gt_label,axis=0).tolist()"
   ]
  },
  {
   "cell_type": "code",
   "execution_count": 123,
   "metadata": {},
   "outputs": [],
   "source": [
    "responses=df['most_likely'].apply(lambda x: x['response']).to_list()\n",
    "rsps=[]\n",
    "for x in responses:\n",
    "    rsps+=x"
   ]
  },
  {
   "cell_type": "code",
   "execution_count": 124,
   "metadata": {},
   "outputs": [
    {
     "data": {
      "text/plain": [
       "'Dial'"
      ]
     },
     "execution_count": 124,
     "metadata": {},
     "output_type": "execute_result"
    }
   ],
   "source": [
    "rsps[0]"
   ]
  },
  {
   "cell_type": "code",
   "execution_count": 125,
   "metadata": {},
   "outputs": [
    {
     "name": "stdout",
     "output_type": "stream",
     "text": [
      "computing accuracy\n"
     ]
    },
    {
     "name": "stderr",
     "output_type": "stream",
     "text": [
      "100%|██████████| 1347/1347 [00:00<00:00, 2315.93it/s]"
     ]
    },
    {
     "name": "stdout",
     "output_type": "stream",
     "text": [
      "Done computing accuracy\n",
      "{0: 0.0, 1: 100, 2: 0.0, 3: 0.0, 4: 100, 5: 0.0, 6: 100, 7: 100, 8: 0.0, 9: 0.0, 10: 0.0, 11: 100, 12: 0.0, 13: 0.0, 14: 0.0, 15: 0.0, 16: 100, 17: 0.0, 18: 0.0, 19: 0.0, 20: 0.0, 21: 0.0, 22: 100, 23: 100, 24: 0.0, 25: 0.0, 26: 0.0, 27: 0.0, 28: 100, 29: 100, 30: 0.0, 31: 100, 32: 66.67, 33: 0.0, 34: 0.0, 35: 100, 36: 33.33, 37: 0.0, 38: 100, 39: 0.0, 40: 0.0, 41: 0.0, 42: 0.0, 43: 100, 44: 0.0, 45: 100, 46: 100, 47: 0.0, 48: 0.0, 49: 100, 50: 100, 51: 0.0, 52: 0.0, 53: 100, 54: 0.0, 55: 33.33, 56: 100, 57: 33.33, 58: 33.33, 59: 100, 60: 100, 61: 100, 62: 33.33, 63: 66.67, 64: 66.67, 65: 0.0, 66: 33.33, 67: 0.0, 68: 100, 69: 33.33, 70: 100, 71: 100, 72: 0.0, 73: 0.0, 74: 0.0, 75: 0.0, 76: 66.67, 77: 66.67, 78: 0.0, 79: 0.0, 80: 100, 81: 100, 82: 100, 83: 0.0, 84: 0.0, 85: 0.0, 86: 0.0, 87: 0.0, 88: 0.0, 89: 0.0, 90: 100, 91: 100, 92: 100, 93: 100, 94: 100, 95: 100, 96: 0.0, 97: 0.0, 98: 0.0, 99: 100, 100: 100, 101: 0.0, 102: 0.0, 103: 0.0, 104: 100, 105: 100, 106: 100, 107: 100, 108: 100, 109: 33.33, 110: 100, 111: 100, 112: 100, 113: 66.67, 114: 100, 115: 100, 116: 0.0, 117: 0.0, 118: 100, 119: 0.0, 120: 100, 121: 0.0, 122: 100, 123: 100, 124: 0.0, 125: 100, 126: 0.0, 127: 0.0, 128: 0.0, 129: 100, 130: 100, 131: 0.0, 132: 100, 133: 0.0, 134: 0.0, 135: 0.0, 136: 100, 137: 0.0, 138: 100, 139: 100, 140: 33.33, 141: 100, 142: 66.67, 143: 0.0, 144: 0.0, 145: 100, 146: 0.0, 147: 100, 148: 0.0, 149: 66.67, 150: 100, 151: 0.0, 152: 33.33, 153: 100, 154: 66.67, 155: 33.33, 156: 66.67, 157: 33.33, 158: 100, 159: 0.0, 160: 33.33, 161: 100, 162: 100, 163: 100, 164: 33.33, 165: 100, 166: 0.0, 167: 100, 168: 0.0, 169: 100, 170: 0.0, 171: 0.0, 172: 0.0, 173: 66.67, 174: 100, 175: 100, 176: 100, 177: 0.0, 178: 100, 179: 33.33, 180: 0.0, 181: 100, 182: 100, 183: 0.0, 184: 0.0, 185: 100, 186: 0.0, 187: 100, 188: 100, 189: 100, 190: 0.0, 191: 0.0, 192: 33.33, 193: 0.0, 194: 0.0, 195: 33.33, 196: 100, 197: 66.67, 198: 33.33, 199: 0.0, 200: 0.0, 201: 0.0, 202: 33.33, 203: 100, 204: 100, 205: 0.0, 206: 0.0, 207: 33.33, 208: 0.0, 209: 100, 210: 33.33, 211: 100, 212: 0.0, 213: 100, 214: 100, 215: 0.0, 216: 100, 217: 0.0, 218: 33.33, 219: 66.67, 220: 0.0, 221: 0.0, 222: 66.67, 223: 100, 224: 0.0, 225: 0.0, 226: 0.0, 227: 100, 228: 0.0, 229: 100, 230: 66.67, 231: 0.0, 232: 0.0, 233: 0.0, 234: 0.0, 235: 0.0, 236: 100, 237: 100, 238: 33.33, 239: 100, 240: 100, 241: 0.0, 242: 0.0, 243: 33.33, 244: 0.0, 245: 0.0, 246: 0.0, 247: 100, 248: 100, 249: 100, 250: 100, 251: 0.0, 252: 100, 253: 100, 254: 100, 255: 0.0, 256: 0.0, 257: 33.33, 258: 0.0, 259: 0.0, 260: 0.0, 261: 0.0, 262: 0.0, 263: 0.0, 264: 0.0, 265: 100, 266: 100, 267: 66.67, 268: 33.33, 269: 0.0, 270: 100, 271: 33.33, 272: 0.0, 273: 0.0, 274: 66.67, 275: 100, 276: 0.0, 277: 0.0, 278: 100, 279: 100, 280: 66.67, 281: 100, 282: 0.0, 283: 0.0, 284: 0.0, 285: 66.67, 286: 0.0, 287: 100, 288: 100, 289: 66.67, 290: 100, 291: 100, 292: 0.0, 293: 100, 294: 0.0, 295: 0.0, 296: 66.67, 297: 100, 298: 100, 299: 0.0, 300: 0.0, 301: 0.0, 302: 0.0, 303: 100, 304: 66.67, 305: 100, 306: 33.33, 307: 0.0, 308: 33.33, 309: 0.0, 310: 0.0, 311: 0.0, 312: 0.0, 313: 0.0, 314: 0.0, 315: 100, 316: 66.67, 317: 66.67, 318: 0.0, 319: 0.0, 320: 0.0, 321: 100, 322: 66.67, 323: 100, 324: 100, 325: 0.0, 326: 0.0, 327: 100, 328: 0.0, 329: 100, 330: 0.0, 331: 0.0, 332: 0.0, 333: 0.0, 334: 0.0, 335: 0.0, 336: 0.0, 337: 0.0, 338: 0.0, 339: 100, 340: 100, 341: 100, 342: 100, 343: 100, 344: 0.0, 345: 0.0, 346: 0.0, 347: 0.0, 348: 100, 349: 0.0, 350: 0.0, 351: 33.33, 352: 66.67, 353: 33.33, 354: 100, 355: 33.33, 356: 100, 357: 0.0, 358: 66.67, 359: 33.33, 360: 100, 361: 0.0, 362: 0.0, 363: 0.0, 364: 0.0, 365: 100, 366: 0.0, 367: 0.0, 368: 100, 369: 100, 370: 33.33, 371: 0.0, 372: 0.0, 373: 0.0, 374: 100, 375: 100, 376: 100, 377: 0.0, 378: 0.0, 379: 0.0, 380: 0.0, 381: 100, 382: 0.0, 383: 0.0, 384: 100, 385: 100, 386: 100, 387: 0.0, 388: 100, 389: 100, 390: 100, 391: 0.0, 392: 33.33, 393: 0.0, 394: 0.0, 395: 0.0, 396: 100, 397: 0.0, 398: 100, 399: 0.0, 400: 0.0, 401: 100, 402: 33.33, 403: 100, 404: 0.0, 405: 0.0, 406: 100, 407: 33.33, 408: 100, 409: 100, 410: 100, 411: 66.67, 412: 0.0, 413: 0.0, 414: 33.33, 415: 0.0, 416: 100, 417: 100, 418: 0.0, 419: 100, 420: 0.0, 421: 100, 422: 100, 423: 66.67, 424: 100, 425: 0.0, 426: 0.0, 427: 100, 428: 0.0, 429: 66.67, 430: 100, 431: 0.0, 432: 0.0, 433: 100, 434: 33.33, 435: 0.0, 436: 0.0, 437: 33.33, 438: 0.0, 439: 33.33, 440: 100, 441: 100, 442: 0.0, 443: 100, 444: 100, 445: 0.0, 446: 100, 447: 0.0, 448: 100, 449: 0.0, 450: 33.33, 451: 0.0, 452: 0.0, 453: 100, 454: 0.0, 455: 66.67, 456: 66.67, 457: 0.0, 458: 33.33, 459: 66.67, 460: 0.0, 461: 100, 462: 0.0, 463: 100, 464: 100, 465: 66.67, 466: 100, 467: 33.33, 468: 0.0, 469: 100, 470: 100, 471: 33.33, 472: 100, 473: 0.0, 474: 100, 475: 0.0, 476: 100, 477: 0.0, 478: 100, 479: 100, 480: 0.0, 481: 66.67, 482: 0.0, 483: 0.0, 484: 100, 485: 0.0, 486: 33.33, 487: 0.0, 488: 0.0, 489: 0.0, 490: 100, 491: 100, 492: 33.33, 493: 0.0, 494: 0.0, 495: 33.33, 496: 100, 497: 0.0, 498: 0.0, 499: 100, 500: 66.67, 501: 66.67, 502: 66.67, 503: 0.0, 504: 0.0, 505: 0.0, 506: 0.0, 507: 0.0, 508: 0.0, 509: 100, 510: 100, 511: 0.0, 512: 0.0, 513: 66.67, 514: 100, 515: 0.0, 516: 66.67, 517: 0.0, 518: 100, 519: 0.0, 520: 100, 521: 100, 522: 0.0, 523: 0.0, 524: 0.0, 525: 100, 526: 100, 527: 100, 528: 66.67, 529: 0.0, 530: 0.0, 531: 100, 532: 100, 533: 100, 534: 100, 535: 100, 536: 0.0, 537: 0.0, 538: 0.0, 539: 100, 540: 66.67, 541: 0.0, 542: 0.0, 543: 66.67, 544: 33.33, 545: 33.33, 546: 100, 547: 100, 548: 0.0, 549: 0.0, 550: 0.0, 551: 0.0, 552: 100, 553: 100, 554: 0.0, 555: 33.33, 556: 66.67, 557: 0.0, 558: 0.0, 559: 33.33, 560: 100, 561: 100, 562: 66.67, 563: 0.0, 564: 0.0, 565: 100, 566: 0.0, 567: 0.0, 568: 0.0, 569: 0.0, 570: 0.0, 571: 0.0, 572: 66.67, 573: 100, 574: 66.67, 575: 0.0, 576: 33.33, 577: 100, 578: 0.0, 579: 0.0, 580: 100, 581: 0.0, 582: 100, 583: 33.33, 584: 100, 585: 100, 586: 0.0, 587: 66.67, 588: 100, 589: 0.0, 590: 0.0, 591: 66.67, 592: 33.33, 593: 0.0, 594: 100, 595: 33.33, 596: 0.0, 597: 66.67, 598: 33.33, 599: 0.0, 600: 100, 601: 100, 602: 100, 603: 100, 604: 100, 605: 33.33, 606: 100, 607: 100, 608: 100, 609: 100, 610: 100, 611: 0.0, 612: 0.0, 613: 0.0, 614: 100, 615: 0.0, 616: 100, 617: 66.67, 618: 100, 619: 33.33, 620: 0.0, 621: 100, 622: 100, 623: 0.0, 624: 100, 625: 100, 626: 0.0, 627: 33.33, 628: 100, 629: 100, 630: 0.0, 631: 100, 632: 33.33, 633: 0.0, 634: 100, 635: 100, 636: 0.0, 637: 100, 638: 0.0, 639: 0.0, 640: 0.0, 641: 33.33, 642: 0.0, 643: 33.33, 644: 33.33, 645: 0.0, 646: 0.0, 647: 66.67, 648: 0.0, 649: 33.33, 650: 0.0, 651: 100, 652: 100, 653: 33.33, 654: 100, 655: 0.0, 656: 0.0, 657: 0.0, 658: 0.0, 659: 0.0, 660: 100, 661: 0.0, 662: 0.0, 663: 0.0, 664: 0.0, 665: 100, 666: 66.67, 667: 100, 668: 0.0, 669: 0.0, 670: 0.0, 671: 100, 672: 100, 673: 100, 674: 0.0, 675: 100, 676: 100, 677: 0.0, 678: 0.0, 679: 0.0, 680: 100, 681: 100, 682: 33.33, 683: 0.0, 684: 100, 685: 0.0, 686: 0.0, 687: 0.0, 688: 0.0, 689: 33.33, 690: 33.33, 691: 0.0, 692: 100, 693: 100, 694: 100, 695: 100, 696: 100, 697: 0.0, 698: 100, 699: 33.33, 700: 0.0, 701: 66.67, 702: 100, 703: 66.67, 704: 0.0, 705: 100, 706: 66.67, 707: 0.0, 708: 100, 709: 33.33, 710: 0.0, 711: 100, 712: 0.0, 713: 0.0, 714: 0.0, 715: 33.33, 716: 0.0, 717: 33.33, 718: 100, 719: 100, 720: 0.0, 721: 100, 722: 0.0, 723: 66.67, 724: 0.0, 725: 100, 726: 0.0, 727: 0.0, 728: 0.0, 729: 100, 730: 100, 731: 0.0, 732: 0.0, 733: 100, 734: 0.0, 735: 66.67, 736: 0.0, 737: 100, 738: 100, 739: 100, 740: 0.0, 741: 0.0, 742: 0.0, 743: 0.0, 744: 100, 745: 33.33, 746: 33.33, 747: 100, 748: 100, 749: 0.0, 750: 0.0, 751: 0.0, 752: 0.0, 753: 33.33, 754: 100, 755: 100, 756: 66.67, 757: 100, 758: 66.67, 759: 0.0, 760: 100, 761: 0.0, 762: 0.0, 763: 0.0, 764: 33.33, 765: 0.0, 766: 66.67, 767: 100, 768: 0.0, 769: 0.0, 770: 33.33, 771: 100, 772: 100, 773: 0.0, 774: 0.0, 775: 33.33, 776: 0.0, 777: 33.33, 778: 100, 779: 100, 780: 0.0, 781: 100, 782: 0.0, 783: 0.0, 784: 33.33, 785: 100, 786: 0.0, 787: 0.0, 788: 100, 789: 33.33, 790: 0.0, 791: 0.0, 792: 100, 793: 33.33, 794: 0.0, 795: 100, 796: 100, 797: 100, 798: 0.0, 799: 0.0, 800: 100, 801: 0.0, 802: 100, 803: 100, 804: 0.0, 805: 0.0, 806: 0.0, 807: 0.0, 808: 100, 809: 0.0, 810: 100, 811: 100, 812: 0.0, 813: 100, 814: 0.0, 815: 100, 816: 0.0, 817: 0.0, 818: 100, 819: 100, 820: 100, 821: 66.67, 822: 100, 823: 0.0, 824: 33.33, 825: 33.33, 826: 33.33, 827: 0.0, 828: 100, 829: 66.67, 830: 100, 831: 0.0, 832: 0.0, 833: 100, 834: 33.33, 835: 0.0, 836: 33.33, 837: 0.0, 838: 66.67, 839: 100, 840: 0.0, 841: 33.33, 842: 33.33, 843: 100, 844: 0.0, 845: 100, 846: 100, 847: 33.33, 848: 100, 849: 100, 850: 33.33, 851: 33.33, 852: 0.0, 853: 100, 854: 0.0, 855: 0.0, 856: 100, 857: 100, 858: 100, 859: 0.0, 860: 100, 861: 0.0, 862: 100, 863: 0.0, 864: 33.33, 865: 0.0, 866: 0.0, 867: 0.0, 868: 100, 869: 0.0, 870: 100, 871: 0.0, 872: 100, 873: 0.0, 874: 100, 875: 33.33, 876: 100, 877: 33.33, 878: 0.0, 879: 0.0, 880: 100, 881: 0.0, 882: 0.0, 883: 100, 884: 0.0, 885: 100, 886: 33.33, 887: 100, 888: 100, 889: 66.67, 890: 0.0, 891: 100, 892: 100, 893: 100, 894: 0.0, 895: 0.0, 896: 100, 897: 0.0, 898: 0.0, 899: 100, 900: 100, 901: 100, 902: 0.0, 903: 33.33, 904: 0.0, 905: 100, 906: 0.0, 907: 0.0, 908: 0.0, 909: 0.0, 910: 100, 911: 66.67, 912: 66.67, 913: 33.33, 914: 0.0, 915: 0.0, 916: 33.33, 917: 0.0, 918: 33.33, 919: 66.67, 920: 0.0, 921: 33.33, 922: 0.0, 923: 0.0, 924: 100, 925: 100, 926: 100, 927: 100, 928: 0.0, 929: 100, 930: 0.0, 931: 100, 932: 0.0, 933: 0.0, 934: 0.0, 935: 0.0, 936: 100, 937: 100, 938: 66.67, 939: 66.67, 940: 100, 941: 0.0, 942: 0.0, 943: 100, 944: 0.0, 945: 0.0, 946: 100, 947: 66.67, 948: 0.0, 949: 0.0, 950: 0.0, 951: 33.33, 952: 100, 953: 33.33, 954: 0.0, 955: 66.67, 956: 0.0, 957: 100, 958: 0.0, 959: 0.0, 960: 100, 961: 0.0, 962: 66.67, 963: 33.33, 964: 100, 965: 33.33, 966: 100, 967: 0.0, 968: 0.0, 969: 33.33, 970: 100, 971: 0.0, 972: 33.33, 973: 33.33, 974: 100, 975: 100, 976: 0.0, 977: 66.67, 978: 0.0, 979: 33.33, 980: 100, 981: 0.0, 982: 0.0, 983: 100, 984: 100, 985: 0.0, 986: 100, 987: 0.0, 988: 100, 989: 0.0, 990: 0.0, 991: 66.67, 992: 100, 993: 0.0, 994: 66.67, 995: 100, 996: 100, 997: 100, 998: 0.0, 999: 0.0, 1000: 0.0, 1001: 0.0, 1002: 0.0, 1003: 0.0, 1004: 100, 1005: 66.67, 1006: 0.0, 1007: 100, 1008: 100, 1009: 100, 1010: 100, 1011: 0.0, 1012: 66.67, 1013: 100, 1014: 0.0, 1015: 0.0, 1016: 100, 1017: 33.33, 1018: 0.0, 1019: 0.0, 1020: 100, 1021: 0.0, 1022: 100, 1023: 0.0, 1024: 0.0, 1025: 100, 1026: 0.0, 1027: 33.33, 1028: 0.0, 1029: 100, 1030: 100, 1031: 0.0, 1032: 0.0, 1033: 0.0, 1034: 100, 1035: 66.67, 1036: 0.0, 1037: 100, 1038: 100, 1039: 0.0, 1040: 0.0, 1041: 0.0, 1042: 100, 1043: 100, 1044: 100, 1045: 0.0, 1046: 100, 1047: 33.33, 1048: 0.0, 1049: 100, 1050: 0.0, 1051: 0.0, 1052: 0.0, 1053: 100, 1054: 100, 1055: 0.0, 1056: 0.0, 1057: 100, 1058: 100, 1059: 0.0, 1060: 0.0, 1061: 0.0, 1062: 100, 1063: 0.0, 1064: 0.0, 1065: 0.0, 1066: 100, 1067: 100, 1068: 100, 1069: 33.33, 1070: 100, 1071: 0.0, 1072: 100, 1073: 100, 1074: 100, 1075: 0.0, 1076: 100, 1077: 0.0, 1078: 0.0, 1079: 0.0, 1080: 0.0, 1081: 33.33, 1082: 100, 1083: 100, 1084: 0.0, 1085: 33.33, 1086: 100, 1087: 0.0, 1088: 33.33, 1089: 0.0, 1090: 0.0, 1091: 33.33, 1092: 0.0, 1093: 0.0, 1094: 66.67, 1095: 100, 1096: 100, 1097: 100, 1098: 33.33, 1099: 66.67, 1100: 0.0, 1101: 0.0, 1102: 33.33, 1103: 0.0, 1104: 100, 1105: 0.0, 1106: 100, 1107: 33.33, 1108: 0.0, 1109: 100, 1110: 0.0, 1111: 100, 1112: 100, 1113: 100, 1114: 100, 1115: 100, 1116: 100, 1117: 0.0, 1118: 0.0, 1119: 100, 1120: 0.0, 1121: 100, 1122: 100, 1123: 0.0, 1124: 33.33, 1125: 0.0, 1126: 100, 1127: 66.67, 1128: 100, 1129: 100, 1130: 33.33, 1131: 0.0, 1132: 100, 1133: 100, 1134: 100, 1135: 100, 1136: 100, 1137: 100, 1138: 0.0, 1139: 0.0, 1140: 100, 1141: 100, 1142: 0.0, 1143: 66.67, 1144: 66.67, 1145: 100, 1146: 0.0, 1147: 0.0, 1148: 33.33, 1149: 0.0, 1150: 33.33, 1151: 0.0, 1152: 33.33, 1153: 0.0, 1154: 0.0, 1155: 0.0, 1156: 100, 1157: 100, 1158: 0.0, 1159: 0.0, 1160: 100, 1161: 0.0, 1162: 0.0, 1163: 100, 1164: 0.0, 1165: 100, 1166: 0.0, 1167: 0.0, 1168: 100, 1169: 0.0, 1170: 0.0, 1171: 0.0, 1172: 0.0, 1173: 0.0, 1174: 66.67, 1175: 100, 1176: 0.0, 1177: 100, 1178: 100, 1179: 0.0, 1180: 100, 1181: 100, 1182: 0.0, 1183: 33.33, 1184: 0.0, 1185: 100, 1186: 66.67, 1187: 0.0, 1188: 0.0, 1189: 100, 1190: 100, 1191: 0.0, 1192: 66.67, 1193: 33.33, 1194: 0.0, 1195: 0.0, 1196: 100, 1197: 0.0, 1198: 0.0, 1199: 100, 1200: 0.0, 1201: 0.0, 1202: 0.0, 1203: 100, 1204: 0.0, 1205: 66.67, 1206: 100, 1207: 0.0, 1208: 0.0, 1209: 0.0, 1210: 100, 1211: 33.33, 1212: 100, 1213: 100, 1214: 0.0, 1215: 100, 1216: 0.0, 1217: 100, 1218: 100, 1219: 100, 1220: 100, 1221: 0.0, 1222: 100, 1223: 100, 1224: 100, 1225: 100, 1226: 100, 1227: 0.0, 1228: 100, 1229: 0.0, 1230: 0.0, 1231: 66.67, 1232: 0.0, 1233: 33.33, 1234: 100, 1235: 100, 1236: 0.0, 1237: 100, 1238: 100, 1239: 0.0, 1240: 0.0, 1241: 66.67, 1242: 0.0, 1243: 66.67, 1244: 0.0, 1245: 0.0, 1246: 0.0, 1247: 100, 1248: 100, 1249: 100, 1250: 100, 1251: 0.0, 1252: 0.0, 1253: 0.0, 1254: 100, 1255: 0.0, 1256: 0.0, 1257: 100, 1258: 0.0, 1259: 33.33, 1260: 0.0, 1261: 0.0, 1262: 0.0, 1263: 0.0, 1264: 100, 1265: 0.0, 1266: 0.0, 1267: 0.0, 1268: 0.0, 1269: 0.0, 1270: 0.0, 1271: 33.33, 1272: 0.0, 1273: 0.0, 1274: 0.0, 1275: 66.67, 1276: 100, 1277: 0.0, 1278: 0.0, 1279: 0.0, 1280: 100, 1281: 100, 1282: 0.0, 1283: 0.0, 1284: 100, 1285: 0.0, 1286: 100, 1287: 0.0, 1288: 100, 1289: 100, 1290: 100, 1291: 0.0, 1292: 0.0, 1293: 66.67, 1294: 100, 1295: 0.0, 1296: 0.0, 1297: 66.67, 1298: 100, 1299: 0.0, 1300: 0.0, 1301: 0.0, 1302: 66.67, 1303: 0.0, 1304: 0.0, 1305: 0.0, 1306: 66.67, 1307: 0.0, 1308: 0.0, 1309: 0.0, 1310: 100, 1311: 0.0, 1312: 0.0, 1313: 100, 1314: 100, 1315: 0.0, 1316: 0.0, 1317: 0.0, 1318: 0.0, 1319: 0.0, 1320: 0.0, 1321: 100, 1322: 0.0, 1323: 0.0, 1324: 100, 1325: 0.0, 1326: 0.0, 1327: 33.33, 1328: 100, 1329: 0.0, 1330: 0.0, 1331: 100, 1332: 33.33, 1333: 66.67, 1334: 0.0, 1335: 0.0, 1336: 100, 1337: 0.0, 1338: 0.0, 1339: 100, 1340: 100, 1341: 0.0, 1342: 100, 1343: 0.0, 1344: 100, 1345: 0.0, 1346: 33.33}\n",
      "44.82\n"
     ]
    },
    {
     "name": "stderr",
     "output_type": "stream",
     "text": [
      "\n"
     ]
    }
   ],
   "source": [
    "judge=VQAEval(gt_label,rsps)\n",
    "judge.evaluate()\n",
    "print(judge.evalQA)\n",
    "print(judge.accuracy['overall'])"
   ]
  },
  {
   "cell_type": "code",
   "execution_count": 126,
   "metadata": {},
   "outputs": [],
   "source": [
    "gt_scores=[judge.evalQA[i] for i in range(len(judge.evalQA))]"
   ]
  },
  {
   "cell_type": "code",
   "execution_count": 127,
   "metadata": {},
   "outputs": [],
   "source": [
    "is_correct=[]\n",
    "threshold=10\n",
    "for i,x in enumerate(gt_scores):\n",
    "    if x >=threshold:\n",
    "        is_correct.append(1)\n",
    "    else:\n",
    "        is_correct.append(0)\n",
    "is_correct=np.array(is_correct)"
   ]
  },
  {
   "cell_type": "code",
   "execution_count": 128,
   "metadata": {},
   "outputs": [
    {
     "data": {
      "text/plain": [
       "(1347,)"
      ]
     },
     "execution_count": 128,
     "metadata": {},
     "output_type": "execute_result"
    }
   ],
   "source": [
    "is_correct.shape"
   ]
  },
  {
   "cell_type": "code",
   "execution_count": 129,
   "metadata": {},
   "outputs": [
    {
     "name": "stdout",
     "output_type": "stream",
     "text": [
      "There are 1347 responses. 726 answer correctly and 621 answer wrongly\n"
     ]
    }
   ],
   "source": [
    "print(f'There are {len(is_correct)} responses. {sum(is_correct==1)} answer correctly and {sum(is_correct==0)} answer wrongly')"
   ]
  },
  {
   "cell_type": "code",
   "execution_count": 130,
   "metadata": {},
   "outputs": [
    {
     "name": "stdout",
     "output_type": "stream",
     "text": [
      "trainset length:77\n",
      "validset length:1000\n",
      "testset length:270\n",
      "trainset postive: 39 negative: 38\n",
      "valset postive: 551 negative: 449\n",
      "testset postive: 136 negative: 134\n"
     ]
    }
   ],
   "source": [
    "length=len(is_correct)\n",
    "train_rate=0.8\n",
    "\n",
    "all_indices = np.random.permutation(length)\n",
    "train_val_idxs = all_indices[:int(\n",
    "    train_rate * length)]  # trainset and validation index\n",
    "\n",
    "test_idxs=all_indices[int(\n",
    "    train_rate * length):]  #test index\n",
    "\n",
    "validset_len = 1000\n",
    "# exclude validation samples.\n",
    "train_idxs = train_val_idxs[:len(\n",
    "    train_val_idxs) - validset_len]  # trainset index\n",
    "val_idxs = train_val_idxs[len(\n",
    "    train_val_idxs) - validset_len:]  # validation index\n",
    "hall_label_test = []\n",
    "hall_label_wild = []\n",
    "hall_label_val = []\n",
    "\n",
    "'''get testset, wildset and valset. The valset is used for determining the hype-parameters'''\n",
    "hall_label_test = is_correct[test_idxs]\n",
    "hall_label_wild = is_correct[train_idxs]\n",
    "hall_label_val = is_correct[val_idxs]\n",
    "\n",
    "print(f'trainset length:{len(hall_label_wild)}')\n",
    "print(f'validset length:{len(hall_label_val)}')\n",
    "print(f'testset length:{len(hall_label_test)}')\n",
    "print(f'trainset postive: {sum(hall_label_wild==1)} negative: {sum(hall_label_wild==0)}')\n",
    "print(f'valset postive: {sum(hall_label_val==1)} negative: {sum(hall_label_val==0)}')\n",
    "print(\n",
    "    f'testset postive: {sum(hall_label_test==1)} negative: {sum(hall_label_test==0)}')"
   ]
  },
  {
   "cell_type": "code",
   "execution_count": 131,
   "metadata": {},
   "outputs": [
    {
     "data": {
      "text/plain": [
       "(1347, 33, 4096)"
      ]
     },
     "execution_count": 131,
     "metadata": {},
     "output_type": "execute_result"
    }
   ],
   "source": [
    "all_embeddings = embeddings\n",
    "all_embeddings.shape"
   ]
  },
  {
   "cell_type": "code",
   "execution_count": 132,
   "metadata": {},
   "outputs": [],
   "source": [
    "embedding_train = all_embeddings[train_idxs]\n",
    "embedding_val = all_embeddings[val_idxs]\n",
    "embedding_test = all_embeddings[test_idxs]"
   ]
  },
  {
   "cell_type": "code",
   "execution_count": 133,
   "metadata": {},
   "outputs": [
    {
     "name": "stdout",
     "output_type": "stream",
     "text": [
      "The autoreload extension is already loaded. To reload it, use:\n",
      "  %reload_ext autoreload\n"
     ]
    }
   ],
   "source": [
    "%load_ext autoreload\n",
    "%autoreload 2\n",
    "from ml_utils.grid_search import GridSearch\n",
    "from ml_utils.PCA_discriminator import PCADiscriminator\n",
    "from ml_utils.metrics import auroc,get_best_split_from_scores"
   ]
  },
  {
   "cell_type": "markdown",
   "metadata": {},
   "source": [
    "Grid Search for Best 'n_components' & 'layer'"
   ]
  },
  {
   "cell_type": "code",
   "execution_count": 134,
   "metadata": {},
   "outputs": [],
   "source": [
    "def evaluator(n_components,i_layer,X,y):\n",
    "    discriminator=PCADiscriminator(n_components,X[:,i_layer,:])\n",
    "    scores=discriminator.get_score()\n",
    "    return auroc(scores,y)"
   ]
  },
  {
   "cell_type": "code",
   "execution_count": 135,
   "metadata": {},
   "outputs": [
    {
     "name": "stdout",
     "output_type": "stream",
     "text": [
      "Grid Searching for best n_components,layer\n"
     ]
    },
    {
     "name": "stderr",
     "output_type": "stream",
     "text": [
      "  0%|          | 0/11 [00:00<?, ?it/s]"
     ]
    },
    {
     "name": "stdout",
     "output_type": "stream",
     "text": [
      "found best n_components:1,layer:0 Score: 0.6075873386715387\n"
     ]
    },
    {
     "name": "stdout",
     "output_type": "stream",
     "text": [
      "found best n_components:1,layer:7 Score: 0.6086847562035417\n",
      "found best n_components:1,layer:8 Score: 0.6310332701425632\n"
     ]
    },
    {
     "name": "stderr",
     "output_type": "stream",
     "text": [
      "  9%|▉         | 1/11 [00:02<00:20,  2.08s/it]"
     ]
    },
    {
     "name": "stdout",
     "output_type": "stream",
     "text": [
      "found best n_components:2,layer:11 Score: 0.6405644323542132\n"
     ]
    },
    {
     "name": "stderr",
     "output_type": "stream",
     "text": [
      "100%|██████████| 11/11 [00:25<00:00,  2.32s/it]\n"
     ]
    }
   ],
   "source": [
    "# graid search for best hyper-parameters on validation set\n",
    "grid={\n",
    "    'n_components':range(1,12),\n",
    "    'layer':range(embedding_val.shape[1])\n",
    "}\n",
    "grid_search=GridSearch(evaluator,grid,embedding_val,hall_label_val)\n",
    "best_paras=grid_search.search()"
   ]
  },
  {
   "cell_type": "code",
   "execution_count": 136,
   "metadata": {},
   "outputs": [
    {
     "data": {
      "text/plain": [
       "{'n_components': 2, 'layer': 11, 'best_score': np.float64(0.6405644323542132)}"
      ]
     },
     "execution_count": 136,
     "metadata": {},
     "output_type": "execute_result"
    }
   ],
   "source": [
    "best_paras"
   ]
  },
  {
   "cell_type": "code",
   "execution_count": 137,
   "metadata": {},
   "outputs": [],
   "source": [
    "best_layer=best_paras['layer']"
   ]
  },
  {
   "cell_type": "markdown",
   "metadata": {},
   "source": [
    "View Results on Training set and Test set"
   ]
  },
  {
   "cell_type": "code",
   "execution_count": 138,
   "metadata": {},
   "outputs": [],
   "source": [
    "discriminator=PCADiscriminator(best_paras['n_components'],embedding_val[:,best_layer,:])\n",
    "best_split=discriminator.get_best_split(hall_label_val)"
   ]
  },
  {
   "cell_type": "code",
   "execution_count": 139,
   "metadata": {},
   "outputs": [
    {
     "name": "stdout",
     "output_type": "stream",
     "text": [
      "train set acc: 0.4935064935064935 AUROC:0.5060728744939271\n"
     ]
    }
   ],
   "source": [
    "discriminator=PCADiscriminator(best_paras['n_components'],embedding_train[:,best_layer,:])\n",
    "scores=discriminator.get_score()\n",
    "y_train=(scores>best_split)\n",
    "print(f'train set acc: {accuracy_score(hall_label_wild,y_train)} AUROC:{roc_auc_score(hall_label_wild,scores)}')"
   ]
  },
  {
   "cell_type": "code",
   "execution_count": 140,
   "metadata": {},
   "outputs": [
    {
     "name": "stdout",
     "output_type": "stream",
     "text": [
      "test set acc: 0.4962962962962963 AUROC:0.5583296751536435\n"
     ]
    }
   ],
   "source": [
    "discriminator=PCADiscriminator(best_paras['n_components'],embedding_test[:,best_layer,:])\n",
    "scores=discriminator.get_score()\n",
    "preds=(scores>best_split)\n",
    "print(f'test set acc: {accuracy_score(hall_label_test,preds)} AUROC:{roc_auc_score(hall_label_test,scores)}')"
   ]
  },
  {
   "cell_type": "markdown",
   "metadata": {},
   "source": [
    "Train Linear Prob to Get Better Results"
   ]
  },
  {
   "cell_type": "code",
   "execution_count": 141,
   "metadata": {},
   "outputs": [],
   "source": [
    "X_train=embedding_train[:, best_layer,:]\n",
    "y_train=y_train\n",
    "\n",
    "X_test=embedding_test[:, best_layer,:]\n",
    "y_test=hall_label_test"
   ]
  },
  {
   "cell_type": "code",
   "execution_count": 142,
   "metadata": {},
   "outputs": [],
   "source": [
    "best_acc, final_acc, (\n",
    "            clf, best_state, best_preds, preds, labels_val), losses_train = get_linear_acc(\n",
    "            X_train,\n",
    "            y_train,\n",
    "           X_train,\n",
    "            y_train,\n",
    "            2, epochs=50,\n",
    "            print_ret=True,\n",
    "            batch_size=512,\n",
    "            cosine=True,\n",
    "            nonlinear=True,\n",
    "            learning_rate=0.05,\n",
    "            weight_decay=0.0003)"
   ]
  },
  {
   "cell_type": "code",
   "execution_count": 143,
   "metadata": {},
   "outputs": [
    {
     "name": "stdout",
     "output_type": "stream",
     "text": [
      "test set acc: 0.4962962962962963 AUROC:0.46702151009657594\n"
     ]
    }
   ],
   "source": [
    "clf.eval()\n",
    "output = clf(torch.from_numpy(X_test).to(torch.float32).cuda())\n",
    "scores_test = torch.sigmoid(output).cpu().data.numpy()\n",
    "pred_test=scores_test>0.5\n",
    "print(f'test set acc: {accuracy_score(y_test,pred_test)} AUROC:{roc_auc_score(y_test,scores_test)}')"
   ]
  }
 ],
 "metadata": {
  "kernelspec": {
   "display_name": "dl3.9",
   "language": "python",
   "name": "python3"
  },
  "language_info": {
   "codemirror_mode": {
    "name": "ipython",
    "version": 3
   },
   "file_extension": ".py",
   "mimetype": "text/x-python",
   "name": "python",
   "nbconvert_exporter": "python",
   "pygments_lexer": "ipython3",
   "version": "3.9.20"
  }
 },
 "nbformat": 4,
 "nbformat_minor": 2
}
