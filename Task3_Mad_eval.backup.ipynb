{
 "cells": [
  {
   "cell_type": "code",
   "execution_count": 1,
   "id": "c238a175",
   "metadata": {},
   "outputs": [
    {
     "name": "stderr",
     "output_type": "stream",
     "text": [
      "/root/miniconda3/envs/tf4.31/lib/python3.10/site-packages/tqdm/auto.py:21: TqdmWarning: IProgress not found. Please update jupyter and ipywidgets. See https://ipywidgets.readthedocs.io/en/stable/user_install.html\n",
      "  from .autonotebook import tqdm as notebook_tqdm\n"
     ]
    }
   ],
   "source": [
    "import os\n",
    "import json\n",
    "\n",
    "import torch\n",
    "import numpy as np\n",
    "from glob import glob\n",
    "from tqdm.auto import tqdm\n",
    "from sklearn.linear_model import LogisticRegression\n",
    "\n",
    "from utils.func import read_data, softmax\n",
    "from utils.metric import evaluate"
   ]
  },
  {
   "cell_type": "code",
   "execution_count": null,
   "id": "87f1ea04",
   "metadata": {},
   "outputs": [],
   "source": [
    "model_name = \"LLaVA-7B\"\n",
    "prompt = \"mq\""
   ]
  },
  {
   "cell_type": "code",
   "execution_count": null,
   "id": "e2bff69d",
   "metadata": {},
   "outputs": [],
   "source": [
    "_, x_train, y_train = read_data(model_name, \"MAD\", split=\"train\", \n",
    "                                prompt=prompt, token_idx=0)\n",
    "val_data, x_val, y_val = read_data(model_name, \"MAD\", split=\"val\", \n",
    "                                   prompt=prompt, token_idx=0, return_data=True)\n",
    "\n",
    "print(x_train.shape, y_train.shape, x_val.shape, y_val.shape)"
   ]
  },
  {
   "cell_type": "markdown",
   "id": "3f607fb2",
   "metadata": {},
   "source": [
    "### Evaluate the original performance of LVLMs"
   ]
  },
  {
   "cell_type": "code",
   "execution_count": null,
   "id": "e0456255",
   "metadata": {},
   "outputs": [],
   "source": [
    "label_list = [ins['label'] for ins in val_data]\n",
    "    \n",
    "if prompt == \"oe\":\n",
    "    val_labeled = json.load(open(f'./output/{model_name}/MAD_val_oe_labeled.json'))\n",
    "    pred_list = [0 if ins[\"is_answer\"] == 'no' else 1 for ins in val_labeled]\n",
    "elif prompt == \"oeh\":\n",
    "    pred_list = [0 if ins['response'].startswith(\"Sorry, I cannot answer your question\") else 1 for ins in val_data]\n",
    "elif prompt == \"mq\":\n",
    "    pred_list = [0 if \"no\" in ins['response'].lower() else 1 for ins in val_data]\n",
    "evaluate(label_list, pred_list, show=True)"
   ]
  },
  {
   "cell_type": "markdown",
   "id": "27f30f43",
   "metadata": {},
   "source": [
    "### Linear probing"
   ]
  },
  {
   "cell_type": "code",
   "execution_count": null,
   "id": "1152de9f",
   "metadata": {
    "scrolled": false
   },
   "outputs": [],
   "source": [
    "model = LogisticRegression()\n",
    "model.fit(x_train, y_train)\n",
    "\n",
    "y_pred = model.predict_proba(x_val)[:, 1]\n",
    "_, _, _, auroc = evaluate(y_val, y_pred, show=True)"
   ]
  }
 ],
 "metadata": {
  "kernelspec": {
   "display_name": "Python 3 (ipykernel)",
   "language": "python",
   "name": "python3"
  },
  "language_info": {
   "codemirror_mode": {
    "name": "ipython",
    "version": 3
   },
   "file_extension": ".py",
   "mimetype": "text/x-python",
   "name": "python",
   "nbconvert_exporter": "python",
   "pygments_lexer": "ipython3",
   "version": "3.10.15"
  }
 },
 "nbformat": 4,
 "nbformat_minor": 5
}
