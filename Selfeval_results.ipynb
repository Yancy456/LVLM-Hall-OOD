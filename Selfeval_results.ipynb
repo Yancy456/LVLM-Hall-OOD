{
 "cells": [
  {
   "cell_type": "code",
   "execution_count": 1,
   "metadata": {},
   "outputs": [],
   "source": [
    "import os\n",
    "import torch\n",
    "import numpy as np\n",
    "from glob import glob\n",
    "from tqdm.auto import tqdm\n",
    "from sklearn.linear_model import LogisticRegression\n",
    "import pandas as pd\n",
    "from utils.store_data import ReadData\n",
    "import numpy as np\n",
    "import torch\n",
    "from utils.arguments import Arguments\n",
    "from tqdm import tqdm\n",
    "from linear_probe import get_linear_acc\n",
    "import random\n",
    "import os\n",
    "from sklearn.metrics import roc_auc_score,accuracy_score,roc_curve"
   ]
  },
  {
   "cell_type": "code",
   "execution_count": 2,
   "metadata": {},
   "outputs": [],
   "source": [
    "data_reader=ReadData('/root/autodl-tmp/hallscope/selfeval/pope_adversarial')\n",
    "data=data_reader.read_all()\n",
    "random.shuffle(data)"
   ]
  },
  {
   "cell_type": "code",
   "execution_count": 3,
   "metadata": {},
   "outputs": [],
   "source": [
    "df=pd.DataFrame(data)"
   ]
  },
  {
   "cell_type": "code",
   "execution_count": null,
   "metadata": {},
   "outputs": [
    {
     "data": {
      "text/html": [
       "<div>\n",
       "<style scoped>\n",
       "    .dataframe tbody tr th:only-of-type {\n",
       "        vertical-align: middle;\n",
       "    }\n",
       "\n",
       "    .dataframe tbody tr th {\n",
       "        vertical-align: top;\n",
       "    }\n",
       "\n",
       "    .dataframe thead th {\n",
       "        text-align: right;\n",
       "    }\n",
       "</style>\n",
       "<table border=\"1\" class=\"dataframe\">\n",
       "  <thead>\n",
       "    <tr style=\"text-align: right;\">\n",
       "      <th></th>\n",
       "      <th>img_path</th>\n",
       "      <th>question</th>\n",
       "      <th>is_correct</th>\n",
       "      <th>most_likely</th>\n",
       "      <th>responses</th>\n",
       "    </tr>\n",
       "  </thead>\n",
       "  <tbody>\n",
       "    <tr>\n",
       "      <th>0</th>\n",
       "      <td>[/root/autodl-fs/coco_images/train/COCO_train2...</td>\n",
       "      <td>[Question: Is there a baseball glove in the im...</td>\n",
       "      <td>[tensor(1)]</td>\n",
       "      <td>{'embedding': [[[-0.0201416  -0.00386047 -0.00...</td>\n",
       "      <td>None</td>\n",
       "    </tr>\n",
       "    <tr>\n",
       "      <th>1</th>\n",
       "      <td>[/root/autodl-fs/coco_images/train/COCO_train2...</td>\n",
       "      <td>[Question: Is there a cell phone in the image?...</td>\n",
       "      <td>[tensor(1)]</td>\n",
       "      <td>{'embedding': [[[-0.01843262  0.00072479  0.01...</td>\n",
       "      <td>None</td>\n",
       "    </tr>\n",
       "    <tr>\n",
       "      <th>2</th>\n",
       "      <td>[/root/autodl-fs/coco_images/train/COCO_train2...</td>\n",
       "      <td>[Question: Is there a boat in the image?\\nAnsw...</td>\n",
       "      <td>[tensor(1)]</td>\n",
       "      <td>{'embedding': [[[-0.01843262  0.00072479  0.01...</td>\n",
       "      <td>None</td>\n",
       "    </tr>\n",
       "    <tr>\n",
       "      <th>3</th>\n",
       "      <td>[/root/autodl-fs/coco_images/train/COCO_train2...</td>\n",
       "      <td>[Question: Is there a suitcase in the image?\\n...</td>\n",
       "      <td>[tensor(1)]</td>\n",
       "      <td>{'embedding': [[[ 0.00099182  0.0020752  -0.00...</td>\n",
       "      <td>None</td>\n",
       "    </tr>\n",
       "    <tr>\n",
       "      <th>4</th>\n",
       "      <td>[/root/autodl-fs/coco_images/train/COCO_train2...</td>\n",
       "      <td>[Question: Is there a handbag in the image?\\nA...</td>\n",
       "      <td>[tensor(0)]</td>\n",
       "      <td>{'embedding': [[[-0.01843262  0.00072479  0.01...</td>\n",
       "      <td>None</td>\n",
       "    </tr>\n",
       "  </tbody>\n",
       "</table>\n",
       "</div>"
      ],
      "text/plain": [
       "                                            img_path  \\\n",
       "0  [/root/autodl-fs/coco_images/train/COCO_train2...   \n",
       "1  [/root/autodl-fs/coco_images/train/COCO_train2...   \n",
       "2  [/root/autodl-fs/coco_images/train/COCO_train2...   \n",
       "3  [/root/autodl-fs/coco_images/train/COCO_train2...   \n",
       "4  [/root/autodl-fs/coco_images/train/COCO_train2...   \n",
       "\n",
       "                                            question   is_correct  \\\n",
       "0  [Question: Is there a baseball glove in the im...  [tensor(1)]   \n",
       "1  [Question: Is there a cell phone in the image?...  [tensor(1)]   \n",
       "2  [Question: Is there a boat in the image?\\nAnsw...  [tensor(1)]   \n",
       "3  [Question: Is there a suitcase in the image?\\n...  [tensor(1)]   \n",
       "4  [Question: Is there a handbag in the image?\\nA...  [tensor(0)]   \n",
       "\n",
       "                                         most_likely responses  \n",
       "0  {'embedding': [[[-0.0201416  -0.00386047 -0.00...      None  \n",
       "1  {'embedding': [[[-0.01843262  0.00072479  0.01...      None  \n",
       "2  {'embedding': [[[-0.01843262  0.00072479  0.01...      None  \n",
       "3  {'embedding': [[[ 0.00099182  0.0020752  -0.00...      None  \n",
       "4  {'embedding': [[[-0.01843262  0.00072479  0.01...      None  "
      ]
     },
     "execution_count": 4,
     "metadata": {},
     "output_type": "execute_result"
    }
   ],
   "source": [
    "df.head()"
   ]
  },
  {
   "cell_type": "code",
   "execution_count": 5,
   "metadata": {},
   "outputs": [
    {
     "data": {
      "text/plain": [
       "['Question: Is there a baseball glove in the image?\\nAnswer the question using a single word or phrase.\\n Proposed Answer: No\\n Is the proposed answer: A.True \\nB.False\\n']"
      ]
     },
     "execution_count": 5,
     "metadata": {},
     "output_type": "execute_result"
    }
   ],
   "source": [
    "df.iloc[0]['question']"
   ]
  },
  {
   "cell_type": "code",
   "execution_count": null,
   "metadata": {},
   "outputs": [
    {
     "data": {
      "text/plain": [
       "[1, 1, 1, 1, 0, 1, 1, 1, 1, 1, 1, 1, 1, 1, 1, 0, 1, 1, 0, 1]"
      ]
     },
     "execution_count": 6,
     "metadata": {},
     "output_type": "execute_result"
    }
   ],
   "source": [
    "is_correct=df['is_correct'].apply(lambda x: x[0].item()).to_list()\n",
    "is_correct[:20]"
   ]
  },
  {
   "cell_type": "code",
   "execution_count": 7,
   "metadata": {},
   "outputs": [
    {
     "data": {
      "text/plain": [
       "['B.False',\n",
       " 'A True',\n",
       " 'A True',\n",
       " 'A',\n",
       " 'A True',\n",
       " 'B.False',\n",
       " 'B.False',\n",
       " 'B.False',\n",
       " 'A.True',\n",
       " 'B.False']"
      ]
     },
     "execution_count": 7,
     "metadata": {},
     "output_type": "execute_result"
    }
   ],
   "source": [
    "resps=df['most_likely'].apply(lambda x: x['response'][0]).to_list()\n",
    "resps[:10]"
   ]
  },
  {
   "cell_type": "code",
   "execution_count": 8,
   "metadata": {},
   "outputs": [],
   "source": [
    "from answer_judge.SelfEval import SelfEvalJudge\n",
    "judge=SelfEvalJudge()\n",
    "\n",
    "self_check_result=[]\n",
    "for i,x in enumerate(resps):\n",
    "    if x.lower()[0]=='a':\n",
    "        self_check_result.append(1)\n",
    "    else:\n",
    "        self_check_result.append(0)\n",
    "    \n",
    "self_check_result=np.array(self_check_result)"
   ]
  },
  {
   "cell_type": "code",
   "execution_count": 9,
   "metadata": {},
   "outputs": [
    {
     "data": {
      "text/plain": [
       "(2000,)"
      ]
     },
     "execution_count": 9,
     "metadata": {},
     "output_type": "execute_result"
    }
   ],
   "source": [
    "self_check_result.shape"
   ]
  },
  {
   "cell_type": "code",
   "execution_count": 10,
   "metadata": {},
   "outputs": [
    {
     "name": "stdout",
     "output_type": "stream",
     "text": [
      "There are 2000 responses. 912 answer correctly and 1088 answer wrongly\n"
     ]
    }
   ],
   "source": [
    "print(f'There are {len(self_check_result)} responses. {sum(self_check_result==1)} answer correctly and {sum(self_check_result==0)} answer wrongly')"
   ]
  },
  {
   "cell_type": "code",
   "execution_count": 11,
   "metadata": {},
   "outputs": [
    {
     "name": "stdout",
     "output_type": "stream",
     "text": [
      "0.6014692885550155\n"
     ]
    }
   ],
   "source": [
    "print(roc_auc_score(is_correct,self_check_result))"
   ]
  }
 ],
 "metadata": {
  "kernelspec": {
   "display_name": "dl3.9",
   "language": "python",
   "name": "python3"
  },
  "language_info": {
   "codemirror_mode": {
    "name": "ipython",
    "version": 3
   },
   "file_extension": ".py",
   "mimetype": "text/x-python",
   "name": "python",
   "nbconvert_exporter": "python",
   "pygments_lexer": "ipython3",
   "version": "3.9.20"
  }
 },
 "nbformat": 4,
 "nbformat_minor": 2
}
