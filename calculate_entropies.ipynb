{
 "cells": [
  {
   "cell_type": "markdown",
   "metadata": {},
   "source": [
    "## Calculate Semantic Entropies for Generated Data"
   ]
  },
  {
   "cell_type": "code",
   "execution_count": 1,
   "metadata": {},
   "outputs": [],
   "source": [
    "import os\n",
    "from utils.metric import evaluate, eval_safety\n",
    "from utils.func import read_jsonl, softmax\n",
    "from utils.store_data import ReadData,StoreData\n",
    "from ML_tools.semantic_clustering.semantic_clustering import SemanticClustering\n",
    "from ML_tools.semantic_clustering.semantic_entropy import EntailmentDeberta\n",
    "import numpy as np\n",
    "from tqdm.notebook import tqdm\n",
    "\n",
    "data_reader=ReadData('./output/trivia_qa')\n",
    "data=data_reader.read_all()"
   ]
  },
  {
   "cell_type": "code",
   "execution_count": 2,
   "metadata": {},
   "outputs": [
    {
     "data": {
      "application/vnd.jupyter.widget-view+json": {
       "model_id": "a12578d629f049dc971013d4c0ff1122",
       "version_major": 2,
       "version_minor": 0
      },
      "text/plain": [
       "  0%|          | 0/200 [00:00<?, ?it/s]"
      ]
     },
     "metadata": {},
     "output_type": "display_data"
    }
   ],
   "source": [
    "entailment_model=EntailmentDeberta()\n",
    "clustor=SemanticClustering(entailment_model)\n",
    "\n",
    "for i in tqdm(range(len(data))):\n",
    "    #data[i]['responses']=phrase_responses(data[i]['responses'])\n",
    "    data[i]['entropy']=clustor.get_entropy(data[i]['responses'])"
   ]
  },
  {
   "cell_type": "code",
   "execution_count": null,
   "metadata": {},
   "outputs": [
    {
     "name": "stdout",
     "output_type": "stream",
     "text": [
      "dict_keys(['id', 'question', 'context', 'answers', 'most_likely', 'responses'])\n",
      "10\n",
      "1.0\n",
      "(33, 1, 4096)\n",
      "['10', '10', '10', '10', '10', '10', '10', '10', '10', '10']\n",
      "Answer the following question as briefly as possible.\n",
      "Question: In April, which sportsman married his childhood sweetheart Kim Sears?\n",
      "Answer: andy murray\n",
      "\n",
      "Question: From the Latin for argentum, which element, with an atomic number of 47, uses the symbol Ag?\n",
      "Answer: silver\n",
      "\n",
      "Question: In which English city will you find the Ashmolean museum?\n",
      "Answer: oxford\n",
      "\n",
      "Question: In which city was John Lennon murdered?\n",
      "Answer: new york\n",
      "\n",
      "Question: How many basic positions are there in classical ballet?\n",
      "Answer: five\n",
      "\n",
      "Question: What is the minimum number of points needed to win a tiebreak in tennis, such as in the Hopman Cup for mixed doubles, on the ATP and WTA tours for doubles and sometmes in USTA league play?\n",
      "Answer: \n",
      "['10']\n"
     ]
    }
   ],
   "source": [
    "i=30\n",
    "\n",
    "print(data[i].keys())\n",
    "\n",
    "print(data[i]['most_likely']['response'])\n",
    "print(data[i]['most_likely']['correctness'])\n",
    "#print(data[i]['is_safe'])\n",
    "print(data[i]['most_likely']['embedding'].shape)\n",
    "\n",
    "print(data[i]['responses'])\n",
    "print(data[i]['question'])\n",
    "print(data[i]['answers'])\n",
    "print(data[i]['entropy'])"
   ]
  },
  {
   "cell_type": "code",
   "execution_count": 4,
   "metadata": {},
   "outputs": [],
   "source": [
    "np.save('./output/results_trivia_qa', data)"
   ]
  }
 ],
 "metadata": {
  "kernelspec": {
   "display_name": "dl3.9",
   "language": "python",
   "name": "python3"
  },
  "language_info": {
   "codemirror_mode": {
    "name": "ipython",
    "version": 3
   },
   "file_extension": ".py",
   "mimetype": "text/x-python",
   "name": "python",
   "nbconvert_exporter": "python",
   "pygments_lexer": "ipython3",
   "version": "3.9.20"
  }
 },
 "nbformat": 4,
 "nbformat_minor": 2
}
