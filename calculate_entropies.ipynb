{
 "cells": [
  {
   "cell_type": "markdown",
   "metadata": {},
   "source": [
    "## Calculate Semantic Entropies for Generated Data"
   ]
  },
  {
   "cell_type": "code",
   "execution_count": 5,
   "metadata": {},
   "outputs": [],
   "source": [
    "import os\n",
    "from utils.metric import evaluate, eval_safety\n",
    "from utils.func import read_jsonl, softmax\n",
    "from utils.store_data import ReadData,StoreData\n",
    "from ml_utils.semantic_clustering.semantic_clustering import SemanticClustering\n",
    "from ml_utils.semantic_clustering.semantic_entropy import EntailmentDeberta\n",
    "import numpy as np\n",
    "from tqdm.notebook import tqdm\n",
    "import pandas as pd"
   ]
  },
  {
   "cell_type": "code",
   "execution_count": 6,
   "metadata": {},
   "outputs": [],
   "source": [
    "data=ReadData('/root/autodl-tmp/hallscope/VizWiz/multi/train').read_all()"
   ]
  },
  {
   "cell_type": "code",
   "execution_count": 7,
   "metadata": {},
   "outputs": [],
   "source": [
    "df=pd.DataFrame(data)"
   ]
  },
  {
   "cell_type": "code",
   "execution_count": 8,
   "metadata": {},
   "outputs": [
    {
     "data": {
      "text/html": [
       "<div>\n",
       "<style scoped>\n",
       "    .dataframe tbody tr th:only-of-type {\n",
       "        vertical-align: middle;\n",
       "    }\n",
       "\n",
       "    .dataframe tbody tr th {\n",
       "        vertical-align: top;\n",
       "    }\n",
       "\n",
       "    .dataframe thead th {\n",
       "        text-align: right;\n",
       "    }\n",
       "</style>\n",
       "<table border=\"1\" class=\"dataframe\">\n",
       "  <thead>\n",
       "    <tr style=\"text-align: right;\">\n",
       "      <th></th>\n",
       "      <th>img_path</th>\n",
       "      <th>question</th>\n",
       "      <th>answer_type</th>\n",
       "      <th>answers</th>\n",
       "      <th>most_likely</th>\n",
       "      <th>responses</th>\n",
       "    </tr>\n",
       "  </thead>\n",
       "  <tbody>\n",
       "    <tr>\n",
       "      <th>0</th>\n",
       "      <td>[/root/autodl-fs/vizwiz/train/train/VizWiz_tra...</td>\n",
       "      <td>[Given the question 'What's the name of this p...</td>\n",
       "      <td>[other]</td>\n",
       "      <td>[{'answer_confidence': ['yes'], 'answer': ['ba...</td>\n",
       "      <td>{'embedding': [[[-0.00567627 -0.00067902 -0.00...</td>\n",
       "      <td>[Unanswerable., Answerable, Unanswerable, Answ...</td>\n",
       "    </tr>\n",
       "    <tr>\n",
       "      <th>1</th>\n",
       "      <td>[/root/autodl-fs/vizwiz/train/train/VizWiz_tra...</td>\n",
       "      <td>[Given the question 'Can you tell me what is i...</td>\n",
       "      <td>[other]</td>\n",
       "      <td>[{'answer_confidence': ['yes'], 'answer': ['so...</td>\n",
       "      <td>{'embedding': [[[-0.00073624  0.0111084  -0.01...</td>\n",
       "      <td>[Answerable., Unanswerable, Unanswerable, Unan...</td>\n",
       "    </tr>\n",
       "    <tr>\n",
       "      <th>2</th>\n",
       "      <td>[/root/autodl-fs/vizwiz/train/train/VizWiz_tra...</td>\n",
       "      <td>[Given the question 'Is this enchilada sauce o...</td>\n",
       "      <td>[other]</td>\n",
       "      <td>[{'answer_confidence': ['yes'], 'answer': ['th...</td>\n",
       "      <td>{'embedding': [[[-0.00073624  0.0111084  -0.01...</td>\n",
       "      <td>[Unanswerable, Answerable, Answerable., Unansw...</td>\n",
       "    </tr>\n",
       "    <tr>\n",
       "      <th>3</th>\n",
       "      <td>[/root/autodl-fs/vizwiz/train/train/VizWiz_tra...</td>\n",
       "      <td>[Given the question 'What is the captcha on th...</td>\n",
       "      <td>[other]</td>\n",
       "      <td>[{'answer_confidence': ['yes'], 'answer': ['t3...</td>\n",
       "      <td>{'embedding': [[[-0.00073624  0.0111084  -0.01...</td>\n",
       "      <td>[Answerable., Answerable, Unanswerable, Answer...</td>\n",
       "    </tr>\n",
       "    <tr>\n",
       "      <th>4</th>\n",
       "      <td>[/root/autodl-fs/vizwiz/train/train/VizWiz_tra...</td>\n",
       "      <td>[Given the question 'What is this item?', is t...</td>\n",
       "      <td>[other]</td>\n",
       "      <td>[{'answer_confidence': ['yes'], 'answer': ['so...</td>\n",
       "      <td>{'embedding': [[[-0.00073624  0.0111084  -0.01...</td>\n",
       "      <td>[Unanswerable., Unanswerable, Answerable., Una...</td>\n",
       "    </tr>\n",
       "  </tbody>\n",
       "</table>\n",
       "</div>"
      ],
      "text/plain": [
       "                                            img_path  \\\n",
       "0  [/root/autodl-fs/vizwiz/train/train/VizWiz_tra...   \n",
       "1  [/root/autodl-fs/vizwiz/train/train/VizWiz_tra...   \n",
       "2  [/root/autodl-fs/vizwiz/train/train/VizWiz_tra...   \n",
       "3  [/root/autodl-fs/vizwiz/train/train/VizWiz_tra...   \n",
       "4  [/root/autodl-fs/vizwiz/train/train/VizWiz_tra...   \n",
       "\n",
       "                                            question answer_type  \\\n",
       "0  [Given the question 'What's the name of this p...     [other]   \n",
       "1  [Given the question 'Can you tell me what is i...     [other]   \n",
       "2  [Given the question 'Is this enchilada sauce o...     [other]   \n",
       "3  [Given the question 'What is the captcha on th...     [other]   \n",
       "4  [Given the question 'What is this item?', is t...     [other]   \n",
       "\n",
       "                                             answers  \\\n",
       "0  [{'answer_confidence': ['yes'], 'answer': ['ba...   \n",
       "1  [{'answer_confidence': ['yes'], 'answer': ['so...   \n",
       "2  [{'answer_confidence': ['yes'], 'answer': ['th...   \n",
       "3  [{'answer_confidence': ['yes'], 'answer': ['t3...   \n",
       "4  [{'answer_confidence': ['yes'], 'answer': ['so...   \n",
       "\n",
       "                                         most_likely  \\\n",
       "0  {'embedding': [[[-0.00567627 -0.00067902 -0.00...   \n",
       "1  {'embedding': [[[-0.00073624  0.0111084  -0.01...   \n",
       "2  {'embedding': [[[-0.00073624  0.0111084  -0.01...   \n",
       "3  {'embedding': [[[-0.00073624  0.0111084  -0.01...   \n",
       "4  {'embedding': [[[-0.00073624  0.0111084  -0.01...   \n",
       "\n",
       "                                           responses  \n",
       "0  [Unanswerable., Answerable, Unanswerable, Answ...  \n",
       "1  [Answerable., Unanswerable, Unanswerable, Unan...  \n",
       "2  [Unanswerable, Answerable, Answerable., Unansw...  \n",
       "3  [Answerable., Answerable, Unanswerable, Answer...  \n",
       "4  [Unanswerable., Unanswerable, Answerable., Una...  "
      ]
     },
     "execution_count": 8,
     "metadata": {},
     "output_type": "execute_result"
    }
   ],
   "source": [
    "df.head()"
   ]
  },
  {
   "cell_type": "code",
   "execution_count": 14,
   "metadata": {},
   "outputs": [
    {
     "data": {
      "text/plain": [
       "['Unanswerable.',\n",
       " 'Unanswerable',\n",
       " 'Answerable.',\n",
       " 'Unanswerable',\n",
       " 'Answerable',\n",
       " 'Answerable']"
      ]
     },
     "execution_count": 14,
     "metadata": {},
     "output_type": "execute_result"
    },
    {
     "ename": "",
     "evalue": "",
     "output_type": "error",
     "traceback": [
      "\u001b[1;31mThe Kernel crashed while executing code in the current cell or a previous cell. \n",
      "\u001b[1;31mPlease review the code in the cell(s) to identify a possible cause of the failure. \n",
      "\u001b[1;31mClick <a href='https://aka.ms/vscodeJupyterKernelCrash'>here</a> for more info. \n",
      "\u001b[1;31mView Jupyter <a href='command:jupyter.viewOutput'>log</a> for further details."
     ]
    }
   ],
   "source": [
    "df['responses'][4]"
   ]
  },
  {
   "cell_type": "code",
   "execution_count": null,
   "metadata": {},
   "outputs": [],
   "source": []
  },
  {
   "cell_type": "code",
   "execution_count": null,
   "metadata": {},
   "outputs": [],
   "source": []
  },
  {
   "cell_type": "code",
   "execution_count": 2,
   "metadata": {},
   "outputs": [
    {
     "data": {
      "application/vnd.jupyter.widget-view+json": {
       "model_id": "a12578d629f049dc971013d4c0ff1122",
       "version_major": 2,
       "version_minor": 0
      },
      "text/plain": [
       "  0%|          | 0/200 [00:00<?, ?it/s]"
      ]
     },
     "metadata": {},
     "output_type": "display_data"
    }
   ],
   "source": [
    "entailment_model=EntailmentDeberta()\n",
    "cluster=SemanticClustering(entailment_model)\n",
    "\n",
    "for i in tqdm(range(len(data))):\n",
    "    data[i]['entropy']=cluster.get_entropy(data[i]['responses'])"
   ]
  },
  {
   "cell_type": "code",
   "execution_count": null,
   "metadata": {},
   "outputs": [
    {
     "name": "stdout",
     "output_type": "stream",
     "text": [
      "dict_keys(['id', 'question', 'context', 'answers', 'most_likely', 'responses'])\n",
      "10\n",
      "1.0\n",
      "(33, 1, 4096)\n",
      "['10', '10', '10', '10', '10', '10', '10', '10', '10', '10']\n",
      "Answer the following question as briefly as possible.\n",
      "Question: In April, which sportsman married his childhood sweetheart Kim Sears?\n",
      "Answer: andy murray\n",
      "\n",
      "Question: From the Latin for argentum, which element, with an atomic number of 47, uses the symbol Ag?\n",
      "Answer: silver\n",
      "\n",
      "Question: In which English city will you find the Ashmolean museum?\n",
      "Answer: oxford\n",
      "\n",
      "Question: In which city was John Lennon murdered?\n",
      "Answer: new york\n",
      "\n",
      "Question: How many basic positions are there in classical ballet?\n",
      "Answer: five\n",
      "\n",
      "Question: What is the minimum number of points needed to win a tiebreak in tennis, such as in the Hopman Cup for mixed doubles, on the ATP and WTA tours for doubles and sometmes in USTA league play?\n",
      "Answer: \n",
      "['10']\n"
     ]
    }
   ],
   "source": [
    "i=30\n",
    "\n",
    "print(data[i].keys())\n",
    "\n",
    "print(data[i]['most_likely']['response'])\n",
    "print(data[i]['most_likely']['correctness'])\n",
    "#print(data[i]['is_safe'])\n",
    "print(data[i]['most_likely']['embedding'].shape)\n",
    "\n",
    "print(data[i]['responses'])\n",
    "print(data[i]['question'])\n",
    "print(data[i]['answers'])\n",
    "print(data[i]['entropy'])"
   ]
  },
  {
   "cell_type": "code",
   "execution_count": 4,
   "metadata": {},
   "outputs": [],
   "source": [
    "np.save('./output/results_trivia_qa', data)"
   ]
  }
 ],
 "metadata": {
  "kernelspec": {
   "display_name": "dl3.9",
   "language": "python",
   "name": "python3"
  },
  "language_info": {
   "codemirror_mode": {
    "name": "ipython",
    "version": 3
   },
   "file_extension": ".py",
   "mimetype": "text/x-python",
   "name": "python",
   "nbconvert_exporter": "python",
   "pygments_lexer": "ipython3",
   "version": "3.9.20"
  }
 },
 "nbformat": 4,
 "nbformat_minor": 2
}
