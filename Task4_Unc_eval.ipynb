{
 "cells": [
  {
   "cell_type": "code",
   "execution_count": null,
   "id": "f2db4e55",
   "metadata": {},
   "outputs": [],
   "source": [
    "import os\n",
    "import json\n",
    "import warnings\n",
    "warnings.filterwarnings('ignore')\n",
    "\n",
    "import numpy as np\n",
    "from sklearn.linear_model import LogisticRegression\n",
    "from sklearn.model_selection import train_test_split\n",
    "from sklearn.model_selection import cross_validate\n",
    "\n",
    "from datasets import load_dataset\n",
    "from utils.func import read_jsonl, softmax\n",
    "from utils.metric import evaluate\n",
    "\n",
    "model_name = \"MiniGPT4\"\n",
    "fix = \"\"\n",
    "data = read_jsonl(f\"./output/{model_name}/MathV{fix}.jsonl\")\n",
    "len(data)"
   ]
  },
  {
   "cell_type": "code",
   "execution_count": null,
   "id": "7bd7a8f9",
   "metadata": {},
   "outputs": [],
   "source": [
    "dataset = load_dataset(\"AI4Math/MathVista\", split='testmini')\n",
    "len(dataset)"
   ]
  },
  {
   "cell_type": "code",
   "execution_count": null,
   "id": "5f121324",
   "metadata": {},
   "outputs": [],
   "source": [
    "if not os.path.exists(f\"./output/{model_name}/MathV{fix}_output.json\"):\n",
    "    res = {}\n",
    "    for pid in range(len(dataset)):\n",
    "        dic = dataset[pid]\n",
    "        del dic['decoded_image']\n",
    "        dic['response'] = data[pid]['response']\n",
    "        res[pid+1] = dic\n",
    "\n",
    "    json.dump(res, open(f\"./output/{model_name}/MathV{fix}_output.json\", 'w'))"
   ]
  },
  {
   "cell_type": "code",
   "execution_count": null,
   "id": "d81a42f1",
   "metadata": {},
   "outputs": [],
   "source": [
    "print(f\"\"\"python extract_answer.py \\\\\n",
    "    --output_dir \"../../TowardsTrustworthy/output/{model_name}/\" \\\\\n",
    "    --output_file \"MathV{fix}_output.json\" \\\\\n",
    "    --llm_engine \"gpt-4-0125-preview\" \"\"\")"
   ]
  },
  {
   "cell_type": "code",
   "execution_count": null,
   "id": "021fa242",
   "metadata": {},
   "outputs": [],
   "source": [
    "print(f\"\"\"python calculate_score.py \\\\\n",
    "    --output_dir \"/data/qinyu/research/TowardsTrustworthy/output/{model_name}/\" \\\\\n",
    "    --output_file \"MathV{fix}_output.json\" \"\"\")"
   ]
  },
  {
   "cell_type": "markdown",
   "id": "e7853d95",
   "metadata": {},
   "source": [
    "### Please evaluate the results use the codes provided by the MathVista repo\n",
    "After that, you can run the following codes"
   ]
  },
  {
   "cell_type": "code",
   "execution_count": null,
   "id": "f22b6c34",
   "metadata": {},
   "outputs": [],
   "source": [
    "data = json.load(open(f\"./output/{model_name}/MathV{fix}_output.json\"))\n",
    "logits = read_jsonl(f\"./output/{model_name}/MathV{fix}.jsonl\")"
   ]
  },
  {
   "cell_type": "code",
   "execution_count": null,
   "id": "2f5ad078",
   "metadata": {},
   "outputs": [],
   "source": [
    "X = np.array([ins['logits'] for ins in logits])\n",
    "y = np.array([1 if data[str(i)][\"true_false\"] else 0 for i in range(1, 1001)])"
   ]
  },
  {
   "cell_type": "code",
   "execution_count": null,
   "id": "d3f88c8e",
   "metadata": {},
   "outputs": [],
   "source": [
    "model = LogisticRegression()\n",
    "res = cross_validate(model, X, y, cv=10, scoring=('roc_auc', 'accuracy', 'f1'))\n",
    "print(res['test_roc_auc'])\n",
    "print(res['test_accuracy'])\n",
    "print(res['test_f1'])\n",
    "\n",
    "print(f\"AUROC: {np.mean(res['test_roc_auc'])*100:.2f}\")\n",
    "print(f\"ACC: {np.mean(res['test_accuracy'])*100:.2f}\")\n",
    "print(f\"F1: {np.mean(res['test_f1'])*100:.2f}\")"
   ]
  },
  {
   "cell_type": "markdown",
   "id": "ba9f2a5f",
   "metadata": {},
   "source": [
    "Please use the LVLMs to self-evaluate their solutions, and run the following codes"
   ]
  },
  {
   "cell_type": "code",
   "execution_count": null,
   "id": "584523fc",
   "metadata": {},
   "outputs": [],
   "source": [
    "data = json.load(open(f\"./output/{model_name}/MathV{fix}_output.json\"))\n",
    "logits = read_jsonl(f\"./output/{model_name}/MathV{fix}_self_eval.jsonl\")\n",
    "\n",
    "X = np.array([ins['logits'] for ins in logits])\n",
    "y = np.array([1 if data[str(i)][\"true_false\"] else 0 for i in range(1, 1001)])\n",
    "\n",
    "model = LogisticRegression()\n",
    "res = cross_validate(model, X, y, cv=10, scoring=('roc_auc', 'accuracy', 'f1'))\n",
    "print(res['test_roc_auc'])\n",
    "print(res['test_accuracy'])\n",
    "print(res['test_f1'])\n",
    "\n",
    "print(f\"AUROC: {np.mean(res['test_roc_auc'])*100:.2f}\")\n",
    "print(f\"ACC: {np.mean(res['test_accuracy'])*100:.2f}\")\n",
    "print(f\"F1: {np.mean(res['test_f1'])*100:.2f}\")"
   ]
  }
 ],
 "metadata": {
  "kernelspec": {
   "display_name": "Python 3 (ipykernel)",
   "language": "python",
   "name": "python3"
  },
  "language_info": {
   "codemirror_mode": {
    "name": "ipython",
    "version": 3
   },
   "file_extension": ".py",
   "mimetype": "text/x-python",
   "name": "python",
   "nbconvert_exporter": "python",
   "pygments_lexer": "ipython3",
   "version": "3.11.5"
  }
 },
 "nbformat": 4,
 "nbformat_minor": 5
}
