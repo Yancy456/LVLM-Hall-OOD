{
 "cells": [
  {
   "cell_type": "code",
   "execution_count": 1,
   "metadata": {},
   "outputs": [],
   "source": [
    "import os\n",
    "import torch\n",
    "import numpy as np\n",
    "from glob import glob\n",
    "from tqdm.auto import tqdm\n",
    "from sklearn.linear_model import LogisticRegression\n",
    "import pandas as pd\n",
    "from utils.store_data import ReadData\n",
    "import numpy as np\n",
    "import torch\n",
    "from utils.arguments import Arguments\n",
    "from tqdm import tqdm\n",
    "from sklearn.decomposition import PCA\n",
    "from linear_probe import get_linear_acc\n",
    "import random\n",
    "import os\n",
    "from sklearn.metrics import roc_auc_score,accuracy_score,roc_curve"
   ]
  },
  {
   "cell_type": "code",
   "execution_count": 2,
   "metadata": {},
   "outputs": [],
   "source": [
    "data_reader=ReadData('/root/autodl-fs/hallscope/pope/popular/train')\n",
    "data=data_reader.read_all()\n",
    "random.shuffle(data)"
   ]
  },
  {
   "cell_type": "code",
   "execution_count": 3,
   "metadata": {},
   "outputs": [],
   "source": [
    "df=pd.DataFrame(data)"
   ]
  },
  {
   "cell_type": "code",
   "execution_count": 4,
   "metadata": {},
   "outputs": [
    {
     "data": {
      "text/html": [
       "<div>\n",
       "<style scoped>\n",
       "    .dataframe tbody tr th:only-of-type {\n",
       "        vertical-align: middle;\n",
       "    }\n",
       "\n",
       "    .dataframe tbody tr th {\n",
       "        vertical-align: top;\n",
       "    }\n",
       "\n",
       "    .dataframe thead th {\n",
       "        text-align: right;\n",
       "    }\n",
       "</style>\n",
       "<table border=\"1\" class=\"dataframe\">\n",
       "  <thead>\n",
       "    <tr style=\"text-align: right;\">\n",
       "      <th></th>\n",
       "      <th>img_path</th>\n",
       "      <th>question</th>\n",
       "      <th>label</th>\n",
       "      <th>question_id</th>\n",
       "      <th>category</th>\n",
       "      <th>most_likely</th>\n",
       "    </tr>\n",
       "  </thead>\n",
       "  <tbody>\n",
       "    <tr>\n",
       "      <th>0</th>\n",
       "      <td>[/root/autodl-tmp/coco_images/train/COCO_train...</td>\n",
       "      <td>[Is there an airplane in the imange?\\nAnswer t...</td>\n",
       "      <td>[1, 0, 1, 0, 1, 0, 1, 0]</td>\n",
       "      <td>[tensor(15153), tensor(15154), tensor(15155), ...</td>\n",
       "      <td>[popular, popular, popular, popular, popular, ...</td>\n",
       "      <td>{'embedding': [[[ 0.00389099  0.00149536  0.00...</td>\n",
       "    </tr>\n",
       "    <tr>\n",
       "      <th>1</th>\n",
       "      <td>[/root/autodl-tmp/coco_images/train/COCO_train...</td>\n",
       "      <td>[Is there a person in the image?\\nAnswer the q...</td>\n",
       "      <td>[1, 0, 1, 0, 1, 0, 1, 0]</td>\n",
       "      <td>[tensor(8361), tensor(8362), tensor(8363), ten...</td>\n",
       "      <td>[popular, popular, popular, popular, popular, ...</td>\n",
       "      <td>{'embedding': [[[ 0.00389099  0.00149536  0.00...</td>\n",
       "    </tr>\n",
       "    <tr>\n",
       "      <th>2</th>\n",
       "      <td>[/root/autodl-tmp/coco_images/train/COCO_train...</td>\n",
       "      <td>[Is there a kite in the image?\\nAnswer the que...</td>\n",
       "      <td>[1, 0, 1, 0, 1, 0, 1, 0]</td>\n",
       "      <td>[tensor(17583), tensor(17584), tensor(17585), ...</td>\n",
       "      <td>[popular, popular, popular, popular, popular, ...</td>\n",
       "      <td>{'embedding': [[[ 0.00389099  0.00149536  0.00...</td>\n",
       "    </tr>\n",
       "    <tr>\n",
       "      <th>3</th>\n",
       "      <td>[/root/autodl-tmp/coco_images/train/COCO_train...</td>\n",
       "      <td>[Is there a skateboard in the image?\\nAnswer t...</td>\n",
       "      <td>[1, 0, 1, 0, 1, 0, 1, 0]</td>\n",
       "      <td>[tensor(6857), tensor(6858), tensor(6859), ten...</td>\n",
       "      <td>[popular, popular, popular, popular, popular, ...</td>\n",
       "      <td>{'embedding': [[[ 0.00389099  0.00149536  0.00...</td>\n",
       "    </tr>\n",
       "    <tr>\n",
       "      <th>4</th>\n",
       "      <td>[/root/autodl-tmp/coco_images/train/COCO_train...</td>\n",
       "      <td>[Is there a chair in the image?\\nAnswer the qu...</td>\n",
       "      <td>[1, 0, 1, 0, 1, 0, 1, 0]</td>\n",
       "      <td>[tensor(8129), tensor(8130), tensor(8131), ten...</td>\n",
       "      <td>[popular, popular, popular, popular, popular, ...</td>\n",
       "      <td>{'embedding': [[[ 0.00389099  0.00149536  0.00...</td>\n",
       "    </tr>\n",
       "  </tbody>\n",
       "</table>\n",
       "</div>"
      ],
      "text/plain": [
       "                                            img_path  \\\n",
       "0  [/root/autodl-tmp/coco_images/train/COCO_train...   \n",
       "1  [/root/autodl-tmp/coco_images/train/COCO_train...   \n",
       "2  [/root/autodl-tmp/coco_images/train/COCO_train...   \n",
       "3  [/root/autodl-tmp/coco_images/train/COCO_train...   \n",
       "4  [/root/autodl-tmp/coco_images/train/COCO_train...   \n",
       "\n",
       "                                            question  \\\n",
       "0  [Is there an airplane in the imange?\\nAnswer t...   \n",
       "1  [Is there a person in the image?\\nAnswer the q...   \n",
       "2  [Is there a kite in the image?\\nAnswer the que...   \n",
       "3  [Is there a skateboard in the image?\\nAnswer t...   \n",
       "4  [Is there a chair in the image?\\nAnswer the qu...   \n",
       "\n",
       "                      label  \\\n",
       "0  [1, 0, 1, 0, 1, 0, 1, 0]   \n",
       "1  [1, 0, 1, 0, 1, 0, 1, 0]   \n",
       "2  [1, 0, 1, 0, 1, 0, 1, 0]   \n",
       "3  [1, 0, 1, 0, 1, 0, 1, 0]   \n",
       "4  [1, 0, 1, 0, 1, 0, 1, 0]   \n",
       "\n",
       "                                         question_id  \\\n",
       "0  [tensor(15153), tensor(15154), tensor(15155), ...   \n",
       "1  [tensor(8361), tensor(8362), tensor(8363), ten...   \n",
       "2  [tensor(17583), tensor(17584), tensor(17585), ...   \n",
       "3  [tensor(6857), tensor(6858), tensor(6859), ten...   \n",
       "4  [tensor(8129), tensor(8130), tensor(8131), ten...   \n",
       "\n",
       "                                            category  \\\n",
       "0  [popular, popular, popular, popular, popular, ...   \n",
       "1  [popular, popular, popular, popular, popular, ...   \n",
       "2  [popular, popular, popular, popular, popular, ...   \n",
       "3  [popular, popular, popular, popular, popular, ...   \n",
       "4  [popular, popular, popular, popular, popular, ...   \n",
       "\n",
       "                                         most_likely  \n",
       "0  {'embedding': [[[ 0.00389099  0.00149536  0.00...  \n",
       "1  {'embedding': [[[ 0.00389099  0.00149536  0.00...  \n",
       "2  {'embedding': [[[ 0.00389099  0.00149536  0.00...  \n",
       "3  {'embedding': [[[ 0.00389099  0.00149536  0.00...  \n",
       "4  {'embedding': [[[ 0.00389099  0.00149536  0.00...  "
      ]
     },
     "execution_count": 4,
     "metadata": {},
     "output_type": "execute_result"
    }
   ],
   "source": [
    "df.head()"
   ]
  },
  {
   "cell_type": "code",
   "execution_count": 5,
   "metadata": {},
   "outputs": [],
   "source": [
    "embeddings=df['most_likely'].apply(lambda x: x['embedding']).to_list()"
   ]
  },
  {
   "cell_type": "code",
   "execution_count": 6,
   "metadata": {},
   "outputs": [],
   "source": [
    "embeddings=np.concatenate(embeddings,axis=0)"
   ]
  },
  {
   "cell_type": "code",
   "execution_count": 7,
   "metadata": {},
   "outputs": [
    {
     "data": {
      "text/plain": [
       "(20000, 33, 4096)"
      ]
     },
     "execution_count": 7,
     "metadata": {},
     "output_type": "execute_result"
    }
   ],
   "source": [
    "embeddings.shape"
   ]
  },
  {
   "cell_type": "code",
   "execution_count": 8,
   "metadata": {},
   "outputs": [],
   "source": [
    "gt_label=df['label'].to_list()\n",
    "gt_label=np.concatenate(gt_label,axis=0)"
   ]
  },
  {
   "cell_type": "code",
   "execution_count": 9,
   "metadata": {},
   "outputs": [
    {
     "data": {
      "text/plain": [
       "(20000,)"
      ]
     },
     "execution_count": 9,
     "metadata": {},
     "output_type": "execute_result"
    }
   ],
   "source": [
    "gt_label.shape"
   ]
  },
  {
   "cell_type": "code",
   "execution_count": 10,
   "metadata": {},
   "outputs": [],
   "source": [
    "responses=df['most_likely'].apply(lambda x: x['response']).to_list()\n",
    "resps=[]\n",
    "for x in responses:\n",
    "    resps+=x"
   ]
  },
  {
   "cell_type": "code",
   "execution_count": 11,
   "metadata": {},
   "outputs": [],
   "source": [
    "is_hall=[]\n",
    "for i,x in enumerate(resps):\n",
    "    if x.lower()=='no' and gt_label[i]==0:\n",
    "        is_hall.append(1)\n",
    "    elif x.lower()=='yes' and gt_label[i]==1:\n",
    "        is_hall.append(1)\n",
    "    else:\n",
    "        is_hall.append(0)\n",
    "is_hall=np.array(is_hall)"
   ]
  },
  {
   "cell_type": "code",
   "execution_count": 12,
   "metadata": {},
   "outputs": [
    {
     "data": {
      "text/plain": [
       "(20000,)"
      ]
     },
     "execution_count": 12,
     "metadata": {},
     "output_type": "execute_result"
    }
   ],
   "source": [
    "is_hall.shape"
   ]
  },
  {
   "cell_type": "code",
   "execution_count": 13,
   "metadata": {},
   "outputs": [
    {
     "name": "stdout",
     "output_type": "stream",
     "text": [
      "There are 20000 responses. 17437 answer correctly and 2563 answer wrongly\n"
     ]
    }
   ],
   "source": [
    "print(f'There are {len(is_hall)} responses. {sum(is_hall==1)} answer correctly and {sum(is_hall==0)} answer wrongly')"
   ]
  },
  {
   "cell_type": "code",
   "execution_count": 14,
   "metadata": {},
   "outputs": [
    {
     "name": "stdout",
     "output_type": "stream",
     "text": [
      "trainset length:15000\n",
      "validset length:1000\n",
      "testset length:4000\n",
      "trainset postive: 13067 negative: 1933\n",
      "testset postive: 3503 negative: 497\n"
     ]
    }
   ],
   "source": [
    "length=len(is_hall)\n",
    "train_rate=0.8\n",
    "\n",
    "all_indices = np.random.permutation(length)\n",
    "train_val_idxs = all_indices[:int(\n",
    "    train_rate * length)]  # trainset and validation index\n",
    "\n",
    "test_idxs=all_indices[int(\n",
    "    train_rate * length):]  #test index\n",
    "\n",
    "validset_len = 1000\n",
    "# exclude validation samples.\n",
    "train_idxs = train_val_idxs[:len(\n",
    "    train_val_idxs) - validset_len]  # trainset index\n",
    "val_idxs = train_val_idxs[len(\n",
    "    train_val_idxs) - validset_len:]  # validation index\n",
    "hall_label_test = []\n",
    "hall_label_wild = []\n",
    "hall_label_val = []\n",
    "\n",
    "'''get testset, wildset and valset. The valset is used for determining the hype-parameters'''\n",
    "hall_label_test = is_hall[test_idxs]\n",
    "hall_label_wild = is_hall[train_idxs]\n",
    "hall_label_val = is_hall[val_idxs]\n",
    "\n",
    "print(f'trainset length:{len(hall_label_wild)}')\n",
    "print(f'validset length:{len(hall_label_val)}')\n",
    "print(f'testset length:{len(hall_label_test)}')\n",
    "print(f'trainset postive: {sum(hall_label_wild==1)} negative: {sum(hall_label_wild==0)}')\n",
    "print(\n",
    "    f'testset postive: {sum(hall_label_test==1)} negative: {sum(hall_label_test==0)}')"
   ]
  },
  {
   "cell_type": "code",
   "execution_count": 15,
   "metadata": {},
   "outputs": [
    {
     "data": {
      "text/plain": [
       "(20000, 33, 4096)"
      ]
     },
     "execution_count": 15,
     "metadata": {},
     "output_type": "execute_result"
    }
   ],
   "source": [
    "all_embeddings = embeddings\n",
    "all_embeddings.shape"
   ]
  },
  {
   "cell_type": "code",
   "execution_count": 16,
   "metadata": {},
   "outputs": [],
   "source": [
    "embedding_train = all_embeddings[train_idxs][:, 1:, :]\n",
    "embedding_val = all_embeddings[val_idxs][:, 1:, :]\n",
    "embedding_test = all_embeddings[test_idxs][:, 1:, :]"
   ]
  },
  {
   "cell_type": "code",
   "execution_count": 17,
   "metadata": {},
   "outputs": [],
   "source": [
    "%load_ext autoreload\n",
    "%autoreload 2\n",
    "from ml_utils.grid_search import GridSearch\n",
    "from ml_utils.PCA_discriminator import PCADiscriminator\n",
    "from ml_utils.metrics import auroc,get_best_split_from_scores"
   ]
  },
  {
   "cell_type": "markdown",
   "metadata": {},
   "source": [
    "Grid Search for Best 'n_components' & 'layer'"
   ]
  },
  {
   "cell_type": "code",
   "execution_count": 18,
   "metadata": {},
   "outputs": [],
   "source": [
    "def evaluator(n_components,i_layer,X,y):\n",
    "    discriminator=PCADiscriminator(n_components,X[:,i_layer,:])\n",
    "    scores=discriminator.get_score()\n",
    "    return auroc(scores,y)"
   ]
  },
  {
   "cell_type": "code",
   "execution_count": 19,
   "metadata": {},
   "outputs": [
    {
     "name": "stdout",
     "output_type": "stream",
     "text": [
      "Grid Searching for best n_components,layer\n"
     ]
    },
    {
     "name": "stderr",
     "output_type": "stream",
     "text": [
      "  0%|          | 0/11 [00:00<?, ?it/s]"
     ]
    },
    {
     "name": "stdout",
     "output_type": "stream",
     "text": [
      "found best n_components:1,layer:0 Score: 0.518805664680733\n",
      "found best n_components:1,layer:2 Score: 0.5198983618215088\n"
     ]
    },
    {
     "name": "stdout",
     "output_type": "stream",
     "text": [
      "found best n_components:1,layer:3 Score: 0.5295938808960117\n",
      "found best n_components:1,layer:4 Score: 0.5318313083747431\n",
      "found best n_components:1,layer:5 Score: 0.5343809350365534\n",
      "found best n_components:1,layer:7 Score: 0.5852303769805136\n",
      "found best n_components:1,layer:10 Score: 0.6119103988344564\n",
      "found best n_components:1,layer:13 Score: 0.6683404011759504\n",
      "found best n_components:1,layer:14 Score: 0.8181960090537762\n",
      "found best n_components:1,layer:15 Score: 0.8391393709186461\n"
     ]
    },
    {
     "name": "stderr",
     "output_type": "stream",
     "text": [
      "100%|██████████| 11/11 [00:23<00:00,  2.17s/it]\n"
     ]
    }
   ],
   "source": [
    "# graid search for best hyper-parameters on validation set\n",
    "grid={\n",
    "    'n_components':range(1,12),\n",
    "    'layer':range(embedding_val.shape[1])\n",
    "}\n",
    "grid_search=GridSearch(evaluator,grid,embedding_val,hall_label_val)\n",
    "best_paras=grid_search.search()"
   ]
  },
  {
   "cell_type": "code",
   "execution_count": 20,
   "metadata": {},
   "outputs": [
    {
     "data": {
      "text/plain": [
       "{'n_components': 1, 'layer': 15, 'best_score': np.float64(0.8391393709186461)}"
      ]
     },
     "execution_count": 20,
     "metadata": {},
     "output_type": "execute_result"
    }
   ],
   "source": [
    "best_paras"
   ]
  },
  {
   "cell_type": "code",
   "execution_count": 21,
   "metadata": {},
   "outputs": [],
   "source": [
    "best_layer=best_paras['layer']"
   ]
  },
  {
   "cell_type": "markdown",
   "metadata": {},
   "source": [
    "View Results on Training set and Test set"
   ]
  },
  {
   "cell_type": "code",
   "execution_count": 22,
   "metadata": {},
   "outputs": [],
   "source": [
    "discriminator=PCADiscriminator(best_paras['n_components'],embedding_val[:,best_layer,:])\n",
    "best_split=discriminator.get_best_split(hall_label_val)"
   ]
  },
  {
   "cell_type": "code",
   "execution_count": 23,
   "metadata": {},
   "outputs": [
    {
     "name": "stdout",
     "output_type": "stream",
     "text": [
      "train set acc: 0.8755333333333334 AUROC:0.8524999157709654\n"
     ]
    }
   ],
   "source": [
    "discriminator=PCADiscriminator(best_paras['n_components'],embedding_train[:,best_layer,:])\n",
    "scores=discriminator.get_score()\n",
    "y_train=(scores>best_split)\n",
    "print(f'train set acc: {accuracy_score(hall_label_wild,y_train)} AUROC:{roc_auc_score(hall_label_wild,scores)}')"
   ]
  },
  {
   "cell_type": "code",
   "execution_count": 24,
   "metadata": {},
   "outputs": [
    {
     "name": "stdout",
     "output_type": "stream",
     "text": [
      "test set acc: 0.865 AUROC:0.8602835971007319\n"
     ]
    }
   ],
   "source": [
    "discriminator=PCADiscriminator(best_paras['n_components'],embedding_test[:,best_layer,:])\n",
    "scores=discriminator.get_score()\n",
    "preds=(scores>best_split)\n",
    "print(f'test set acc: {accuracy_score(hall_label_test,preds)} AUROC:{roc_auc_score(hall_label_test,scores)}')"
   ]
  },
  {
   "cell_type": "markdown",
   "metadata": {},
   "source": [
    "Train Linear Prob to Get Better Results"
   ]
  },
  {
   "cell_type": "code",
   "execution_count": 25,
   "metadata": {},
   "outputs": [],
   "source": [
    "X_train=embedding_train[:, best_layer,:]\n",
    "y_train=y_train\n",
    "\n",
    "X_test=embedding_test[:, best_layer,:]\n",
    "y_test=hall_label_test"
   ]
  },
  {
   "cell_type": "code",
   "execution_count": 26,
   "metadata": {},
   "outputs": [],
   "source": [
    "best_acc, final_acc, (\n",
    "            clf, best_state, best_preds, preds, labels_val), losses_train = get_linear_acc(\n",
    "            X_train,\n",
    "            y_train,\n",
    "           X_train,\n",
    "            y_train,\n",
    "            2, epochs=50,\n",
    "            print_ret=True,\n",
    "            batch_size=512,\n",
    "            cosine=True,\n",
    "            nonlinear=True,\n",
    "            learning_rate=0.05,\n",
    "            weight_decay=0.0003)"
   ]
  },
  {
   "cell_type": "code",
   "execution_count": 27,
   "metadata": {},
   "outputs": [
    {
     "name": "stdout",
     "output_type": "stream",
     "text": [
      "test set acc: 0.87625 AUROC:0.7811235095414049\n"
     ]
    }
   ],
   "source": [
    "clf.eval()\n",
    "output = clf(torch.from_numpy(X_test).to(torch.float32).cuda())\n",
    "scores_test = torch.sigmoid(output).cpu().data.numpy()\n",
    "pred_test=scores_test>0.5\n",
    "print(f'test set acc: {accuracy_score(y_test,pred_test)} AUROC:{roc_auc_score(y_test,scores_test)}')"
   ]
  }
 ],
 "metadata": {
  "kernelspec": {
   "display_name": "dl3.9",
   "language": "python",
   "name": "python3"
  },
  "language_info": {
   "codemirror_mode": {
    "name": "ipython",
    "version": 3
   },
   "file_extension": ".py",
   "mimetype": "text/x-python",
   "name": "python",
   "nbconvert_exporter": "python",
   "pygments_lexer": "ipython3",
   "version": "3.9.20"
  }
 },
 "nbformat": 4,
 "nbformat_minor": 2
}
