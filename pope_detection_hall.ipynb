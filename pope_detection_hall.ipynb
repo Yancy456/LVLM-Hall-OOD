{
 "cells": [
  {
   "cell_type": "code",
   "execution_count": 1,
   "metadata": {},
   "outputs": [],
   "source": [
    "import os\n",
    "import torch\n",
    "import numpy as np\n",
    "from glob import glob\n",
    "from tqdm.notebook import tqdm\n",
    "from sklearn.linear_model import LogisticRegression\n",
    "import pandas as pd\n",
    "from utils.store_data import ReadData\n",
    "import numpy as np\n",
    "import torch\n",
    "from utils.arguments import Arguments\n",
    "from tqdm import tqdm\n",
    "from sklearn.decomposition import PCA\n",
    "from linear_probe import get_linear_acc\n",
    "import random\n",
    "import os\n",
    "from sklearn.metrics import roc_auc_score,accuracy_score,roc_curve"
   ]
  },
  {
   "cell_type": "code",
   "execution_count": 2,
   "metadata": {},
   "outputs": [],
   "source": [
    "data_reader=ReadData('/root/autodl-tmp/hallscope/pope/popular/train')\n",
    "data=data_reader.read_all()\n",
    "random.shuffle(data)"
   ]
  },
  {
   "cell_type": "code",
   "execution_count": 3,
   "metadata": {},
   "outputs": [],
   "source": [
    "df=pd.DataFrame(data)"
   ]
  },
  {
   "cell_type": "code",
   "execution_count": 4,
   "metadata": {},
   "outputs": [
    {
     "data": {
      "text/html": [
       "<div>\n",
       "<style scoped>\n",
       "    .dataframe tbody tr th:only-of-type {\n",
       "        vertical-align: middle;\n",
       "    }\n",
       "\n",
       "    .dataframe tbody tr th {\n",
       "        vertical-align: top;\n",
       "    }\n",
       "\n",
       "    .dataframe thead th {\n",
       "        text-align: right;\n",
       "    }\n",
       "</style>\n",
       "<table border=\"1\" class=\"dataframe\">\n",
       "  <thead>\n",
       "    <tr style=\"text-align: right;\">\n",
       "      <th></th>\n",
       "      <th>img_path</th>\n",
       "      <th>question</th>\n",
       "      <th>label</th>\n",
       "      <th>question_id</th>\n",
       "      <th>category</th>\n",
       "      <th>most_likely</th>\n",
       "      <th>responses</th>\n",
       "    </tr>\n",
       "  </thead>\n",
       "  <tbody>\n",
       "    <tr>\n",
       "      <th>0</th>\n",
       "      <td>[/root/autodl-fs/coco_images/train/COCO_train2...</td>\n",
       "      <td>[Is there a person in the image?\\nAnswer the q...</td>\n",
       "      <td>[tensor(1), tensor(0), tensor(1), tensor(0), t...</td>\n",
       "      <td>[tensor(989), tensor(990), tensor(991), tensor...</td>\n",
       "      <td>[popular, popular, popular, popular, popular, ...</td>\n",
       "      <td>{'embedding': [[[ 0.00389099  0.00149536  0.00...</td>\n",
       "      <td>None</td>\n",
       "    </tr>\n",
       "    <tr>\n",
       "      <th>1</th>\n",
       "      <td>[/root/autodl-fs/coco_images/train/COCO_train2...</td>\n",
       "      <td>[Is there a dining table in the image?\\nAnswer...</td>\n",
       "      <td>[tensor(1), tensor(0), tensor(1), tensor(0), t...</td>\n",
       "      <td>[tensor(1373), tensor(1374), tensor(1375), ten...</td>\n",
       "      <td>[popular, popular, popular, popular, popular, ...</td>\n",
       "      <td>{'embedding': [[[ 0.00389099  0.00149536  0.00...</td>\n",
       "      <td>None</td>\n",
       "    </tr>\n",
       "    <tr>\n",
       "      <th>2</th>\n",
       "      <td>[/root/autodl-fs/coco_images/train/COCO_train2...</td>\n",
       "      <td>[Is there a person in the image?\\nAnswer the q...</td>\n",
       "      <td>[tensor(1), tensor(0), tensor(1), tensor(0), t...</td>\n",
       "      <td>[tensor(6619), tensor(6620), tensor(6621), ten...</td>\n",
       "      <td>[popular, popular, popular, popular, popular, ...</td>\n",
       "      <td>{'embedding': [[[ 0.00389099  0.00149536  0.00...</td>\n",
       "      <td>None</td>\n",
       "    </tr>\n",
       "    <tr>\n",
       "      <th>3</th>\n",
       "      <td>[/root/autodl-fs/coco_images/train/COCO_train2...</td>\n",
       "      <td>[Is there a chair in the image?\\nAnswer the qu...</td>\n",
       "      <td>[tensor(1), tensor(0), tensor(1), tensor(0), t...</td>\n",
       "      <td>[tensor(1303), tensor(1304), tensor(1305), ten...</td>\n",
       "      <td>[popular, popular, popular, popular, popular, ...</td>\n",
       "      <td>{'embedding': [[[ 0.00389099  0.00149536  0.00...</td>\n",
       "      <td>None</td>\n",
       "    </tr>\n",
       "    <tr>\n",
       "      <th>4</th>\n",
       "      <td>[/root/autodl-fs/coco_images/train/COCO_train2...</td>\n",
       "      <td>[Is there a refrigerator in the image?\\nAnswer...</td>\n",
       "      <td>[tensor(1), tensor(0), tensor(1), tensor(0), t...</td>\n",
       "      <td>[tensor(3787), tensor(3788), tensor(3789), ten...</td>\n",
       "      <td>[popular, popular, popular, popular, popular, ...</td>\n",
       "      <td>{'embedding': [[[ 0.00389099  0.00149536  0.00...</td>\n",
       "      <td>None</td>\n",
       "    </tr>\n",
       "  </tbody>\n",
       "</table>\n",
       "</div>"
      ],
      "text/plain": [
       "                                            img_path  \\\n",
       "0  [/root/autodl-fs/coco_images/train/COCO_train2...   \n",
       "1  [/root/autodl-fs/coco_images/train/COCO_train2...   \n",
       "2  [/root/autodl-fs/coco_images/train/COCO_train2...   \n",
       "3  [/root/autodl-fs/coco_images/train/COCO_train2...   \n",
       "4  [/root/autodl-fs/coco_images/train/COCO_train2...   \n",
       "\n",
       "                                            question  \\\n",
       "0  [Is there a person in the image?\\nAnswer the q...   \n",
       "1  [Is there a dining table in the image?\\nAnswer...   \n",
       "2  [Is there a person in the image?\\nAnswer the q...   \n",
       "3  [Is there a chair in the image?\\nAnswer the qu...   \n",
       "4  [Is there a refrigerator in the image?\\nAnswer...   \n",
       "\n",
       "                                               label  \\\n",
       "0  [tensor(1), tensor(0), tensor(1), tensor(0), t...   \n",
       "1  [tensor(1), tensor(0), tensor(1), tensor(0), t...   \n",
       "2  [tensor(1), tensor(0), tensor(1), tensor(0), t...   \n",
       "3  [tensor(1), tensor(0), tensor(1), tensor(0), t...   \n",
       "4  [tensor(1), tensor(0), tensor(1), tensor(0), t...   \n",
       "\n",
       "                                         question_id  \\\n",
       "0  [tensor(989), tensor(990), tensor(991), tensor...   \n",
       "1  [tensor(1373), tensor(1374), tensor(1375), ten...   \n",
       "2  [tensor(6619), tensor(6620), tensor(6621), ten...   \n",
       "3  [tensor(1303), tensor(1304), tensor(1305), ten...   \n",
       "4  [tensor(3787), tensor(3788), tensor(3789), ten...   \n",
       "\n",
       "                                            category  \\\n",
       "0  [popular, popular, popular, popular, popular, ...   \n",
       "1  [popular, popular, popular, popular, popular, ...   \n",
       "2  [popular, popular, popular, popular, popular, ...   \n",
       "3  [popular, popular, popular, popular, popular, ...   \n",
       "4  [popular, popular, popular, popular, popular, ...   \n",
       "\n",
       "                                         most_likely responses  \n",
       "0  {'embedding': [[[ 0.00389099  0.00149536  0.00...      None  \n",
       "1  {'embedding': [[[ 0.00389099  0.00149536  0.00...      None  \n",
       "2  {'embedding': [[[ 0.00389099  0.00149536  0.00...      None  \n",
       "3  {'embedding': [[[ 0.00389099  0.00149536  0.00...      None  \n",
       "4  {'embedding': [[[ 0.00389099  0.00149536  0.00...      None  "
      ]
     },
     "execution_count": 4,
     "metadata": {},
     "output_type": "execute_result"
    }
   ],
   "source": [
    "df.head()"
   ]
  },
  {
   "cell_type": "code",
   "execution_count": 5,
   "metadata": {},
   "outputs": [],
   "source": [
    "embeddings=df['most_likely'].apply(lambda x: x['embedding']).to_list()"
   ]
  },
  {
   "cell_type": "code",
   "execution_count": 6,
   "metadata": {},
   "outputs": [],
   "source": [
    "embeddings=np.concatenate(embeddings,axis=0)"
   ]
  },
  {
   "cell_type": "code",
   "execution_count": 7,
   "metadata": {},
   "outputs": [
    {
     "data": {
      "text/plain": [
       "(13624, 33, 4096)"
      ]
     },
     "execution_count": 7,
     "metadata": {},
     "output_type": "execute_result"
    }
   ],
   "source": [
    "embeddings.shape"
   ]
  },
  {
   "cell_type": "code",
   "execution_count": 8,
   "metadata": {},
   "outputs": [],
   "source": [
    "gt_label=df['label'].to_list()\n",
    "gt_label=np.concatenate(gt_label,axis=0)"
   ]
  },
  {
   "cell_type": "code",
   "execution_count": 9,
   "metadata": {},
   "outputs": [
    {
     "data": {
      "text/plain": [
       "(13624,)"
      ]
     },
     "execution_count": 9,
     "metadata": {},
     "output_type": "execute_result"
    }
   ],
   "source": [
    "gt_label.shape"
   ]
  },
  {
   "cell_type": "code",
   "execution_count": 10,
   "metadata": {},
   "outputs": [],
   "source": [
    "responses=df['most_likely'].apply(lambda x: x['response']).to_list()\n",
    "resps=[]\n",
    "for x in responses:\n",
    "    resps+=x"
   ]
  },
  {
   "cell_type": "code",
   "execution_count": 11,
   "metadata": {},
   "outputs": [],
   "source": [
    "is_correct=[]\n",
    "for i,x in enumerate(resps):\n",
    "    if x.lower()=='no' and gt_label[i]==0:\n",
    "        is_correct.append(1)\n",
    "    elif x.lower()=='yes' and gt_label[i]==1:\n",
    "        is_correct.append(1)\n",
    "    else:\n",
    "        is_correct.append(0)\n",
    "is_correct=np.array(is_correct)"
   ]
  },
  {
   "cell_type": "code",
   "execution_count": 12,
   "metadata": {},
   "outputs": [
    {
     "data": {
      "text/plain": [
       "(13624,)"
      ]
     },
     "execution_count": 12,
     "metadata": {},
     "output_type": "execute_result"
    }
   ],
   "source": [
    "is_correct.shape"
   ]
  },
  {
   "cell_type": "code",
   "execution_count": 13,
   "metadata": {},
   "outputs": [
    {
     "name": "stdout",
     "output_type": "stream",
     "text": [
      "There are 13624 responses. 11850 answer correctly and 1774 answer wrongly\n"
     ]
    }
   ],
   "source": [
    "print(f'There are {len(is_correct)} responses. {sum(is_correct==1)} answer correctly and {sum(is_correct==0)} answer wrongly')"
   ]
  },
  {
   "cell_type": "code",
   "execution_count": 14,
   "metadata": {},
   "outputs": [
    {
     "name": "stdout",
     "output_type": "stream",
     "text": [
      "trainset length:9899\n",
      "validset length:1000\n",
      "testset length:2725\n",
      "trainset postive: 8613 negative: 1286\n",
      "valset postive: 869 negative: 131\n",
      "testset postive: 2368 negative: 357\n"
     ]
    }
   ],
   "source": [
    "length=len(is_correct)\n",
    "train_rate=0.8\n",
    "\n",
    "all_indices = np.random.permutation(length)\n",
    "train_val_idxs = all_indices[:int(\n",
    "    train_rate * length)]  # trainset and validation index\n",
    "\n",
    "test_idxs=all_indices[int(\n",
    "    train_rate * length):]  #test index\n",
    "\n",
    "validset_len = 1000\n",
    "# exclude validation samples.\n",
    "train_idxs = train_val_idxs[:len(\n",
    "    train_val_idxs) - validset_len]  # trainset index\n",
    "val_idxs = train_val_idxs[len(\n",
    "    train_val_idxs) - validset_len:]  # validation index\n",
    "hall_label_test = []\n",
    "hall_label_wild = []\n",
    "hall_label_val = []\n",
    "\n",
    "'''get testset, wildset and valset. The valset is used for determining the hype-parameters'''\n",
    "hall_label_test = is_correct[test_idxs]\n",
    "hall_label_wild = is_correct[train_idxs]\n",
    "hall_label_val = is_correct[val_idxs]\n",
    "\n",
    "print(f'trainset length:{len(hall_label_wild)}')\n",
    "print(f'validset length:{len(hall_label_val)}')\n",
    "print(f'testset length:{len(hall_label_test)}')\n",
    "print(f'trainset postive: {sum(hall_label_wild==1)} negative: {sum(hall_label_wild==0)}')\n",
    "print(f'valset postive: {sum(hall_label_val==1)} negative: {sum(hall_label_val==0)}')\n",
    "print(\n",
    "    f'testset postive: {sum(hall_label_test==1)} negative: {sum(hall_label_test==0)}')"
   ]
  },
  {
   "cell_type": "code",
   "execution_count": 15,
   "metadata": {},
   "outputs": [
    {
     "data": {
      "text/plain": [
       "(13624, 33, 4096)"
      ]
     },
     "execution_count": 15,
     "metadata": {},
     "output_type": "execute_result"
    }
   ],
   "source": [
    "all_embeddings = embeddings\n",
    "all_embeddings.shape"
   ]
  },
  {
   "cell_type": "code",
   "execution_count": 16,
   "metadata": {},
   "outputs": [],
   "source": [
    "embedding_train = all_embeddings[train_idxs]\n",
    "embedding_val = all_embeddings[val_idxs]\n",
    "embedding_test = all_embeddings[test_idxs]"
   ]
  },
  {
   "cell_type": "code",
   "execution_count": 17,
   "metadata": {},
   "outputs": [],
   "source": [
    "%load_ext autoreload\n",
    "%autoreload 2\n",
    "from ml_utils.grid_search import GridSearch\n",
    "from ml_utils.PCA_discriminator import PCADiscriminator\n",
    "from ml_utils.metrics import auroc,get_best_split_from_scores"
   ]
  },
  {
   "cell_type": "markdown",
   "metadata": {},
   "source": [
    "Grid Search for Best 'n_components' & 'layer'"
   ]
  },
  {
   "cell_type": "code",
   "execution_count": 18,
   "metadata": {},
   "outputs": [],
   "source": [
    "def evaluator(n_components,i_layer,X,y):\n",
    "    discriminator=PCADiscriminator(n_components,X[:,i_layer,:])\n",
    "    scores=discriminator.get_score()\n",
    "    return auroc(scores,y)"
   ]
  },
  {
   "cell_type": "code",
   "execution_count": null,
   "metadata": {},
   "outputs": [
    {
     "name": "stdout",
     "output_type": "stream",
     "text": [
      "Grid Searching for best n_components,layer\n"
     ]
    },
    {
     "data": {
      "application/vnd.jupyter.widget-view+json": {
       "model_id": "87099a1e3d5a4b9bbd96ef580379ffa2",
       "version_major": 2,
       "version_minor": 0
      },
      "text/plain": [
       "  0%|          | 0/11 [00:00<?, ?it/s]"
      ]
     },
     "metadata": {},
     "output_type": "display_data"
    },
    {
     "data": {
      "application/vnd.jupyter.widget-view+json": {
       "model_id": "28abe96efb0f4b5b88b683cae8750ef6",
       "version_major": 2,
       "version_minor": 0
      },
      "text/plain": [
       "  0%|          | 0/33 [00:00<?, ?it/s]"
      ]
     },
     "metadata": {},
     "output_type": "display_data"
    },
    {
     "name": "stderr",
     "output_type": "stream",
     "text": [
      "/root/miniconda3/envs/dl3.9/lib/python3.9/site-packages/sklearn/decomposition/_pca.py:794: RuntimeWarning: invalid value encountered in divide\n",
      "  self.explained_variance_ratio_ = self.explained_variance_ / total_var\n"
     ]
    },
    {
     "name": "stdout",
     "output_type": "stream",
     "text": [
      "found best n_components:1,layer:0 Score: 0.5\n",
      "found best n_components:1,layer:2 Score: 0.5112219889493056\n",
      "found best n_components:1,layer:3 Score: 0.5509623239838719\n",
      "found best n_components:1,layer:8 Score: 0.6283347534676166\n",
      "found best n_components:1,layer:15 Score: 0.8066831226556804\n",
      "found best n_components:1,layer:16 Score: 0.8676464129164873\n",
      "found best n_components:1,layer:17 Score: 0.872846739693778\n"
     ]
    },
    {
     "data": {
      "application/vnd.jupyter.widget-view+json": {
       "model_id": "15dd329e6b8f4decb51852a616b36c1d",
       "version_major": 2,
       "version_minor": 0
      },
      "text/plain": [
       "  0%|          | 0/33 [00:00<?, ?it/s]"
      ]
     },
     "metadata": {},
     "output_type": "display_data"
    },
    {
     "name": "stderr",
     "output_type": "stream",
     "text": [
      "/root/miniconda3/envs/dl3.9/lib/python3.9/site-packages/sklearn/decomposition/_pca.py:794: RuntimeWarning: invalid value encountered in divide\n",
      "  self.explained_variance_ratio_ = self.explained_variance_ / total_var\n"
     ]
    },
    {
     "name": "stdout",
     "output_type": "stream",
     "text": [
      "found best n_components:2,layer:16 Score: 0.8739272129937895\n",
      "found best n_components:2,layer:17 Score: 0.8807087202101213\n"
     ]
    },
    {
     "data": {
      "application/vnd.jupyter.widget-view+json": {
       "model_id": "703e21ef0af94338a952c6c7615d10ca",
       "version_major": 2,
       "version_minor": 0
      },
      "text/plain": [
       "  0%|          | 0/33 [00:00<?, ?it/s]"
      ]
     },
     "metadata": {},
     "output_type": "display_data"
    },
    {
     "name": "stderr",
     "output_type": "stream",
     "text": [
      "/root/miniconda3/envs/dl3.9/lib/python3.9/site-packages/sklearn/decomposition/_pca.py:794: RuntimeWarning: invalid value encountered in divide\n",
      "  self.explained_variance_ratio_ = self.explained_variance_ / total_var\n"
     ]
    },
    {
     "name": "stdout",
     "output_type": "stream",
     "text": [
      "found best n_components:3,layer:17 Score: 0.8808317009109358\n"
     ]
    }
   ],
   "source": [
    "# graid search for best hyper-parameters on validation set\n",
    "grid={\n",
    "    'n_components':range(1,12),\n",
    "    'layer':range(embedding_val.shape[1])\n",
    "}\n",
    "grid_search=GridSearch(evaluator,grid,embedding_val,hall_label_val)\n",
    "best_paras=grid_search.search()"
   ]
  },
  {
   "cell_type": "code",
   "execution_count": 21,
   "metadata": {},
   "outputs": [
    {
     "data": {
      "text/plain": [
       "{'n_components': 1, 'layer': 17, 'best_score': np.float64(0.8505257424959812)}"
      ]
     },
     "execution_count": 21,
     "metadata": {},
     "output_type": "execute_result"
    }
   ],
   "source": [
    "best_paras"
   ]
  },
  {
   "cell_type": "code",
   "execution_count": 22,
   "metadata": {},
   "outputs": [],
   "source": [
    "best_layer=best_paras['layer']"
   ]
  },
  {
   "cell_type": "markdown",
   "metadata": {},
   "source": [
    "View Results on Training set and Test set"
   ]
  },
  {
   "cell_type": "code",
   "execution_count": 23,
   "metadata": {},
   "outputs": [],
   "source": [
    "discriminator=PCADiscriminator(best_paras['n_components'],embedding_val[:,best_layer,:])\n",
    "best_split=discriminator.get_best_split(hall_label_val)"
   ]
  },
  {
   "cell_type": "code",
   "execution_count": 24,
   "metadata": {},
   "outputs": [
    {
     "name": "stdout",
     "output_type": "stream",
     "text": [
      "train set acc: 0.8650368724113546 AUROC:0.8585901918720695\n"
     ]
    }
   ],
   "source": [
    "discriminator=PCADiscriminator(best_paras['n_components'],embedding_train[:,best_layer,:])\n",
    "scores=discriminator.get_score()\n",
    "y_train=(scores>best_split)\n",
    "print(f'train set acc: {accuracy_score(hall_label_wild,y_train)} AUROC:{roc_auc_score(hall_label_wild,scores)}')"
   ]
  },
  {
   "cell_type": "code",
   "execution_count": 25,
   "metadata": {},
   "outputs": [
    {
     "name": "stdout",
     "output_type": "stream",
     "text": [
      "test set acc: 0.845137614678899 AUROC:0.8566851646318905\n"
     ]
    }
   ],
   "source": [
    "discriminator=PCADiscriminator(best_paras['n_components'],embedding_test[:,best_layer,:])\n",
    "scores=discriminator.get_score()\n",
    "preds=(scores>best_split)\n",
    "print(f'test set acc: {accuracy_score(hall_label_test,preds)} AUROC:{roc_auc_score(hall_label_test,scores)}')"
   ]
  },
  {
   "cell_type": "markdown",
   "metadata": {},
   "source": [
    "Train Linear Prob to Get Better Results"
   ]
  },
  {
   "cell_type": "code",
   "execution_count": 26,
   "metadata": {},
   "outputs": [],
   "source": [
    "X_train=embedding_train[:, best_layer,:]\n",
    "y_train=y_train\n",
    "\n",
    "X_test=embedding_test[:, best_layer,:]\n",
    "y_test=hall_label_test"
   ]
  },
  {
   "cell_type": "code",
   "execution_count": 27,
   "metadata": {},
   "outputs": [],
   "source": [
    "best_acc, final_acc, (\n",
    "            clf, best_state, best_preds, preds, labels_val), losses_train = get_linear_acc(\n",
    "            X_train,\n",
    "            y_train,\n",
    "           X_train,\n",
    "            y_train,\n",
    "            2, epochs=50,\n",
    "            print_ret=True,\n",
    "            batch_size=512,\n",
    "            cosine=True,\n",
    "            nonlinear=True,\n",
    "            learning_rate=0.05,\n",
    "            weight_decay=0.0003)"
   ]
  },
  {
   "cell_type": "code",
   "execution_count": 28,
   "metadata": {},
   "outputs": [
    {
     "name": "stdout",
     "output_type": "stream",
     "text": [
      "test set acc: 0.8755963302752293 AUROC:0.7877685287951659\n"
     ]
    }
   ],
   "source": [
    "clf.eval()\n",
    "output = clf(torch.from_numpy(X_test).to(torch.float32).cuda())\n",
    "scores_test = torch.sigmoid(output).cpu().data.numpy()\n",
    "pred_test=scores_test>0.5\n",
    "print(f'test set acc: {accuracy_score(y_test,pred_test)} AUROC:{roc_auc_score(y_test,scores_test)}')"
   ]
  }
 ],
 "metadata": {
  "kernelspec": {
   "display_name": "dl3.9",
   "language": "python",
   "name": "python3"
  },
  "language_info": {
   "codemirror_mode": {
    "name": "ipython",
    "version": 3
   },
   "file_extension": ".py",
   "mimetype": "text/x-python",
   "name": "python",
   "nbconvert_exporter": "python",
   "pygments_lexer": "ipython3",
   "version": "3.9.20"
  }
 },
 "nbformat": 4,
 "nbformat_minor": 2
}
