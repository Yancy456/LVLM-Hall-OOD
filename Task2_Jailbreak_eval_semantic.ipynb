{
 "cells": [
  {
   "cell_type": "code",
   "execution_count": 5,
   "id": "468997cf",
   "metadata": {},
   "outputs": [
    {
     "ename": "IndexError",
     "evalue": "list index out of range",
     "output_type": "error",
     "traceback": [
      "\u001b[0;31m---------------------------------------------------------------------------\u001b[0m",
      "\u001b[0;31mIndexError\u001b[0m                                Traceback (most recent call last)",
      "Cell \u001b[0;32mIn[5], line 16\u001b[0m\n\u001b[1;32m     14\u001b[0m data_reader\u001b[38;5;241m=\u001b[39mReadData(\u001b[38;5;124m'\u001b[39m\u001b[38;5;124m./output/save_for_eval_linear\u001b[39m\u001b[38;5;124m'\u001b[39m)\n\u001b[1;32m     15\u001b[0m data\u001b[38;5;241m=\u001b[39mdata_reader\u001b[38;5;241m.\u001b[39mread_all()\n\u001b[0;32m---> 16\u001b[0m \u001b[38;5;28mprint\u001b[39m(\u001b[43mdata\u001b[49m\u001b[43m[\u001b[49m\u001b[38;5;241;43m0\u001b[39;49m\u001b[43m]\u001b[49m)\n",
      "\u001b[0;31mIndexError\u001b[0m: list index out of range"
     ]
    }
   ],
   "source": [
    "import os\n",
    "import json\n",
    "import torch\n",
    "\n",
    "import numpy as np\n",
    "from tqdm.auto import trange\n",
    "from sklearn.linear_model import LogisticRegression\n",
    "from utils.metric import evaluate, eval_safety\n",
    "from utils.func import read_jsonl, softmax\n",
    "from utils.store_data import ReadData\n",
    "\n",
    "model_name = \"LLaVA-7B\"\n",
    "prompt = 'mq'\n",
    "data_reader=ReadData('./output/save_for_eval_linear')\n",
    "data=data_reader.read_all()\n",
    "print(data[0])"
   ]
  }
 ],
 "metadata": {
  "kernelspec": {
   "display_name": "tf4.31",
   "language": "python",
   "name": "python3"
  },
  "language_info": {
   "codemirror_mode": {
    "name": "ipython",
    "version": 3
   },
   "file_extension": ".py",
   "mimetype": "text/x-python",
   "name": "python",
   "nbconvert_exporter": "python",
   "pygments_lexer": "ipython3",
   "version": "3.10.15"
  }
 },
 "nbformat": 4,
 "nbformat_minor": 5
}
