{
 "cells": [
  {
   "cell_type": "code",
   "execution_count": 1,
   "metadata": {},
   "outputs": [],
   "source": [
    "%load_ext autoreload\n",
    "%autoreload 2\n",
    "import os\n",
    "import torch\n",
    "import numpy as np\n",
    "from glob import glob\n",
    "from tqdm.auto import tqdm\n",
    "from sklearn.linear_model import LogisticRegression\n",
    "import pandas as pd\n",
    "from utils.store_data import ReadData\n",
    "import numpy as np\n",
    "import torch\n",
    "from utils.arguments import Arguments\n",
    "from tqdm import tqdm\n",
    "from sklearn.decomposition import PCA\n",
    "from linear_probe import get_linear_acc\n",
    "import random\n",
    "import os\n",
    "from sklearn.metrics import roc_auc_score,accuracy_score,roc_curve,f1_score\n",
    "from ml_utils.metrics import aur_pr\n",
    "from answer_judge import load_judge"
   ]
  },
  {
   "cell_type": "code",
   "execution_count": 2,
   "metadata": {},
   "outputs": [],
   "source": [
    "data_train=ReadData('/root/autodl-tmp/hallscope/AOKVQA/train').read_all()\n",
    "random.shuffle(data_train)\n",
    "#data_val=ReadData('/root/autodl-fs/hallscope/ScienceQA/val').read_all()\n",
    "#data_test=ReadData('/root/autodl-fs/hallscope/ScienceQA/test').read_all()"
   ]
  },
  {
   "cell_type": "code",
   "execution_count": 3,
   "metadata": {},
   "outputs": [],
   "source": [
    "df_train=pd.DataFrame(data_train)\n",
    "#df_val=pd.DataFrame(data_val)\n",
    "#df_test=pd.DataFrame(data_test)"
   ]
  },
  {
   "cell_type": "code",
   "execution_count": 4,
   "metadata": {},
   "outputs": [
    {
     "data": {
      "text/html": [
       "<div>\n",
       "<style scoped>\n",
       "    .dataframe tbody tr th:only-of-type {\n",
       "        vertical-align: middle;\n",
       "    }\n",
       "\n",
       "    .dataframe tbody tr th {\n",
       "        vertical-align: top;\n",
       "    }\n",
       "\n",
       "    .dataframe thead th {\n",
       "        text-align: right;\n",
       "    }\n",
       "</style>\n",
       "<table border=\"1\" class=\"dataframe\">\n",
       "  <thead>\n",
       "    <tr style=\"text-align: right;\">\n",
       "      <th></th>\n",
       "      <th>img_path</th>\n",
       "      <th>question</th>\n",
       "      <th>answer</th>\n",
       "      <th>most_likely</th>\n",
       "      <th>responses</th>\n",
       "    </tr>\n",
       "  </thead>\n",
       "  <tbody>\n",
       "    <tr>\n",
       "      <th>0</th>\n",
       "      <td>[/root/autodl-tmp/coco2017/train2017/000000079...</td>\n",
       "      <td>[Question:What is the best climate for these f...</td>\n",
       "      <td>[tensor(3), tensor(1), tensor(3), tensor(0), t...</td>\n",
       "      <td>{'embedding': [[[-0.02514648  0.01312256  0.00...</td>\n",
       "      <td>None</td>\n",
       "    </tr>\n",
       "    <tr>\n",
       "      <th>1</th>\n",
       "      <td>[/root/autodl-tmp/coco2017/train2017/000000456...</td>\n",
       "      <td>[Question:What type of area is this event taki...</td>\n",
       "      <td>[tensor(1), tensor(3), tensor(3), tensor(0), t...</td>\n",
       "      <td>{'embedding': [[[ 7.2813034e-04  6.3419342e-04...</td>\n",
       "      <td>None</td>\n",
       "    </tr>\n",
       "    <tr>\n",
       "      <th>2</th>\n",
       "      <td>[/root/autodl-tmp/coco2017/train2017/000000398...</td>\n",
       "      <td>[Question:How is the zebra decorated?\\nAnswer ...</td>\n",
       "      <td>[tensor(0), tensor(0), tensor(3), tensor(3), t...</td>\n",
       "      <td>{'embedding': [[[ 0.00479126  0.00378418 -0.00...</td>\n",
       "      <td>None</td>\n",
       "    </tr>\n",
       "    <tr>\n",
       "      <th>3</th>\n",
       "      <td>[/root/autodl-tmp/coco2017/train2017/000000042...</td>\n",
       "      <td>[Question:How many cows are evidently in the p...</td>\n",
       "      <td>[tensor(2), tensor(1), tensor(1), tensor(0), t...</td>\n",
       "      <td>{'embedding': [[[ 7.2813034e-04  6.3419342e-04...</td>\n",
       "      <td>None</td>\n",
       "    </tr>\n",
       "    <tr>\n",
       "      <th>4</th>\n",
       "      <td>[/root/autodl-tmp/coco2017/train2017/000000488...</td>\n",
       "      <td>[Question:What are the rugs for?\\nAnswer the Q...</td>\n",
       "      <td>[tensor(2), tensor(1), tensor(0), tensor(2), t...</td>\n",
       "      <td>{'embedding': [[[ 7.2813034e-04  6.3419342e-04...</td>\n",
       "      <td>None</td>\n",
       "    </tr>\n",
       "  </tbody>\n",
       "</table>\n",
       "</div>"
      ],
      "text/plain": [
       "                                            img_path  \\\n",
       "0  [/root/autodl-tmp/coco2017/train2017/000000079...   \n",
       "1  [/root/autodl-tmp/coco2017/train2017/000000456...   \n",
       "2  [/root/autodl-tmp/coco2017/train2017/000000398...   \n",
       "3  [/root/autodl-tmp/coco2017/train2017/000000042...   \n",
       "4  [/root/autodl-tmp/coco2017/train2017/000000488...   \n",
       "\n",
       "                                            question  \\\n",
       "0  [Question:What is the best climate for these f...   \n",
       "1  [Question:What type of area is this event taki...   \n",
       "2  [Question:How is the zebra decorated?\\nAnswer ...   \n",
       "3  [Question:How many cows are evidently in the p...   \n",
       "4  [Question:What are the rugs for?\\nAnswer the Q...   \n",
       "\n",
       "                                              answer  \\\n",
       "0  [tensor(3), tensor(1), tensor(3), tensor(0), t...   \n",
       "1  [tensor(1), tensor(3), tensor(3), tensor(0), t...   \n",
       "2  [tensor(0), tensor(0), tensor(3), tensor(3), t...   \n",
       "3  [tensor(2), tensor(1), tensor(1), tensor(0), t...   \n",
       "4  [tensor(2), tensor(1), tensor(0), tensor(2), t...   \n",
       "\n",
       "                                         most_likely responses  \n",
       "0  {'embedding': [[[-0.02514648  0.01312256  0.00...      None  \n",
       "1  {'embedding': [[[ 7.2813034e-04  6.3419342e-04...      None  \n",
       "2  {'embedding': [[[ 0.00479126  0.00378418 -0.00...      None  \n",
       "3  {'embedding': [[[ 7.2813034e-04  6.3419342e-04...      None  \n",
       "4  {'embedding': [[[ 7.2813034e-04  6.3419342e-04...      None  "
      ]
     },
     "execution_count": 4,
     "metadata": {},
     "output_type": "execute_result"
    }
   ],
   "source": [
    "df_train.head()"
   ]
  },
  {
   "cell_type": "code",
   "execution_count": 5,
   "metadata": {},
   "outputs": [
    {
     "data": {
      "text/plain": [
       "['D.tropical', 'A', 'D', 'A.porch swing', 'D', 'B.bus depot', 'A.camp', 'D']"
      ]
     },
     "execution_count": 5,
     "metadata": {},
     "output_type": "execute_result"
    }
   ],
   "source": [
    "i=0\n",
    "df_train.iloc[i]['most_likely']['response']"
   ]
  },
  {
   "cell_type": "code",
   "execution_count": 6,
   "metadata": {},
   "outputs": [
    {
     "data": {
      "text/plain": [
       "['/root/autodl-tmp/coco2017/train2017/000000079992.jpg',\n",
       " '/root/autodl-tmp/coco2017/train2017/000000548485.jpg',\n",
       " '/root/autodl-tmp/coco2017/train2017/000000246686.jpg',\n",
       " '/root/autodl-tmp/coco2017/train2017/000000175142.jpg',\n",
       " '/root/autodl-tmp/coco2017/train2017/000000147442.jpg',\n",
       " '/root/autodl-tmp/coco2017/train2017/000000334675.jpg',\n",
       " '/root/autodl-tmp/coco2017/train2017/000000398772.jpg',\n",
       " '/root/autodl-tmp/coco2017/train2017/000000273379.jpg']"
      ]
     },
     "execution_count": 6,
     "metadata": {},
     "output_type": "execute_result"
    }
   ],
   "source": [
    "df_train.iloc[i]['img_path']"
   ]
  },
  {
   "cell_type": "code",
   "execution_count": 7,
   "metadata": {},
   "outputs": [
    {
     "data": {
      "text/plain": [
       "['Question:What is the best climate for these fruits to grow in?\\nAnswer the Question with following choices.\\nChoices: A.dry B.arid C.polar D.tropical\\n',\n",
       " 'Question:Why are the cleaning bottles on the tub wall?\\nAnswer the Question with following choices.\\nChoices: A.visual appeal B.convivence C.accidental D.safety\\n',\n",
       " 'Question:What is the man wearing the hat pulling?\\nAnswer the Question with following choices.\\nChoices: A.surfboard B.snow board C.door D.body board\\n',\n",
       " 'Question:What is the swinging bench called?\\nAnswer the Question with following choices.\\nChoices: A.porch swing B.hanging swing C.dangerous D.outdoor loveseat\\n',\n",
       " 'Question:What is the photographer definitely higher than?\\nAnswer the Question with following choices.\\nChoices: A.people B.clouds C.tower D.air plane\\n',\n",
       " 'Question:What location is this?\\nAnswer the Question with following choices.\\nChoices: A.zoo B.bus depot C.subway D.carnival\\n',\n",
       " 'Question:What is this place?\\nAnswer the Question with following choices.\\nChoices: A.camp B.hospital C.watch factory D.chapel\\n',\n",
       " 'Question:You can take this bus to what area of England?\\nAnswer the Question with following choices.\\nChoices: A.berkshire B.norfolk C.bristol D.cheshire\\n']"
      ]
     },
     "execution_count": 7,
     "metadata": {},
     "output_type": "execute_result"
    }
   ],
   "source": [
    "df_train.iloc[i]['question']"
   ]
  },
  {
   "cell_type": "code",
   "execution_count": 8,
   "metadata": {},
   "outputs": [
    {
     "data": {
      "text/plain": [
       "tensor([3, 1, 3, 0, 0, 1, 1, 1])"
      ]
     },
     "execution_count": 8,
     "metadata": {},
     "output_type": "execute_result"
    }
   ],
   "source": [
    "df_train.iloc[0]['answer']"
   ]
  },
  {
   "cell_type": "code",
   "execution_count": 9,
   "metadata": {},
   "outputs": [
    {
     "data": {
      "text/plain": [
       "(17056, 33, 4096)"
      ]
     },
     "execution_count": 9,
     "metadata": {},
     "output_type": "execute_result"
    }
   ],
   "source": [
    "embeddings=df_train['most_likely'].apply(lambda x: x['embedding']).to_list()\n",
    "embeddings=np.concatenate(embeddings,axis=0)\n",
    "embeddings.shape"
   ]
  },
  {
   "cell_type": "code",
   "execution_count": 10,
   "metadata": {},
   "outputs": [
    {
     "data": {
      "text/plain": [
       "(17056,)"
      ]
     },
     "execution_count": 10,
     "metadata": {},
     "output_type": "execute_result"
    }
   ],
   "source": [
    "gt_label=df_train['answer'].to_list()\n",
    "gt_label=np.concatenate(gt_label,axis=0)\n",
    "gt_label.shape"
   ]
  },
  {
   "cell_type": "code",
   "execution_count": 11,
   "metadata": {},
   "outputs": [
    {
     "data": {
      "text/plain": [
       "np.int64(3)"
      ]
     },
     "execution_count": 11,
     "metadata": {},
     "output_type": "execute_result"
    }
   ],
   "source": [
    "gt_label[0]"
   ]
  },
  {
   "cell_type": "code",
   "execution_count": 12,
   "metadata": {},
   "outputs": [],
   "source": [
    "judge=load_judge('OKVQA')"
   ]
  },
  {
   "cell_type": "code",
   "execution_count": 13,
   "metadata": {},
   "outputs": [
    {
     "name": "stdout",
     "output_type": "stream",
     "text": [
      "There are 17056 responses. 11081 answer correctly and 5975 answer wrongly\n"
     ]
    }
   ],
   "source": [
    "responses=df_train['most_likely'].apply(lambda x: x['response']).to_list()\n",
    "\n",
    "rsps=[]\n",
    "for x in responses:\n",
    "    rsps+=x\n",
    "    \n",
    "is_correct=[]\n",
    "for i,x in enumerate(rsps):\n",
    "    is_correct.append(judge.check(x,gt_label[i]))\n",
    "\n",
    "is_correct=np.array(is_correct)\n",
    "print(f'There are {len(is_correct)} responses. {sum(is_correct==1)} answer correctly and {sum(is_correct==0)} answer wrongly')"
   ]
  },
  {
   "cell_type": "code",
   "execution_count": 14,
   "metadata": {},
   "outputs": [
    {
     "name": "stdout",
     "output_type": "stream",
     "text": [
      "trainset length:13144\n",
      "validset length:500\n",
      "testset length:3412\n",
      "trainset postive: 8509 negative: 4635\n",
      "valset postive: 303 negative: 197\n",
      "testset postive: 2269 negative: 1143\n"
     ]
    }
   ],
   "source": [
    "length = len(embeddings)\n",
    "train_rate = 0.8\n",
    "num_val=500\n",
    "\n",
    "embedding_train = embeddings[:int(length*train_rate)-num_val]\n",
    "embedding_val = embeddings[int(length*train_rate)-num_val:int(length*train_rate)]\n",
    "embedding_test = embeddings[int(length*train_rate):]\n",
    "\n",
    "\n",
    "y_train = is_correct[:int(length*train_rate)-num_val]\n",
    "y_val = is_correct[int(length*train_rate)-num_val:int(length*train_rate)]\n",
    "y_test = is_correct[int(length*train_rate):]\n",
    "\n",
    "\n",
    "'''get testset, wildset and valset. The valset is used for determining the hype-parameters'''\n",
    "print(f'trainset length:{len(y_train)}')\n",
    "print(f'validset length:{len(y_val)}')\n",
    "print(f'testset length:{len(y_test)}')\n",
    "print(\n",
    "    f'trainset postive: {sum(y_train==1)} negative: {sum(y_train==0)}')\n",
    "print(\n",
    "    f'valset postive: {sum(y_val==1)} negative: {sum(y_val==0)}')\n",
    "print(\n",
    "    f'testset postive: {sum(y_test==1)} negative: {sum(y_test==0)}')"
   ]
  },
  {
   "cell_type": "code",
   "execution_count": 15,
   "metadata": {},
   "outputs": [
    {
     "name": "stdout",
     "output_type": "stream",
     "text": [
      "The autoreload extension is already loaded. To reload it, use:\n",
      "  %reload_ext autoreload\n"
     ]
    }
   ],
   "source": [
    "%load_ext autoreload \n",
    "%autoreload 2\n",
    "from ml_utils.grid_search import GridSearch\n",
    "from ml_utils.PCA_discriminator import PCADiscriminator\n",
    "from ml_utils.metrics import auroc,get_best_split_from_scores"
   ]
  },
  {
   "cell_type": "markdown",
   "metadata": {},
   "source": [
    "Grid Search for Best 'n_components' & 'layer'"
   ]
  },
  {
   "cell_type": "code",
   "execution_count": 16,
   "metadata": {},
   "outputs": [],
   "source": [
    "def evaluator(n_components,i_layer,X,y):\n",
    "    discriminator=PCADiscriminator(n_components,X[:,i_layer,:])\n",
    "    scores=discriminator.get_score()\n",
    "    return auroc(scores,y)"
   ]
  },
  {
   "cell_type": "code",
   "execution_count": 17,
   "metadata": {},
   "outputs": [
    {
     "name": "stdout",
     "output_type": "stream",
     "text": [
      "Grid Searching for best n_components,layer\n"
     ]
    },
    {
     "name": "stderr",
     "output_type": "stream",
     "text": [
      "  0%|          | 0/11 [00:00<?, ?it/s]"
     ]
    },
    {
     "name": "stdout",
     "output_type": "stream",
     "text": [
      "found best n_components:1,layer:0 Score: 0.5864619456869544\n"
     ]
    },
    {
     "name": "stderr",
     "output_type": "stream",
     "text": [
      "  9%|▉         | 1/11 [00:00<00:07,  1.31it/s]"
     ]
    },
    {
     "name": "stdout",
     "output_type": "stream",
     "text": [
      "found best n_components:2,layer:8 Score: 0.592601899783887\n"
     ]
    },
    {
     "name": "stderr",
     "output_type": "stream",
     "text": [
      "100%|██████████| 11/11 [00:13<00:00,  1.22s/it]\n"
     ]
    }
   ],
   "source": [
    "# graid search for best hyper-parameters on validation set\n",
    "grid={\n",
    "    'n_components':range(1,12),\n",
    "    'layer':range(embedding_val.shape[1])\n",
    "}\n",
    "grid_search=GridSearch(evaluator,grid,embedding_val,y_val)\n",
    "best_paras=grid_search.search()"
   ]
  },
  {
   "cell_type": "code",
   "execution_count": 18,
   "metadata": {},
   "outputs": [
    {
     "data": {
      "text/plain": [
       "{'n_components': 2, 'layer': 8, 'best_score': np.float64(0.592601899783887)}"
      ]
     },
     "execution_count": 18,
     "metadata": {},
     "output_type": "execute_result"
    }
   ],
   "source": [
    "best_paras"
   ]
  },
  {
   "cell_type": "code",
   "execution_count": 19,
   "metadata": {},
   "outputs": [],
   "source": [
    "best_layer=best_paras['layer']"
   ]
  },
  {
   "cell_type": "markdown",
   "metadata": {},
   "source": [
    "View Results on Training set and Test set"
   ]
  },
  {
   "cell_type": "code",
   "execution_count": 20,
   "metadata": {},
   "outputs": [],
   "source": [
    "discriminator=PCADiscriminator(best_paras['n_components'],embedding_val[:,best_layer,:])\n",
    "best_split=discriminator.get_best_split(y_val)"
   ]
  },
  {
   "cell_type": "code",
   "execution_count": 21,
   "metadata": {},
   "outputs": [
    {
     "name": "stdout",
     "output_type": "stream",
     "text": [
      "train set acc: 0.6409007912355448 AUROC:0.5121280938274253 AUC-PR:0.6570480748656433\n"
     ]
    }
   ],
   "source": [
    "discriminator=PCADiscriminator(best_paras['n_components'],embedding_train[:,best_layer,:])\n",
    "scores=discriminator.get_score()\n",
    "preds=(scores>best_split)\n",
    "print(f'train set acc: {accuracy_score(y_train,preds)} AUROC:{roc_auc_score(y_train,scores)} AUC-PR:{aur_pr(scores,y_train)}')"
   ]
  },
  {
   "cell_type": "code",
   "execution_count": 22,
   "metadata": {},
   "outputs": [
    {
     "name": "stdout",
     "output_type": "stream",
     "text": [
      "test set acc: 0.6635404454865181 AUROC:0.47463067777611984 AUC-PR:0.653407256968942\n"
     ]
    }
   ],
   "source": [
    "discriminator=PCADiscriminator(best_paras['n_components'],embedding_test[:,best_layer,:])\n",
    "scores=discriminator.get_score()\n",
    "preds=(scores>best_split)\n",
    "print(f'test set acc: {accuracy_score(y_test,preds)} AUROC:{roc_auc_score(y_test,scores)} AUC-PR:{aur_pr(scores,y_test)}')"
   ]
  },
  {
   "cell_type": "markdown",
   "metadata": {},
   "source": [
    "Train Linear Prob to Get Better Results"
   ]
  },
  {
   "cell_type": "code",
   "execution_count": 23,
   "metadata": {},
   "outputs": [],
   "source": [
    "X_train=embedding_train[:, best_layer,:]\n",
    "y_train=y_train\n",
    "\n",
    "X_test=embedding_test[:, best_layer,:]\n",
    "y_test=y_test"
   ]
  },
  {
   "cell_type": "code",
   "execution_count": 24,
   "metadata": {},
   "outputs": [],
   "source": [
    "best_acc, final_acc, (\n",
    "            clf, best_state, best_preds, preds, labels_val), losses_train = get_linear_acc(\n",
    "            X_train,\n",
    "            y_train,\n",
    "           X_train,\n",
    "            y_train,\n",
    "            2, epochs=50,\n",
    "            print_ret=True,\n",
    "            batch_size=512,\n",
    "            cosine=True,\n",
    "            nonlinear=True,\n",
    "            learning_rate=0.05,\n",
    "            weight_decay=0.0003)"
   ]
  },
  {
   "cell_type": "code",
   "execution_count": 25,
   "metadata": {},
   "outputs": [
    {
     "name": "stdout",
     "output_type": "stream",
     "text": [
      "test set acc: 0.6796600234466589 AUROC:0.6719638229443443 AUC-PR:0.7864010401345312 f1:0.784120086904997\n"
     ]
    }
   ],
   "source": [
    "clf.eval()\n",
    "output = clf(torch.from_numpy(X_test).to(torch.float32).cuda())\n",
    "scores = torch.sigmoid(output).cpu().data.numpy()\n",
    "preds=scores>0.5\n",
    "print(f'test set acc: {accuracy_score(y_test,preds)} AUROC:{roc_auc_score(y_test,scores)} AUC-PR:{aur_pr(scores,y_test)} f1:{f1_score(y_test,preds)}')"
   ]
  }
 ],
 "metadata": {
  "kernelspec": {
   "display_name": "dl3.9",
   "language": "python",
   "name": "python3"
  },
  "language_info": {
   "codemirror_mode": {
    "name": "ipython",
    "version": 3
   },
   "file_extension": ".py",
   "mimetype": "text/x-python",
   "name": "python",
   "nbconvert_exporter": "python",
   "pygments_lexer": "ipython3",
   "version": "3.9.20"
  }
 },
 "nbformat": 4,
 "nbformat_minor": 2
}
