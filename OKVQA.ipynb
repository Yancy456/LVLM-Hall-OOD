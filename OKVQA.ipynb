{
 "cells": [
  {
   "cell_type": "code",
   "execution_count": 20,
   "metadata": {},
   "outputs": [
    {
     "name": "stdout",
     "output_type": "stream",
     "text": [
      "The autoreload extension is already loaded. To reload it, use:\n",
      "  %reload_ext autoreload\n"
     ]
    }
   ],
   "source": [
    "%load_ext autoreload\n",
    "%autoreload 2\n",
    "import os\n",
    "import torch\n",
    "import numpy as np\n",
    "from glob import glob\n",
    "from tqdm.auto import tqdm\n",
    "from sklearn.linear_model import LogisticRegression\n",
    "import pandas as pd\n",
    "from utils.store_data import ReadData\n",
    "import numpy as np\n",
    "import torch\n",
    "from utils.arguments import Arguments\n",
    "from tqdm import tqdm\n",
    "from sklearn.decomposition import PCA\n",
    "from linear_probe import get_linear_acc\n",
    "import random\n",
    "import os\n",
    "from sklearn.metrics import roc_auc_score,accuracy_score,roc_curve,f1_score\n",
    "from ml_utils.metrics import aur_pr\n",
    "from answer_judge import load_judge"
   ]
  },
  {
   "cell_type": "code",
   "execution_count": 21,
   "metadata": {},
   "outputs": [],
   "source": [
    "data_train=ReadData('/root/autodl-tmp/hallscope/AOKVQA/train').read_all()\n",
    "random.shuffle(data_train)\n",
    "#data_val=ReadData('/root/autodl-fs/hallscope/ScienceQA/val').read_all()\n",
    "#data_test=ReadData('/root/autodl-fs/hallscope/ScienceQA/test').read_all()"
   ]
  },
  {
   "cell_type": "code",
   "execution_count": 22,
   "metadata": {},
   "outputs": [],
   "source": [
    "df_train=pd.DataFrame(data_train)\n",
    "#df_val=pd.DataFrame(data_val)\n",
    "#df_test=pd.DataFrame(data_test)"
   ]
  },
  {
   "cell_type": "code",
   "execution_count": 23,
   "metadata": {},
   "outputs": [
    {
     "data": {
      "text/html": [
       "<div>\n",
       "<style scoped>\n",
       "    .dataframe tbody tr th:only-of-type {\n",
       "        vertical-align: middle;\n",
       "    }\n",
       "\n",
       "    .dataframe tbody tr th {\n",
       "        vertical-align: top;\n",
       "    }\n",
       "\n",
       "    .dataframe thead th {\n",
       "        text-align: right;\n",
       "    }\n",
       "</style>\n",
       "<table border=\"1\" class=\"dataframe\">\n",
       "  <thead>\n",
       "    <tr style=\"text-align: right;\">\n",
       "      <th></th>\n",
       "      <th>img_path</th>\n",
       "      <th>question</th>\n",
       "      <th>answer</th>\n",
       "      <th>most_likely</th>\n",
       "      <th>responses</th>\n",
       "    </tr>\n",
       "  </thead>\n",
       "  <tbody>\n",
       "    <tr>\n",
       "      <th>0</th>\n",
       "      <td>[/root/autodl-tmp/coco2017/train2017/000000020...</td>\n",
       "      <td>[Question:Which animal would least like to be ...</td>\n",
       "      <td>[tensor(3), tensor(0), tensor(2), tensor(3), t...</td>\n",
       "      <td>{'embedding': [[[ 7.2813034e-04  6.3419342e-04...</td>\n",
       "      <td>None</td>\n",
       "    </tr>\n",
       "    <tr>\n",
       "      <th>1</th>\n",
       "      <td>[/root/autodl-tmp/coco2017/train2017/000000194...</td>\n",
       "      <td>[Question:The picture and outfit looks like it...</td>\n",
       "      <td>[tensor(1), tensor(2), tensor(0), tensor(1), t...</td>\n",
       "      <td>{'embedding': [[[-0.00311279  0.00634766  0.04...</td>\n",
       "      <td>None</td>\n",
       "    </tr>\n",
       "    <tr>\n",
       "      <th>2</th>\n",
       "      <td>[/root/autodl-tmp/coco2017/train2017/000000482...</td>\n",
       "      <td>[Question:What is the woman using?\\nAnswer the...</td>\n",
       "      <td>[tensor(0), tensor(3), tensor(0), tensor(1), t...</td>\n",
       "      <td>{'embedding': [[[ 0.01013184  0.00717163 -0.00...</td>\n",
       "      <td>None</td>\n",
       "    </tr>\n",
       "    <tr>\n",
       "      <th>3</th>\n",
       "      <td>[/root/autodl-tmp/coco2017/train2017/000000568...</td>\n",
       "      <td>[Question:What brand is the motorcycle?\\nAnswe...</td>\n",
       "      <td>[tensor(0), tensor(3), tensor(2), tensor(0), t...</td>\n",
       "      <td>{'embedding': [[[ 7.2813034e-04  6.3419342e-04...</td>\n",
       "      <td>None</td>\n",
       "    </tr>\n",
       "    <tr>\n",
       "      <th>4</th>\n",
       "      <td>[/root/autodl-tmp/coco2017/train2017/000000568...</td>\n",
       "      <td>[Question:What type of transportation is this?...</td>\n",
       "      <td>[tensor(1), tensor(0), tensor(1), tensor(1), t...</td>\n",
       "      <td>{'embedding': [[[ 7.2813034e-04  6.3419342e-04...</td>\n",
       "      <td>None</td>\n",
       "    </tr>\n",
       "  </tbody>\n",
       "</table>\n",
       "</div>"
      ],
      "text/plain": [
       "                                            img_path  \\\n",
       "0  [/root/autodl-tmp/coco2017/train2017/000000020...   \n",
       "1  [/root/autodl-tmp/coco2017/train2017/000000194...   \n",
       "2  [/root/autodl-tmp/coco2017/train2017/000000482...   \n",
       "3  [/root/autodl-tmp/coco2017/train2017/000000568...   \n",
       "4  [/root/autodl-tmp/coco2017/train2017/000000568...   \n",
       "\n",
       "                                            question  \\\n",
       "0  [Question:Which animal would least like to be ...   \n",
       "1  [Question:The picture and outfit looks like it...   \n",
       "2  [Question:What is the woman using?\\nAnswer the...   \n",
       "3  [Question:What brand is the motorcycle?\\nAnswe...   \n",
       "4  [Question:What type of transportation is this?...   \n",
       "\n",
       "                                              answer  \\\n",
       "0  [tensor(3), tensor(0), tensor(2), tensor(3), t...   \n",
       "1  [tensor(1), tensor(2), tensor(0), tensor(1), t...   \n",
       "2  [tensor(0), tensor(3), tensor(0), tensor(1), t...   \n",
       "3  [tensor(0), tensor(3), tensor(2), tensor(0), t...   \n",
       "4  [tensor(1), tensor(0), tensor(1), tensor(1), t...   \n",
       "\n",
       "                                         most_likely responses  \n",
       "0  {'embedding': [[[ 7.2813034e-04  6.3419342e-04...      None  \n",
       "1  {'embedding': [[[-0.00311279  0.00634766  0.04...      None  \n",
       "2  {'embedding': [[[ 0.01013184  0.00717163 -0.00...      None  \n",
       "3  {'embedding': [[[ 7.2813034e-04  6.3419342e-04...      None  \n",
       "4  {'embedding': [[[ 7.2813034e-04  6.3419342e-04...      None  "
      ]
     },
     "execution_count": 23,
     "metadata": {},
     "output_type": "execute_result"
    }
   ],
   "source": [
    "df_train.head()"
   ]
  },
  {
   "cell_type": "code",
   "execution_count": 24,
   "metadata": {},
   "outputs": [
    {
     "data": {
      "text/plain": [
       "['D', 'A', 'C', 'D.hole', 'C. donut', 'D.blue', 'D', 'A.stripes']"
      ]
     },
     "execution_count": 24,
     "metadata": {},
     "output_type": "execute_result"
    }
   ],
   "source": [
    "i=0\n",
    "df_train.iloc[i]['most_likely']['response']"
   ]
  },
  {
   "cell_type": "code",
   "execution_count": 25,
   "metadata": {},
   "outputs": [
    {
     "data": {
      "text/plain": [
       "['/root/autodl-tmp/coco2017/train2017/000000020903.jpg',\n",
       " '/root/autodl-tmp/coco2017/train2017/000000519188.jpg',\n",
       " '/root/autodl-tmp/coco2017/train2017/000000570518.jpg',\n",
       " '/root/autodl-tmp/coco2017/train2017/000000087792.jpg',\n",
       " '/root/autodl-tmp/coco2017/train2017/000000230091.jpg',\n",
       " '/root/autodl-tmp/coco2017/train2017/000000431494.jpg',\n",
       " '/root/autodl-tmp/coco2017/train2017/000000310989.jpg',\n",
       " '/root/autodl-tmp/coco2017/train2017/000000423810.jpg']"
      ]
     },
     "execution_count": 25,
     "metadata": {},
     "output_type": "execute_result"
    }
   ],
   "source": [
    "df_train.iloc[i]['img_path']"
   ]
  },
  {
   "cell_type": "code",
   "execution_count": 26,
   "metadata": {},
   "outputs": [
    {
     "data": {
      "text/plain": [
       "['Question:Which animal would least like to be in the sink if the faucet were turned on?\\nAnswer the Question with following choices.\\nChoices: A.reptile B.fish C.dog D.cat\\n',\n",
       " 'Question:What number is on the plane?\\nAnswer the Question with following choices.\\nChoices: A.410 B.369 C.821 D.775\\n',\n",
       " 'Question:Which object is most likely to be holding liquid right now?\\nAnswer the Question with following choices.\\nChoices: A.pot B.bowl C.bottle D.plate\\n',\n",
       " 'Question:What do half these treats have?\\nAnswer the Question with following choices.\\nChoices: A.chocolate chips B.sprinkles C.gummy bears D.hole\\n',\n",
       " 'Question:What treat is in the box?\\nAnswer the Question with following choices.\\nChoices: A.gummy bears B.donut C.pizza D.apple pie\\n',\n",
       " 'Question:What color is the item with the holes?\\nAnswer the Question with following choices.\\nChoices: A.purple B.red C.green D.blue\\n',\n",
       " \"Question:The nose of this aircraft is in what nation's flag?\\nAnswer the Question with following choices.\\nChoices: A.netherlands B.uk C.france D.us\\n\",\n",
       " 'Question:What are these animals known for?\\nAnswer the Question with following choices.\\nChoices: A.stripes B.tusks C.horns D.antlers\\n']"
      ]
     },
     "execution_count": 26,
     "metadata": {},
     "output_type": "execute_result"
    }
   ],
   "source": [
    "df_train.iloc[i]['question']"
   ]
  },
  {
   "cell_type": "code",
   "execution_count": 27,
   "metadata": {},
   "outputs": [
    {
     "data": {
      "text/plain": [
       "tensor([3, 0, 2, 3, 1, 3, 2, 0])"
      ]
     },
     "execution_count": 27,
     "metadata": {},
     "output_type": "execute_result"
    }
   ],
   "source": [
    "df_train.iloc[0]['answer']"
   ]
  },
  {
   "cell_type": "code",
   "execution_count": 28,
   "metadata": {},
   "outputs": [
    {
     "data": {
      "text/plain": [
       "(17056, 33, 4096)"
      ]
     },
     "execution_count": 28,
     "metadata": {},
     "output_type": "execute_result"
    }
   ],
   "source": [
    "embeddings=df_train['most_likely'].apply(lambda x: x['embedding']).to_list()\n",
    "embeddings=np.concatenate(embeddings,axis=0)\n",
    "embeddings.shape"
   ]
  },
  {
   "cell_type": "code",
   "execution_count": 29,
   "metadata": {},
   "outputs": [
    {
     "data": {
      "text/plain": [
       "(17056,)"
      ]
     },
     "execution_count": 29,
     "metadata": {},
     "output_type": "execute_result"
    }
   ],
   "source": [
    "gt_label=df_train['answer'].to_list()\n",
    "gt_label=np.concatenate(gt_label,axis=0)\n",
    "gt_label.shape"
   ]
  },
  {
   "cell_type": "code",
   "execution_count": 30,
   "metadata": {},
   "outputs": [
    {
     "data": {
      "text/plain": [
       "np.int64(3)"
      ]
     },
     "execution_count": 30,
     "metadata": {},
     "output_type": "execute_result"
    }
   ],
   "source": [
    "gt_label[0]"
   ]
  },
  {
   "cell_type": "code",
   "execution_count": 31,
   "metadata": {},
   "outputs": [],
   "source": [
    "judge=load_judge('OKVQA')"
   ]
  },
  {
   "cell_type": "code",
   "execution_count": 32,
   "metadata": {},
   "outputs": [
    {
     "name": "stdout",
     "output_type": "stream",
     "text": [
      "There are 17056 responses. 11081 answer correctly and 5975 answer wrongly\n"
     ]
    }
   ],
   "source": [
    "responses=df_train['most_likely'].apply(lambda x: x['response']).to_list()\n",
    "\n",
    "rsps=[]\n",
    "for x in responses:\n",
    "    rsps+=x\n",
    "    \n",
    "is_correct=[]\n",
    "for i,x in enumerate(rsps):\n",
    "    is_correct.append(judge.check(x,gt_label[i]))\n",
    "\n",
    "is_correct=np.array(is_correct)\n",
    "print(f'There are {len(is_correct)} responses. {sum(is_correct==1)} answer correctly and {sum(is_correct==0)} answer wrongly')"
   ]
  },
  {
   "cell_type": "code",
   "execution_count": 33,
   "metadata": {},
   "outputs": [
    {
     "name": "stdout",
     "output_type": "stream",
     "text": [
      "trainset length:11644\n",
      "validset length:2000\n",
      "testset length:3412\n",
      "trainset postive: 7542 negative: 4102\n",
      "valset postive: 1294 negative: 706\n",
      "testset postive: 2245 negative: 1167\n"
     ]
    }
   ],
   "source": [
    "length = len(embeddings)\n",
    "train_rate = 0.8\n",
    "num_val=2000\n",
    "\n",
    "embedding_train = embeddings[:int(length*train_rate)-num_val]\n",
    "embedding_val = embeddings[int(length*train_rate)-num_val:int(length*train_rate)]\n",
    "embedding_test = embeddings[int(length*train_rate):]\n",
    "\n",
    "is_correct_train = is_correct[:int(length*train_rate)-num_val]\n",
    "is_correct_val = is_correct[int(length*train_rate)-num_val:int(length*train_rate)]\n",
    "is_correct_test = is_correct[int(length*train_rate):]\n",
    "\n",
    "\n",
    "'''get testset, wildset and valset. The valset is used for determining the hype-parameters'''\n",
    "print(f'trainset length:{len(is_correct_train)}')\n",
    "print(f'validset length:{len(is_correct_val)}')\n",
    "print(f'testset length:{len(is_correct_test)}')\n",
    "print(\n",
    "    f'trainset postive: {sum(is_correct_train==1)} negative: {sum(is_correct_train==0)}')\n",
    "print(\n",
    "    f'valset postive: {sum(is_correct_val==1)} negative: {sum(is_correct_val==0)}')\n",
    "print(\n",
    "    f'testset postive: {sum(is_correct_test==1)} negative: {sum(is_correct_test==0)}')"
   ]
  },
  {
   "cell_type": "code",
   "execution_count": 34,
   "metadata": {},
   "outputs": [
    {
     "name": "stdout",
     "output_type": "stream",
     "text": [
      "The autoreload extension is already loaded. To reload it, use:\n",
      "  %reload_ext autoreload\n"
     ]
    }
   ],
   "source": [
    "%load_ext autoreload \n",
    "%autoreload 2\n",
    "from ml_utils.grid_search import GridSearch\n",
    "from ml_utils.PCA_discriminator import PCADiscriminator,KernelPCA\n",
    "from ml_utils.metrics import auroc,get_best_split_from_scores"
   ]
  },
  {
   "cell_type": "markdown",
   "metadata": {},
   "source": [
    "Grid Search for Best 'n_components' & 'layer'"
   ]
  },
  {
   "cell_type": "code",
   "execution_count": 35,
   "metadata": {},
   "outputs": [],
   "source": [
    "M=4096\n",
    "gamma=1\n",
    "\n",
    "def evaluator(n_components,i_layer,X,y):\n",
    "    kpca=PCADiscriminator(embedding_train[:,i_layer,:],n_components,kernel='poly')\n",
    "    scores=kpca.get_score2(X[:,i_layer,:])\n",
    "    return auroc(scores,y)"
   ]
  },
  {
   "cell_type": "code",
   "execution_count": 37,
   "metadata": {},
   "outputs": [
    {
     "name": "stdout",
     "output_type": "stream",
     "text": [
      "Grid Searching for best n_components,layer\n"
     ]
    },
    {
     "data": {
      "application/vnd.jupyter.widget-view+json": {
       "model_id": "4a4042128c3a406398a14ec4bce9b41d",
       "version_major": 2,
       "version_minor": 0
      },
      "text/plain": [
       "  0%|          | 0/2 [00:00<?, ?it/s]"
      ]
     },
     "metadata": {},
     "output_type": "display_data"
    },
    {
     "data": {
      "application/vnd.jupyter.widget-view+json": {
       "model_id": "a1c99af0c80e4766b58d3d14e6f1a7f4",
       "version_major": 2,
       "version_minor": 0
      },
      "text/plain": [
       "  0%|          | 0/13 [00:00<?, ?it/s]"
      ]
     },
     "metadata": {},
     "output_type": "display_data"
    },
    {
     "name": "stdout",
     "output_type": "stream",
     "text": [
      "found best n_components:1,layer:20 Score: 0.5366279757083248\n"
     ]
    },
    {
     "data": {
      "application/vnd.jupyter.widget-view+json": {
       "model_id": "6b42fcecf04e4bc3a627182565dd860d",
       "version_major": 2,
       "version_minor": 0
      },
      "text/plain": [
       "  0%|          | 0/13 [00:00<?, ?it/s]"
      ]
     },
     "metadata": {},
     "output_type": "display_data"
    }
   ],
   "source": [
    "# graid search for best hyper-parameters on validation set\n",
    "grid={\n",
    "    'n_components':range(1,3),\n",
    "    'layer':range(20,embedding_val.shape[1])\n",
    "}\n",
    "grid_search=GridSearch(evaluator,grid,embedding_val,is_correct_val)\n",
    "best_paras=grid_search.search()"
   ]
  },
  {
   "cell_type": "code",
   "execution_count": 38,
   "metadata": {},
   "outputs": [],
   "source": [
    "M=4096\n",
    "gamma=1\n",
    "\n",
    "def evaluator(n_components,i_layer,X,y):\n",
    "    kpca=PCADiscriminator(embedding_train[:,i_layer,:],n_components,kernel='cosine')\n",
    "    scores=kpca.get_score2(X[:,i_layer,:])\n",
    "    return auroc(scores,y)"
   ]
  },
  {
   "cell_type": "code",
   "execution_count": 40,
   "metadata": {},
   "outputs": [
    {
     "name": "stdout",
     "output_type": "stream",
     "text": [
      "Grid Searching for best n_components,layer\n"
     ]
    },
    {
     "data": {
      "application/vnd.jupyter.widget-view+json": {
       "model_id": "775d7bd4b1494a7f88e9ae8b5e4eeef8",
       "version_major": 2,
       "version_minor": 0
      },
      "text/plain": [
       "  0%|          | 0/3 [00:00<?, ?it/s]"
      ]
     },
     "metadata": {},
     "output_type": "display_data"
    },
    {
     "data": {
      "application/vnd.jupyter.widget-view+json": {
       "model_id": "13c7fad100e84be3946345ae1a6d6deb",
       "version_major": 2,
       "version_minor": 0
      },
      "text/plain": [
       "  0%|          | 0/13 [00:00<?, ?it/s]"
      ]
     },
     "metadata": {},
     "output_type": "display_data"
    },
    {
     "name": "stdout",
     "output_type": "stream",
     "text": [
      "found best n_components:1,layer:20 Score: 0.5310312140145628\n",
      "found best n_components:1,layer:23 Score: 0.5331219268710239\n",
      "found best n_components:1,layer:24 Score: 0.535032028407424\n",
      "found best n_components:1,layer:25 Score: 0.5356734722471551\n"
     ]
    },
    {
     "data": {
      "application/vnd.jupyter.widget-view+json": {
       "model_id": "7bb32d1ff1f14b6297f32fc6f27f508b",
       "version_major": 2,
       "version_minor": 0
      },
      "text/plain": [
       "  0%|          | 0/13 [00:00<?, ?it/s]"
      ]
     },
     "metadata": {},
     "output_type": "display_data"
    },
    {
     "data": {
      "application/vnd.jupyter.widget-view+json": {
       "model_id": "e7640f9f168a4c65baf63fbe913545f7",
       "version_major": 2,
       "version_minor": 0
      },
      "text/plain": [
       "  0%|          | 0/13 [00:00<?, ?it/s]"
      ]
     },
     "metadata": {},
     "output_type": "display_data"
    }
   ],
   "source": [
    "# graid search for best hyper-parameters on validation set\n",
    "grid={\n",
    "    'n_components':range(1,4),\n",
    "    'layer':range(20,embedding_val.shape[1])\n",
    "}\n",
    "grid_search=GridSearch(evaluator,grid,embedding_val,is_correct_val)\n",
    "best_paras=grid_search.search()"
   ]
  },
  {
   "cell_type": "code",
   "execution_count": 41,
   "metadata": {},
   "outputs": [],
   "source": [
    "M=4096\n",
    "gamma=1\n",
    "\n",
    "def evaluator(n_components,i_layer,X,y):\n",
    "    kpca=PCADiscriminator(embedding_train[:,i_layer,:],n_components,kernel='sigmoid')\n",
    "    scores=kpca.get_score2(X[:,i_layer,:])\n",
    "    return auroc(scores,y)"
   ]
  },
  {
   "cell_type": "code",
   "execution_count": 42,
   "metadata": {},
   "outputs": [
    {
     "name": "stdout",
     "output_type": "stream",
     "text": [
      "Grid Searching for best n_components,layer\n"
     ]
    },
    {
     "data": {
      "application/vnd.jupyter.widget-view+json": {
       "model_id": "4f5bfb3126a04743b3295e981d29f7d4",
       "version_major": 2,
       "version_minor": 0
      },
      "text/plain": [
       "  0%|          | 0/2 [00:00<?, ?it/s]"
      ]
     },
     "metadata": {},
     "output_type": "display_data"
    },
    {
     "data": {
      "application/vnd.jupyter.widget-view+json": {
       "model_id": "fdb1d448b4dd40c382711bb750d614ce",
       "version_major": 2,
       "version_minor": 0
      },
      "text/plain": [
       "  0%|          | 0/5 [00:00<?, ?it/s]"
      ]
     },
     "metadata": {},
     "output_type": "display_data"
    },
    {
     "name": "stdout",
     "output_type": "stream",
     "text": [
      "found best n_components:1,layer:20 Score: 0.5396994627634188\n"
     ]
    },
    {
     "data": {
      "application/vnd.jupyter.widget-view+json": {
       "model_id": "82e6e98b3993401497ce9699f8bb2916",
       "version_major": 2,
       "version_minor": 0
      },
      "text/plain": [
       "  0%|          | 0/5 [00:00<?, ?it/s]"
      ]
     },
     "metadata": {},
     "output_type": "display_data"
    }
   ],
   "source": [
    "# graid search for best hyper-parameters on validation set\n",
    "grid={\n",
    "    'n_components':range(1,3),\n",
    "    'layer':range(20,25)\n",
    "}\n",
    "grid_search=GridSearch(evaluator,grid,embedding_val,is_correct_val)\n",
    "best_paras=grid_search.search()"
   ]
  },
  {
   "cell_type": "code",
   "execution_count": 43,
   "metadata": {},
   "outputs": [],
   "source": [
    "M=4096\n",
    "gamma=1\n",
    "\n",
    "def evaluator(n_components,i_layer,X,y):\n",
    "    kpca=PCADiscriminator(embedding_train[:,i_layer,:],n_components,kernel='linear')\n",
    "    scores=kpca.get_score2(X[:,i_layer,:])\n",
    "    return auroc(scores,y)"
   ]
  },
  {
   "cell_type": "code",
   "execution_count": 44,
   "metadata": {},
   "outputs": [
    {
     "name": "stdout",
     "output_type": "stream",
     "text": [
      "Grid Searching for best n_components,layer\n"
     ]
    },
    {
     "data": {
      "application/vnd.jupyter.widget-view+json": {
       "model_id": "bf562f768c314ee5abb794722f22cd97",
       "version_major": 2,
       "version_minor": 0
      },
      "text/plain": [
       "  0%|          | 0/2 [00:00<?, ?it/s]"
      ]
     },
     "metadata": {},
     "output_type": "display_data"
    },
    {
     "data": {
      "application/vnd.jupyter.widget-view+json": {
       "model_id": "607abb1974e4498ea8169513004fe433",
       "version_major": 2,
       "version_minor": 0
      },
      "text/plain": [
       "  0%|          | 0/5 [00:00<?, ?it/s]"
      ]
     },
     "metadata": {},
     "output_type": "display_data"
    },
    {
     "name": "stdout",
     "output_type": "stream",
     "text": [
      "found best n_components:1,layer:20 Score: 0.5441999684751151\n"
     ]
    },
    {
     "data": {
      "application/vnd.jupyter.widget-view+json": {
       "model_id": "cf3b62304d2c48cfaa6e7697af7b44f1",
       "version_major": 2,
       "version_minor": 0
      },
      "text/plain": [
       "  0%|          | 0/5 [00:00<?, ?it/s]"
      ]
     },
     "metadata": {},
     "output_type": "display_data"
    }
   ],
   "source": [
    "# graid search for best hyper-parameters on validation set\n",
    "grid={\n",
    "    'n_components':range(1,3),\n",
    "    'layer':range(20,25)\n",
    "}\n",
    "grid_search=GridSearch(evaluator,grid,embedding_val,is_correct_val)\n",
    "best_paras=grid_search.search()"
   ]
  },
  {
   "cell_type": "code",
   "execution_count": 45,
   "metadata": {},
   "outputs": [
    {
     "data": {
      "text/plain": [
       "{'n_components': 1, 'layer': 20, 'best_score': np.float64(0.5441999684751151)}"
      ]
     },
     "execution_count": 45,
     "metadata": {},
     "output_type": "execute_result"
    }
   ],
   "source": [
    "best_paras"
   ]
  },
  {
   "cell_type": "code",
   "execution_count": 46,
   "metadata": {},
   "outputs": [],
   "source": [
    "best_layer=best_paras['layer']"
   ]
  },
  {
   "cell_type": "markdown",
   "metadata": {},
   "source": [
    "View Results on Training set and Test set"
   ]
  },
  {
   "cell_type": "code",
   "execution_count": 49,
   "metadata": {},
   "outputs": [],
   "source": [
    "discriminator=PCADiscriminator(embedding_train[:,best_layer,:],best_paras['n_components'],kernel='linear')\n",
    "scores=discriminator.get_score2(embedding_val[:,best_layer,:])\n",
    "best_split=discriminator.get_best_split(scores,is_correct_val)"
   ]
  },
  {
   "cell_type": "code",
   "execution_count": 50,
   "metadata": {},
   "outputs": [
    {
     "name": "stdout",
     "output_type": "stream",
     "text": [
      "train set acc: 0.45499828237719 AUROC:0.5422582990801649 AUC-PR:0.6841953141279782\n"
     ]
    }
   ],
   "source": [
    "scores=discriminator.get_score2(embedding_train[:,best_layer,:])\n",
    "y_train=(scores>best_split)\n",
    "print(f'train set acc: {accuracy_score(is_correct_train,y_train)} AUROC:{roc_auc_score(is_correct_train,scores)} AUC-PR:{aur_pr(scores,is_correct_train)}')"
   ]
  },
  {
   "cell_type": "code",
   "execution_count": 22,
   "metadata": {},
   "outputs": [
    {
     "name": "stdout",
     "output_type": "stream",
     "text": [
      "test set acc: 0.6099062133645955 AUROC:0.4978282783662886 AUC-PR:0.6561419856373895\n"
     ]
    }
   ],
   "source": [
    "discriminator=PCADiscriminator(best_paras['n_components'],embedding_test[:,best_layer,:])\n",
    "scores=discriminator.get_score()\n",
    "y_test=(scores>best_split)\n",
    "print(f'test set acc: {accuracy_score(is_correct_test,y_test)} AUROC:{roc_auc_score(is_correct_test,scores)} AUC-PR:{aur_pr(scores,is_correct_test)}')"
   ]
  },
  {
   "cell_type": "markdown",
   "metadata": {},
   "source": [
    "Train Linear Prob to Get Better Results"
   ]
  },
  {
   "cell_type": "code",
   "execution_count": 23,
   "metadata": {},
   "outputs": [],
   "source": [
    "X_train=embedding_train[:, best_layer,:]\n",
    "\n",
    "X_test=embedding_test[:, best_layer,:]"
   ]
  },
  {
   "cell_type": "code",
   "execution_count": 24,
   "metadata": {},
   "outputs": [],
   "source": [
    "best_acc, final_acc, (\n",
    "            clf, best_state, best_preds, y_train, labels_val), losses_train = get_linear_acc(\n",
    "            X_train,\n",
    "            y_train,\n",
    "           X_train,\n",
    "             y_train,\n",
    "            2, epochs=50,\n",
    "            print_ret=True,\n",
    "            batch_size=512,\n",
    "            cosine=True,\n",
    "            nonlinear=True,\n",
    "            learning_rate=0.05,\n",
    "            weight_decay=0.0003)"
   ]
  },
  {
   "cell_type": "code",
   "execution_count": 25,
   "metadata": {},
   "outputs": [
    {
     "name": "stdout",
     "output_type": "stream",
     "text": [
      "test set acc: 0.6327667057444314 AUROC:0.47663800486983166 AUC-PR:0.6443647411016443 f1:0.7750852629689463\n"
     ]
    }
   ],
   "source": [
    "clf.eval()\n",
    "output = clf(torch.from_numpy(X_test).to(torch.float32).cuda())\n",
    "scores = torch.sigmoid(output).cpu().data.numpy()\n",
    "y_preds=scores>0.5\n",
    "print(f'test set acc: {accuracy_score(is_correct_test,y_preds)} AUROC:{roc_auc_score(is_correct_test,scores)} AUC-PR:{aur_pr(scores,is_correct_test)} f1:{f1_score(is_correct_test,y_preds)}')"
   ]
  }
 ],
 "metadata": {
  "kernelspec": {
   "display_name": "dl3.9",
   "language": "python",
   "name": "python3"
  },
  "language_info": {
   "codemirror_mode": {
    "name": "ipython",
    "version": 3
   },
   "file_extension": ".py",
   "mimetype": "text/x-python",
   "name": "python",
   "nbconvert_exporter": "python",
   "pygments_lexer": "ipython3",
   "version": "3.9.20"
  }
 },
 "nbformat": 4,
 "nbformat_minor": 2
}
