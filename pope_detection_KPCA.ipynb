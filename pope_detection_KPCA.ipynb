{
 "cells": [
  {
   "cell_type": "code",
   "execution_count": 1,
   "metadata": {},
   "outputs": [],
   "source": [
    "import os\n",
    "import torch\n",
    "import numpy as np\n",
    "from glob import glob\n",
    "from tqdm.auto import tqdm\n",
    "from sklearn.linear_model import LogisticRegression\n",
    "import pandas as pd\n",
    "from utils.store_data import ReadData\n",
    "import numpy as np\n",
    "import torch\n",
    "from utils.arguments import Arguments\n",
    "from tqdm import tqdm\n",
    "from linear_probe import get_linear_acc\n",
    "import random\n",
    "import os\n",
    "from sklearn.metrics import roc_auc_score,accuracy_score,roc_curve"
   ]
  },
  {
   "cell_type": "code",
   "execution_count": 2,
   "metadata": {},
   "outputs": [],
   "source": [
    "data_reader=ReadData('/root/autodl-tmp/hallscope/pope/popular/train')\n",
    "data=data_reader.read_all()\n",
    "random.shuffle(data)"
   ]
  },
  {
   "cell_type": "code",
   "execution_count": 3,
   "metadata": {},
   "outputs": [],
   "source": [
    "df=pd.DataFrame(data)"
   ]
  },
  {
   "cell_type": "code",
   "execution_count": 4,
   "metadata": {},
   "outputs": [
    {
     "data": {
      "text/html": [
       "<div>\n",
       "<style scoped>\n",
       "    .dataframe tbody tr th:only-of-type {\n",
       "        vertical-align: middle;\n",
       "    }\n",
       "\n",
       "    .dataframe tbody tr th {\n",
       "        vertical-align: top;\n",
       "    }\n",
       "\n",
       "    .dataframe thead th {\n",
       "        text-align: right;\n",
       "    }\n",
       "</style>\n",
       "<table border=\"1\" class=\"dataframe\">\n",
       "  <thead>\n",
       "    <tr style=\"text-align: right;\">\n",
       "      <th></th>\n",
       "      <th>img_path</th>\n",
       "      <th>question</th>\n",
       "      <th>label</th>\n",
       "      <th>question_id</th>\n",
       "      <th>category</th>\n",
       "      <th>most_likely</th>\n",
       "      <th>responses</th>\n",
       "    </tr>\n",
       "  </thead>\n",
       "  <tbody>\n",
       "    <tr>\n",
       "      <th>0</th>\n",
       "      <td>[/root/autodl-fs/coco_images/train/COCO_train2...</td>\n",
       "      <td>[Is there a potted plant in the image?\\nAnswer...</td>\n",
       "      <td>[tensor(1), tensor(0), tensor(1), tensor(0), t...</td>\n",
       "      <td>[tensor(9815), tensor(9816), tensor(9817), ten...</td>\n",
       "      <td>[popular, popular, popular, popular, popular, ...</td>\n",
       "      <td>{'embedding': [[[ 0.00389099  0.00149536  0.00...</td>\n",
       "      <td>None</td>\n",
       "    </tr>\n",
       "    <tr>\n",
       "      <th>1</th>\n",
       "      <td>[/root/autodl-fs/coco_images/train/COCO_train2...</td>\n",
       "      <td>[Is there a carrot in the image?\\nAnswer the q...</td>\n",
       "      <td>[tensor(1), tensor(0), tensor(1), tensor(0), t...</td>\n",
       "      <td>[tensor(12641), tensor(12642), tensor(12643), ...</td>\n",
       "      <td>[popular, popular, popular, popular, popular, ...</td>\n",
       "      <td>{'embedding': [[[ 0.00389099  0.00149536  0.00...</td>\n",
       "      <td>None</td>\n",
       "    </tr>\n",
       "    <tr>\n",
       "      <th>2</th>\n",
       "      <td>[/root/autodl-fs/coco_images/train/COCO_train2...</td>\n",
       "      <td>[Is there a baseball bat in the image?\\nAnswer...</td>\n",
       "      <td>[tensor(1), tensor(0), tensor(1), tensor(0), t...</td>\n",
       "      <td>[tensor(1525), tensor(1526), tensor(1527), ten...</td>\n",
       "      <td>[popular, popular, popular, popular, popular, ...</td>\n",
       "      <td>{'embedding': [[[ 0.00389099  0.00149536  0.00...</td>\n",
       "      <td>None</td>\n",
       "    </tr>\n",
       "    <tr>\n",
       "      <th>3</th>\n",
       "      <td>[/root/autodl-fs/coco_images/train/COCO_train2...</td>\n",
       "      <td>[Is there a boat in the image?\\nAnswer the que...</td>\n",
       "      <td>[tensor(1), tensor(0), tensor(1), tensor(0), t...</td>\n",
       "      <td>[tensor(4633), tensor(4634), tensor(4635), ten...</td>\n",
       "      <td>[popular, popular, popular, popular, popular, ...</td>\n",
       "      <td>{'embedding': [[[ 0.00389099  0.00149536  0.00...</td>\n",
       "      <td>None</td>\n",
       "    </tr>\n",
       "    <tr>\n",
       "      <th>4</th>\n",
       "      <td>[/root/autodl-fs/coco_images/train/COCO_train2...</td>\n",
       "      <td>[Is there a motorcycle in the image?\\nAnswer t...</td>\n",
       "      <td>[tensor(1), tensor(0), tensor(1), tensor(0), t...</td>\n",
       "      <td>[tensor(4733), tensor(4734), tensor(4735), ten...</td>\n",
       "      <td>[popular, popular, popular, popular, popular, ...</td>\n",
       "      <td>{'embedding': [[[ 0.00389099  0.00149536  0.00...</td>\n",
       "      <td>None</td>\n",
       "    </tr>\n",
       "  </tbody>\n",
       "</table>\n",
       "</div>"
      ],
      "text/plain": [
       "                                            img_path  \\\n",
       "0  [/root/autodl-fs/coco_images/train/COCO_train2...   \n",
       "1  [/root/autodl-fs/coco_images/train/COCO_train2...   \n",
       "2  [/root/autodl-fs/coco_images/train/COCO_train2...   \n",
       "3  [/root/autodl-fs/coco_images/train/COCO_train2...   \n",
       "4  [/root/autodl-fs/coco_images/train/COCO_train2...   \n",
       "\n",
       "                                            question  \\\n",
       "0  [Is there a potted plant in the image?\\nAnswer...   \n",
       "1  [Is there a carrot in the image?\\nAnswer the q...   \n",
       "2  [Is there a baseball bat in the image?\\nAnswer...   \n",
       "3  [Is there a boat in the image?\\nAnswer the que...   \n",
       "4  [Is there a motorcycle in the image?\\nAnswer t...   \n",
       "\n",
       "                                               label  \\\n",
       "0  [tensor(1), tensor(0), tensor(1), tensor(0), t...   \n",
       "1  [tensor(1), tensor(0), tensor(1), tensor(0), t...   \n",
       "2  [tensor(1), tensor(0), tensor(1), tensor(0), t...   \n",
       "3  [tensor(1), tensor(0), tensor(1), tensor(0), t...   \n",
       "4  [tensor(1), tensor(0), tensor(1), tensor(0), t...   \n",
       "\n",
       "                                         question_id  \\\n",
       "0  [tensor(9815), tensor(9816), tensor(9817), ten...   \n",
       "1  [tensor(12641), tensor(12642), tensor(12643), ...   \n",
       "2  [tensor(1525), tensor(1526), tensor(1527), ten...   \n",
       "3  [tensor(4633), tensor(4634), tensor(4635), ten...   \n",
       "4  [tensor(4733), tensor(4734), tensor(4735), ten...   \n",
       "\n",
       "                                            category  \\\n",
       "0  [popular, popular, popular, popular, popular, ...   \n",
       "1  [popular, popular, popular, popular, popular, ...   \n",
       "2  [popular, popular, popular, popular, popular, ...   \n",
       "3  [popular, popular, popular, popular, popular, ...   \n",
       "4  [popular, popular, popular, popular, popular, ...   \n",
       "\n",
       "                                         most_likely responses  \n",
       "0  {'embedding': [[[ 0.00389099  0.00149536  0.00...      None  \n",
       "1  {'embedding': [[[ 0.00389099  0.00149536  0.00...      None  \n",
       "2  {'embedding': [[[ 0.00389099  0.00149536  0.00...      None  \n",
       "3  {'embedding': [[[ 0.00389099  0.00149536  0.00...      None  \n",
       "4  {'embedding': [[[ 0.00389099  0.00149536  0.00...      None  "
      ]
     },
     "execution_count": 4,
     "metadata": {},
     "output_type": "execute_result"
    }
   ],
   "source": [
    "df.head()"
   ]
  },
  {
   "cell_type": "code",
   "execution_count": 5,
   "metadata": {},
   "outputs": [],
   "source": [
    "embeddings=df['most_likely'].apply(lambda x: x['embedding']).to_list()"
   ]
  },
  {
   "cell_type": "code",
   "execution_count": 6,
   "metadata": {},
   "outputs": [],
   "source": [
    "embeddings=np.concatenate(embeddings,axis=0)"
   ]
  },
  {
   "cell_type": "code",
   "execution_count": 7,
   "metadata": {},
   "outputs": [
    {
     "data": {
      "text/plain": [
       "(13624, 33, 4096)"
      ]
     },
     "execution_count": 7,
     "metadata": {},
     "output_type": "execute_result"
    }
   ],
   "source": [
    "embeddings.shape"
   ]
  },
  {
   "cell_type": "code",
   "execution_count": 8,
   "metadata": {},
   "outputs": [],
   "source": [
    "gt_label=df['label'].to_list()\n",
    "gt_label=np.concatenate(gt_label,axis=0)"
   ]
  },
  {
   "cell_type": "code",
   "execution_count": 9,
   "metadata": {},
   "outputs": [
    {
     "data": {
      "text/plain": [
       "(13624,)"
      ]
     },
     "execution_count": 9,
     "metadata": {},
     "output_type": "execute_result"
    }
   ],
   "source": [
    "gt_label.shape"
   ]
  },
  {
   "cell_type": "code",
   "execution_count": 10,
   "metadata": {},
   "outputs": [],
   "source": [
    "responses=df['most_likely'].apply(lambda x: x['response']).to_list()\n",
    "resps=[]\n",
    "for x in responses:\n",
    "    resps+=x"
   ]
  },
  {
   "cell_type": "code",
   "execution_count": 11,
   "metadata": {},
   "outputs": [],
   "source": [
    "is_correct=[]\n",
    "for i,x in enumerate(resps):\n",
    "    if x.lower()=='no' and gt_label[i]==0:\n",
    "        is_correct.append(1)\n",
    "    elif x.lower()=='yes' and gt_label[i]==1:\n",
    "        is_correct.append(1)\n",
    "    else:\n",
    "        is_correct.append(0)\n",
    "is_correct=np.array(is_correct)"
   ]
  },
  {
   "cell_type": "code",
   "execution_count": 12,
   "metadata": {},
   "outputs": [
    {
     "data": {
      "text/plain": [
       "(13624,)"
      ]
     },
     "execution_count": 12,
     "metadata": {},
     "output_type": "execute_result"
    }
   ],
   "source": [
    "is_correct.shape"
   ]
  },
  {
   "cell_type": "code",
   "execution_count": 13,
   "metadata": {},
   "outputs": [
    {
     "name": "stdout",
     "output_type": "stream",
     "text": [
      "There are 13624 responses. 11850 answer correctly and 1774 answer wrongly\n"
     ]
    }
   ],
   "source": [
    "print(f'There are {len(is_correct)} responses. {sum(is_correct==1)} answer correctly and {sum(is_correct==0)} answer wrongly')"
   ]
  },
  {
   "cell_type": "code",
   "execution_count": 14,
   "metadata": {},
   "outputs": [
    {
     "name": "stdout",
     "output_type": "stream",
     "text": [
      "trainset length:9899\n",
      "validset length:1000\n",
      "testset length:2725\n",
      "trainset postive: 8598 negative: 1301\n",
      "valset postive: 886 negative: 114\n",
      "testset postive: 2366 negative: 359\n"
     ]
    }
   ],
   "source": [
    "length=len(is_correct)\n",
    "train_rate=0.8\n",
    "\n",
    "all_indices = np.random.permutation(length)\n",
    "train_val_idxs = all_indices[:int(\n",
    "    train_rate * length)]  # trainset and validation index\n",
    "\n",
    "test_idxs=all_indices[int(\n",
    "    train_rate * length):]  #test index\n",
    "\n",
    "validset_len = 1000\n",
    "# exclude validation samples.\n",
    "train_idxs = train_val_idxs[:len(\n",
    "    train_val_idxs) - validset_len]  # trainset index\n",
    "val_idxs = train_val_idxs[len(\n",
    "    train_val_idxs) - validset_len:]  # validation index\n",
    "hall_label_test = []\n",
    "hall_label_wild = []\n",
    "hall_label_val = []\n",
    "\n",
    "'''get testset, wildset and valset. The valset is used for determining the hype-parameters'''\n",
    "hall_label_test = is_correct[test_idxs]\n",
    "hall_label_wild = is_correct[train_idxs]\n",
    "hall_label_val = is_correct[val_idxs]\n",
    "\n",
    "print(f'trainset length:{len(hall_label_wild)}')\n",
    "print(f'validset length:{len(hall_label_val)}')\n",
    "print(f'testset length:{len(hall_label_test)}')\n",
    "print(f'trainset postive: {sum(hall_label_wild==1)} negative: {sum(hall_label_wild==0)}')\n",
    "print(f'valset postive: {sum(hall_label_val==1)} negative: {sum(hall_label_val==0)}')\n",
    "print(\n",
    "    f'testset postive: {sum(hall_label_test==1)} negative: {sum(hall_label_test==0)}')"
   ]
  },
  {
   "cell_type": "code",
   "execution_count": 15,
   "metadata": {},
   "outputs": [
    {
     "data": {
      "text/plain": [
       "(13624, 33, 4096)"
      ]
     },
     "execution_count": 15,
     "metadata": {},
     "output_type": "execute_result"
    }
   ],
   "source": [
    "all_embeddings = embeddings\n",
    "all_embeddings.shape"
   ]
  },
  {
   "cell_type": "code",
   "execution_count": 16,
   "metadata": {},
   "outputs": [],
   "source": [
    "embedding_train = all_embeddings[train_idxs]\n",
    "embedding_val = all_embeddings[val_idxs]\n",
    "embedding_test = all_embeddings[test_idxs]"
   ]
  },
  {
   "cell_type": "code",
   "execution_count": 17,
   "metadata": {},
   "outputs": [],
   "source": [
    "%load_ext autoreload\n",
    "%autoreload 2\n",
    "from ml_utils.grid_search import GridSearch\n",
    "from ml_utils.PCA_discriminator import PCADiscriminator\n",
    "from ml_utils.metrics import auroc,get_best_split_from_scores"
   ]
  },
  {
   "cell_type": "markdown",
   "metadata": {},
   "source": [
    "Grid Search for Best 'n_components' & 'layer'"
   ]
  },
  {
   "cell_type": "code",
   "execution_count": 21,
   "metadata": {},
   "outputs": [],
   "source": [
    "def evaluator(n_components,i_layer,X,y):\n",
    "    kpca=PCADiscriminator(embedding_train[:,i_layer,:],n_components,kernel='linear')\n",
    "    scores=kpca.get_score2(X[:,i_layer,:])\n",
    "    return auroc(scores,y)"
   ]
  },
  {
   "cell_type": "code",
   "execution_count": 22,
   "metadata": {},
   "outputs": [
    {
     "name": "stdout",
     "output_type": "stream",
     "text": [
      "Grid Searching for best n_components,layer\n"
     ]
    },
    {
     "data": {
      "application/vnd.jupyter.widget-view+json": {
       "model_id": "2b534d5ba3fd45f5bf6235da74784383",
       "version_major": 2,
       "version_minor": 0
      },
      "text/plain": [
       "  0%|          | 0/2 [00:00<?, ?it/s]"
      ]
     },
     "metadata": {},
     "output_type": "display_data"
    },
    {
     "data": {
      "application/vnd.jupyter.widget-view+json": {
       "model_id": "7ea2fb5810f049de91debeb0e12feb30",
       "version_major": 2,
       "version_minor": 0
      },
      "text/plain": [
       "  0%|          | 0/23 [00:00<?, ?it/s]"
      ]
     },
     "metadata": {},
     "output_type": "display_data"
    },
    {
     "name": "stdout",
     "output_type": "stream",
     "text": [
      "found best n_components:1,layer:10 Score: 0.5864520217021107\n",
      "found best n_components:1,layer:11 Score: 0.6725278206803691\n",
      "found best n_components:1,layer:12 Score: 0.782285850065344\n",
      "found best n_components:1,layer:13 Score: 0.8131163122252583\n",
      "found best n_components:1,layer:14 Score: 0.8353530553245415\n",
      "found best n_components:1,layer:15 Score: 0.8428577086055997\n",
      "found best n_components:1,layer:16 Score: 0.8448972317928004\n"
     ]
    },
    {
     "data": {
      "application/vnd.jupyter.widget-view+json": {
       "model_id": "16e551d0b6e34689813e594e7bc42634",
       "version_major": 2,
       "version_minor": 0
      },
      "text/plain": [
       "  0%|          | 0/23 [00:00<?, ?it/s]"
      ]
     },
     "metadata": {},
     "output_type": "display_data"
    }
   ],
   "source": [
    "# graid search for best hyper-parameters on validation set\n",
    "grid={\n",
    "    'n_components':range(1,3),\n",
    "    'layer':range(10,embedding_val.shape[1])\n",
    "}\n",
    "grid_search=GridSearch(evaluator,grid,embedding_val,hall_label_val)\n",
    "best_paras=grid_search.search()"
   ]
  },
  {
   "cell_type": "code",
   "execution_count": 23,
   "metadata": {},
   "outputs": [
    {
     "data": {
      "text/plain": [
       "{'n_components': 1, 'layer': 16, 'best_score': np.float64(0.8448972317928004)}"
      ]
     },
     "execution_count": 23,
     "metadata": {},
     "output_type": "execute_result"
    }
   ],
   "source": [
    "best_paras"
   ]
  },
  {
   "cell_type": "code",
   "execution_count": 26,
   "metadata": {},
   "outputs": [],
   "source": [
    "best_layer=best_paras['layer']\n",
    "#best_layer=24"
   ]
  },
  {
   "cell_type": "markdown",
   "metadata": {},
   "source": [
    "View Results on Training set and Test set"
   ]
  },
  {
   "cell_type": "code",
   "execution_count": 29,
   "metadata": {},
   "outputs": [],
   "source": [
    "discriminator=PCADiscriminator(embedding_train[:,best_layer,:],best_paras['n_components'],kernel='linear')\n",
    "scores=discriminator.get_score2(embedding_val[:,best_layer,:])\n",
    "best_split=discriminator.get_best_split(scores,hall_label_val)"
   ]
  },
  {
   "cell_type": "code",
   "execution_count": 31,
   "metadata": {},
   "outputs": [
    {
     "name": "stdout",
     "output_type": "stream",
     "text": [
      "train set acc: 0.7189615112637641 AUROC:0.8584139296288092\n"
     ]
    }
   ],
   "source": [
    "scores=discriminator.get_score2(embedding_train[:,best_layer,:])\n",
    "y_train=(scores>best_split)\n",
    "print(f'train set acc: {accuracy_score(hall_label_wild,y_train)} AUROC:{roc_auc_score(hall_label_wild,scores)}')"
   ]
  },
  {
   "cell_type": "code",
   "execution_count": null,
   "metadata": {},
   "outputs": [
    {
     "name": "stdout",
     "output_type": "stream",
     "text": [
      "test set acc: 0.49027522935779816 AUROC:0.6432544655981502\n"
     ]
    }
   ],
   "source": [
    "discriminator=KernelPCA(embedding_train[:,best_layer,:],M,gamma)\n",
    "scores=discriminator.get_score(embedding_test,best_paras['n_components'])\n",
    "preds=(scores>best_split)\n",
    "print(f'test set acc: {accuracy_score(hall_label_test,preds)} AUROC:{roc_auc_score(hall_label_test,scores)}')"
   ]
  },
  {
   "cell_type": "markdown",
   "metadata": {},
   "source": [
    "Train Linear Prob to Get Better Results"
   ]
  },
  {
   "cell_type": "code",
   "execution_count": 27,
   "metadata": {},
   "outputs": [],
   "source": [
    "X_train=embedding_train[:, best_layer,:]\n",
    "y_train=y_train\n",
    "\n",
    "X_test=embedding_test[:, best_layer,:]\n",
    "y_test=hall_label_test"
   ]
  },
  {
   "cell_type": "code",
   "execution_count": 28,
   "metadata": {},
   "outputs": [
    {
     "ename": "RuntimeError",
     "evalue": "Found no NVIDIA driver on your system. Please check that you have an NVIDIA GPU and installed a driver from http://www.nvidia.com/Download/index.aspx",
     "output_type": "error",
     "traceback": [
      "\u001b[0;31m---------------------------------------------------------------------------\u001b[0m",
      "\u001b[0;31mRuntimeError\u001b[0m                              Traceback (most recent call last)",
      "Cell \u001b[0;32mIn[28], line 2\u001b[0m\n\u001b[1;32m      1\u001b[0m best_acc, final_acc, (\n\u001b[0;32m----> 2\u001b[0m             clf, best_state, best_preds, preds, labels_val), losses_train \u001b[38;5;241m=\u001b[39m \u001b[43mget_linear_acc\u001b[49m\u001b[43m(\u001b[49m\n\u001b[1;32m      3\u001b[0m \u001b[43m            \u001b[49m\u001b[43mX_train\u001b[49m\u001b[43m,\u001b[49m\n\u001b[1;32m      4\u001b[0m \u001b[43m            \u001b[49m\u001b[43my_train\u001b[49m\u001b[43m,\u001b[49m\n\u001b[1;32m      5\u001b[0m \u001b[43m           \u001b[49m\u001b[43mX_train\u001b[49m\u001b[43m,\u001b[49m\n\u001b[1;32m      6\u001b[0m \u001b[43m            \u001b[49m\u001b[43my_train\u001b[49m\u001b[43m,\u001b[49m\n\u001b[1;32m      7\u001b[0m \u001b[43m            \u001b[49m\u001b[38;5;241;43m2\u001b[39;49m\u001b[43m,\u001b[49m\u001b[43m \u001b[49m\u001b[43mepochs\u001b[49m\u001b[38;5;241;43m=\u001b[39;49m\u001b[38;5;241;43m50\u001b[39;49m\u001b[43m,\u001b[49m\n\u001b[1;32m      8\u001b[0m \u001b[43m            \u001b[49m\u001b[43mprint_ret\u001b[49m\u001b[38;5;241;43m=\u001b[39;49m\u001b[38;5;28;43;01mTrue\u001b[39;49;00m\u001b[43m,\u001b[49m\n\u001b[1;32m      9\u001b[0m \u001b[43m            \u001b[49m\u001b[43mbatch_size\u001b[49m\u001b[38;5;241;43m=\u001b[39;49m\u001b[38;5;241;43m512\u001b[39;49m\u001b[43m,\u001b[49m\n\u001b[1;32m     10\u001b[0m \u001b[43m            \u001b[49m\u001b[43mcosine\u001b[49m\u001b[38;5;241;43m=\u001b[39;49m\u001b[38;5;28;43;01mTrue\u001b[39;49;00m\u001b[43m,\u001b[49m\n\u001b[1;32m     11\u001b[0m \u001b[43m            \u001b[49m\u001b[43mnonlinear\u001b[49m\u001b[38;5;241;43m=\u001b[39;49m\u001b[38;5;28;43;01mTrue\u001b[39;49;00m\u001b[43m,\u001b[49m\n\u001b[1;32m     12\u001b[0m \u001b[43m            \u001b[49m\u001b[43mlearning_rate\u001b[49m\u001b[38;5;241;43m=\u001b[39;49m\u001b[38;5;241;43m0.05\u001b[39;49m\u001b[43m,\u001b[49m\n\u001b[1;32m     13\u001b[0m \u001b[43m            \u001b[49m\u001b[43mweight_decay\u001b[49m\u001b[38;5;241;43m=\u001b[39;49m\u001b[38;5;241;43m0.0003\u001b[39;49m\u001b[43m)\u001b[49m\n",
      "File \u001b[0;32m/home/hallscope/linear_probe.py:273\u001b[0m, in \u001b[0;36mget_linear_acc\u001b[0;34m(ftrain, ltrain, ftest, ltest, n_cls, epochs, args, classifier, print_ret, normed, nonlinear, learning_rate, weight_decay, batch_size, cosine, lr_decay_epochs)\u001b[0m\n\u001b[1;32m    271\u001b[0m criterion \u001b[38;5;241m=\u001b[39m torch\u001b[38;5;241m.\u001b[39mnn\u001b[38;5;241m.\u001b[39mCrossEntropyLoss()\u001b[38;5;241m.\u001b[39mcuda()\n\u001b[1;32m    272\u001b[0m \u001b[38;5;28;01mif\u001b[39;00m classifier \u001b[38;5;129;01mis\u001b[39;00m \u001b[38;5;28;01mNone\u001b[39;00m:\n\u001b[0;32m--> 273\u001b[0m     classifier \u001b[38;5;241m=\u001b[39m \u001b[43mLinearClassifier\u001b[49m\u001b[43m(\u001b[49m\u001b[43mftrain\u001b[49m\u001b[38;5;241;43m.\u001b[39;49m\u001b[43mshape\u001b[49m\u001b[43m[\u001b[49m\u001b[38;5;241;43m1\u001b[39;49m\u001b[43m]\u001b[49m\u001b[43m,\u001b[49m\u001b[43m \u001b[49m\u001b[43mnum_classes\u001b[49m\u001b[38;5;241;43m=\u001b[39;49m\u001b[43mn_cls\u001b[49m\u001b[43m)\u001b[49m\u001b[38;5;241;43m.\u001b[39;49m\u001b[43mcuda\u001b[49m\u001b[43m(\u001b[49m\u001b[43m)\u001b[49m\n\u001b[1;32m    274\u001b[0m \u001b[38;5;28;01mif\u001b[39;00m nonlinear:\n\u001b[1;32m    275\u001b[0m     classifier \u001b[38;5;241m=\u001b[39m NonLinearClassifier(ftrain\u001b[38;5;241m.\u001b[39mshape[\u001b[38;5;241m1\u001b[39m], num_classes\u001b[38;5;241m=\u001b[39mn_cls)\u001b[38;5;241m.\u001b[39mcuda()\n",
      "File \u001b[0;32m~/miniconda3/envs/dl3.9/lib/python3.9/site-packages/torch/nn/modules/module.py:1050\u001b[0m, in \u001b[0;36mModule.cuda\u001b[0;34m(self, device)\u001b[0m\n\u001b[1;32m   1033\u001b[0m \u001b[38;5;28;01mdef\u001b[39;00m \u001b[38;5;21mcuda\u001b[39m(\u001b[38;5;28mself\u001b[39m: T, device: Optional[Union[\u001b[38;5;28mint\u001b[39m, device]] \u001b[38;5;241m=\u001b[39m \u001b[38;5;28;01mNone\u001b[39;00m) \u001b[38;5;241m-\u001b[39m\u001b[38;5;241m>\u001b[39m T:\n\u001b[1;32m   1034\u001b[0m \u001b[38;5;250m    \u001b[39m\u001b[38;5;124mr\u001b[39m\u001b[38;5;124;03m\"\"\"Move all model parameters and buffers to the GPU.\u001b[39;00m\n\u001b[1;32m   1035\u001b[0m \n\u001b[1;32m   1036\u001b[0m \u001b[38;5;124;03m    This also makes associated parameters and buffers different objects. So\u001b[39;00m\n\u001b[0;32m   (...)\u001b[0m\n\u001b[1;32m   1048\u001b[0m \u001b[38;5;124;03m        Module: self\u001b[39;00m\n\u001b[1;32m   1049\u001b[0m \u001b[38;5;124;03m    \"\"\"\u001b[39;00m\n\u001b[0;32m-> 1050\u001b[0m     \u001b[38;5;28;01mreturn\u001b[39;00m \u001b[38;5;28;43mself\u001b[39;49m\u001b[38;5;241;43m.\u001b[39;49m\u001b[43m_apply\u001b[49m\u001b[43m(\u001b[49m\u001b[38;5;28;43;01mlambda\u001b[39;49;00m\u001b[43m \u001b[49m\u001b[43mt\u001b[49m\u001b[43m:\u001b[49m\u001b[43m \u001b[49m\u001b[43mt\u001b[49m\u001b[38;5;241;43m.\u001b[39;49m\u001b[43mcuda\u001b[49m\u001b[43m(\u001b[49m\u001b[43mdevice\u001b[49m\u001b[43m)\u001b[49m\u001b[43m)\u001b[49m\n",
      "File \u001b[0;32m~/miniconda3/envs/dl3.9/lib/python3.9/site-packages/torch/nn/modules/module.py:900\u001b[0m, in \u001b[0;36mModule._apply\u001b[0;34m(self, fn, recurse)\u001b[0m\n\u001b[1;32m    898\u001b[0m \u001b[38;5;28;01mif\u001b[39;00m recurse:\n\u001b[1;32m    899\u001b[0m     \u001b[38;5;28;01mfor\u001b[39;00m module \u001b[38;5;129;01min\u001b[39;00m \u001b[38;5;28mself\u001b[39m\u001b[38;5;241m.\u001b[39mchildren():\n\u001b[0;32m--> 900\u001b[0m         \u001b[43mmodule\u001b[49m\u001b[38;5;241;43m.\u001b[39;49m\u001b[43m_apply\u001b[49m\u001b[43m(\u001b[49m\u001b[43mfn\u001b[49m\u001b[43m)\u001b[49m\n\u001b[1;32m    902\u001b[0m \u001b[38;5;28;01mdef\u001b[39;00m \u001b[38;5;21mcompute_should_use_set_data\u001b[39m(tensor, tensor_applied):\n\u001b[1;32m    903\u001b[0m     \u001b[38;5;28;01mif\u001b[39;00m torch\u001b[38;5;241m.\u001b[39m_has_compatible_shallow_copy_type(tensor, tensor_applied):\n\u001b[1;32m    904\u001b[0m         \u001b[38;5;66;03m# If the new tensor has compatible tensor type as the existing tensor,\u001b[39;00m\n\u001b[1;32m    905\u001b[0m         \u001b[38;5;66;03m# the current behavior is to change the tensor in-place using `.data =`,\u001b[39;00m\n\u001b[0;32m   (...)\u001b[0m\n\u001b[1;32m    910\u001b[0m         \u001b[38;5;66;03m# global flag to let the user control whether they want the future\u001b[39;00m\n\u001b[1;32m    911\u001b[0m         \u001b[38;5;66;03m# behavior of overwriting the existing tensor or not.\u001b[39;00m\n",
      "File \u001b[0;32m~/miniconda3/envs/dl3.9/lib/python3.9/site-packages/torch/nn/modules/module.py:927\u001b[0m, in \u001b[0;36mModule._apply\u001b[0;34m(self, fn, recurse)\u001b[0m\n\u001b[1;32m    923\u001b[0m \u001b[38;5;66;03m# Tensors stored in modules are graph leaves, and we don't want to\u001b[39;00m\n\u001b[1;32m    924\u001b[0m \u001b[38;5;66;03m# track autograd history of `param_applied`, so we have to use\u001b[39;00m\n\u001b[1;32m    925\u001b[0m \u001b[38;5;66;03m# `with torch.no_grad():`\u001b[39;00m\n\u001b[1;32m    926\u001b[0m \u001b[38;5;28;01mwith\u001b[39;00m torch\u001b[38;5;241m.\u001b[39mno_grad():\n\u001b[0;32m--> 927\u001b[0m     param_applied \u001b[38;5;241m=\u001b[39m \u001b[43mfn\u001b[49m\u001b[43m(\u001b[49m\u001b[43mparam\u001b[49m\u001b[43m)\u001b[49m\n\u001b[1;32m    928\u001b[0m p_should_use_set_data \u001b[38;5;241m=\u001b[39m compute_should_use_set_data(param, param_applied)\n\u001b[1;32m    930\u001b[0m \u001b[38;5;66;03m# subclasses may have multiple child tensors so we need to use swap_tensors\u001b[39;00m\n",
      "File \u001b[0;32m~/miniconda3/envs/dl3.9/lib/python3.9/site-packages/torch/nn/modules/module.py:1050\u001b[0m, in \u001b[0;36mModule.cuda.<locals>.<lambda>\u001b[0;34m(t)\u001b[0m\n\u001b[1;32m   1033\u001b[0m \u001b[38;5;28;01mdef\u001b[39;00m \u001b[38;5;21mcuda\u001b[39m(\u001b[38;5;28mself\u001b[39m: T, device: Optional[Union[\u001b[38;5;28mint\u001b[39m, device]] \u001b[38;5;241m=\u001b[39m \u001b[38;5;28;01mNone\u001b[39;00m) \u001b[38;5;241m-\u001b[39m\u001b[38;5;241m>\u001b[39m T:\n\u001b[1;32m   1034\u001b[0m \u001b[38;5;250m    \u001b[39m\u001b[38;5;124mr\u001b[39m\u001b[38;5;124;03m\"\"\"Move all model parameters and buffers to the GPU.\u001b[39;00m\n\u001b[1;32m   1035\u001b[0m \n\u001b[1;32m   1036\u001b[0m \u001b[38;5;124;03m    This also makes associated parameters and buffers different objects. So\u001b[39;00m\n\u001b[0;32m   (...)\u001b[0m\n\u001b[1;32m   1048\u001b[0m \u001b[38;5;124;03m        Module: self\u001b[39;00m\n\u001b[1;32m   1049\u001b[0m \u001b[38;5;124;03m    \"\"\"\u001b[39;00m\n\u001b[0;32m-> 1050\u001b[0m     \u001b[38;5;28;01mreturn\u001b[39;00m \u001b[38;5;28mself\u001b[39m\u001b[38;5;241m.\u001b[39m_apply(\u001b[38;5;28;01mlambda\u001b[39;00m t: \u001b[43mt\u001b[49m\u001b[38;5;241;43m.\u001b[39;49m\u001b[43mcuda\u001b[49m\u001b[43m(\u001b[49m\u001b[43mdevice\u001b[49m\u001b[43m)\u001b[49m)\n",
      "File \u001b[0;32m~/miniconda3/envs/dl3.9/lib/python3.9/site-packages/torch/cuda/__init__.py:319\u001b[0m, in \u001b[0;36m_lazy_init\u001b[0;34m()\u001b[0m\n\u001b[1;32m    317\u001b[0m \u001b[38;5;28;01mif\u001b[39;00m \u001b[38;5;124m\"\u001b[39m\u001b[38;5;124mCUDA_MODULE_LOADING\u001b[39m\u001b[38;5;124m\"\u001b[39m \u001b[38;5;129;01mnot\u001b[39;00m \u001b[38;5;129;01min\u001b[39;00m os\u001b[38;5;241m.\u001b[39menviron:\n\u001b[1;32m    318\u001b[0m     os\u001b[38;5;241m.\u001b[39menviron[\u001b[38;5;124m\"\u001b[39m\u001b[38;5;124mCUDA_MODULE_LOADING\u001b[39m\u001b[38;5;124m\"\u001b[39m] \u001b[38;5;241m=\u001b[39m \u001b[38;5;124m\"\u001b[39m\u001b[38;5;124mLAZY\u001b[39m\u001b[38;5;124m\"\u001b[39m\n\u001b[0;32m--> 319\u001b[0m \u001b[43mtorch\u001b[49m\u001b[38;5;241;43m.\u001b[39;49m\u001b[43m_C\u001b[49m\u001b[38;5;241;43m.\u001b[39;49m\u001b[43m_cuda_init\u001b[49m\u001b[43m(\u001b[49m\u001b[43m)\u001b[49m\n\u001b[1;32m    320\u001b[0m \u001b[38;5;66;03m# Some of the queued calls may reentrantly call _lazy_init();\u001b[39;00m\n\u001b[1;32m    321\u001b[0m \u001b[38;5;66;03m# we need to just return without initializing in that case.\u001b[39;00m\n\u001b[1;32m    322\u001b[0m \u001b[38;5;66;03m# However, we must not let any *other* threads in!\u001b[39;00m\n\u001b[1;32m    323\u001b[0m _tls\u001b[38;5;241m.\u001b[39mis_initializing \u001b[38;5;241m=\u001b[39m \u001b[38;5;28;01mTrue\u001b[39;00m\n",
      "\u001b[0;31mRuntimeError\u001b[0m: Found no NVIDIA driver on your system. Please check that you have an NVIDIA GPU and installed a driver from http://www.nvidia.com/Download/index.aspx"
     ]
    }
   ],
   "source": [
    "best_acc, final_acc, (\n",
    "            clf, best_state, best_preds, preds, labels_val), losses_train = get_linear_acc(\n",
    "            X_train,\n",
    "            y_train,\n",
    "           X_train,\n",
    "            y_train,\n",
    "            2, epochs=50,\n",
    "            print_ret=True,\n",
    "            batch_size=512,\n",
    "            cosine=True,\n",
    "            nonlinear=True,\n",
    "            learning_rate=0.05,\n",
    "            weight_decay=0.0003)"
   ]
  },
  {
   "cell_type": "code",
   "execution_count": 28,
   "metadata": {},
   "outputs": [
    {
     "name": "stdout",
     "output_type": "stream",
     "text": [
      "test set acc: 0.8755963302752293 AUROC:0.7877685287951659\n"
     ]
    }
   ],
   "source": [
    "clf.eval()\n",
    "output = clf(torch.from_numpy(X_test).to(torch.float32).cuda())\n",
    "scores_test = torch.sigmoid(output).cpu().data.numpy()\n",
    "pred_test=scores_test>0.5\n",
    "print(f'test set acc: {accuracy_score(y_test,pred_test)} AUROC:{roc_auc_score(y_test,scores_test)}')"
   ]
  }
 ],
 "metadata": {
  "kernelspec": {
   "display_name": "dl3.9",
   "language": "python",
   "name": "python3"
  },
  "language_info": {
   "codemirror_mode": {
    "name": "ipython",
    "version": 3
   },
   "file_extension": ".py",
   "mimetype": "text/x-python",
   "name": "python",
   "nbconvert_exporter": "python",
   "pygments_lexer": "ipython3",
   "version": "3.9.20"
  }
 },
 "nbformat": 4,
 "nbformat_minor": 2
}
