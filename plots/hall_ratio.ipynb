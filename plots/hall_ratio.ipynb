{
 "cells": [
  {
   "cell_type": "code",
   "execution_count": 3,
   "metadata": {},
   "outputs": [],
   "source": [
    "import os\n",
    "import torch\n",
    "import numpy as np\n",
    "from glob import glob\n",
    "from tqdm.auto import tqdm\n",
    "from sklearn.linear_model import LogisticRegression\n",
    "import pandas as pd\n",
    "import numpy as np\n",
    "import torch\n",
    "from tqdm import tqdm\n",
    "import random\n",
    "import os\n",
    "from sklearn.metrics import roc_auc_score,accuracy_score,roc_curve"
   ]
  },
  {
   "cell_type": "code",
   "execution_count": 5,
   "metadata": {},
   "outputs": [
    {
     "data": {
      "text/plain": [
       "([87.2, 82.3, 82.3, 82.3, 82.3, 82.3, 82.3, 82.3, 82.3], 9)"
      ]
     },
     "execution_count": 5,
     "metadata": {},
     "output_type": "execute_result"
    }
   ],
   "source": [
    "pope_results=np.load('./pope_layers.npy',allow_pickle=True)\n",
    "pope_scores=[x['score'] for x in pope_results if x['layer'] == 20]\n",
    "pope_scores,len(pope_scores)"
   ]
  },
  {
   "cell_type": "code",
   "execution_count": 4,
   "metadata": {},
   "outputs": [
    {
     "data": {
      "text/plain": [
       "([np.float64(0.6964204301880116),\n",
       "  np.float64(0.7166599187528495),\n",
       "  np.float64(0.7250865887764615),\n",
       "  np.float64(0.7207588511081322),\n",
       "  np.float64(0.7115088221885015),\n",
       "  np.float64(0.7101708639824712),\n",
       "  np.float64(0.7070466932954089),\n",
       "  np.float64(0.7197509169224068),\n",
       "  np.float64(0.7213942324049565),\n",
       "  np.float64(0.7189488224606864)],\n",
       " 10)"
      ]
     },
     "execution_count": 4,
     "metadata": {},
     "output_type": "execute_result"
    }
   ],
   "source": [
    "vizwiz_results=np.load('./VizWiz_layers.npy',allow_pickle=True)\n",
    "vizwiz_scores=[x['score'] for x in vizwiz_results if x['layer'] == 20]\n",
    "vizwiz_scores,len(vizwiz_scores)"
   ]
  },
  {
   "cell_type": "code",
   "execution_count": 5,
   "metadata": {},
   "outputs": [
    {
     "data": {
      "text/plain": [
       "([np.float64(0.7773484430301653),\n",
       "  np.float64(0.7238800316048101),\n",
       "  np.float64(0.701545605091405),\n",
       "  np.float64(0.6973812384323148),\n",
       "  np.float64(0.6801447110649306),\n",
       "  np.float64(0.6812757736143131),\n",
       "  np.float64(0.6952084077453431),\n",
       "  np.float64(0.6806940069920231),\n",
       "  np.float64(0.6880675606931411),\n",
       "  np.float64(0.6870826162721477)],\n",
       " 10)"
      ]
     },
     "execution_count": 5,
     "metadata": {},
     "output_type": "execute_result"
    }
   ],
   "source": [
    "vqa_results=np.load('./VQA_layers.npy',allow_pickle=True)\n",
    "vqa_scores=[x['score'] for x in vqa_results if x['layer'] == 20]\n",
    "vqa_scores,len(vqa_scores)"
   ]
  },
  {
   "cell_type": "code",
   "execution_count": 6,
   "metadata": {},
   "outputs": [
    {
     "data": {
      "text/plain": [
       "([np.float64(0.5291046756563997),\n",
       "  np.float64(0.7252699407871822),\n",
       "  np.float64(0.6204989136023619),\n",
       "  np.float64(0.697322154218706),\n",
       "  np.float64(0.6958750062198338),\n",
       "  np.float64(0.6540901627108524),\n",
       "  np.float64(0.5616758720206996),\n",
       "  np.float64(0.5244418735798047),\n",
       "  np.float64(0.5303901079763149),\n",
       "  np.float64(0.5354820785855269)],\n",
       " 10)"
      ]
     },
     "execution_count": 6,
     "metadata": {},
     "output_type": "execute_result"
    }
   ],
   "source": [
    "vqaidk_results=np.load('./VQAIDK_layers.npy',allow_pickle=True)\n",
    "vqaidk_scores=[x['score'] for x in vqaidk_results if x['layer'] == 26]\n",
    "vqaidk_scores,len(vqaidk_scores)"
   ]
  },
  {
   "cell_type": "code",
   "execution_count": 6,
   "metadata": {},
   "outputs": [
    {
     "data": {
      "image/png": "[encoded data removed]",
      "text/plain": [
       "<Figure size 640x480 with 1 Axes>"
      ]
     },
     "metadata": {},
     "output_type": "display_data"
    }
   ],
   "source": [
    "import matplotlib.pyplot as plt\n",
    "import numpy as np\n",
    "\n",
    "# Generate x values from 0 to 4π\n",
    "x = np.arange(1,len(pope_scores)+1)\n",
    "\n",
    "\n",
    "\n",
    "# Create the plot\n",
    "plt.plot(x, pope_scores, linestyle='--',marker='*',color='blue',label='POPE',markersize=5)\n",
    "plt.plot(x, vizwiz_scores, linestyle='--',marker='H',color='green',label='VizWiz',markersize=5)\n",
    "plt.plot(x, vqa_scores, linestyle='--',marker='s',color='orange',label='VQA v2',markersize=5)\n",
    "plt.plot(x, vqaidk_scores, linestyle='--',marker='h',color='purple',label='VQAv2-IDK',markersize=5)\n",
    "\n",
    "# Add labels and title\n",
    "plt.xlabel('Number of components',fontsize=14)\n",
    "plt.ylabel('AUROC',fontsize=14)\n",
    "\n",
    "plt.xticks(np.arange(1, len(pope_scores)+1))  # Force integer ticks\n",
    "\n",
    "# Add a legend\n",
    "plt.legend()\n",
    "plt.savefig('results_components.pdf',format=\"pdf\",bbox_inches='tight')\n",
    "# Show the plot\n",
    "plt.show()\n"
   ]
  }
 ],
 "metadata": {
  "kernelspec": {
   "display_name": "dl3.9",
   "language": "python",
   "name": "python3"
  },
  "language_info": {
   "codemirror_mode": {
    "name": "ipython",
    "version": 3
   },
   "file_extension": ".py",
   "mimetype": "text/x-python",
   "name": "python",
   "nbconvert_exporter": "python",
   "pygments_lexer": "ipython3",
   "version": "3.9.20"
  }
 },
 "nbformat": 4,
 "nbformat_minor": 2
}
