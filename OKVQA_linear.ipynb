{
 "cells": [
  {
   "cell_type": "code",
   "execution_count": 1,
   "metadata": {},
   "outputs": [],
   "source": [
    "%load_ext autoreload\n",
    "%autoreload 2\n",
    "import os\n",
    "import torch\n",
    "import numpy as np\n",
    "from glob import glob\n",
    "from tqdm.auto import tqdm\n",
    "from sklearn.linear_model import LogisticRegression\n",
    "import pandas as pd\n",
    "from utils.store_data import ReadData\n",
    "import numpy as np\n",
    "import torch\n",
    "from utils.arguments import Arguments\n",
    "from tqdm import tqdm\n",
    "from sklearn.decomposition import PCA\n",
    "from linear_probe import get_linear_acc\n",
    "import random\n",
    "import os\n",
    "from sklearn.metrics import roc_auc_score,accuracy_score,roc_curve,f1_score\n",
    "from ml_utils.metrics import aur_pr\n",
    "from answer_judge import load_judge"
   ]
  },
  {
   "cell_type": "code",
   "execution_count": 2,
   "metadata": {},
   "outputs": [],
   "source": [
    "data_train=ReadData('/root/autodl-tmp/hallscope/AOKVQA/train').read_all()\n",
    "random.shuffle(data_train)\n",
    "#data_val=ReadData('/root/autodl-fs/hallscope/ScienceQA/val').read_all()\n",
    "#data_test=ReadData('/root/autodl-fs/hallscope/ScienceQA/test').read_all()"
   ]
  },
  {
   "cell_type": "code",
   "execution_count": 3,
   "metadata": {},
   "outputs": [],
   "source": [
    "df_train=pd.DataFrame(data_train)\n",
    "#df_val=pd.DataFrame(data_val)\n",
    "#df_test=pd.DataFrame(data_test)"
   ]
  },
  {
   "cell_type": "code",
   "execution_count": 4,
   "metadata": {},
   "outputs": [
    {
     "data": {
      "text/html": [
       "<div>\n",
       "<style scoped>\n",
       "    .dataframe tbody tr th:only-of-type {\n",
       "        vertical-align: middle;\n",
       "    }\n",
       "\n",
       "    .dataframe tbody tr th {\n",
       "        vertical-align: top;\n",
       "    }\n",
       "\n",
       "    .dataframe thead th {\n",
       "        text-align: right;\n",
       "    }\n",
       "</style>\n",
       "<table border=\"1\" class=\"dataframe\">\n",
       "  <thead>\n",
       "    <tr style=\"text-align: right;\">\n",
       "      <th></th>\n",
       "      <th>img_path</th>\n",
       "      <th>question</th>\n",
       "      <th>answer</th>\n",
       "      <th>most_likely</th>\n",
       "      <th>responses</th>\n",
       "    </tr>\n",
       "  </thead>\n",
       "  <tbody>\n",
       "    <tr>\n",
       "      <th>0</th>\n",
       "      <td>[/root/autodl-tmp/coco2017/train2017/000000040...</td>\n",
       "      <td>[Question:What is she doing?\\nAnswer the Quest...</td>\n",
       "      <td>[tensor(1), tensor(2), tensor(1), tensor(2), t...</td>\n",
       "      <td>{'embedding': [[[ 7.2813034e-04  6.3419342e-04...</td>\n",
       "      <td>None</td>\n",
       "    </tr>\n",
       "    <tr>\n",
       "      <th>1</th>\n",
       "      <td>[/root/autodl-tmp/coco2017/train2017/000000374...</td>\n",
       "      <td>[Question:What is the women about to do?\\nAnsw...</td>\n",
       "      <td>[tensor(2), tensor(3), tensor(1), tensor(3), t...</td>\n",
       "      <td>{'embedding': [[[ 7.2813034e-04  6.3419342e-04...</td>\n",
       "      <td>None</td>\n",
       "    </tr>\n",
       "    <tr>\n",
       "      <th>2</th>\n",
       "      <td>[/root/autodl-tmp/coco2017/train2017/000000227...</td>\n",
       "      <td>[Question:The company advertised makes which o...</td>\n",
       "      <td>[tensor(2), tensor(0), tensor(2), tensor(2), t...</td>\n",
       "      <td>{'embedding': [[[ 7.2813034e-04  6.3419342e-04...</td>\n",
       "      <td>None</td>\n",
       "    </tr>\n",
       "    <tr>\n",
       "      <th>3</th>\n",
       "      <td>[/root/autodl-tmp/coco2017/train2017/000000000...</td>\n",
       "      <td>[Question:What is the woman in yellow waiting ...</td>\n",
       "      <td>[tensor(2), tensor(0), tensor(2), tensor(3), t...</td>\n",
       "      <td>{'embedding': [[[ 7.2813034e-04  6.3419342e-04...</td>\n",
       "      <td>None</td>\n",
       "    </tr>\n",
       "    <tr>\n",
       "      <th>4</th>\n",
       "      <td>[/root/autodl-tmp/coco2017/train2017/000000287...</td>\n",
       "      <td>[Question:At which building does the purple tr...</td>\n",
       "      <td>[tensor(0), tensor(0), tensor(2), tensor(2), t...</td>\n",
       "      <td>{'embedding': [[[ 7.2813034e-04  6.3419342e-04...</td>\n",
       "      <td>None</td>\n",
       "    </tr>\n",
       "  </tbody>\n",
       "</table>\n",
       "</div>"
      ],
      "text/plain": [
       "                                            img_path  \\\n",
       "0  [/root/autodl-tmp/coco2017/train2017/000000040...   \n",
       "1  [/root/autodl-tmp/coco2017/train2017/000000374...   \n",
       "2  [/root/autodl-tmp/coco2017/train2017/000000227...   \n",
       "3  [/root/autodl-tmp/coco2017/train2017/000000000...   \n",
       "4  [/root/autodl-tmp/coco2017/train2017/000000287...   \n",
       "\n",
       "                                            question  \\\n",
       "0  [Question:What is she doing?\\nAnswer the Quest...   \n",
       "1  [Question:What is the women about to do?\\nAnsw...   \n",
       "2  [Question:The company advertised makes which o...   \n",
       "3  [Question:What is the woman in yellow waiting ...   \n",
       "4  [Question:At which building does the purple tr...   \n",
       "\n",
       "                                              answer  \\\n",
       "0  [tensor(1), tensor(2), tensor(1), tensor(2), t...   \n",
       "1  [tensor(2), tensor(3), tensor(1), tensor(3), t...   \n",
       "2  [tensor(2), tensor(0), tensor(2), tensor(2), t...   \n",
       "3  [tensor(2), tensor(0), tensor(2), tensor(3), t...   \n",
       "4  [tensor(0), tensor(0), tensor(2), tensor(2), t...   \n",
       "\n",
       "                                         most_likely responses  \n",
       "0  {'embedding': [[[ 7.2813034e-04  6.3419342e-04...      None  \n",
       "1  {'embedding': [[[ 7.2813034e-04  6.3419342e-04...      None  \n",
       "2  {'embedding': [[[ 7.2813034e-04  6.3419342e-04...      None  \n",
       "3  {'embedding': [[[ 7.2813034e-04  6.3419342e-04...      None  \n",
       "4  {'embedding': [[[ 7.2813034e-04  6.3419342e-04...      None  "
      ]
     },
     "execution_count": 4,
     "metadata": {},
     "output_type": "execute_result"
    }
   ],
   "source": [
    "df_train.head()"
   ]
  },
  {
   "cell_type": "code",
   "execution_count": 5,
   "metadata": {},
   "outputs": [
    {
     "data": {
      "text/plain": [
       "['B', 'C', 'B', 'C', 'D.duck', 'B.electricity', 'D', 'D']"
      ]
     },
     "execution_count": 5,
     "metadata": {},
     "output_type": "execute_result"
    }
   ],
   "source": [
    "i=0\n",
    "df_train.iloc[i]['most_likely']['response']"
   ]
  },
  {
   "cell_type": "code",
   "execution_count": 6,
   "metadata": {},
   "outputs": [
    {
     "data": {
      "text/plain": [
       "['/root/autodl-tmp/coco2017/train2017/000000040446.jpg',\n",
       " '/root/autodl-tmp/coco2017/train2017/000000227495.jpg',\n",
       " '/root/autodl-tmp/coco2017/train2017/000000204024.jpg',\n",
       " '/root/autodl-tmp/coco2017/train2017/000000349647.jpg',\n",
       " '/root/autodl-tmp/coco2017/train2017/000000428595.jpg',\n",
       " '/root/autodl-tmp/coco2017/train2017/000000023047.jpg',\n",
       " '/root/autodl-tmp/coco2017/train2017/000000484369.jpg',\n",
       " '/root/autodl-tmp/coco2017/train2017/000000567220.jpg']"
      ]
     },
     "execution_count": 6,
     "metadata": {},
     "output_type": "execute_result"
    }
   ],
   "source": [
    "df_train.iloc[i]['img_path']"
   ]
  },
  {
   "cell_type": "code",
   "execution_count": 7,
   "metadata": {},
   "outputs": [
    {
     "data": {
      "text/plain": [
       "['Question:What is she doing?\\nAnswer the Question with following choices.\\nChoices: A.resting B.praying C.hiding D.eating\\n',\n",
       " 'Question:What is the man wearing?\\nAnswer the Question with following choices.\\nChoices: A.glasses B.clown nose C.headband D.gas mask\\n',\n",
       " 'Question:What is the person skiing on?\\nAnswer the Question with following choices.\\nChoices: A.ice B.water C.snow D.sand\\n',\n",
       " 'Question:What will the woman drink with her pizza?\\nAnswer the Question with following choices.\\nChoices: A.milk B.coke C.beer D.wine\\n',\n",
       " 'Question:What do the women here find most interesting?\\nAnswer the Question with following choices.\\nChoices: A.walkway B.goose C.child D.duck\\n',\n",
       " 'Question:What energy powers the blender?\\nAnswer the Question with following choices.\\nChoices: A.solar B.electricity C.battery D.manual\\n',\n",
       " \"Question:What is used for the bear's eye?\\nAnswer the Question with following choices.\\nChoices: A.lid B.rock C.coin D.button\\n\",\n",
       " 'Question:Which towel has been used recently for a shower?\\nAnswer the Question with following choices.\\nChoices: A.black B.green C.blue D.grey\\n']"
      ]
     },
     "execution_count": 7,
     "metadata": {},
     "output_type": "execute_result"
    }
   ],
   "source": [
    "df_train.iloc[i]['question']"
   ]
  },
  {
   "cell_type": "code",
   "execution_count": 8,
   "metadata": {},
   "outputs": [
    {
     "data": {
      "text/plain": [
       "tensor([1, 2, 1, 2, 2, 1, 3, 3])"
      ]
     },
     "execution_count": 8,
     "metadata": {},
     "output_type": "execute_result"
    }
   ],
   "source": [
    "df_train.iloc[0]['answer']"
   ]
  },
  {
   "cell_type": "code",
   "execution_count": 9,
   "metadata": {},
   "outputs": [
    {
     "data": {
      "text/plain": [
       "(17056, 33, 4096)"
      ]
     },
     "execution_count": 9,
     "metadata": {},
     "output_type": "execute_result"
    }
   ],
   "source": [
    "embeddings=df_train['most_likely'].apply(lambda x: x['embedding']).to_list()\n",
    "embeddings=np.concatenate(embeddings,axis=0)\n",
    "embeddings.shape"
   ]
  },
  {
   "cell_type": "code",
   "execution_count": 10,
   "metadata": {},
   "outputs": [
    {
     "data": {
      "text/plain": [
       "(17056,)"
      ]
     },
     "execution_count": 10,
     "metadata": {},
     "output_type": "execute_result"
    }
   ],
   "source": [
    "gt_label=df_train['answer'].to_list()\n",
    "gt_label=np.concatenate(gt_label,axis=0)\n",
    "gt_label.shape"
   ]
  },
  {
   "cell_type": "code",
   "execution_count": 11,
   "metadata": {},
   "outputs": [
    {
     "data": {
      "text/plain": [
       "np.int64(1)"
      ]
     },
     "execution_count": 11,
     "metadata": {},
     "output_type": "execute_result"
    }
   ],
   "source": [
    "gt_label[0]"
   ]
  },
  {
   "cell_type": "code",
   "execution_count": 12,
   "metadata": {},
   "outputs": [],
   "source": [
    "judge=load_judge('OKVQA')"
   ]
  },
  {
   "cell_type": "code",
   "execution_count": null,
   "metadata": {},
   "outputs": [
    {
     "name": "stdout",
     "output_type": "stream",
     "text": [
      "There are 17056 responses. 11081 answer correctly and 5975 answer wrongly\n"
     ]
    }
   ],
   "source": [
    "responses=df_train['most_likely'].apply(lambda x: x['response']).to_list()\n",
    "\n",
    "rsps=[]\n",
    "for x in responses:\n",
    "    rsps+=x\n",
    "    \n",
    "is_correct=[]\n",
    "for i,x in enumerate(rsps):\n",
    "    is_correct.append(judge.check(x,gt_label[i]))\n",
    "\n",
    "is_correct=np.array(is_correct)\n",
    "print(f'There are {len(is_correct)} responses. {sum(is_correct==1)} answer correctly and {sum(is_correct==0)} answer wrongly')"
   ]
  },
  {
   "cell_type": "code",
   "execution_count": null,
   "metadata": {},
   "outputs": [
    {
     "name": "stdout",
     "output_type": "stream",
     "text": [
      "trainset length:13644\n",
      "validset length:0\n",
      "testset length:3412\n",
      "trainset postive: 8845 negative: 4799\n",
      "valset postive: 0 negative: 0\n",
      "testset postive: 2236 negative: 1176\n"
     ]
    }
   ],
   "source": [
    "length = len(embeddings)\n",
    "train_rate = 0.8\n",
    "num_val=0\n",
    "\n",
    "embedding_train = embeddings[:int(length*train_rate)-num_val]\n",
    "embedding_val = embeddings[int(length*train_rate)-num_val:int(length*train_rate)]\n",
    "embedding_test = embeddings[int(length*train_rate):]\n",
    "\n",
    "\n",
    "y_train = is_correct[:int(length*train_rate)-num_val]\n",
    "y_val = is_correct[int(length*train_rate)-num_val:int(length*train_rate)]\n",
    "y_test = is_correct[int(length*train_rate):]\n",
    "\n",
    "\n",
    "'''get testset, wildset and valset. The valset is used for determining the hype-parameters'''\n",
    "print(f'trainset length:{len(y_train)}')\n",
    "print(f'validset length:{len(y_val)}')\n",
    "print(f'testset length:{len(y_test)}')\n",
    "print(\n",
    "    f'trainset postive: {sum(y_train==1)} negative: {sum(y_train==0)}')\n",
    "print(\n",
    "    f'valset postive: {sum(y_val==1)} negative: {sum(y_val==0)}')\n",
    "print(\n",
    "    f'testset postive: {sum(y_test==1)} negative: {sum(y_test==0)}')"
   ]
  },
  {
   "cell_type": "code",
   "execution_count": 15,
   "metadata": {},
   "outputs": [
    {
     "name": "stdout",
     "output_type": "stream",
     "text": [
      "The autoreload extension is already loaded. To reload it, use:\n",
      "  %reload_ext autoreload\n"
     ]
    }
   ],
   "source": [
    "%load_ext autoreload\n",
    "%autoreload 2\n",
    "from ml_utils.grid_search import GridSearch\n",
    "from ml_utils.PCA_discriminator import PCADiscriminator\n",
    "from ml_utils.metrics import auroc,get_best_split_from_scores"
   ]
  },
  {
   "cell_type": "markdown",
   "metadata": {},
   "source": [
    "Grid Search for Best 'n_components' & 'layer'"
   ]
  },
  {
   "cell_type": "code",
   "execution_count": 16,
   "metadata": {},
   "outputs": [],
   "source": [
    "best_layer=10"
   ]
  },
  {
   "cell_type": "code",
   "execution_count": 17,
   "metadata": {},
   "outputs": [],
   "source": [
    "X_train=embedding_train[:, best_layer,:]\n",
    "y_train=y_train\n",
    "\n",
    "X_test=embedding_test[:, best_layer,:]\n",
    "y_test=y_test"
   ]
  },
  {
   "cell_type": "code",
   "execution_count": 18,
   "metadata": {},
   "outputs": [],
   "source": [
    "best_acc, final_acc, (\n",
    "            clf, best_state, best_preds, preds, labels_val), losses_train = get_linear_acc(\n",
    "            X_train,\n",
    "            y_train,\n",
    "           X_train,\n",
    "            y_train,\n",
    "            2, epochs=50,\n",
    "            print_ret=True,\n",
    "            batch_size=512,\n",
    "            cosine=True,\n",
    "            nonlinear=True,\n",
    "            learning_rate=0.05,\n",
    "            weight_decay=0.0003)"
   ]
  },
  {
   "cell_type": "code",
   "execution_count": 19,
   "metadata": {},
   "outputs": [
    {
     "name": "stdout",
     "output_type": "stream",
     "text": [
      "test set acc: 0.6834701055099648 AUROC:0.6873982710257627 AUC-PR:0.7948696401040842 f1:0.7805770012190166\n"
     ]
    }
   ],
   "source": [
    "clf.eval()\n",
    "output = clf(torch.from_numpy(X_test).to(torch.float32).cuda())\n",
    "scores = torch.sigmoid(output).cpu().data.numpy()\n",
    "preds=scores>0.5\n",
    "print(f'test set acc: {accuracy_score(y_test,preds)} AUROC:{roc_auc_score(y_test,scores)} AUC-PR:{aur_pr(scores,y_test)} f1:{f1_score(y_test,preds)}')"
   ]
  }
 ],
 "metadata": {
  "kernelspec": {
   "display_name": "dl3.9",
   "language": "python",
   "name": "python3"
  },
  "language_info": {
   "codemirror_mode": {
    "name": "ipython",
    "version": 3
   },
   "file_extension": ".py",
   "mimetype": "text/x-python",
   "name": "python",
   "nbconvert_exporter": "python",
   "pygments_lexer": "ipython3",
   "version": "3.9.20"
  }
 },
 "nbformat": 4,
 "nbformat_minor": 2
}
