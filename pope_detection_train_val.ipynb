{
 "cells": [
  {
   "cell_type": "code",
   "execution_count": 1,
   "metadata": {},
   "outputs": [],
   "source": [
    "import os\n",
    "import torch\n",
    "import numpy as np\n",
    "from glob import glob\n",
    "from tqdm.auto import tqdm\n",
    "from sklearn.linear_model import LogisticRegression\n",
    "import pandas as pd\n",
    "from utils.store_data import ReadData\n",
    "import numpy as np\n",
    "import torch\n",
    "from utils.arguments import Arguments\n",
    "from tqdm import tqdm\n",
    "from sklearn.decomposition import PCA\n",
    "from linear_probe import get_linear_acc\n",
    "import random\n",
    "import os\n",
    "from sklearn.metrics import roc_auc_score,accuracy_score,roc_curve,f1_score\n",
    "from ml_utils.metrics import aur_pr"
   ]
  },
  {
   "cell_type": "code",
   "execution_count": 2,
   "metadata": {},
   "outputs": [],
   "source": [
    "data_train=ReadData('/root/autodl-fs/hallscope/pope/adversarial/train').read_all()\n",
    "data_val=ReadData('/root/autodl-fs/hallscope/pope/adversarial/val').read_all()\n",
    "random.shuffle(data_train)"
   ]
  },
  {
   "cell_type": "code",
   "execution_count": 6,
   "metadata": {},
   "outputs": [],
   "source": [
    "df_train=pd.DataFrame(data_train)\n",
    "df_test=pd.DataFrame(data_val)"
   ]
  },
  {
   "cell_type": "code",
   "execution_count": 7,
   "metadata": {},
   "outputs": [
    {
     "data": {
      "text/html": [
       "<div>\n",
       "<style scoped>\n",
       "    .dataframe tbody tr th:only-of-type {\n",
       "        vertical-align: middle;\n",
       "    }\n",
       "\n",
       "    .dataframe tbody tr th {\n",
       "        vertical-align: top;\n",
       "    }\n",
       "\n",
       "    .dataframe thead th {\n",
       "        text-align: right;\n",
       "    }\n",
       "</style>\n",
       "<table border=\"1\" class=\"dataframe\">\n",
       "  <thead>\n",
       "    <tr style=\"text-align: right;\">\n",
       "      <th></th>\n",
       "      <th>img_path</th>\n",
       "      <th>question</th>\n",
       "      <th>label</th>\n",
       "      <th>question_id</th>\n",
       "      <th>category</th>\n",
       "      <th>most_likely</th>\n",
       "    </tr>\n",
       "  </thead>\n",
       "  <tbody>\n",
       "    <tr>\n",
       "      <th>0</th>\n",
       "      <td>[/root/autodl-fs/coco_images/train/COCO_train2...</td>\n",
       "      <td>[Is there a dog in the image?\\nAnswer the ques...</td>\n",
       "      <td>[1, 0, 1, 0, 1, 0, 1, 0]</td>\n",
       "      <td>[tensor(11945), tensor(11946), tensor(11947), ...</td>\n",
       "      <td>[adversarial, adversarial, adversarial, advers...</td>\n",
       "      <td>{'embedding': [[[ 0.00389099  0.00149536  0.00...</td>\n",
       "    </tr>\n",
       "    <tr>\n",
       "      <th>1</th>\n",
       "      <td>[/root/autodl-fs/coco_images/train/COCO_train2...</td>\n",
       "      <td>[Is there a couch in the image?\\nAnswer the qu...</td>\n",
       "      <td>[1, 0, 1, 0, 1, 0, 1, 0]</td>\n",
       "      <td>[tensor(12001), tensor(12002), tensor(12003), ...</td>\n",
       "      <td>[adversarial, adversarial, adversarial, advers...</td>\n",
       "      <td>{'embedding': [[[ 0.00389099  0.00149536  0.00...</td>\n",
       "    </tr>\n",
       "    <tr>\n",
       "      <th>2</th>\n",
       "      <td>[/root/autodl-fs/coco_images/train/COCO_train2...</td>\n",
       "      <td>[Is there a surfboard in the image?\\nAnswer th...</td>\n",
       "      <td>[1, 0, 1, 0, 1, 0, 1, 0]</td>\n",
       "      <td>[tensor(4001), tensor(4002), tensor(4003), ten...</td>\n",
       "      <td>[adversarial, adversarial, adversarial, advers...</td>\n",
       "      <td>{'embedding': [[[ 0.00389099  0.00149536  0.00...</td>\n",
       "    </tr>\n",
       "    <tr>\n",
       "      <th>3</th>\n",
       "      <td>[/root/autodl-fs/coco_images/train/COCO_train2...</td>\n",
       "      <td>[Is there a person in the image?\\nAnswer the q...</td>\n",
       "      <td>[1, 0, 1, 0, 1, 0, 1, 0]</td>\n",
       "      <td>[tensor(16329), tensor(16330), tensor(16331), ...</td>\n",
       "      <td>[adversarial, adversarial, adversarial, advers...</td>\n",
       "      <td>{'embedding': [[[ 0.00389099  0.00149536  0.00...</td>\n",
       "    </tr>\n",
       "    <tr>\n",
       "      <th>4</th>\n",
       "      <td>[/root/autodl-fs/coco_images/train/COCO_train2...</td>\n",
       "      <td>[Is there a person in the image?\\nAnswer the q...</td>\n",
       "      <td>[1, 0, 1, 0, 1, 0, 1, 0]</td>\n",
       "      <td>[tensor(11529), tensor(11530), tensor(11531), ...</td>\n",
       "      <td>[adversarial, adversarial, adversarial, advers...</td>\n",
       "      <td>{'embedding': [[[ 0.00389099  0.00149536  0.00...</td>\n",
       "    </tr>\n",
       "  </tbody>\n",
       "</table>\n",
       "</div>"
      ],
      "text/plain": [
       "                                            img_path  \\\n",
       "0  [/root/autodl-fs/coco_images/train/COCO_train2...   \n",
       "1  [/root/autodl-fs/coco_images/train/COCO_train2...   \n",
       "2  [/root/autodl-fs/coco_images/train/COCO_train2...   \n",
       "3  [/root/autodl-fs/coco_images/train/COCO_train2...   \n",
       "4  [/root/autodl-fs/coco_images/train/COCO_train2...   \n",
       "\n",
       "                                            question  \\\n",
       "0  [Is there a dog in the image?\\nAnswer the ques...   \n",
       "1  [Is there a couch in the image?\\nAnswer the qu...   \n",
       "2  [Is there a surfboard in the image?\\nAnswer th...   \n",
       "3  [Is there a person in the image?\\nAnswer the q...   \n",
       "4  [Is there a person in the image?\\nAnswer the q...   \n",
       "\n",
       "                      label  \\\n",
       "0  [1, 0, 1, 0, 1, 0, 1, 0]   \n",
       "1  [1, 0, 1, 0, 1, 0, 1, 0]   \n",
       "2  [1, 0, 1, 0, 1, 0, 1, 0]   \n",
       "3  [1, 0, 1, 0, 1, 0, 1, 0]   \n",
       "4  [1, 0, 1, 0, 1, 0, 1, 0]   \n",
       "\n",
       "                                         question_id  \\\n",
       "0  [tensor(11945), tensor(11946), tensor(11947), ...   \n",
       "1  [tensor(12001), tensor(12002), tensor(12003), ...   \n",
       "2  [tensor(4001), tensor(4002), tensor(4003), ten...   \n",
       "3  [tensor(16329), tensor(16330), tensor(16331), ...   \n",
       "4  [tensor(11529), tensor(11530), tensor(11531), ...   \n",
       "\n",
       "                                            category  \\\n",
       "0  [adversarial, adversarial, adversarial, advers...   \n",
       "1  [adversarial, adversarial, adversarial, advers...   \n",
       "2  [adversarial, adversarial, adversarial, advers...   \n",
       "3  [adversarial, adversarial, adversarial, advers...   \n",
       "4  [adversarial, adversarial, adversarial, advers...   \n",
       "\n",
       "                                         most_likely  \n",
       "0  {'embedding': [[[ 0.00389099  0.00149536  0.00...  \n",
       "1  {'embedding': [[[ 0.00389099  0.00149536  0.00...  \n",
       "2  {'embedding': [[[ 0.00389099  0.00149536  0.00...  \n",
       "3  {'embedding': [[[ 0.00389099  0.00149536  0.00...  \n",
       "4  {'embedding': [[[ 0.00389099  0.00149536  0.00...  "
      ]
     },
     "execution_count": 7,
     "metadata": {},
     "output_type": "execute_result"
    }
   ],
   "source": [
    "df_train.head()"
   ]
  },
  {
   "cell_type": "code",
   "execution_count": 8,
   "metadata": {},
   "outputs": [
    {
     "data": {
      "text/plain": [
       "(9816, 33, 4096)"
      ]
     },
     "execution_count": 8,
     "metadata": {},
     "output_type": "execute_result"
    }
   ],
   "source": [
    "embedding_train=df_train['most_likely'].apply(lambda x: x['embedding']).to_list()\n",
    "embedding_train=np.concatenate(embedding_train,axis=0)\n",
    "embedding_train.shape"
   ]
  },
  {
   "cell_type": "code",
   "execution_count": 9,
   "metadata": {},
   "outputs": [
    {
     "data": {
      "text/plain": [
       "(3000, 33, 4096)"
      ]
     },
     "execution_count": 9,
     "metadata": {},
     "output_type": "execute_result"
    }
   ],
   "source": [
    "embedding_test=df_test['most_likely'].apply(lambda x: x['embedding']).to_list()\n",
    "embedding_test=np.concatenate(embedding_test,axis=0)\n",
    "embedding_test.shape"
   ]
  },
  {
   "cell_type": "code",
   "execution_count": 10,
   "metadata": {},
   "outputs": [
    {
     "data": {
      "text/plain": [
       "(12816,)"
      ]
     },
     "execution_count": 10,
     "metadata": {},
     "output_type": "execute_result"
    }
   ],
   "source": [
    "gt_label=df_train['label'].to_list()+df_test['label'].to_list()\n",
    "gt_label=np.concatenate(gt_label,axis=0)\n",
    "gt_label.shape"
   ]
  },
  {
   "cell_type": "code",
   "execution_count": 11,
   "metadata": {},
   "outputs": [
    {
     "name": "stdout",
     "output_type": "stream",
     "text": [
      "There are 12816 responses. 10745 answer correctly and 2071 answer wrongly\n"
     ]
    }
   ],
   "source": [
    "responses=df_train['most_likely'].apply(lambda x: x['response']).to_list()+df_test['most_likely'].apply(lambda x: x['response']).to_list()\n",
    "resps=[]\n",
    "for x in responses:\n",
    "    resps+=x\n",
    "is_hall=[]\n",
    "for i,x in enumerate(resps):\n",
    "    if x.lower()=='no' and gt_label[i]==0:\n",
    "        is_hall.append(1)\n",
    "    elif x.lower()=='yes' and gt_label[i]==1:\n",
    "        is_hall.append(1)\n",
    "    else:\n",
    "        is_hall.append(0)\n",
    "is_hall=np.array(is_hall)\n",
    "print(f'There are {len(is_hall)} responses. {sum(is_hall==1)} answer correctly and {sum(is_hall==0)} answer wrongly')"
   ]
  },
  {
   "cell_type": "code",
   "execution_count": 12,
   "metadata": {},
   "outputs": [
    {
     "name": "stdout",
     "output_type": "stream",
     "text": [
      "trainset length:7852\n",
      "validset length:1964\n",
      "testset length:3000\n",
      "trainset postive: 6595 negative: 1257\n",
      "testset postive: 2519 negative: 481\n"
     ]
    }
   ],
   "source": [
    "len_train = len(embedding_train)\n",
    "train_rate = 0.8\n",
    "\n",
    "embedding_train_val = embedding_train\n",
    "embedding_train = embedding_train_val[:int(len_train*train_rate)]\n",
    "embedding_val = embedding_train_val[int(len_train*train_rate):]\n",
    "\n",
    "embedding_test = embedding_test\n",
    "\n",
    "y_train = is_hall[:int(len_train*train_rate)]\n",
    "y_val = is_hall[int(len_train*train_rate):len_train]\n",
    "y_test = is_hall[len_train:]\n",
    "\n",
    "\n",
    "'''get testset, wildset and valset. The valset is used for determining the hype-parameters'''\n",
    "print(f'trainset length:{len(y_train)}')\n",
    "print(f'validset length:{len(y_val)}')\n",
    "print(f'testset length:{len(y_test)}')\n",
    "print(\n",
    "    f'trainset postive: {sum(y_train==1)} negative: {sum(y_train==0)}')\n",
    "print(\n",
    "    f'testset postive: {sum(y_test==1)} negative: {sum(y_test==0)}')"
   ]
  },
  {
   "cell_type": "code",
   "execution_count": 13,
   "metadata": {},
   "outputs": [],
   "source": [
    "%load_ext autoreload \n",
    "%autoreload 2\n",
    "from ml_utils.grid_search import GridSearch\n",
    "from ml_utils.PCA_discriminator import PCADiscriminator\n",
    "from ml_utils.metrics import auroc,get_best_split_from_scores"
   ]
  },
  {
   "cell_type": "markdown",
   "metadata": {},
   "source": [
    "Grid Search for Best 'n_components' & 'layer'"
   ]
  },
  {
   "cell_type": "code",
   "execution_count": 14,
   "metadata": {},
   "outputs": [],
   "source": [
    "def evaluator(n_components,i_layer,X,y):\n",
    "    discriminator=PCADiscriminator(n_components,X[:,i_layer,:])\n",
    "    scores=discriminator.get_score()\n",
    "    return auroc(scores,y)"
   ]
  },
  {
   "cell_type": "code",
   "execution_count": 15,
   "metadata": {},
   "outputs": [
    {
     "name": "stdout",
     "output_type": "stream",
     "text": [
      "Grid Searching for best n_components,layer\n"
     ]
    },
    {
     "name": "stderr",
     "output_type": "stream",
     "text": [
      "  0%|          | 0/11 [00:00<?, ?it/s]"
     ]
    },
    {
     "name": "stdout",
     "output_type": "stream",
     "text": [
      "found best n_components:1,layer:0 Score: 0.5\n"
     ]
    },
    {
     "name": "stderr",
     "output_type": "stream",
     "text": [
      "/root/miniconda3/envs/dl3.9/lib/python3.9/site-packages/sklearn/decomposition/_pca.py:794: RuntimeWarning: invalid value encountered in divide\n",
      "  self.explained_variance_ratio_ = self.explained_variance_ / total_var\n"
     ]
    },
    {
     "name": "stdout",
     "output_type": "stream",
     "text": [
      "found best n_components:1,layer:3 Score: 0.5262343888953331\n",
      "found best n_components:1,layer:4 Score: 0.528322313730039\n",
      "found best n_components:1,layer:6 Score: 0.5327945971722796\n",
      "found best n_components:1,layer:7 Score: 0.5864509512578182\n",
      "found best n_components:1,layer:14 Score: 0.5962443129825103\n",
      "found best n_components:1,layer:15 Score: 0.7553077295566565\n",
      "found best n_components:1,layer:16 Score: 0.7831006972637874\n",
      "found best n_components:1,layer:17 Score: 0.7837561657304146\n"
     ]
    },
    {
     "name": "stderr",
     "output_type": "stream",
     "text": [
      "  9%|▉         | 1/11 [00:02<00:27,  2.72s/it]/root/miniconda3/envs/dl3.9/lib/python3.9/site-packages/sklearn/decomposition/_pca.py:794: RuntimeWarning: invalid value encountered in divide\n",
      "  self.explained_variance_ratio_ = self.explained_variance_ / total_var\n",
      " 18%|█▊        | 2/11 [00:05<00:24,  2.71s/it]/root/miniconda3/envs/dl3.9/lib/python3.9/site-packages/sklearn/decomposition/_pca.py:794: RuntimeWarning: invalid value encountered in divide\n",
      "  self.explained_variance_ratio_ = self.explained_variance_ / total_var\n",
      " 27%|██▋       | 3/11 [00:08<00:22,  2.76s/it]/root/miniconda3/envs/dl3.9/lib/python3.9/site-packages/sklearn/decomposition/_pca.py:794: RuntimeWarning: invalid value encountered in divide\n",
      "  self.explained_variance_ratio_ = self.explained_variance_ / total_var\n",
      " 36%|███▋      | 4/11 [00:11<00:20,  2.96s/it]/root/miniconda3/envs/dl3.9/lib/python3.9/site-packages/sklearn/decomposition/_pca.py:794: RuntimeWarning: invalid value encountered in divide\n",
      "  self.explained_variance_ratio_ = self.explained_variance_ / total_var\n",
      " 45%|████▌     | 5/11 [00:14<00:18,  3.08s/it]/root/miniconda3/envs/dl3.9/lib/python3.9/site-packages/sklearn/decomposition/_pca.py:794: RuntimeWarning: invalid value encountered in divide\n",
      "  self.explained_variance_ratio_ = self.explained_variance_ / total_var\n",
      " 55%|█████▍    | 6/11 [00:18<00:15,  3.14s/it]/root/miniconda3/envs/dl3.9/lib/python3.9/site-packages/sklearn/decomposition/_pca.py:794: RuntimeWarning: invalid value encountered in divide\n",
      "  self.explained_variance_ratio_ = self.explained_variance_ / total_var\n",
      " 64%|██████▎   | 7/11 [00:21<00:12,  3.19s/it]/root/miniconda3/envs/dl3.9/lib/python3.9/site-packages/sklearn/decomposition/_pca.py:794: RuntimeWarning: invalid value encountered in divide\n",
      "  self.explained_variance_ratio_ = self.explained_variance_ / total_var\n",
      " 73%|███████▎  | 8/11 [00:24<00:09,  3.24s/it]/root/miniconda3/envs/dl3.9/lib/python3.9/site-packages/sklearn/decomposition/_pca.py:794: RuntimeWarning: invalid value encountered in divide\n",
      "  self.explained_variance_ratio_ = self.explained_variance_ / total_var\n",
      " 82%|████████▏ | 9/11 [00:28<00:06,  3.32s/it]/root/miniconda3/envs/dl3.9/lib/python3.9/site-packages/sklearn/decomposition/_pca.py:794: RuntimeWarning: invalid value encountered in divide\n",
      "  self.explained_variance_ratio_ = self.explained_variance_ / total_var\n",
      " 91%|█████████ | 10/11 [00:31<00:03,  3.32s/it]/root/miniconda3/envs/dl3.9/lib/python3.9/site-packages/sklearn/decomposition/_pca.py:794: RuntimeWarning: invalid value encountered in divide\n",
      "  self.explained_variance_ratio_ = self.explained_variance_ / total_var\n",
      "100%|██████████| 11/11 [00:34<00:00,  3.16s/it]\n"
     ]
    }
   ],
   "source": [
    "# graid search for best hyper-parameters on validation set\n",
    "grid={\n",
    "    'n_components':range(1,12),\n",
    "    'layer':range(embedding_val.shape[1])\n",
    "}\n",
    "grid_search=GridSearch(evaluator,grid,embedding_val,y_val)\n",
    "best_paras=grid_search.search()"
   ]
  },
  {
   "cell_type": "code",
   "execution_count": 16,
   "metadata": {},
   "outputs": [
    {
     "data": {
      "text/plain": [
       "{'n_components': 1, 'layer': 17, 'best_score': np.float64(0.7837561657304146)}"
      ]
     },
     "execution_count": 16,
     "metadata": {},
     "output_type": "execute_result"
    }
   ],
   "source": [
    "best_paras"
   ]
  },
  {
   "cell_type": "code",
   "execution_count": 17,
   "metadata": {},
   "outputs": [],
   "source": [
    "best_layer=best_paras['layer']"
   ]
  },
  {
   "cell_type": "markdown",
   "metadata": {},
   "source": [
    "View Results on Training set and Test set"
   ]
  },
  {
   "cell_type": "code",
   "execution_count": 18,
   "metadata": {},
   "outputs": [],
   "source": [
    "discriminator=PCADiscriminator(best_paras['n_components'],embedding_val[:,best_layer,:])\n",
    "best_split=discriminator.get_best_split(y_val)"
   ]
  },
  {
   "cell_type": "code",
   "execution_count": 19,
   "metadata": {},
   "outputs": [
    {
     "name": "stdout",
     "output_type": "stream",
     "text": [
      "train set acc: 0.7963576158940397 AUROC:0.7893472369740824 AUC-PR:0.9495143598894391\n"
     ]
    }
   ],
   "source": [
    "discriminator=PCADiscriminator(best_paras['n_components'],embedding_train[:,best_layer,:])\n",
    "scores=discriminator.get_score()\n",
    "preds=(scores>best_split)\n",
    "print(f'train set acc: {accuracy_score(y_train,preds)} AUROC:{roc_auc_score(y_train,scores)} AUC-PR:{aur_pr(scores,y_train)}')"
   ]
  },
  {
   "cell_type": "code",
   "execution_count": 20,
   "metadata": {},
   "outputs": [
    {
     "name": "stdout",
     "output_type": "stream",
     "text": [
      "test set acc: 0.7486666666666667 AUROC:0.7945766024368645 AUC-PR:0.9507645306673486\n"
     ]
    }
   ],
   "source": [
    "discriminator=PCADiscriminator(best_paras['n_components'],embedding_test[:,best_layer,:])\n",
    "scores=discriminator.get_score()\n",
    "preds=(scores>best_split)\n",
    "print(f'test set acc: {accuracy_score(y_test,preds)} AUROC:{roc_auc_score(y_test,scores)} AUC-PR:{aur_pr(scores,y_test)}')"
   ]
  },
  {
   "cell_type": "markdown",
   "metadata": {},
   "source": [
    "Train Linear Prob to Get Better Results"
   ]
  },
  {
   "cell_type": "code",
   "execution_count": 21,
   "metadata": {},
   "outputs": [],
   "source": [
    "X_train=embedding_train[:, best_layer,:]\n",
    "y_train=y_train\n",
    "\n",
    "X_test=embedding_test[:, best_layer,:]\n",
    "y_test=y_test"
   ]
  },
  {
   "cell_type": "code",
   "execution_count": 22,
   "metadata": {},
   "outputs": [],
   "source": [
    "best_acc, final_acc, (\n",
    "            clf, best_state, best_preds, preds, labels_val), losses_train = get_linear_acc(\n",
    "            X_train,\n",
    "            y_train,\n",
    "           X_train,\n",
    "            y_train,\n",
    "            2, epochs=50,\n",
    "            print_ret=True,\n",
    "            batch_size=512,\n",
    "            cosine=True,\n",
    "            nonlinear=True,\n",
    "            learning_rate=0.05,\n",
    "            weight_decay=0.0003)"
   ]
  },
  {
   "cell_type": "code",
   "execution_count": 23,
   "metadata": {},
   "outputs": [
    {
     "name": "stdout",
     "output_type": "stream",
     "text": [
      "test set acc: 0.8413333333333334 AUROC:0.8458806624745489 AUC-PR:0.9670485096636219 f1:0.9080726149092314\n"
     ]
    }
   ],
   "source": [
    "clf.eval()\n",
    "output = clf(torch.from_numpy(X_test).to(torch.float32).cuda())\n",
    "scores = torch.sigmoid(output).cpu().data.numpy()\n",
    "preds=scores>0.5\n",
    "print(f'test set acc: {accuracy_score(y_test,preds)} AUROC:{roc_auc_score(y_test,scores)} AUC-PR:{aur_pr(scores,y_test)} f1:{f1_score(y_test,preds)}')"
   ]
  }
 ],
 "metadata": {
  "kernelspec": {
   "display_name": "dl3.9",
   "language": "python",
   "name": "python3"
  },
  "language_info": {
   "codemirror_mode": {
    "name": "ipython",
    "version": 3
   },
   "file_extension": ".py",
   "mimetype": "text/x-python",
   "name": "python",
   "nbconvert_exporter": "python",
   "pygments_lexer": "ipython3",
   "version": "3.9.20"
  }
 },
 "nbformat": 4,
 "nbformat_minor": 2
}
