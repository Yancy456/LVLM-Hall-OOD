{
 "cells": [
  {
   "cell_type": "code",
   "execution_count": 1,
   "metadata": {},
   "outputs": [],
   "source": [
    "%load_ext autoreload\n",
    "%autoreload 2\n",
    "\n",
    "import os\n",
    "import torch\n",
    "import numpy as np\n",
    "from glob import glob\n",
    "from tqdm.auto import tqdm\n",
    "from sklearn.linear_model import LogisticRegression\n",
    "import pandas as pd\n",
    "from utils.store_data import ReadData\n",
    "import numpy as np\n",
    "import torch\n",
    "from utils.arguments import Arguments\n",
    "from tqdm import tqdm\n",
    "from sklearn.decomposition import PCA\n",
    "from linear_probe import get_linear_acc\n",
    "from utils.seed import fix_seed\n",
    "import random\n",
    "import os\n",
    "from answer_judge.vqaEval import VQAEval"
   ]
  },
  {
   "cell_type": "code",
   "execution_count": 2,
   "metadata": {},
   "outputs": [],
   "source": [
    "fix_seed(0)\n",
    "data_reader=ReadData('/root/autodl-tmp/hallscope/VQA/llava')\n",
    "data=data_reader.read_all()\n",
    "random.shuffle(data)"
   ]
  },
  {
   "cell_type": "code",
   "execution_count": 3,
   "metadata": {},
   "outputs": [],
   "source": [
    "df=pd.DataFrame(data)"
   ]
  },
  {
   "cell_type": "code",
   "execution_count": 4,
   "metadata": {},
   "outputs": [
    {
     "data": {
      "text/html": [
       "<div>\n",
       "<style scoped>\n",
       "    .dataframe tbody tr th:only-of-type {\n",
       "        vertical-align: middle;\n",
       "    }\n",
       "\n",
       "    .dataframe tbody tr th {\n",
       "        vertical-align: top;\n",
       "    }\n",
       "\n",
       "    .dataframe thead th {\n",
       "        text-align: right;\n",
       "    }\n",
       "</style>\n",
       "<table border=\"1\" class=\"dataframe\">\n",
       "  <thead>\n",
       "    <tr style=\"text-align: right;\">\n",
       "      <th></th>\n",
       "      <th>img_path</th>\n",
       "      <th>question</th>\n",
       "      <th>answers</th>\n",
       "      <th>question_id</th>\n",
       "      <th>most_likely</th>\n",
       "      <th>responses</th>\n",
       "    </tr>\n",
       "  </thead>\n",
       "  <tbody>\n",
       "    <tr>\n",
       "      <th>0</th>\n",
       "      <td>[/root/autodl-fs/coco_images/train/COCO_train2...</td>\n",
       "      <td>[Is the person wearing a hat?\\nAnswer the ques...</td>\n",
       "      <td>[{'answer': ['no'], 'answer_confidence': ['yes...</td>\n",
       "      <td>[tensor(393230010)]</td>\n",
       "      <td>{'embedding': [[[ 0.00039101 -0.00074005  0.00...</td>\n",
       "      <td>None</td>\n",
       "    </tr>\n",
       "    <tr>\n",
       "      <th>1</th>\n",
       "      <td>[/root/autodl-fs/coco_images/train/COCO_train2...</td>\n",
       "      <td>[What objects are directly above the TV set?\\n...</td>\n",
       "      <td>[{'answer': ['pictures'], 'answer_confidence':...</td>\n",
       "      <td>[tensor(131312003)]</td>\n",
       "      <td>{'embedding': [[[-4.5394897e-04  9.3460083e-04...</td>\n",
       "      <td>None</td>\n",
       "    </tr>\n",
       "    <tr>\n",
       "      <th>2</th>\n",
       "      <td>[/root/autodl-fs/coco_images/train/COCO_train2...</td>\n",
       "      <td>[How many ski boards are in the picture?\\nAnsw...</td>\n",
       "      <td>[{'answer': ['5'], 'answer_confidence': ['yes'...</td>\n",
       "      <td>[tensor(201001)]</td>\n",
       "      <td>{'embedding': [[[ 0.00125885 -0.00066376  0.00...</td>\n",
       "      <td>None</td>\n",
       "    </tr>\n",
       "    <tr>\n",
       "      <th>3</th>\n",
       "      <td>[/root/autodl-fs/coco_images/train/COCO_train2...</td>\n",
       "      <td>[What color is the toothbrush?\\nAnswer the que...</td>\n",
       "      <td>[{'answer': ['white and purple'], 'answer_conf...</td>\n",
       "      <td>[tensor(393223001)]</td>\n",
       "      <td>{'embedding': [[[ 0.00022602 -0.00056076 -0.00...</td>\n",
       "      <td>None</td>\n",
       "    </tr>\n",
       "    <tr>\n",
       "      <th>4</th>\n",
       "      <td>[/root/autodl-fs/coco_images/train/COCO_train2...</td>\n",
       "      <td>[What is the green vegetable?\\nAnswer the ques...</td>\n",
       "      <td>[{'answer': ['i don't know'], 'answer_confiden...</td>\n",
       "      <td>[tensor(262552002)]</td>\n",
       "      <td>{'embedding': [[[ 0.00182343 -0.00123596  0.00...</td>\n",
       "      <td>None</td>\n",
       "    </tr>\n",
       "  </tbody>\n",
       "</table>\n",
       "</div>"
      ],
      "text/plain": [
       "                                            img_path  \\\n",
       "0  [/root/autodl-fs/coco_images/train/COCO_train2...   \n",
       "1  [/root/autodl-fs/coco_images/train/COCO_train2...   \n",
       "2  [/root/autodl-fs/coco_images/train/COCO_train2...   \n",
       "3  [/root/autodl-fs/coco_images/train/COCO_train2...   \n",
       "4  [/root/autodl-fs/coco_images/train/COCO_train2...   \n",
       "\n",
       "                                            question  \\\n",
       "0  [Is the person wearing a hat?\\nAnswer the ques...   \n",
       "1  [What objects are directly above the TV set?\\n...   \n",
       "2  [How many ski boards are in the picture?\\nAnsw...   \n",
       "3  [What color is the toothbrush?\\nAnswer the que...   \n",
       "4  [What is the green vegetable?\\nAnswer the ques...   \n",
       "\n",
       "                                             answers          question_id  \\\n",
       "0  [{'answer': ['no'], 'answer_confidence': ['yes...  [tensor(393230010)]   \n",
       "1  [{'answer': ['pictures'], 'answer_confidence':...  [tensor(131312003)]   \n",
       "2  [{'answer': ['5'], 'answer_confidence': ['yes'...     [tensor(201001)]   \n",
       "3  [{'answer': ['white and purple'], 'answer_conf...  [tensor(393223001)]   \n",
       "4  [{'answer': ['i don't know'], 'answer_confiden...  [tensor(262552002)]   \n",
       "\n",
       "                                         most_likely responses  \n",
       "0  {'embedding': [[[ 0.00039101 -0.00074005  0.00...      None  \n",
       "1  {'embedding': [[[-4.5394897e-04  9.3460083e-04...      None  \n",
       "2  {'embedding': [[[ 0.00125885 -0.00066376  0.00...      None  \n",
       "3  {'embedding': [[[ 0.00022602 -0.00056076 -0.00...      None  \n",
       "4  {'embedding': [[[ 0.00182343 -0.00123596  0.00...      None  "
      ]
     },
     "execution_count": 4,
     "metadata": {},
     "output_type": "execute_result"
    }
   ],
   "source": [
    "df.head()"
   ]
  },
  {
   "cell_type": "code",
   "execution_count": 5,
   "metadata": {},
   "outputs": [
    {
     "data": {
      "text/plain": [
       "(1519, 6)"
      ]
     },
     "execution_count": 5,
     "metadata": {},
     "output_type": "execute_result"
    }
   ],
   "source": [
    "df.shape"
   ]
  },
  {
   "cell_type": "code",
   "execution_count": 6,
   "metadata": {},
   "outputs": [],
   "source": [
    "i=0"
   ]
  },
  {
   "cell_type": "code",
   "execution_count": 7,
   "metadata": {},
   "outputs": [
    {
     "data": {
      "text/plain": [
       "['/root/autodl-fs/coco_images/train/COCO_train2014_000000393230.jpg']"
      ]
     },
     "execution_count": 7,
     "metadata": {},
     "output_type": "execute_result"
    }
   ],
   "source": [
    "df.iloc[i]['img_path']"
   ]
  },
  {
   "cell_type": "code",
   "execution_count": 8,
   "metadata": {},
   "outputs": [
    {
     "data": {
      "text/plain": [
       "['No']"
      ]
     },
     "execution_count": 8,
     "metadata": {},
     "output_type": "execute_result"
    }
   ],
   "source": [
    "df.iloc[i]['most_likely']['response']"
   ]
  },
  {
   "cell_type": "code",
   "execution_count": 9,
   "metadata": {},
   "outputs": [
    {
     "data": {
      "text/plain": [
       "['Is the person wearing a hat?\\nAnswer the question using a single word or phrase.\\n']"
      ]
     },
     "execution_count": 9,
     "metadata": {},
     "output_type": "execute_result"
    }
   ],
   "source": [
    "df.iloc[i]['question']"
   ]
  },
  {
   "cell_type": "code",
   "execution_count": 10,
   "metadata": {},
   "outputs": [
    {
     "data": {
      "text/plain": [
       "[{'answer': ['no'], 'answer_confidence': ['yes'], 'answer_id': tensor([1])},\n",
       " {'answer': ['yes'], 'answer_confidence': ['maybe'], 'answer_id': tensor([2])},\n",
       " {'answer': ['no'], 'answer_confidence': ['yes'], 'answer_id': tensor([3])},\n",
       " {'answer': ['yes'], 'answer_confidence': ['yes'], 'answer_id': tensor([4])},\n",
       " {'answer': ['no'], 'answer_confidence': ['yes'], 'answer_id': tensor([5])},\n",
       " {'answer': ['yes'], 'answer_confidence': ['yes'], 'answer_id': tensor([6])},\n",
       " {'answer': ['no'], 'answer_confidence': ['yes'], 'answer_id': tensor([7])},\n",
       " {'answer': ['no'], 'answer_confidence': ['yes'], 'answer_id': tensor([8])},\n",
       " {'answer': ['no'], 'answer_confidence': ['yes'], 'answer_id': tensor([9])},\n",
       " {'answer': ['yes'],\n",
       "  'answer_confidence': ['maybe'],\n",
       "  'answer_id': tensor([10])}]"
      ]
     },
     "execution_count": 10,
     "metadata": {},
     "output_type": "execute_result"
    }
   ],
   "source": [
    "df.iloc[i]['answers']"
   ]
  },
  {
   "cell_type": "code",
   "execution_count": 11,
   "metadata": {},
   "outputs": [],
   "source": [
    "embeddings=df['most_likely'].apply(lambda x: x['embedding']).to_list()"
   ]
  },
  {
   "cell_type": "code",
   "execution_count": 12,
   "metadata": {},
   "outputs": [],
   "source": [
    "embeddings=np.concatenate(embeddings,axis=0)"
   ]
  },
  {
   "cell_type": "code",
   "execution_count": 13,
   "metadata": {},
   "outputs": [
    {
     "data": {
      "text/plain": [
       "(1519, 33, 4096)"
      ]
     },
     "execution_count": 13,
     "metadata": {},
     "output_type": "execute_result"
    }
   ],
   "source": [
    "embeddings.shape"
   ]
  },
  {
   "cell_type": "code",
   "execution_count": 14,
   "metadata": {},
   "outputs": [],
   "source": [
    "def transpose_lines(x):\n",
    "    f=pd.DataFrame(x)\n",
    "    transposed=f['answer'].apply(pd.Series).T.values.tolist()\n",
    "    return transposed\n",
    "\n",
    "df['answers']=df['answers'].apply(transpose_lines)"
   ]
  },
  {
   "cell_type": "code",
   "execution_count": 15,
   "metadata": {},
   "outputs": [],
   "source": [
    "gt_label=df['answers'].to_list()\n",
    "gt_label=np.concatenate(gt_label,axis=0).tolist()"
   ]
  },
  {
   "cell_type": "code",
   "execution_count": 16,
   "metadata": {},
   "outputs": [],
   "source": [
    "responses=df['most_likely'].apply(lambda x: x['response']).to_list()\n",
    "rsps=[]\n",
    "for x in responses:\n",
    "    rsps+=x"
   ]
  },
  {
   "cell_type": "code",
   "execution_count": 17,
   "metadata": {},
   "outputs": [
    {
     "data": {
      "text/plain": [
       "'No'"
      ]
     },
     "execution_count": 17,
     "metadata": {},
     "output_type": "execute_result"
    }
   ],
   "source": [
    "rsps[0]"
   ]
  },
  {
   "cell_type": "code",
   "execution_count": 18,
   "metadata": {},
   "outputs": [
    {
     "name": "stdout",
     "output_type": "stream",
     "text": [
      "computing accuracy\n"
     ]
    },
    {
     "name": "stderr",
     "output_type": "stream",
     "text": [
      "  0%|          | 0/1519 [00:00<?, ?it/s]"
     ]
    },
    {
     "name": "stderr",
     "output_type": "stream",
     "text": [
      "100%|██████████| 1519/1519 [00:00<00:00, 3019.91it/s]\n"
     ]
    },
    {
     "name": "stdout",
     "output_type": "stream",
     "text": [
      "Done computing accuracy\n",
      "{0: 100, 1: 100, 2: 33.33, 3: 100, 4: 66.67, 5: 100, 6: 100, 7: 100, 8: 33.33, 9: 100, 10: 100, 11: 100, 12: 100, 13: 100, 14: 100, 15: 100, 16: 100, 17: 100, 18: 100, 19: 100, 20: 100, 21: 100, 22: 0.0, 23: 100, 24: 100, 25: 100, 26: 100, 27: 100, 28: 100, 29: 100, 30: 100, 31: 100, 32: 0.0, 33: 100, 34: 100, 35: 100, 36: 100, 37: 100, 38: 100, 39: 100, 40: 0.0, 41: 100, 42: 100, 43: 100, 44: 100, 45: 100, 46: 0.0, 47: 100, 48: 100, 49: 100, 50: 100, 51: 100, 52: 100, 53: 100, 54: 100, 55: 66.67, 56: 0.0, 57: 100, 58: 100, 59: 100, 60: 0.0, 61: 100, 62: 100, 63: 100, 64: 0.0, 65: 100, 66: 100, 67: 100, 68: 100, 69: 100, 70: 100, 71: 100, 72: 100, 73: 100, 74: 100, 75: 0.0, 76: 100, 77: 66.67, 78: 100, 79: 0.0, 80: 100, 81: 33.33, 82: 100, 83: 100, 84: 0.0, 85: 100, 86: 0.0, 87: 100, 88: 100, 89: 100, 90: 0.0, 91: 0.0, 92: 100, 93: 100, 94: 100, 95: 100, 96: 0.0, 97: 100, 98: 33.33, 99: 33.33, 100: 0.0, 101: 100, 102: 33.33, 103: 100, 104: 100, 105: 100, 106: 0.0, 107: 33.33, 108: 100, 109: 100, 110: 100, 111: 100, 112: 0.0, 113: 100, 114: 100, 115: 100, 116: 100, 117: 33.33, 118: 100, 119: 100, 120: 100, 121: 66.67, 122: 100, 123: 100, 124: 100, 125: 100, 126: 100, 127: 100, 128: 100, 129: 100, 130: 33.33, 131: 100, 132: 100, 133: 100, 134: 100, 135: 100, 136: 100, 137: 100, 138: 100, 139: 100, 140: 0.0, 141: 0.0, 142: 100, 143: 100, 144: 66.67, 145: 100, 146: 100, 147: 100, 148: 100, 149: 100, 150: 100, 151: 100, 152: 100, 153: 100, 154: 100, 155: 100, 156: 0.0, 157: 0.0, 158: 100, 159: 100, 160: 100, 161: 0.0, 162: 100, 163: 100, 164: 100, 165: 100, 166: 100, 167: 100, 168: 100, 169: 100, 170: 100, 171: 100, 172: 100, 173: 0.0, 174: 100, 175: 100, 176: 100, 177: 100, 178: 100, 179: 100, 180: 100, 181: 100, 182: 100, 183: 100, 184: 100, 185: 100, 186: 100, 187: 100, 188: 100, 189: 100, 190: 100, 191: 0.0, 192: 66.67, 193: 100, 194: 100, 195: 100, 196: 0.0, 197: 33.33, 198: 100, 199: 100, 200: 100, 201: 100, 202: 66.67, 203: 100, 204: 100, 205: 100, 206: 100, 207: 100, 208: 33.33, 209: 100, 210: 100, 211: 100, 212: 100, 213: 100, 214: 100, 215: 100, 216: 100, 217: 100, 218: 100, 219: 100, 220: 100, 221: 100, 222: 100, 223: 33.33, 224: 0.0, 225: 100, 226: 100, 227: 33.33, 228: 0.0, 229: 100, 230: 100, 231: 0.0, 232: 100, 233: 0.0, 234: 100, 235: 100, 236: 100, 237: 0.0, 238: 100, 239: 100, 240: 33.33, 241: 100, 242: 100, 243: 100, 244: 33.33, 245: 100, 246: 33.33, 247: 100, 248: 100, 249: 100, 250: 0.0, 251: 100, 252: 100, 253: 100, 254: 100, 255: 0.0, 256: 0.0, 257: 100, 258: 0.0, 259: 100, 260: 100, 261: 33.33, 262: 100, 263: 66.67, 264: 100, 265: 66.67, 266: 100, 267: 0.0, 268: 100, 269: 100, 270: 100, 271: 100, 272: 100, 273: 100, 274: 100, 275: 100, 276: 100, 277: 100, 278: 100, 279: 0.0, 280: 100, 281: 100, 282: 100, 283: 100, 284: 100, 285: 66.67, 286: 100, 287: 0.0, 288: 100, 289: 100, 290: 100, 291: 100, 292: 100, 293: 0.0, 294: 100, 295: 100, 296: 100, 297: 100, 298: 66.67, 299: 100, 300: 100, 301: 100, 302: 33.33, 303: 100, 304: 100, 305: 33.33, 306: 100, 307: 100, 308: 100, 309: 66.67, 310: 100, 311: 100, 312: 0.0, 313: 100, 314: 33.33, 315: 100, 316: 100, 317: 100, 318: 100, 319: 100, 320: 100, 321: 100, 322: 100, 323: 100, 324: 100, 325: 0.0, 326: 0.0, 327: 100, 328: 100, 329: 0.0, 330: 66.67, 331: 100, 332: 100, 333: 0.0, 334: 100, 335: 100, 336: 100, 337: 100, 338: 100, 339: 100, 340: 100, 341: 100, 342: 100, 343: 100, 344: 100, 345: 100, 346: 100, 347: 100, 348: 100, 349: 0.0, 350: 100, 351: 0.0, 352: 100, 353: 100, 354: 33.33, 355: 100, 356: 100, 357: 100, 358: 100, 359: 33.33, 360: 0.0, 361: 66.67, 362: 100, 363: 100, 364: 33.33, 365: 100, 366: 100, 367: 100, 368: 100, 369: 100, 370: 100, 371: 0.0, 372: 100, 373: 66.67, 374: 100, 375: 100, 376: 100, 377: 100, 378: 100, 379: 100, 380: 100, 381: 0.0, 382: 100, 383: 100, 384: 100, 385: 100, 386: 66.67, 387: 66.67, 388: 100, 389: 100, 390: 100, 391: 100, 392: 100, 393: 100, 394: 33.33, 395: 100, 396: 100, 397: 100, 398: 100, 399: 33.33, 400: 100, 401: 33.33, 402: 100, 403: 100, 404: 100, 405: 100, 406: 100, 407: 100, 408: 66.67, 409: 100, 410: 100, 411: 66.67, 412: 0.0, 413: 100, 414: 100, 415: 100, 416: 100, 417: 100, 418: 100, 419: 100, 420: 100, 421: 100, 422: 66.67, 423: 0.0, 424: 100, 425: 100, 426: 100, 427: 0.0, 428: 100, 429: 100, 430: 100, 431: 0.0, 432: 100, 433: 33.33, 434: 33.33, 435: 0.0, 436: 100, 437: 0.0, 438: 100, 439: 100, 440: 100, 441: 0.0, 442: 100, 443: 100, 444: 0.0, 445: 100, 446: 66.67, 447: 100, 448: 100, 449: 33.33, 450: 33.33, 451: 100, 452: 100, 453: 100, 454: 66.67, 455: 100, 456: 100, 457: 100, 458: 100, 459: 100, 460: 66.67, 461: 100, 462: 100, 463: 100, 464: 100, 465: 100, 466: 100, 467: 0.0, 468: 33.33, 469: 100, 470: 66.67, 471: 0.0, 472: 100, 473: 66.67, 474: 100, 475: 100, 476: 100, 477: 100, 478: 100, 479: 100, 480: 0.0, 481: 100, 482: 100, 483: 100, 484: 66.67, 485: 100, 486: 100, 487: 100, 488: 0.0, 489: 66.67, 490: 100, 491: 100, 492: 0.0, 493: 100, 494: 100, 495: 33.33, 496: 100, 497: 100, 498: 66.67, 499: 0.0, 500: 100, 501: 100, 502: 100, 503: 100, 504: 100, 505: 100, 506: 100, 507: 0.0, 508: 100, 509: 100, 510: 100, 511: 100, 512: 100, 513: 100, 514: 100, 515: 100, 516: 0.0, 517: 100, 518: 33.33, 519: 100, 520: 100, 521: 100, 522: 100, 523: 100, 524: 100, 525: 100, 526: 100, 527: 100, 528: 100, 529: 33.33, 530: 100, 531: 100, 532: 100, 533: 100, 534: 0.0, 535: 100, 536: 66.67, 537: 100, 538: 100, 539: 100, 540: 100, 541: 100, 542: 33.33, 543: 100, 544: 33.33, 545: 100, 546: 100, 547: 100, 548: 100, 549: 100, 550: 66.67, 551: 100, 552: 33.33, 553: 100, 554: 100, 555: 0.0, 556: 100, 557: 100, 558: 100, 559: 100, 560: 66.67, 561: 100, 562: 100, 563: 100, 564: 100, 565: 0.0, 566: 100, 567: 0.0, 568: 0.0, 569: 100, 570: 100, 571: 100, 572: 0.0, 573: 100, 574: 100, 575: 100, 576: 100, 577: 33.33, 578: 100, 579: 100, 580: 0.0, 581: 100, 582: 100, 583: 66.67, 584: 66.67, 585: 100, 586: 100, 587: 100, 588: 100, 589: 100, 590: 100, 591: 100, 592: 0.0, 593: 100, 594: 100, 595: 100, 596: 100, 597: 0.0, 598: 100, 599: 100, 600: 100, 601: 66.67, 602: 66.67, 603: 100, 604: 100, 605: 100, 606: 33.33, 607: 100, 608: 0.0, 609: 33.33, 610: 100, 611: 100, 612: 100, 613: 100, 614: 0.0, 615: 100, 616: 100, 617: 100, 618: 100, 619: 100, 620: 100, 621: 100, 622: 100, 623: 100, 624: 100, 625: 100, 626: 100, 627: 100, 628: 100, 629: 33.33, 630: 100, 631: 100, 632: 100, 633: 100, 634: 100, 635: 100, 636: 33.33, 637: 33.33, 638: 100, 639: 100, 640: 100, 641: 0.0, 642: 100, 643: 0.0, 644: 100, 645: 100, 646: 100, 647: 100, 648: 100, 649: 100, 650: 100, 651: 100, 652: 100, 653: 0.0, 654: 100, 655: 100, 656: 100, 657: 100, 658: 100, 659: 100, 660: 66.67, 661: 100, 662: 100, 663: 100, 664: 100, 665: 33.33, 666: 66.67, 667: 0.0, 668: 100, 669: 100, 670: 100, 671: 100, 672: 100, 673: 66.67, 674: 100, 675: 100, 676: 100, 677: 33.33, 678: 0.0, 679: 100, 680: 100, 681: 0.0, 682: 100, 683: 66.67, 684: 100, 685: 100, 686: 100, 687: 100, 688: 100, 689: 100, 690: 100, 691: 100, 692: 100, 693: 100, 694: 100, 695: 33.33, 696: 100, 697: 100, 698: 100, 699: 100, 700: 100, 701: 100, 702: 100, 703: 100, 704: 100, 705: 100, 706: 100, 707: 0.0, 708: 100, 709: 0.0, 710: 100, 711: 100, 712: 0.0, 713: 100, 714: 100, 715: 100, 716: 100, 717: 100, 718: 100, 719: 33.33, 720: 100, 721: 100, 722: 100, 723: 100, 724: 0.0, 725: 100, 726: 100, 727: 100, 728: 100, 729: 100, 730: 33.33, 731: 100, 732: 100, 733: 0.0, 734: 100, 735: 100, 736: 100, 737: 100, 738: 100, 739: 100, 740: 100, 741: 100, 742: 100, 743: 100, 744: 100, 745: 0.0, 746: 100, 747: 100, 748: 100, 749: 100, 750: 100, 751: 100, 752: 33.33, 753: 100, 754: 100, 755: 100, 756: 100, 757: 0.0, 758: 100, 759: 100, 760: 100, 761: 100, 762: 100, 763: 100, 764: 100, 765: 100, 766: 100, 767: 0.0, 768: 100, 769: 33.33, 770: 100, 771: 66.67, 772: 100, 773: 0.0, 774: 100, 775: 66.67, 776: 100, 777: 100, 778: 100, 779: 100, 780: 100, 781: 100, 782: 100, 783: 100, 784: 100, 785: 100, 786: 100, 787: 100, 788: 66.67, 789: 100, 790: 100, 791: 100, 792: 100, 793: 100, 794: 100, 795: 0.0, 796: 100, 797: 100, 798: 100, 799: 100, 800: 100, 801: 100, 802: 100, 803: 100, 804: 100, 805: 100, 806: 100, 807: 33.33, 808: 100, 809: 100, 810: 0.0, 811: 100, 812: 100, 813: 100, 814: 33.33, 815: 100, 816: 100, 817: 33.33, 818: 0.0, 819: 100, 820: 66.67, 821: 100, 822: 100, 823: 100, 824: 66.67, 825: 100, 826: 100, 827: 100, 828: 66.67, 829: 100, 830: 33.33, 831: 33.33, 832: 100, 833: 100, 834: 33.33, 835: 100, 836: 33.33, 837: 100, 838: 100, 839: 0.0, 840: 100, 841: 100, 842: 33.33, 843: 100, 844: 66.67, 845: 100, 846: 100, 847: 100, 848: 100, 849: 66.67, 850: 100, 851: 0.0, 852: 0.0, 853: 0.0, 854: 100, 855: 100, 856: 100, 857: 100, 858: 100, 859: 100, 860: 100, 861: 100, 862: 100, 863: 100, 864: 100, 865: 0.0, 866: 100, 867: 100, 868: 100, 869: 100, 870: 100, 871: 100, 872: 100, 873: 33.33, 874: 100, 875: 100, 876: 100, 877: 100, 878: 100, 879: 100, 880: 100, 881: 100, 882: 100, 883: 0.0, 884: 100, 885: 100, 886: 0.0, 887: 100, 888: 100, 889: 33.33, 890: 100, 891: 0.0, 892: 100, 893: 100, 894: 0.0, 895: 66.67, 896: 100, 897: 0.0, 898: 100, 899: 100, 900: 100, 901: 100, 902: 100, 903: 66.67, 904: 100, 905: 0.0, 906: 100, 907: 100, 908: 100, 909: 100, 910: 100, 911: 100, 912: 100, 913: 100, 914: 0.0, 915: 66.67, 916: 0.0, 917: 100, 918: 100, 919: 100, 920: 0.0, 921: 100, 922: 100, 923: 100, 924: 33.33, 925: 0.0, 926: 100, 927: 100, 928: 100, 929: 100, 930: 66.67, 931: 66.67, 932: 0.0, 933: 100, 934: 100, 935: 100, 936: 100, 937: 100, 938: 66.67, 939: 100, 940: 100, 941: 100, 942: 100, 943: 100, 944: 100, 945: 100, 946: 100, 947: 100, 948: 100, 949: 100, 950: 100, 951: 100, 952: 100, 953: 100, 954: 100, 955: 33.33, 956: 100, 957: 100, 958: 100, 959: 100, 960: 100, 961: 100, 962: 100, 963: 100, 964: 100, 965: 100, 966: 100, 967: 66.67, 968: 100, 969: 100, 970: 100, 971: 100, 972: 100, 973: 100, 974: 100, 975: 100, 976: 0.0, 977: 100, 978: 100, 979: 100, 980: 0.0, 981: 100, 982: 100, 983: 0.0, 984: 100, 985: 66.67, 986: 0.0, 987: 100, 988: 0.0, 989: 100, 990: 100, 991: 100, 992: 100, 993: 100, 994: 100, 995: 0.0, 996: 100, 997: 100, 998: 100, 999: 100, 1000: 66.67, 1001: 100, 1002: 100, 1003: 100, 1004: 100, 1005: 100, 1006: 100, 1007: 100, 1008: 0.0, 1009: 100, 1010: 0.0, 1011: 100, 1012: 100, 1013: 100, 1014: 100, 1015: 33.33, 1016: 100, 1017: 100, 1018: 0.0, 1019: 100, 1020: 0.0, 1021: 100, 1022: 100, 1023: 100, 1024: 100, 1025: 100, 1026: 100, 1027: 0.0, 1028: 100, 1029: 100, 1030: 100, 1031: 100, 1032: 100, 1033: 100, 1034: 0.0, 1035: 0.0, 1036: 100, 1037: 100, 1038: 100, 1039: 100, 1040: 100, 1041: 100, 1042: 100, 1043: 100, 1044: 100, 1045: 100, 1046: 100, 1047: 100, 1048: 100, 1049: 100, 1050: 100, 1051: 100, 1052: 0.0, 1053: 100, 1054: 100, 1055: 100, 1056: 100, 1057: 100, 1058: 100, 1059: 100, 1060: 100, 1061: 100, 1062: 100, 1063: 100, 1064: 100, 1065: 100, 1066: 0.0, 1067: 100, 1068: 33.33, 1069: 100, 1070: 100, 1071: 100, 1072: 100, 1073: 100, 1074: 100, 1075: 0.0, 1076: 100, 1077: 100, 1078: 100, 1079: 0.0, 1080: 66.67, 1081: 100, 1082: 100, 1083: 100, 1084: 100, 1085: 100, 1086: 100, 1087: 100, 1088: 100, 1089: 100, 1090: 100, 1091: 0.0, 1092: 100, 1093: 100, 1094: 100, 1095: 100, 1096: 100, 1097: 100, 1098: 100, 1099: 100, 1100: 100, 1101: 100, 1102: 100, 1103: 33.33, 1104: 100, 1105: 33.33, 1106: 0.0, 1107: 100, 1108: 100, 1109: 100, 1110: 33.33, 1111: 66.67, 1112: 100, 1113: 100, 1114: 100, 1115: 0.0, 1116: 100, 1117: 100, 1118: 66.67, 1119: 100, 1120: 0.0, 1121: 100, 1122: 100, 1123: 100, 1124: 100, 1125: 100, 1126: 33.33, 1127: 100, 1128: 33.33, 1129: 100, 1130: 100, 1131: 100, 1132: 100, 1133: 100, 1134: 0.0, 1135: 100, 1136: 100, 1137: 33.33, 1138: 100, 1139: 0.0, 1140: 100, 1141: 100, 1142: 100, 1143: 100, 1144: 100, 1145: 0.0, 1146: 33.33, 1147: 33.33, 1148: 0.0, 1149: 100, 1150: 100, 1151: 33.33, 1152: 100, 1153: 100, 1154: 100, 1155: 100, 1156: 100, 1157: 100, 1158: 100, 1159: 100, 1160: 0.0, 1161: 100, 1162: 100, 1163: 100, 1164: 100, 1165: 100, 1166: 100, 1167: 0.0, 1168: 100, 1169: 100, 1170: 100, 1171: 100, 1172: 100, 1173: 100, 1174: 100, 1175: 0.0, 1176: 100, 1177: 100, 1178: 100, 1179: 100, 1180: 100, 1181: 100, 1182: 100, 1183: 100, 1184: 100, 1185: 100, 1186: 100, 1187: 100, 1188: 100, 1189: 100, 1190: 100, 1191: 33.33, 1192: 0.0, 1193: 100, 1194: 100, 1195: 100, 1196: 100, 1197: 100, 1198: 100, 1199: 100, 1200: 100, 1201: 100, 1202: 100, 1203: 100, 1204: 33.33, 1205: 33.33, 1206: 100, 1207: 100, 1208: 66.67, 1209: 100, 1210: 100, 1211: 100, 1212: 66.67, 1213: 100, 1214: 100, 1215: 100, 1216: 100, 1217: 66.67, 1218: 100, 1219: 100, 1220: 100, 1221: 100, 1222: 100, 1223: 100, 1224: 0.0, 1225: 100, 1226: 100, 1227: 66.67, 1228: 100, 1229: 100, 1230: 100, 1231: 100, 1232: 100, 1233: 100, 1234: 100, 1235: 100, 1236: 33.33, 1237: 100, 1238: 100, 1239: 100, 1240: 100, 1241: 66.67, 1242: 0.0, 1243: 100, 1244: 100, 1245: 100, 1246: 100, 1247: 100, 1248: 100, 1249: 100, 1250: 100, 1251: 66.67, 1252: 100, 1253: 100, 1254: 100, 1255: 100, 1256: 100, 1257: 100, 1258: 100, 1259: 100, 1260: 100, 1261: 0.0, 1262: 100, 1263: 0.0, 1264: 100, 1265: 100, 1266: 100, 1267: 100, 1268: 100, 1269: 100, 1270: 100, 1271: 100, 1272: 100, 1273: 100, 1274: 100, 1275: 100, 1276: 100, 1277: 100, 1278: 100, 1279: 100, 1280: 100, 1281: 100, 1282: 100, 1283: 100, 1284: 100, 1285: 100, 1286: 100, 1287: 100, 1288: 100, 1289: 100, 1290: 33.33, 1291: 100, 1292: 100, 1293: 100, 1294: 0.0, 1295: 100, 1296: 100, 1297: 33.33, 1298: 0.0, 1299: 33.33, 1300: 100, 1301: 100, 1302: 0.0, 1303: 33.33, 1304: 100, 1305: 100, 1306: 100, 1307: 0.0, 1308: 100, 1309: 100, 1310: 100, 1311: 100, 1312: 100, 1313: 100, 1314: 100, 1315: 100, 1316: 0.0, 1317: 33.33, 1318: 100, 1319: 100, 1320: 66.67, 1321: 100, 1322: 100, 1323: 100, 1324: 100, 1325: 100, 1326: 100, 1327: 100, 1328: 100, 1329: 0.0, 1330: 100, 1331: 100, 1332: 100, 1333: 100, 1334: 66.67, 1335: 100, 1336: 66.67, 1337: 66.67, 1338: 100, 1339: 100, 1340: 100, 1341: 100, 1342: 100, 1343: 100, 1344: 100, 1345: 100, 1346: 0.0, 1347: 100, 1348: 100, 1349: 100, 1350: 100, 1351: 100, 1352: 100, 1353: 100, 1354: 100, 1355: 100, 1356: 66.67, 1357: 100, 1358: 66.67, 1359: 100, 1360: 66.67, 1361: 100, 1362: 100, 1363: 100, 1364: 100, 1365: 100, 1366: 100, 1367: 100, 1368: 100, 1369: 100, 1370: 100, 1371: 0.0, 1372: 100, 1373: 100, 1374: 100, 1375: 100, 1376: 100, 1377: 100, 1378: 33.33, 1379: 100, 1380: 100, 1381: 100, 1382: 100, 1383: 33.33, 1384: 100, 1385: 100, 1386: 100, 1387: 100, 1388: 100, 1389: 100, 1390: 100, 1391: 0.0, 1392: 100, 1393: 100, 1394: 0.0, 1395: 100, 1396: 33.33, 1397: 100, 1398: 66.67, 1399: 100, 1400: 100, 1401: 100, 1402: 33.33, 1403: 100, 1404: 100, 1405: 100, 1406: 100, 1407: 100, 1408: 100, 1409: 100, 1410: 100, 1411: 100, 1412: 100, 1413: 100, 1414: 0.0, 1415: 100, 1416: 100, 1417: 100, 1418: 100, 1419: 100, 1420: 100, 1421: 100, 1422: 100, 1423: 100, 1424: 0.0, 1425: 100, 1426: 100, 1427: 0.0, 1428: 100, 1429: 66.67, 1430: 100, 1431: 100, 1432: 100, 1433: 0.0, 1434: 100, 1435: 100, 1436: 100, 1437: 100, 1438: 66.67, 1439: 100, 1440: 100, 1441: 100, 1442: 100, 1443: 100, 1444: 0.0, 1445: 100, 1446: 0.0, 1447: 0.0, 1448: 100, 1449: 100, 1450: 100, 1451: 100, 1452: 100, 1453: 100, 1454: 0.0, 1455: 100, 1456: 100, 1457: 100, 1458: 100, 1459: 100, 1460: 100, 1461: 100, 1462: 100, 1463: 100, 1464: 100, 1465: 100, 1466: 100, 1467: 66.67, 1468: 100, 1469: 100, 1470: 100, 1471: 66.67, 1472: 100, 1473: 100, 1474: 100, 1475: 100, 1476: 100, 1477: 100, 1478: 100, 1479: 100, 1480: 100, 1481: 100, 1482: 100, 1483: 100, 1484: 0.0, 1485: 100, 1486: 100, 1487: 0.0, 1488: 100, 1489: 100, 1490: 100, 1491: 100, 1492: 100, 1493: 100, 1494: 100, 1495: 100, 1496: 100, 1497: 100, 1498: 66.67, 1499: 100, 1500: 100, 1501: 100, 1502: 100, 1503: 100, 1504: 0.0, 1505: 100, 1506: 100, 1507: 100, 1508: 100, 1509: 100, 1510: 100, 1511: 100, 1512: 100, 1513: 100, 1514: 100, 1515: 100, 1516: 100, 1517: 100, 1518: 100}\n",
      "83.78\n"
     ]
    }
   ],
   "source": [
    "judge=VQAEval(gt_label,rsps)\n",
    "judge.evaluate()\n",
    "print(judge.evalQA)\n",
    "print(judge.accuracy['overall'])"
   ]
  },
  {
   "cell_type": "code",
   "execution_count": 19,
   "metadata": {},
   "outputs": [],
   "source": [
    "gt_scores=[judge.evalQA[i] for i in range(len(judge.evalQA))]"
   ]
  },
  {
   "cell_type": "code",
   "execution_count": 20,
   "metadata": {},
   "outputs": [],
   "source": [
    "is_correct=[]\n",
    "threshold=30\n",
    "for i,x in enumerate(gt_scores):\n",
    "    if x >=threshold:\n",
    "        is_correct.append(1)\n",
    "    else:\n",
    "        is_correct.append(0)\n",
    "is_correct=np.array(is_correct)"
   ]
  },
  {
   "cell_type": "code",
   "execution_count": 21,
   "metadata": {},
   "outputs": [
    {
     "data": {
      "text/plain": [
       "(1519,)"
      ]
     },
     "execution_count": 21,
     "metadata": {},
     "output_type": "execute_result"
    }
   ],
   "source": [
    "is_correct.shape"
   ]
  },
  {
   "cell_type": "code",
   "execution_count": 22,
   "metadata": {},
   "outputs": [
    {
     "name": "stdout",
     "output_type": "stream",
     "text": [
      "There are 1519 responses. 1356 answer correctly and 163 answer wrongly\n"
     ]
    }
   ],
   "source": [
    "print(f'There are {len(is_correct)} responses. {sum(is_correct==1)} answer correctly and {sum(is_correct==0)} answer wrongly')"
   ]
  },
  {
   "cell_type": "code",
   "execution_count": null,
   "metadata": {},
   "outputs": [
    {
     "name": "stdout",
     "output_type": "stream",
     "text": [
      "trainset length:515\n",
      "validset length:700\n",
      "testset length:304\n",
      "trainset postive: 444 negative: 71\n",
      "valset postive: 636 negative: 64\n",
      "testset postive: 276 negative: 28\n"
     ]
    }
   ],
   "source": [
    "length=len(is_correct)\n",
    "train_rate=0.8\n",
    "\n",
    "all_indices = np.random.permutation(length)\n",
    "train_val_idxs = all_indices[:int(\n",
    "    train_rate * length)]  # trainset and validation index\n",
    "\n",
    "test_idxs=all_indices[int(\n",
    "    train_rate * length):]  #test index\n",
    "\n",
    "validset_len = 200\n",
    "# exclude validation samples.\n",
    "train_idxs = train_val_idxs[:- validset_len]  # trainset index\n",
    "val_idxs = train_val_idxs[- validset_len:]  # validation index\n",
    "hall_label_test = []\n",
    "hall_label_wild = []\n",
    "hall_label_val = []\n",
    "\n",
    "'''get testset, wildset and valset. The valset is used for determining the hype-parameters'''\n",
    "hall_label_test = is_correct[test_idxs]\n",
    "hall_label_wild = is_correct[train_idxs]\n",
    "hall_label_val = is_correct[val_idxs]\n",
    "\n",
    "print(f'trainset length:{len(hall_label_wild)}')\n",
    "print(f'validset length:{len(hall_label_val)}')\n",
    "print(f'testset length:{len(hall_label_test)}')\n",
    "print(f'trainset postive: {sum(hall_label_wild==1)} negative: {sum(hall_label_wild==0)}')\n",
    "print(f'valset postive: {sum(hall_label_val==1)} negative: {sum(hall_label_val==0)}')\n",
    "print(\n",
    "    f'testset postive: {sum(hall_label_test==1)} negative: {sum(hall_label_test==0)}')"
   ]
  },
  {
   "cell_type": "code",
   "execution_count": 24,
   "metadata": {},
   "outputs": [
    {
     "data": {
      "text/plain": [
       "(1519, 33, 4096)"
      ]
     },
     "execution_count": 24,
     "metadata": {},
     "output_type": "execute_result"
    }
   ],
   "source": [
    "all_embeddings = embeddings\n",
    "all_embeddings.shape"
   ]
  },
  {
   "cell_type": "code",
   "execution_count": 25,
   "metadata": {},
   "outputs": [],
   "source": [
    "embedding_train = all_embeddings[train_idxs]\n",
    "embedding_val = all_embeddings[val_idxs]\n",
    "embedding_test = all_embeddings[test_idxs]"
   ]
  },
  {
   "cell_type": "code",
   "execution_count": 26,
   "metadata": {},
   "outputs": [
    {
     "name": "stdout",
     "output_type": "stream",
     "text": [
      "The autoreload extension is already loaded. To reload it, use:\n",
      "  %reload_ext autoreload\n"
     ]
    }
   ],
   "source": [
    "%load_ext autoreload\n",
    "%autoreload 2\n",
    "from ml_utils.grid_search import GridSearch\n",
    "from ml_utils.PCA_discriminator import PCALinear,PCAKernel,KernelPCA\n",
    "from sklearn.metrics import roc_auc_score,accuracy_score,roc_curve,f1_score,balanced_accuracy_score\n",
    "from ml_utils.metrics import auc_pr"
   ]
  },
  {
   "cell_type": "markdown",
   "metadata": {},
   "source": [
    "Grid Search for Best 'n_components' & 'layer'"
   ]
  },
  {
   "cell_type": "code",
   "execution_count": 27,
   "metadata": {},
   "outputs": [
    {
     "data": {
      "text/plain": [
       "(700, 33, 4096)"
      ]
     },
     "execution_count": 27,
     "metadata": {},
     "output_type": "execute_result"
    }
   ],
   "source": [
    "embedding_val.shape"
   ]
  },
  {
   "cell_type": "code",
   "execution_count": 28,
   "metadata": {},
   "outputs": [],
   "source": [
    "M=3584\n",
    "def evaluator(n_components,i_layer,X,y):\n",
    "    discriminator=KernelPCA(X[:,i_layer,:],n_components,M,method='CoP',gamma=1)\n",
    "    scores=discriminator.get_score(X[:,i_layer,:])\n",
    "    \n",
    "    return roc_auc_score(y,scores)\n",
    "    #split=discriminator.get_best_split(scores,y)\n",
    "    #y_pred=scores>split\n",
    "    #return accuracy_score(y,y_pred)\n",
    "    #return balanced_accuracy_score(y,y_pred)\n",
    "    #\n",
    "    #split=discriminator.get_best_split(y)\n",
    "    #y_preds=(scores>split)\n",
    "    #return accuracy_score(y,y_preds)"
   ]
  },
  {
   "cell_type": "code",
   "execution_count": null,
   "metadata": {},
   "outputs": [
    {
     "name": "stdout",
     "output_type": "stream",
     "text": [
      "Grid Searching for best n_components,layer\n"
     ]
    },
    {
     "data": {
      "application/vnd.jupyter.widget-view+json": {
       "model_id": "086477b61e064ae7bd445d5c3a457d84",
       "version_major": 2,
       "version_minor": 0
      },
      "text/plain": [
       "  0%|          | 0/10 [00:00<?, ?it/s]"
      ]
     },
     "metadata": {},
     "output_type": "display_data"
    },
    {
     "data": {
      "application/vnd.jupyter.widget-view+json": {
       "model_id": "b3de22c29a0b4f4ab4a98bd3414fb78a",
       "version_major": 2,
       "version_minor": 0
      },
      "text/plain": [
       "  0%|          | 0/33 [00:00<?, ?it/s]"
      ]
     },
     "metadata": {},
     "output_type": "display_data"
    },
    {
     "name": "stdout",
     "output_type": "stream",
     "text": [
      "found best n_components:1,layer:0 Score: 0.5678311713836477\n",
      "found best n_components:1,layer:1 Score: 0.5811959512578616\n",
      "found best n_components:1,layer:2 Score: 0.5969192216981132\n",
      "found best n_components:1,layer:5 Score: 0.6076552672955975\n",
      "found best n_components:1,layer:10 Score: 0.6163522012578616\n",
      "found best n_components:1,layer:11 Score: 0.6166470125786163\n",
      "found best n_components:1,layer:13 Score: 0.6205778301886793\n",
      "found best n_components:1,layer:27 Score: 0.6264986242138365\n",
      "found best n_components:1,layer:28 Score: 0.6265968946540881\n",
      "found best n_components:1,layer:30 Score: 0.6422955974842767\n",
      "found best n_components:1,layer:31 Score: 0.6472828223270441\n"
     ]
    },
    {
     "data": {
      "application/vnd.jupyter.widget-view+json": {
       "model_id": "e0e26798e4734704a5a1e43543f9f44e",
       "version_major": 2,
       "version_minor": 0
      },
      "text/plain": [
       "  0%|          | 0/33 [00:00<?, ?it/s]"
      ]
     },
     "metadata": {},
     "output_type": "display_data"
    },
    {
     "name": "stdout",
     "output_type": "stream",
     "text": [
      "found best n_components:2,layer:20 Score: 0.660819575471698\n"
     ]
    },
    {
     "data": {
      "application/vnd.jupyter.widget-view+json": {
       "model_id": "37b2d157c0394d6588967d8e957fa4bc",
       "version_major": 2,
       "version_minor": 0
      },
      "text/plain": [
       "  0%|          | 0/33 [00:00<?, ?it/s]"
      ]
     },
     "metadata": {},
     "output_type": "display_data"
    },
    {
     "name": "stdout",
     "output_type": "stream",
     "text": [
      "found best n_components:3,layer:22 Score: 0.6632026336477987\n"
     ]
    },
    {
     "data": {
      "application/vnd.jupyter.widget-view+json": {
       "model_id": "532623b80e5b4ce8acd4c108d7343434",
       "version_major": 2,
       "version_minor": 0
      },
      "text/plain": [
       "  0%|          | 0/33 [00:00<?, ?it/s]"
      ]
     },
     "metadata": {},
     "output_type": "display_data"
    },
    {
     "name": "stdout",
     "output_type": "stream",
     "text": [
      "found best n_components:4,layer:22 Score: 0.6698358883647799\n"
     ]
    },
    {
     "data": {
      "application/vnd.jupyter.widget-view+json": {
       "model_id": "f241135c6f10435780e14923b1b58a20",
       "version_major": 2,
       "version_minor": 0
      },
      "text/plain": [
       "  0%|          | 0/33 [00:00<?, ?it/s]"
      ]
     },
     "metadata": {},
     "output_type": "display_data"
    },
    {
     "name": "stdout",
     "output_type": "stream",
     "text": [
      "found best n_components:5,layer:19 Score: 0.6839868317610062\n"
     ]
    },
    {
     "data": {
      "application/vnd.jupyter.widget-view+json": {
       "model_id": "067030dd3ffd4b62bae2337ff76a00f2",
       "version_major": 2,
       "version_minor": 0
      },
      "text/plain": [
       "  0%|          | 0/33 [00:00<?, ?it/s]"
      ]
     },
     "metadata": {},
     "output_type": "display_data"
    },
    {
     "data": {
      "application/vnd.jupyter.widget-view+json": {
       "model_id": "1aa45ece4c3d489d893019f0ee6786f0",
       "version_major": 2,
       "version_minor": 0
      },
      "text/plain": [
       "  0%|          | 0/33 [00:00<?, ?it/s]"
      ]
     },
     "metadata": {},
     "output_type": "display_data"
    }
   ],
   "source": [
    "# graid search for best hyper-parameters on validation set\n",
    "grid={\n",
    "    'n_components':range(1,11),\n",
    "    'layer':range(0,embedding_val.shape[1])\n",
    "}\n",
    "grid_search=GridSearch(evaluator,grid,embedding_val,hall_label_val)\n",
    "best_paras,all_results=grid_search.search(return_results=True)"
   ]
  },
  {
   "cell_type": "code",
   "execution_count": 30,
   "metadata": {},
   "outputs": [],
   "source": [
    "np.save('./VQA_layers.npy',all_results,allow_pickle=True)"
   ]
  },
  {
   "cell_type": "code",
   "execution_count": null,
   "metadata": {},
   "outputs": [
    {
     "data": {
      "text/plain": [
       "{'n_components': 2, 'layer': 21, 'best_score': np.float64(0.7284065872512043)}"
      ]
     },
     "execution_count": 31,
     "metadata": {},
     "output_type": "execute_result"
    }
   ],
   "source": [
    "best_paras"
   ]
  },
  {
   "cell_type": "code",
   "execution_count": 32,
   "metadata": {},
   "outputs": [],
   "source": [
    "best_layer=best_paras['layer']"
   ]
  },
  {
   "cell_type": "markdown",
   "metadata": {},
   "source": [
    "View Results on Training set and Test set"
   ]
  },
  {
   "cell_type": "code",
   "execution_count": 33,
   "metadata": {},
   "outputs": [],
   "source": [
    "discriminator=KernelPCA(embedding_val[:,best_layer,:],best_paras['n_components'],M,method='CoP',gamma=1)\n",
    "scores=discriminator.get_score(embedding_val[:,best_layer,:])\n",
    "best_split=discriminator.get_best_split(scores,hall_label_val)"
   ]
  },
  {
   "cell_type": "code",
   "execution_count": null,
   "metadata": {},
   "outputs": [
    {
     "name": "stdout",
     "output_type": "stream",
     "text": [
      "train set acc: 0.6085714285714285 AUROC:0.6274572993876893\n"
     ]
    }
   ],
   "source": [
    "discriminator=KernelPCA(embedding_train[:,best_layer,:],best_paras['n_components'],M,method='CoP',gamma=1)\n",
    "scores=discriminator.get_score(embedding_train[:,best_layer,:])\n",
    "y_train=(scores>best_split)\n",
    "print(f'train set acc: {accuracy_score(hall_label_wild,y_train)} AUROC:{roc_auc_score(hall_label_wild,scores)}')"
   ]
  },
  {
   "cell_type": "code",
   "execution_count": null,
   "metadata": {},
   "outputs": [
    {
     "name": "stdout",
     "output_type": "stream",
     "text": [
      "test set acc: 0.5633802816901409 AUROC:0.6900380710659898\n"
     ]
    }
   ],
   "source": [
    "discriminator=KernelPCA(embedding_test[:,best_layer,:],best_paras['n_components'],M,method='CoP',gamma=1)\n",
    "scores=discriminator.get_score(embedding_test[:,best_layer,:])\n",
    "preds=(scores>best_split)\n",
    "print(f'test set acc: {accuracy_score(hall_label_test,preds)} AUROC:{roc_auc_score(hall_label_test,scores)}')"
   ]
  },
  {
   "cell_type": "markdown",
   "metadata": {},
   "source": [
    "Train Linear Prob to Get Better Results"
   ]
  },
  {
   "cell_type": "code",
   "execution_count": 36,
   "metadata": {},
   "outputs": [],
   "source": [
    "X_train=embedding_train[:, best_layer,:]\n",
    "y_train=y_train\n",
    "\n",
    "X_test=embedding_test[:, best_layer,:]\n",
    "y_test=hall_label_test"
   ]
  },
  {
   "cell_type": "code",
   "execution_count": 37,
   "metadata": {},
   "outputs": [],
   "source": [
    "best_acc, final_acc, (\n",
    "            clf, best_state, best_preds, preds, labels_val), losses_train = get_linear_acc(\n",
    "            X_train,\n",
    "            y_train,\n",
    "           X_train,\n",
    "            y_train,\n",
    "            2, epochs=50,\n",
    "            print_ret=True,\n",
    "            batch_size=512,\n",
    "            cosine=True,\n",
    "            nonlinear=True,\n",
    "            learning_rate=0.05,\n",
    "            weight_decay=0.0003)"
   ]
  },
  {
   "cell_type": "code",
   "execution_count": null,
   "metadata": {},
   "outputs": [
    {
     "data": {
      "text/plain": [
       "<All keys matched successfully>"
      ]
     },
     "execution_count": 38,
     "metadata": {},
     "output_type": "execute_result"
    }
   ],
   "source": [
    "clf.load_state_dict(torch.load('./pope_clf.pt', weights_only=True))"
   ]
  },
  {
   "cell_type": "code",
   "execution_count": null,
   "metadata": {},
   "outputs": [
    {
     "name": "stdout",
     "output_type": "stream",
     "text": [
      "test set acc: 0.8309859154929577 f1:0.9072164948453608 auroc:0.6316624365482233  b-acc:0.4779505076142132 auc-pr:0.9600266946949687\n"
     ]
    }
   ],
   "source": [
    "clf.eval()\n",
    "output = clf(torch.from_numpy(X_test).to(torch.float32).cuda())\n",
    "scores_test = torch.sigmoid(output).cpu().data.numpy()\n",
    "pred_test=scores_test>0.5\n",
    "print(f'test set acc: {accuracy_score(y_test,pred_test)} f1:{f1_score(y_test,pred_test)} auroc:{roc_auc_score(y_test,scores_test)}  b-acc:{balanced_accuracy_score(y_test,pred_test)} auc-pr:{auc_pr(y_test,scores_test)}')"
   ]
  }
 ],
 "metadata": {
  "kernelspec": {
   "display_name": "dl3.9",
   "language": "python",
   "name": "python3"
  },
  "language_info": {
   "codemirror_mode": {
    "name": "ipython",
    "version": 3
   },
   "file_extension": ".py",
   "mimetype": "text/x-python",
   "name": "python",
   "nbconvert_exporter": "python",
   "pygments_lexer": "ipython3",
   "version": "3.9.20"
  }
 },
 "nbformat": 4,
 "nbformat_minor": 2
}
