{
 "cells": [
  {
   "cell_type": "code",
   "execution_count": 1,
   "metadata": {},
   "outputs": [
    {
     "data": {
      "text/plain": [
       "{'split': 'val',\n",
       " 'image_id': 461751,\n",
       " 'question_id': '22jbM6gDxdaMaunuzgrsBB',\n",
       " 'question': \"What is in the motorcyclist's mouth?\",\n",
       " 'choices': ['toothpick', 'food', 'popsicle stick', 'cigarette'],\n",
       " 'correct_choice_idx': 3,\n",
       " 'direct_answers': ['cigarette',\n",
       "  'cigarette',\n",
       "  'cigarette',\n",
       "  'cigarette',\n",
       "  'cigarette',\n",
       "  'cigarette',\n",
       "  'cigarette',\n",
       "  'cigarette',\n",
       "  'cigarette',\n",
       "  'cigarette'],\n",
       " 'difficult_direct_answer': False,\n",
       " 'rationales': [\"He's smoking while riding.\",\n",
       "  'The motorcyclist has a lit cigarette in his mouth while he rides on the street.',\n",
       "  'The man is smoking.']}"
      ]
     },
     "execution_count": 1,
     "metadata": {},
     "output_type": "execute_result"
    }
   ],
   "source": [
    "import json\n",
    "import os\n",
    "#anno_file='../data/AOKVQA/aokvqa_v1p0_train.json'\n",
    "anno_file='/home/hallscope/data/AOKVQA/aokvqa_v1p0_val.json'\n",
    "zip_file='/root/autodl-fs/coco-2017-dataset.zip'\n",
    "save_folder='/root/autodl-tmp'\n",
    "split=['train','val','test'][1]\n",
    "\n",
    "\n",
    "# Open and read the JSON file\n",
    "with open(anno_file, 'r') as file:\n",
    "    data = json.load(file)\n",
    "\n",
    "# Print the content of the JSON file\n",
    "data[0]"
   ]
  },
  {
   "cell_type": "code",
   "execution_count": 2,
   "metadata": {},
   "outputs": [
    {
     "data": {
      "text/plain": [
       "1145"
      ]
     },
     "execution_count": 2,
     "metadata": {},
     "output_type": "execute_result"
    }
   ],
   "source": [
    "len(data)"
   ]
  },
  {
   "cell_type": "code",
   "execution_count": 3,
   "metadata": {},
   "outputs": [],
   "source": [
    "import zipfile\n",
    "\n",
    "with zipfile.ZipFile(zip_file, 'r') as zip_ref:\n",
    "    for x in data:\n",
    "        file_to_extract=f\"coco2017/{split}2017/{x['image_id']:012}.jpg\"\n",
    "        zip_ref.extract(file_to_extract, os.path.join(save_folder))\n"
   ]
  }
 ],
 "metadata": {
  "kernelspec": {
   "display_name": "dl3.9",
   "language": "python",
   "name": "python3"
  },
  "language_info": {
   "codemirror_mode": {
    "name": "ipython",
    "version": 3
   },
   "file_extension": ".py",
   "mimetype": "text/x-python",
   "name": "python",
   "nbconvert_exporter": "python",
   "pygments_lexer": "ipython3",
   "version": "3.9.20"
  }
 },
 "nbformat": 4,
 "nbformat_minor": 2
}
