{
 "cells": [
  {
   "cell_type": "code",
   "execution_count": 1,
   "metadata": {},
   "outputs": [],
   "source": [
    "from tqdm import tqdm\n",
    "import pandas as pd\n",
    "import json\n",
    "import os\n",
    "\n",
    "VQA_path='/home/hallscope/data/VQA/v2_train.json'\n",
    "VQA_IDK='/home/hallscope/data/VQAIDK/VQAv2-IDK-train.json'\n",
    "\n",
    "with open(VQA_path, 'r') as file:\n",
    "    data_answerable = json.load(file)\n",
    "    \n",
    "with open(VQA_IDK, 'r') as file:\n",
    "    data_unanswerable = json.load(file)\n",
    "    \n"
   ]
  },
  {
   "cell_type": "code",
   "execution_count": 2,
   "metadata": {},
   "outputs": [
    {
     "data": {
      "text/plain": [
       "(411178, 13807)"
      ]
     },
     "execution_count": 2,
     "metadata": {},
     "output_type": "execute_result"
    }
   ],
   "source": [
    "len(data_answerable),len(data_unanswerable)"
   ]
  },
  {
   "cell_type": "code",
   "execution_count": 3,
   "metadata": {},
   "outputs": [],
   "source": [
    "def process_path(path,split='train'):\n",
    "    if len(path.split('/'))>0:\n",
    "        return path.split('/')[1]\n",
    "    else:\n",
    "        return f\"COCO_{split}2014_{path:012}.jpg\""
   ]
  },
  {
   "cell_type": "code",
   "execution_count": 4,
   "metadata": {},
   "outputs": [
    {
     "name": "stderr",
     "output_type": "stream",
     "text": [
      "100%|██████████| 411178/411178 [01:36<00:00, 4246.44it/s] \n",
      "100%|██████████| 13807/13807 [00:03<00:00, 4547.27it/s]\n"
     ]
    }
   ],
   "source": [
    "data_root='/autodl-fs/data/coco_images/train/'\n",
    "\n",
    "kept_ann=[]\n",
    "for x in tqdm(data_answerable):\n",
    "    if 'image' in x:\n",
    "        x['image']=x['image'].split('/')[1]\n",
    "    else:\n",
    "        x['image']=f\"COCO_train2014_{x['image_id']:012}.jpg\"\n",
    "    if os.path.exists(data_root+'/'+x['image']):\n",
    "        kept_ann.append(x)\n",
    "data_answerable=kept_ann\n",
    "        \n",
    "kept_ann=[]        \n",
    "for x in tqdm(data_unanswerable):\n",
    "    if 'image' in x:\n",
    "        x['image']=x['image'].split('/')[1]\n",
    "    else:\n",
    "        x['image']=f\"COCO_train2014_{x['image_id']:012}.jpg\"\n",
    "    if os.path.exists(data_root+'/'+x['image']):\n",
    "        kept_ann.append(x)    \n",
    "    \n",
    "data_unanswerable=kept_ann"
   ]
  },
  {
   "cell_type": "code",
   "execution_count": 5,
   "metadata": {},
   "outputs": [
    {
     "data": {
      "text/plain": [
       "(411178, 12778)"
      ]
     },
     "execution_count": 5,
     "metadata": {},
     "output_type": "execute_result"
    }
   ],
   "source": [
    "len(data_answerable),len(data_unanswerable)"
   ]
  },
  {
   "cell_type": "code",
   "execution_count": 6,
   "metadata": {},
   "outputs": [],
   "source": [
    "data=data_answerable[:5000]+data_unanswerable[:5000]"
   ]
  },
  {
   "cell_type": "code",
   "execution_count": 7,
   "metadata": {},
   "outputs": [],
   "source": [
    "import random\n",
    "random.shuffle(data)\n",
    "\n",
    "with open('./VQA_IDK.json', 'w') as file:\n",
    "    json.dump(data, file, indent=4)\n"
   ]
  }
 ],
 "metadata": {
  "kernelspec": {
   "display_name": "dl3.9",
   "language": "python",
   "name": "python3"
  },
  "language_info": {
   "codemirror_mode": {
    "name": "ipython",
    "version": 3
   },
   "file_extension": ".py",
   "mimetype": "text/x-python",
   "name": "python",
   "nbconvert_exporter": "python",
   "pygments_lexer": "ipython3",
   "version": "3.9.20"
  }
 },
 "nbformat": 4,
 "nbformat_minor": 2
}
